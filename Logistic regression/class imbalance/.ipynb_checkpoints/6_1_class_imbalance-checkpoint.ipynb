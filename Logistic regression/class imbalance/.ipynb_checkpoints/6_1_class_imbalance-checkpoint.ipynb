{
 "cells": [
  {
   "cell_type": "markdown",
   "metadata": {},
   "source": [
    "<div class=\"alert\" style=\"background-color:#fff; color:white; padding:0px 10px; border-radius:5px;\"><h1 style='margin:15px 15px; color:#006a79; font-size:40px; text-align:center'>Imbalanced Class Classification</h1>\n",
    "</div>\n",
    "\n",
    "__<p style='text-align:center'>Copyright (©) Machine Learning Plus. All Rights Reserved.</p>__"
   ]
  },
  {
   "cell_type": "markdown",
   "metadata": {},
   "source": [
    "## Problem of Class Imbalance\n",
    "\n",
    "\n",
    "Class Imbalance is the problem where the total number of data points for one class are far less than the total number of data points from another class. \n",
    "\n",
    "This problem is extremely common in practice and can be observed in various disciplines including fraud detection, anomaly detection, medical diagnosis, oil spillage detection, facial recognition, churn modelling etc.\n",
    "\n",
    "\n",
    "## Why is it a problem?\n",
    "\n",
    "Most of the machine learning algorithms are trained to minimize the loss in order to improve the performance. \n",
    "\n",
    "They work best when the number of instances of each classes are roughly equal. When the number of instances of one class far exceeds the other, the problems of class imbalance arises.\n",
    "\n",
    "Let me explain it using an example. Let's take an example of churn modelling.\n",
    "\n",
    "The objective of Churn Modeling is to find the customers who are most likely to 'churn' (stop being a customer / stop buying / whatever that means for the business). \n",
    "\n",
    "Let's say there are 1000 records in the dataset out of which 950 are 0 i.e. customer is with the company and 50 are 1 i.e. customer has churned out. The classification model with try to predict 0 in most of the time as it is minimizing the error and increasing the accuracy, if there is a model which is always predicting 0, still the accuracy would be 95%. But this is not what we want. You want the model to correctly predict 1's as well. \n",
    "\n",
    "If you think from business perspective, it's very important to predict who have churned out so that company can act accordingly (by recontacting them, giving discounts etc). If the customer is shown to be with the company while he/she has churned out, it's a huge loss to the company.\n",
    "\n",
    "\n",
    "## How to fix this problem?\n",
    "\n",
    "There are various techniques to handle such kind of scenerios or I should say handle imbalanced data. Let's go through the major ones by taking an example of churn modelling.\n",
    "\n",
    "\n",
    "<div class=\"alert alert-info\" style=\"background-color:#006a79; color:white; padding:0px 10px; border-radius:5px;\"><h2 style='margin:10px 5px'> Churn Modelling</h2>\n",
    "</div>\n",
    "\n",
    "**Goal :** To predict if a customer has left the bank(closed his/her account) or he/she continues to be a customer\n",
    "\n",
    "**Data :** The data set contains details of a bank's customers and the target variable is a binary variable reflecting the fact whether the customer left the bank (closed his account) or he/she continues to be a customer.\n",
    "\n",
    "Dataset [Source](https://www.kaggle.com/shrutimechlearn/churn-modelling)\n",
    "\n",
    "Before going into details of handling imbalanced data let's load the churn modelling data and make it ready for classification."
   ]
  },
  {
   "cell_type": "markdown",
   "metadata": {},
   "source": [
    "#### Import Libraries"
   ]
  },
  {
   "cell_type": "code",
   "execution_count": null,
   "metadata": {},
   "outputs": [],
   "source": [
    "# If you did not use anaconda, you will need to uncomment below line and install \n",
    "# !pip install numpy pandas matplotlib seaborn scikit-learn"
   ]
  },
  {
   "cell_type": "code",
   "execution_count": 1,
   "metadata": {},
   "outputs": [],
   "source": [
    "# Import Libraries\n",
    "import pandas as pd\n",
    "import numpy as np\n",
    "\n",
    "# Sklearn for ML \n",
    "from sklearn.model_selection import train_test_split\n",
    "from sklearn.metrics import confusion_matrix , classification_report, accuracy_score, roc_auc_score, plot_roc_curve\n",
    "from sklearn.metrics import classification_report \n",
    "from sklearn.linear_model import LogisticRegression\n",
    "from sklearn.preprocessing import StandardScaler\n",
    "\n",
    "# plot\n",
    "import matplotlib.pyplot as plt\n",
    "import matplotlib as mpl\n",
    "import seaborn as sns\n",
    "\n",
    "import warnings\n",
    "warnings.filterwarnings('ignore')\n",
    "\n",
    "pd.set_option('display.max_rows', 800)\n",
    "pd.set_option('display.max_columns', 500)"
   ]
  },
  {
   "cell_type": "markdown",
   "metadata": {},
   "source": [
    "#### Load Data"
   ]
  },
  {
   "cell_type": "code",
   "execution_count": 2,
   "metadata": {},
   "outputs": [],
   "source": [
    "churn_data = pd.read_csv('../Datasets/Churn_Modelling.csv',index_col='RowNumber')"
   ]
  },
  {
   "cell_type": "code",
   "execution_count": 3,
   "metadata": {},
   "outputs": [
    {
     "data": {
      "text/html": [
       "<div>\n",
       "<style scoped>\n",
       "    .dataframe tbody tr th:only-of-type {\n",
       "        vertical-align: middle;\n",
       "    }\n",
       "\n",
       "    .dataframe tbody tr th {\n",
       "        vertical-align: top;\n",
       "    }\n",
       "\n",
       "    .dataframe thead th {\n",
       "        text-align: right;\n",
       "    }\n",
       "</style>\n",
       "<table border=\"1\" class=\"dataframe\">\n",
       "  <thead>\n",
       "    <tr style=\"text-align: right;\">\n",
       "      <th></th>\n",
       "      <th>CustomerId</th>\n",
       "      <th>Surname</th>\n",
       "      <th>CreditScore</th>\n",
       "      <th>Geography</th>\n",
       "      <th>Gender</th>\n",
       "      <th>Age</th>\n",
       "      <th>Tenure</th>\n",
       "      <th>Balance</th>\n",
       "      <th>NumOfProducts</th>\n",
       "      <th>HasCrCard</th>\n",
       "      <th>IsActiveMember</th>\n",
       "      <th>EstimatedSalary</th>\n",
       "      <th>Exited</th>\n",
       "    </tr>\n",
       "    <tr>\n",
       "      <th>RowNumber</th>\n",
       "      <th></th>\n",
       "      <th></th>\n",
       "      <th></th>\n",
       "      <th></th>\n",
       "      <th></th>\n",
       "      <th></th>\n",
       "      <th></th>\n",
       "      <th></th>\n",
       "      <th></th>\n",
       "      <th></th>\n",
       "      <th></th>\n",
       "      <th></th>\n",
       "      <th></th>\n",
       "    </tr>\n",
       "  </thead>\n",
       "  <tbody>\n",
       "    <tr>\n",
       "      <th>1</th>\n",
       "      <td>15634602</td>\n",
       "      <td>Hargrave</td>\n",
       "      <td>619</td>\n",
       "      <td>France</td>\n",
       "      <td>Female</td>\n",
       "      <td>42</td>\n",
       "      <td>2</td>\n",
       "      <td>0.00</td>\n",
       "      <td>1</td>\n",
       "      <td>1</td>\n",
       "      <td>1</td>\n",
       "      <td>101348.88</td>\n",
       "      <td>1</td>\n",
       "    </tr>\n",
       "    <tr>\n",
       "      <th>2</th>\n",
       "      <td>15647311</td>\n",
       "      <td>Hill</td>\n",
       "      <td>608</td>\n",
       "      <td>Spain</td>\n",
       "      <td>Female</td>\n",
       "      <td>41</td>\n",
       "      <td>1</td>\n",
       "      <td>83807.86</td>\n",
       "      <td>1</td>\n",
       "      <td>0</td>\n",
       "      <td>1</td>\n",
       "      <td>112542.58</td>\n",
       "      <td>0</td>\n",
       "    </tr>\n",
       "    <tr>\n",
       "      <th>3</th>\n",
       "      <td>15619304</td>\n",
       "      <td>Onio</td>\n",
       "      <td>502</td>\n",
       "      <td>France</td>\n",
       "      <td>Female</td>\n",
       "      <td>42</td>\n",
       "      <td>8</td>\n",
       "      <td>159660.80</td>\n",
       "      <td>3</td>\n",
       "      <td>1</td>\n",
       "      <td>0</td>\n",
       "      <td>113931.57</td>\n",
       "      <td>1</td>\n",
       "    </tr>\n",
       "    <tr>\n",
       "      <th>4</th>\n",
       "      <td>15701354</td>\n",
       "      <td>Boni</td>\n",
       "      <td>699</td>\n",
       "      <td>France</td>\n",
       "      <td>Female</td>\n",
       "      <td>39</td>\n",
       "      <td>1</td>\n",
       "      <td>0.00</td>\n",
       "      <td>2</td>\n",
       "      <td>0</td>\n",
       "      <td>0</td>\n",
       "      <td>93826.63</td>\n",
       "      <td>0</td>\n",
       "    </tr>\n",
       "    <tr>\n",
       "      <th>5</th>\n",
       "      <td>15737888</td>\n",
       "      <td>Mitchell</td>\n",
       "      <td>850</td>\n",
       "      <td>Spain</td>\n",
       "      <td>Female</td>\n",
       "      <td>43</td>\n",
       "      <td>2</td>\n",
       "      <td>125510.82</td>\n",
       "      <td>1</td>\n",
       "      <td>1</td>\n",
       "      <td>1</td>\n",
       "      <td>79084.10</td>\n",
       "      <td>0</td>\n",
       "    </tr>\n",
       "  </tbody>\n",
       "</table>\n",
       "</div>"
      ],
      "text/plain": [
       "           CustomerId   Surname  CreditScore Geography  Gender  Age  Tenure  \\\n",
       "RowNumber                                                                     \n",
       "1            15634602  Hargrave          619    France  Female   42       2   \n",
       "2            15647311      Hill          608     Spain  Female   41       1   \n",
       "3            15619304      Onio          502    France  Female   42       8   \n",
       "4            15701354      Boni          699    France  Female   39       1   \n",
       "5            15737888  Mitchell          850     Spain  Female   43       2   \n",
       "\n",
       "             Balance  NumOfProducts  HasCrCard  IsActiveMember  \\\n",
       "RowNumber                                                        \n",
       "1               0.00              1          1               1   \n",
       "2           83807.86              1          0               1   \n",
       "3          159660.80              3          1               0   \n",
       "4               0.00              2          0               0   \n",
       "5          125510.82              1          1               1   \n",
       "\n",
       "           EstimatedSalary  Exited  \n",
       "RowNumber                           \n",
       "1                101348.88       1  \n",
       "2                112542.58       0  \n",
       "3                113931.57       1  \n",
       "4                 93826.63       0  \n",
       "5                 79084.10       0  "
      ]
     },
     "execution_count": 3,
     "metadata": {},
     "output_type": "execute_result"
    }
   ],
   "source": [
    "churn_data.head()"
   ]
  },
  {
   "cell_type": "markdown",
   "metadata": {},
   "source": [
    "Once you have loaded the data, you need to pre process it before building the model. Hence let's pre process it\n",
    "#### Data pre - processing"
   ]
  },
  {
   "cell_type": "code",
   "execution_count": 4,
   "metadata": {},
   "outputs": [],
   "source": [
    "# Drop few columns which won't contribute to the model using domain knowldedge.\n",
    "churn_data.drop(['CustomerId','Surname'],axis=1,inplace=True)"
   ]
  },
  {
   "cell_type": "code",
   "execution_count": 5,
   "metadata": {},
   "outputs": [],
   "source": [
    "# Let's do one hot encoding for the column `Geo` as Logistic Regression model would be expecting numeric features\n",
    "churn_data = pd.get_dummies(prefix='Geo',data=churn_data,columns=['Geography'])"
   ]
  },
  {
   "cell_type": "code",
   "execution_count": 6,
   "metadata": {},
   "outputs": [],
   "source": [
    "# Rather than using one hot encoding we can do label encoding as well. Here let's use replace function rather than label encoder\n",
    "churn_data = churn_data.replace(to_replace={'Gender': {'Female': 1,'Male':0}})"
   ]
  },
  {
   "cell_type": "code",
   "execution_count": 7,
   "metadata": {},
   "outputs": [
    {
     "data": {
      "text/html": [
       "<div>\n",
       "<style scoped>\n",
       "    .dataframe tbody tr th:only-of-type {\n",
       "        vertical-align: middle;\n",
       "    }\n",
       "\n",
       "    .dataframe tbody tr th {\n",
       "        vertical-align: top;\n",
       "    }\n",
       "\n",
       "    .dataframe thead th {\n",
       "        text-align: right;\n",
       "    }\n",
       "</style>\n",
       "<table border=\"1\" class=\"dataframe\">\n",
       "  <thead>\n",
       "    <tr style=\"text-align: right;\">\n",
       "      <th></th>\n",
       "      <th>CreditScore</th>\n",
       "      <th>Gender</th>\n",
       "      <th>Age</th>\n",
       "      <th>Tenure</th>\n",
       "      <th>Balance</th>\n",
       "      <th>NumOfProducts</th>\n",
       "      <th>HasCrCard</th>\n",
       "      <th>IsActiveMember</th>\n",
       "      <th>EstimatedSalary</th>\n",
       "      <th>Exited</th>\n",
       "      <th>Geo_France</th>\n",
       "      <th>Geo_Germany</th>\n",
       "      <th>Geo_Spain</th>\n",
       "    </tr>\n",
       "    <tr>\n",
       "      <th>RowNumber</th>\n",
       "      <th></th>\n",
       "      <th></th>\n",
       "      <th></th>\n",
       "      <th></th>\n",
       "      <th></th>\n",
       "      <th></th>\n",
       "      <th></th>\n",
       "      <th></th>\n",
       "      <th></th>\n",
       "      <th></th>\n",
       "      <th></th>\n",
       "      <th></th>\n",
       "      <th></th>\n",
       "    </tr>\n",
       "  </thead>\n",
       "  <tbody>\n",
       "    <tr>\n",
       "      <th>1</th>\n",
       "      <td>619</td>\n",
       "      <td>1</td>\n",
       "      <td>42</td>\n",
       "      <td>2</td>\n",
       "      <td>0.00</td>\n",
       "      <td>1</td>\n",
       "      <td>1</td>\n",
       "      <td>1</td>\n",
       "      <td>101348.88</td>\n",
       "      <td>1</td>\n",
       "      <td>1</td>\n",
       "      <td>0</td>\n",
       "      <td>0</td>\n",
       "    </tr>\n",
       "    <tr>\n",
       "      <th>2</th>\n",
       "      <td>608</td>\n",
       "      <td>1</td>\n",
       "      <td>41</td>\n",
       "      <td>1</td>\n",
       "      <td>83807.86</td>\n",
       "      <td>1</td>\n",
       "      <td>0</td>\n",
       "      <td>1</td>\n",
       "      <td>112542.58</td>\n",
       "      <td>0</td>\n",
       "      <td>0</td>\n",
       "      <td>0</td>\n",
       "      <td>1</td>\n",
       "    </tr>\n",
       "    <tr>\n",
       "      <th>3</th>\n",
       "      <td>502</td>\n",
       "      <td>1</td>\n",
       "      <td>42</td>\n",
       "      <td>8</td>\n",
       "      <td>159660.80</td>\n",
       "      <td>3</td>\n",
       "      <td>1</td>\n",
       "      <td>0</td>\n",
       "      <td>113931.57</td>\n",
       "      <td>1</td>\n",
       "      <td>1</td>\n",
       "      <td>0</td>\n",
       "      <td>0</td>\n",
       "    </tr>\n",
       "    <tr>\n",
       "      <th>4</th>\n",
       "      <td>699</td>\n",
       "      <td>1</td>\n",
       "      <td>39</td>\n",
       "      <td>1</td>\n",
       "      <td>0.00</td>\n",
       "      <td>2</td>\n",
       "      <td>0</td>\n",
       "      <td>0</td>\n",
       "      <td>93826.63</td>\n",
       "      <td>0</td>\n",
       "      <td>1</td>\n",
       "      <td>0</td>\n",
       "      <td>0</td>\n",
       "    </tr>\n",
       "    <tr>\n",
       "      <th>5</th>\n",
       "      <td>850</td>\n",
       "      <td>1</td>\n",
       "      <td>43</td>\n",
       "      <td>2</td>\n",
       "      <td>125510.82</td>\n",
       "      <td>1</td>\n",
       "      <td>1</td>\n",
       "      <td>1</td>\n",
       "      <td>79084.10</td>\n",
       "      <td>0</td>\n",
       "      <td>0</td>\n",
       "      <td>0</td>\n",
       "      <td>1</td>\n",
       "    </tr>\n",
       "  </tbody>\n",
       "</table>\n",
       "</div>"
      ],
      "text/plain": [
       "           CreditScore  Gender  Age  Tenure    Balance  NumOfProducts  \\\n",
       "RowNumber                                                               \n",
       "1                  619       1   42       2       0.00              1   \n",
       "2                  608       1   41       1   83807.86              1   \n",
       "3                  502       1   42       8  159660.80              3   \n",
       "4                  699       1   39       1       0.00              2   \n",
       "5                  850       1   43       2  125510.82              1   \n",
       "\n",
       "           HasCrCard  IsActiveMember  EstimatedSalary  Exited  Geo_France  \\\n",
       "RowNumber                                                                   \n",
       "1                  1               1        101348.88       1           1   \n",
       "2                  0               1        112542.58       0           0   \n",
       "3                  1               0        113931.57       1           1   \n",
       "4                  0               0         93826.63       0           1   \n",
       "5                  1               1         79084.10       0           0   \n",
       "\n",
       "           Geo_Germany  Geo_Spain  \n",
       "RowNumber                          \n",
       "1                    0          0  \n",
       "2                    0          1  \n",
       "3                    0          0  \n",
       "4                    0          0  \n",
       "5                    0          1  "
      ]
     },
     "execution_count": 7,
     "metadata": {},
     "output_type": "execute_result"
    }
   ],
   "source": [
    "churn_data.head()"
   ]
  },
  {
   "cell_type": "markdown",
   "metadata": {},
   "source": [
    "#### Model Building"
   ]
  },
  {
   "cell_type": "markdown",
   "metadata": {},
   "source": [
    "__Function to Build the model__"
   ]
  },
  {
   "cell_type": "code",
   "execution_count": 8,
   "metadata": {},
   "outputs": [],
   "source": [
    "# Define the function to create classificatio model and get the evaluation metrices\n",
    "def classification_model(X,y,class_weight = None):\n",
    "    \n",
    "    # Split the dataset into the Training set and Test set\n",
    "    X_train, X_test, y_train, y_test = train_test_split(X, y, test_size = 0.33, random_state = 0)\n",
    "    \n",
    "    # Scale the features as we don't want one independent variable to dominate the others and additionally it makes computations easy\n",
    "    sc = StandardScaler()\n",
    "    X_train = sc.fit_transform(X_train)\n",
    "    X_test = sc.transform(X_test)\n",
    "    \n",
    "    # Define the model\n",
    "    lr = LogisticRegression(class_weight = class_weight, random_state=0)\n",
    "\n",
    "    # Train the model\n",
    "    lr.fit(X_train, y_train)\n",
    "\n",
    "    # Predicting target values on x_test dataset\n",
    "    y_predicted = lr.predict(X_test)\n",
    "    y_predicted_prob = lr.predict_proba(X_test)\n",
    "    y_predicted_prob = [x[1] for x in y_predicted_prob]\n",
    "    return(lr, X_test, y_test, y_predicted, y_predicted_prob)"
   ]
  },
  {
   "cell_type": "markdown",
   "metadata": {},
   "source": [
    "__Function to evaluate the model__"
   ]
  },
  {
   "cell_type": "code",
   "execution_count": 9,
   "metadata": {},
   "outputs": [],
   "source": [
    "# Define the function to get the evaluation metrices\n",
    "def compute_evaluation_metric(model, x_test, y_actual, y_predicted, y_predicted_prob):\n",
    "    cm = confusion_matrix(y_actual, y_predicted)\n",
    "    print(\"\\n Accuracy Score : \",accuracy_score(y_actual,y_predicted))\n",
    "    print(\"\\n AUC Score : \", roc_auc_score(y_actual, y_predicted_prob))\n",
    "    print(\"\\n Confusion Matrix : \\n\", cm)\n",
    "    TP = sum([1 if ((i==1) & (j==1)) else 0 for (i, j) in zip(y_test, y_predicted)])\n",
    "    TN = sum([1 if ((i==0) & (j==0)) else 0 for (i, j) in zip(y_test, y_predicted)])\n",
    "    FP = sum([1 if ((i==0) & (j==1)) else 0 for (i, j) in zip(y_test, y_predicted)])\n",
    "    FN = sum([1 if ((i==1) & (j==0)) else 0 for (i, j) in zip(y_test, y_predicted)])\n",
    "    # Sensitivity, recall\n",
    "    TPR = round(TP/(TP+FN), 4)\n",
    "    # Specificity\n",
    "    TNR = round(TN/(TN+FP), 4)\n",
    "    # False Pos Rate\n",
    "    FPR = round(FP/(FP+TN), 4)\n",
    "    # False Neg rate\n",
    "    FNR = round(FN/(TP+FN), 4)\n",
    "    print(\"\\n Classification Report : \\n\",classification_report(y_actual, y_predicted))\n",
    "    print(\"TPR, TNR, FPR, FNR:\" , TPR, TNR, FPR, FNR)\n",
    "    print(\"\\n ROC curve : \\n\")\n",
    "    plot_roc_curve(model, x_test, y_actual)\n",
    "    plt.show()"
   ]
  },
  {
   "cell_type": "markdown",
   "metadata": {},
   "source": [
    "__Build the model__"
   ]
  },
  {
   "cell_type": "code",
   "execution_count": 10,
   "metadata": {},
   "outputs": [],
   "source": [
    "# Build the model on original dataset and get the evaluation metrices\n",
    "X_original = churn_data.drop(['Exited'],axis=1)\n",
    "y_original = churn_data.Exited\n",
    "lr, X_test, y_test, y_predicted, y_predicted_prob = classification_model(X_original,y_original)"
   ]
  },
  {
   "cell_type": "markdown",
   "metadata": {},
   "source": [
    "__Evaluate the model__"
   ]
  },
  {
   "cell_type": "code",
   "execution_count": 11,
   "metadata": {},
   "outputs": [
    {
     "name": "stdout",
     "output_type": "stream",
     "text": [
      "\n",
      " Accuracy Score :  0.8075757575757576\n",
      "\n",
      " AUC Score :  0.7701927536531887\n",
      "\n",
      " Confusion Matrix : \n",
      " [[2511  106]\n",
      " [ 529  154]]\n",
      "\n",
      " Classification Report : \n",
      "               precision    recall  f1-score   support\n",
      "\n",
      "           0       0.83      0.96      0.89      2617\n",
      "           1       0.59      0.23      0.33       683\n",
      "\n",
      "    accuracy                           0.81      3300\n",
      "   macro avg       0.71      0.59      0.61      3300\n",
      "weighted avg       0.78      0.81      0.77      3300\n",
      "\n",
      "TPR, TNR, FPR, FNR: 0.2255 0.9595 0.0405 0.7745\n",
      "\n",
      " ROC curve : \n",
      "\n"
     ]
    },
    {
     "data": {
      "image/png": "[encoded data removed]",
      "text/plain": [
       "<Figure size 432x288 with 1 Axes>"
      ]
     },
     "metadata": {
      "needs_background": "light"
     },
     "output_type": "display_data"
    }
   ],
   "source": [
    "# Get evaluation metrices\n",
    "compute_evaluation_metric(lr, X_test, y_test, y_predicted, y_predicted_prob)"
   ]
  },
  {
   "cell_type": "markdown",
   "metadata": {},
   "source": [
    "<div class=\"alert alert-info\" style=\"padding:0px 10px; border-radius:5px;\"><h4 style='margin:10px 5px'> Inferences:</h4>\n",
    "</div>\n",
    "\n",
    "- The accuracy of the model is good. \n",
    "- You might think that the model is good by looking at the accuracy but if you check the confusion matrix and classification report, it has poor recall, which means, it is not able to capture the +ve (1's) properly. \n",
    "- Besides, it also has a high False Negative Rate. That is, the model predicted as safe, but they ended up defaulting, which is concerning as well.\n",
    "\n",
    "One of the possible reasons for this behavious might be class imbalance i.e one class is domination other class. Let's see if that's the reason.\n",
    "\n",
    "#### Check distribution of target/y variable"
   ]
  },
  {
   "cell_type": "code",
   "execution_count": 12,
   "metadata": {},
   "outputs": [
    {
     "data": {
      "image/png": "[encoded data removed]",
      "text/plain": [
       "<Figure size 432x288 with 1 Axes>"
      ]
     },
     "metadata": {
      "needs_background": "light"
     },
     "output_type": "display_data"
    }
   ],
   "source": [
    "# Check the distribution of y variable to see if it's a case of unbalanced class\n",
    "sns.countplot(y=churn_data.Exited ,data=churn_data)\n",
    "plt.xlabel(\"Count of each Target class\")\n",
    "plt.ylabel(\"Target classes\")\n",
    "plt.show()"
   ]
  },
  {
   "cell_type": "code",
   "execution_count": 13,
   "metadata": {},
   "outputs": [
    {
     "name": "stdout",
     "output_type": "stream",
     "text": [
      "Class count on original data : \n",
      " 0    7963\n",
      "1    2037\n",
      "Name: Exited, dtype: int64\n"
     ]
    }
   ],
   "source": [
    "# Check the count of target class\n",
    "print(\"Class count on original data : \\n\" , churn_data.Exited.value_counts())"
   ]
  },
  {
   "cell_type": "markdown",
   "metadata": {},
   "source": [
    "<div class=\"alert alert-info\" style=\"padding:0px 10px; border-radius:5px;\"><h4 style='margin:10px 5px'> Inferences:</h4>\n",
    "</div>\n",
    "\n",
    "- No. of rows for target class 0 are 7963 while for target class 1 it's 2037, i.e 25% of class 0\n",
    "\n",
    "It can be seen clearly that it's a case of class imbalance. Let's look at different ways of tacking the problem. We will go through them one by one:"
   ]
  },
  {
   "cell_type": "code",
   "execution_count": null,
   "metadata": {},
   "outputs": [],
   "source": []
  },
  {
   "cell_type": "code",
   "execution_count": null,
   "metadata": {},
   "outputs": [],
   "source": []
  },
  {
   "cell_type": "code",
   "execution_count": null,
   "metadata": {},
   "outputs": [],
   "source": []
  },
  {
   "cell_type": "code",
   "execution_count": null,
   "metadata": {},
   "outputs": [],
   "source": []
  },
  {
   "cell_type": "code",
   "execution_count": null,
   "metadata": {},
   "outputs": [],
   "source": []
  },
  {
   "cell_type": "code",
   "execution_count": null,
   "metadata": {},
   "outputs": [],
   "source": []
  },
  {
   "cell_type": "code",
   "execution_count": null,
   "metadata": {},
   "outputs": [],
   "source": []
  },
  {
   "cell_type": "markdown",
   "metadata": {
    "tags": []
   },
   "source": [
    "<a id=\"1\"></a> <br>\n",
    "<div class=\"alert alert-info\" style=\"background-color:#006a79; color:white; padding:0px 10px; border-radius:5px;\"><h2 style='margin:10px 5px'> 1. Upsampling Minority Class</h2>\n",
    "</div>\n",
    "\n",
    "In upsamling minority class, rows with minority class are repeatedly sampled over and over till it reaches the same size as the majority class. We can specify the number of rows we want to achieve as well.\n",
    "\n",
    "Let's use `resample` function from sklearn library.\n",
    "\n",
    "**Steps to follow** :\n",
    "- Divide the data into majority and minority class\n",
    "- Use `resample` function from sklearn.utils to upsample the minority class, set the number of sample (`n_sample`) to be equal to that of majority class.\n",
    "- Concatenate the majority data and upsampled minority class to get the balanced data.\n",
    "\n",
    "First, store the count of minority class and majority class in variables, these values will be used while sampling the dataset"
   ]
  },
  {
   "cell_type": "code",
   "execution_count": 14,
   "metadata": {},
   "outputs": [
    {
     "name": "stdout",
     "output_type": "stream",
     "text": [
      "No. of rows in majority class 0 :  7963\n",
      "No. of rows in minority class 1 :  2037\n"
     ]
    }
   ],
   "source": [
    "# Get the count of minority class and majority class, it will be used while sampling the dataset\n",
    "n_rows_majority = churn_data.Exited.value_counts()[0]\n",
    "n_rows_minority = churn_data.Exited.value_counts()[1]\n",
    "\n",
    "print(\"No. of rows in majority class 0 : \", n_rows_majority)\n",
    "print(\"No. of rows in minority class 1 : \", n_rows_minority)"
   ]
  },
  {
   "cell_type": "markdown",
   "metadata": {},
   "source": [
    "Now, when you have the count of minority and majority class let's upsample the data."
   ]
  },
  {
   "cell_type": "code",
   "execution_count": 15,
   "metadata": {},
   "outputs": [
    {
     "data": {
      "text/plain": [
       "(7963, 13)"
      ]
     },
     "execution_count": 15,
     "metadata": {},
     "output_type": "execute_result"
    }
   ],
   "source": [
    "# import resample function from sklearn.utils module\n",
    "from sklearn.utils import resample\n",
    "\n",
    "# Separate majority and minority classes\n",
    "df_majority = churn_data[churn_data.Exited==0]\n",
    "df_minority = churn_data[churn_data.Exited==1]\n",
    " \n",
    "# Upsample minority class\n",
    "df_minority_upsampled = resample(df_minority, \n",
    "                                 replace=True,     # sample with replacement\n",
    "                                 n_samples=n_rows_majority,    # to match majority class\n",
    "                                 random_state=0) # to get reproducible results\n",
    "\n",
    "df_minority_upsampled.shape"
   ]
  },
  {
   "cell_type": "code",
   "execution_count": 16,
   "metadata": {},
   "outputs": [
    {
     "name": "stdout",
     "output_type": "stream",
     "text": [
      "Class count on upsampled data : \n",
      " 0    7963\n",
      "1    7963\n",
      "Name: Exited, dtype: int64\n"
     ]
    }
   ],
   "source": [
    "# Combine majority class with upsampled minority class\n",
    "df_upsampled = pd.concat([df_majority, df_minority_upsampled])\n",
    " \n",
    "# Display new class counts\n",
    "print(\"Class count on upsampled data : \\n\" , df_upsampled.Exited.value_counts())"
   ]
  },
  {
   "cell_type": "markdown",
   "metadata": {},
   "source": [
    "Now, the row count of both the classes is 7963, let's use the same classification algorithms we used earlier"
   ]
  },
  {
   "cell_type": "markdown",
   "metadata": {},
   "source": [
    "__Build__"
   ]
  },
  {
   "cell_type": "code",
   "execution_count": 17,
   "metadata": {},
   "outputs": [],
   "source": [
    "# Build the model on balanced dataset and get the evaluation metrices\n",
    "X = df_upsampled.drop(['Exited'],axis=1)\n",
    "y = df_upsampled.Exited\n",
    "lr, X_test, y_test, y_predicted, y_predicted_prob = classification_model(X, y)"
   ]
  },
  {
   "cell_type": "markdown",
   "metadata": {},
   "source": [
    "__Evaluate__"
   ]
  },
  {
   "cell_type": "code",
   "execution_count": 18,
   "metadata": {},
   "outputs": [
    {
     "name": "stdout",
     "output_type": "stream",
     "text": [
      "\n",
      " Accuracy Score :  0.7092846270928462\n",
      "\n",
      " AUC Score :  0.777963914913335\n",
      "\n",
      " Confusion Matrix : \n",
      " [[1893  713]\n",
      " [ 815 1835]]\n",
      "\n",
      " Classification Report : \n",
      "               precision    recall  f1-score   support\n",
      "\n",
      "           0       0.70      0.73      0.71      2606\n",
      "           1       0.72      0.69      0.71      2650\n",
      "\n",
      "    accuracy                           0.71      5256\n",
      "   macro avg       0.71      0.71      0.71      5256\n",
      "weighted avg       0.71      0.71      0.71      5256\n",
      "\n",
      "TPR, TNR, FPR, FNR: 0.6925 0.7264 0.2736 0.3075\n",
      "\n",
      " ROC curve : \n",
      "\n"
     ]
    },
    {
     "data": {
      "image/png": "[encoded data removed]",
      "text/plain": [
       "<Figure size 432x288 with 1 Axes>"
      ]
     },
     "metadata": {
      "needs_background": "light"
     },
     "output_type": "display_data"
    }
   ],
   "source": [
    "# Get evaluation metrices\n",
    "compute_evaluation_metric(lr, X_test, y_test, y_predicted, y_predicted_prob)"
   ]
  },
  {
   "cell_type": "code",
   "execution_count": 19,
   "metadata": {},
   "outputs": [],
   "source": [
    "base = [\"reference\",  0.2255, 0.9595, 0.0405, 0.7745]\n",
    "upsample_minority = [\"upsample_minority\",  0.6925, 0.7264, 0.2736, 0.3075]"
   ]
  },
  {
   "cell_type": "markdown",
   "metadata": {
    "tags": []
   },
   "source": [
    "<div class=\"alert alert-info\" style=\"padding:0px 10px; border-radius:5px;\"><h4 style='margin:10px 5px'> Inferences:</h4>\n",
    "</div>\n",
    "\n",
    "Reference: TPR, TNR, FPR, FNR: 0.2255 0.9595 0.0405 0.7745\n",
    "\n",
    "__Accuracy of the model has gone down__ from 81% to 71%. BUT..\n",
    "\n",
    "- TPR has improved from 22.5% to 69%\n",
    "- TNR has reduced from 95% to 72.6% \n",
    "- FNR has improved 77.45% to 30.75%\n",
    "\n",
    "TPR and FNR has sinificantly improved. So __even though we have a 'Bad' model in terms of accuracy. This model is way better for all practical purposes__, because, it is able to capture more defaulters overall (TPR) and mark less of defaulters as non-defaulters (FNR). For a bank that focusses on redu\n",
    "\n",
    "So, it's very important that you choose the sensible models.\n",
    "\n",
    "However, this model say's NO more often, which might irk some customers. Let's see if we can improve that in future."
   ]
  },
  {
   "cell_type": "code",
   "execution_count": null,
   "metadata": {},
   "outputs": [],
   "source": []
  },
  {
   "cell_type": "code",
   "execution_count": null,
   "metadata": {},
   "outputs": [],
   "source": []
  },
  {
   "cell_type": "code",
   "execution_count": null,
   "metadata": {},
   "outputs": [],
   "source": []
  },
  {
   "cell_type": "code",
   "execution_count": null,
   "metadata": {},
   "outputs": [],
   "source": []
  },
  {
   "cell_type": "code",
   "execution_count": null,
   "metadata": {},
   "outputs": [],
   "source": []
  },
  {
   "cell_type": "markdown",
   "metadata": {},
   "source": [
    "<a id=\"2\"></a> <br>\n",
    "\n",
    "<div class=\"alert alert-info\" style=\"background-color:#006a79; color:white; padding:0px 10px; border-radius:5px;\"><h2 style='margin:10px 5px'> 2. Undersampling Majority Class</h2>\n",
    "</div>\n",
    "\n",
    "In undersampling majority class, rows with majority class are randomly down sampled to be of the same size as the minority class. We can specify the number of rows we want to acheive as well.\n",
    "\n",
    "Let's use `resample` function from sklearn library\n",
    "\n",
    "**Steps to follow** :\n",
    "- Divide the data into mojority and minority class\n",
    "- Use `resample` function from sklearn.utils to downsample the majority class, set the number of sample (`n_sample`) to be equal to that of minority class.\n",
    "- Concatinate the minority class data and downsampled majority class data\n"
   ]
  },
  {
   "cell_type": "code",
   "execution_count": 20,
   "metadata": {},
   "outputs": [],
   "source": [
    "# import resample function from sklearn.utils module\n",
    "from sklearn.utils import resample\n",
    "\n",
    "# Separate majority and minority classes\n",
    "df_majority = churn_data[churn_data.Exited==0]\n",
    "df_minority = churn_data[churn_data.Exited==1]\n",
    " "
   ]
  },
  {
   "cell_type": "markdown",
   "metadata": {},
   "source": [
    "__Downsample Majority Class with Resample__"
   ]
  },
  {
   "cell_type": "code",
   "execution_count": 21,
   "metadata": {},
   "outputs": [
    {
     "data": {
      "text/plain": [
       "0    2037\n",
       "1    2037\n",
       "Name: Exited, dtype: int64"
      ]
     },
     "execution_count": 21,
     "metadata": {},
     "output_type": "execute_result"
    }
   ],
   "source": [
    "# Downsample majority class\n",
    "df_majority_downsampled = resample(df_majority, \n",
    "                                 replace=False,    # sample without replacement\n",
    "                                 n_samples=2037,     # to match minority class\n",
    "                                 random_state=123) # reproducible results\n",
    " \n",
    "# Combine minority class with downsampled majority class\n",
    "df_downsampled = pd.concat([df_majority_downsampled, df_minority])\n",
    " \n",
    "# Display new class counts\n",
    "df_downsampled.Exited.value_counts()"
   ]
  },
  {
   "cell_type": "markdown",
   "metadata": {},
   "source": [
    "Now, the row count of both the classes is 7963, let's use the same classification algorithms we used earlier"
   ]
  },
  {
   "cell_type": "markdown",
   "metadata": {},
   "source": [
    "__Build Model__"
   ]
  },
  {
   "cell_type": "code",
   "execution_count": 22,
   "metadata": {},
   "outputs": [],
   "source": [
    "# Build the model on balanced dataset and get the evaluation metrices\n",
    "X = df_downsampled.drop(['Exited'],axis=1)\n",
    "y = df_downsampled.Exited\n",
    "lr, X_test, y_test, y_predicted, y_predicted_prob = classification_model(X, y)"
   ]
  },
  {
   "cell_type": "markdown",
   "metadata": {},
   "source": [
    "__Evaluate__"
   ]
  },
  {
   "cell_type": "code",
   "execution_count": 23,
   "metadata": {},
   "outputs": [
    {
     "name": "stdout",
     "output_type": "stream",
     "text": [
      "\n",
      " Accuracy Score :  0.7144981412639405\n",
      "\n",
      " AUC Score :  0.7820393759286777\n",
      "\n",
      " Confusion Matrix : \n",
      " [[473 199]\n",
      " [185 488]]\n",
      "\n",
      " Classification Report : \n",
      "               precision    recall  f1-score   support\n",
      "\n",
      "           0       0.72      0.70      0.71       672\n",
      "           1       0.71      0.73      0.72       673\n",
      "\n",
      "    accuracy                           0.71      1345\n",
      "   macro avg       0.71      0.71      0.71      1345\n",
      "weighted avg       0.71      0.71      0.71      1345\n",
      "\n",
      "TPR, TNR, FPR, FNR: 0.7251 0.7039 0.2961 0.2749\n",
      "\n",
      " ROC curve : \n",
      "\n"
     ]
    },
    {
     "data": {
      "image/png": "[encoded data removed]",
      "text/plain": [
       "<Figure size 432x288 with 1 Axes>"
      ]
     },
     "metadata": {
      "needs_background": "light"
     },
     "output_type": "display_data"
    }
   ],
   "source": [
    "# Get evaluation metrices\n",
    "compute_evaluation_metric(lr, X_test, y_test, y_predicted, y_predicted_prob)"
   ]
  },
  {
   "cell_type": "code",
   "execution_count": 24,
   "metadata": {},
   "outputs": [],
   "source": [
    "# name, accuracy, F1, ROC, TPR, TNR, FPR, FNR\n",
    "base                = [\"reference\",  0.81, 0.33, 0.77, 0.2255, 0.9595, 0.0405, 0.7745]\n",
    "upsample_minority   = [\"upsample_minority\",  0.71, 0.71, 0.78, 0.6925, 0.7264, 0.2736, 0.3075]\n",
    "downsample_majority = [\"downsample_majority\", 0.71, 0.72, 0.78, 0.7251, 0.7039, 0.2961, 0.2749]"
   ]
  },
  {
   "cell_type": "markdown",
   "metadata": {},
   "source": [
    "<div class=\"alert alert-info\" style=\"padding:0px 10px; border-radius:5px;\"><h4 style='margin:10px 5px'> Inferences:</h4>\n",
    "</div>\n",
    "\n",
    "- The accuracy has reduced as compared to the model buit on original dataset but now the model is in a good state to precict the 1's as well, the precision recall and f-1 score has improved for class 1 as well.\n",
    "\n",
    "- Overall, an improvement over both the base models and the upsampling the minority class based approach."
   ]
  },
  {
   "cell_type": "markdown",
   "metadata": {},
   "source": [
    "<a id=\"3\"></a> <br>\n",
    "\n",
    "<div class=\"alert alert-info\" style=\"background-color:#006a79; color:white; padding:0px 10px; border-radius:5px;\"><h2 style='margin:10px 5px'> 3. Cluster Centroids with imbalanced-learn </h2>\n",
    "</div>\n",
    "\n",
    "In cluster centroids approach, the majority class is undersampled. But, when undersampling, instead of selecting rows of the majority class randomly, it generates new samples. \n",
    "\n",
    "How are these new samples generated?\n",
    "\n",
    "If you want to generate 1000 new samples, the majority class is clustered into 1000 clusters using K-Means clustering and the centroid of each of the clusters are taken as the new data points. \n",
    "\n",
    "Sometimes, this is dramatically improve the performance of the models. \n",
    "\n",
    "Reference: [Imbalanced Learn Documentation](https://imbalanced-learn.org/stable/under_sampling.html#prototype-generation)"
   ]
  },
  {
   "cell_type": "code",
   "execution_count": 25,
   "metadata": {},
   "outputs": [
    {
     "name": "stdout",
     "output_type": "stream",
     "text": [
      "1.0.2\n",
      "0.9.0\n"
     ]
    }
   ],
   "source": [
    "import sklearn, imblearn\n",
    "print(sklearn.__version__)\n",
    "print(imblearn.__version__)"
   ]
  },
  {
   "cell_type": "code",
   "execution_count": 26,
   "metadata": {},
   "outputs": [],
   "source": [
    "# Installation. YOU MIGHT HAVE TO TERMINATE JUPYTER LAB/NOTEBOOK SESSION AND RESTART.\n",
    "# !pip install -U imbalanced-learn"
   ]
  },
  {
   "cell_type": "code",
   "execution_count": 27,
   "metadata": {},
   "outputs": [],
   "source": [
    "# import RandomUnderSampler function from imblearn.under_sampling\n",
    "from imblearn.under_sampling import ClusterCentroids"
   ]
  },
  {
   "cell_type": "code",
   "execution_count": 28,
   "metadata": {},
   "outputs": [],
   "source": [
    "# Undersample majority class keeping clusters in mind.\n",
    "cc = ClusterCentroids(random_state=0)\n",
    "X_resampled, y_resampled = cc.fit_resample(X_original, y_original)"
   ]
  },
  {
   "cell_type": "code",
   "execution_count": 29,
   "metadata": {},
   "outputs": [
    {
     "data": {
      "text/plain": [
       "0    2037\n",
       "1    2037\n",
       "Name: Exited, dtype: int64"
      ]
     },
     "execution_count": 29,
     "metadata": {},
     "output_type": "execute_result"
    }
   ],
   "source": [
    "y_resampled.value_counts()"
   ]
  },
  {
   "cell_type": "markdown",
   "metadata": {},
   "source": [
    "__Build Classification__"
   ]
  },
  {
   "cell_type": "code",
   "execution_count": 30,
   "metadata": {},
   "outputs": [],
   "source": [
    "# Build the model on balanced dataset and get the evaluation metrices\n",
    "X = X_resampled\n",
    "y = y_resampled\n",
    "lr, X_test, y_test, y_predicted, y_predicted_prob =  classification_model(X, y)"
   ]
  },
  {
   "cell_type": "markdown",
   "metadata": {},
   "source": [
    "__Evaluate Performance__"
   ]
  },
  {
   "cell_type": "code",
   "execution_count": 31,
   "metadata": {},
   "outputs": [
    {
     "name": "stdout",
     "output_type": "stream",
     "text": [
      "\n",
      " Accuracy Score :  0.8557620817843866\n",
      "\n",
      " AUC Score :  0.9315033963065167\n",
      "\n",
      " Confusion Matrix : \n",
      " [[527 145]\n",
      " [ 49 624]]\n",
      "\n",
      " Classification Report : \n",
      "               precision    recall  f1-score   support\n",
      "\n",
      "           0       0.91      0.78      0.84       672\n",
      "           1       0.81      0.93      0.87       673\n",
      "\n",
      "    accuracy                           0.86      1345\n",
      "   macro avg       0.86      0.86      0.86      1345\n",
      "weighted avg       0.86      0.86      0.86      1345\n",
      "\n",
      "TPR, TNR, FPR, FNR: 0.9272 0.7842 0.2158 0.0728\n",
      "\n",
      " ROC curve : \n",
      "\n"
     ]
    },
    {
     "data": {
      "image/png": "[encoded data removed]",
      "text/plain": [
       "<Figure size 432x288 with 1 Axes>"
      ]
     },
     "metadata": {
      "needs_background": "light"
     },
     "output_type": "display_data"
    }
   ],
   "source": [
    "# Get evaluation metrices\n",
    "compute_evaluation_metric(lr, X_test, y_test, y_predicted, y_predicted_prob)"
   ]
  },
  {
   "cell_type": "code",
   "execution_count": 32,
   "metadata": {},
   "outputs": [],
   "source": [
    "# name, accuracy, F1, ROC, TPR, TNR, FPR, FNR\n",
    "base                = [\"reference\",  0.81, 0.33, 0.77, 0.2255, 0.9595, 0.0405, 0.7745]\n",
    "upsample_minority   = [\"upsample_minority\",  0.71, 0.71, 0.78, 0.6925, 0.7264, 0.2736, 0.3075]\n",
    "downsample_majority = [\"downsample_majority\", 0.71, 0.72, 0.78, 0.7251, 0.7039, 0.2961, 0.2749]\n",
    "cluster_centroids   = [\"cluster_cetroids\", 0.8557, 0.87, 0.93, 0.9272, 0.7842, 0.2158, 0.0728]"
   ]
  },
  {
   "cell_type": "markdown",
   "metadata": {},
   "source": [
    "<div class=\"alert alert-info\" style=\"padding:0px 10px; border-radius:5px;\"><h4 style='margin:10px 5px'> Inferences:</h4>\n",
    "</div>\n",
    "\n",
    "- The accuracy has reduced as compared to the model buit on original dataset but now the model is in a good state to precict the 1's as well, the precision recall and f-1 score has improved for class 1 as well."
   ]
  },
  {
   "cell_type": "markdown",
   "metadata": {},
   "source": [
    "<a id=\"4\"></a> <br>\n",
    "\n",
    "<div class=\"alert alert-info\" style=\"background-color:#006a79; color:white; padding:0px 10px; border-radius:5px;\"><h2 style='margin:10px 5px'> 4.  Random over-sampling with imbalanced-learn</h2>\n",
    "</div>\n",
    "\n",
    "In random oversampling minority class with imblearn, new rows of the minority class are created by introducing small variations into the existing rows of minority class.\n",
    "\n",
    "Let's use `RandomOverSampler` function from imblearn.over_sampling library"
   ]
  },
  {
   "cell_type": "code",
   "execution_count": 33,
   "metadata": {},
   "outputs": [
    {
     "data": {
      "text/plain": [
       "0    7963\n",
       "1    7963\n",
       "Name: Exited, dtype: int64"
      ]
     },
     "execution_count": 33,
     "metadata": {},
     "output_type": "execute_result"
    }
   ],
   "source": [
    "# import RandomOverSampler function from imblearn.over_sampling\n",
    "from imblearn.over_sampling import RandomOverSampler\n",
    "\n",
    "# Fit the RandomOverSampler\n",
    "ros = RandomOverSampler()\n",
    "X_ros, y_ros = ros.fit_resample(X_original, y_original)\n",
    "\n",
    "y_ros.value_counts()"
   ]
  },
  {
   "cell_type": "code",
   "execution_count": 34,
   "metadata": {},
   "outputs": [],
   "source": [
    "# Build the model on balanced dataset and get the evaluation metrices\n",
    "X = X_ros\n",
    "y = y_ros\n",
    "lr, X_test, y_test, y_predicted, y_predicted_prob = classification_model(X, y)"
   ]
  },
  {
   "cell_type": "markdown",
   "metadata": {},
   "source": [
    "__Evaluate Performance__"
   ]
  },
  {
   "cell_type": "code",
   "execution_count": 35,
   "metadata": {},
   "outputs": [
    {
     "name": "stdout",
     "output_type": "stream",
     "text": [
      "\n",
      " Accuracy Score :  0.714041095890411\n",
      "\n",
      " AUC Score :  0.7751563484598563\n",
      "\n",
      " Confusion Matrix : \n",
      " [[1884  740]\n",
      " [ 763 1869]]\n",
      "\n",
      " Classification Report : \n",
      "               precision    recall  f1-score   support\n",
      "\n",
      "           0       0.71      0.72      0.71      2624\n",
      "           1       0.72      0.71      0.71      2632\n",
      "\n",
      "    accuracy                           0.71      5256\n",
      "   macro avg       0.71      0.71      0.71      5256\n",
      "weighted avg       0.71      0.71      0.71      5256\n",
      "\n",
      "TPR, TNR, FPR, FNR: 0.7101 0.718 0.282 0.2899\n",
      "\n",
      " ROC curve : \n",
      "\n"
     ]
    },
    {
     "data": {
      "image/png": "[encoded data removed]",
      "text/plain": [
       "<Figure size 432x288 with 1 Axes>"
      ]
     },
     "metadata": {
      "needs_background": "light"
     },
     "output_type": "display_data"
    }
   ],
   "source": [
    "# Get evaluation metrices\n",
    "compute_evaluation_metric(lr, X_test, y_test, y_predicted, y_predicted_prob)"
   ]
  },
  {
   "cell_type": "markdown",
   "metadata": {
    "jp-MarkdownHeadingCollapsed": true,
    "tags": []
   },
   "source": [
    "<div class=\"alert alert-info\" style=\"padding:0px 10px; border-radius:5px;\"><h4 style='margin:10px 5px'> Inferences:</h4>\n",
    "</div>\n",
    "\n",
    "- The accuracy has reduced as compared to the model buit on original dataset but now the model is in a good state to precict the 1's as well, the precision recall and f-1 score has improved for class 1 as well."
   ]
  },
  {
   "cell_type": "markdown",
   "metadata": {},
   "source": [
    "<a id=\"5\"></a> <br>\n",
    "\n",
    "<div class=\"alert alert-info\" style=\"background-color:#006a79; color:white; padding:0px 10px; border-radius:5px;\"><h2 style='margin:10px 5px'> 5. Over-sampling: SMOTE</h2>\n",
    "</div>\n",
    "\n",
    "SMOTE(Synthetic Minority Oversampling Technique) - As the name suggests, it's an oversampling technique where synthetic samples are created for the minority class. \n",
    "\n",
    "In order to create a synthetic instance, It finds the K-nearest neighbors of every minority row/record, then it selects one of them randomly, post that it computes linear interpolations to produce a new minority row/record in the neighborhood. This process get's repeated and the rows for minority class increases till the class gets balanced.\n",
    "\n",
    "It is very popular because it overcomes the problem of overfitting caused by random oversampling.\n",
    "\n",
    "We'll use ratio='minority' to resample the minority class."
   ]
  },
  {
   "cell_type": "code",
   "execution_count": 36,
   "metadata": {},
   "outputs": [
    {
     "data": {
      "text/plain": [
       "0    7963\n",
       "1    7963\n",
       "Name: Exited, dtype: int64"
      ]
     },
     "execution_count": 36,
     "metadata": {},
     "output_type": "execute_result"
    }
   ],
   "source": [
    "# import RandomOverSampler function from imblearn.over_sampling\n",
    "from imblearn.over_sampling import SMOTE\n",
    "\n",
    "# Fit the SMOTE\n",
    "smote = SMOTE(sampling_strategy='minority')\n",
    "X_sm, y_sm = smote.fit_resample(X_original, y_original)\n",
    "\n",
    "y_sm.value_counts()"
   ]
  },
  {
   "cell_type": "code",
   "execution_count": 37,
   "metadata": {},
   "outputs": [],
   "source": [
    "# Build the model on balanced dataset and get the evaluation metrices\n",
    "X = X_sm\n",
    "y = y_sm\n",
    "lr, X_test, y_test, y_predicted, y_predicted_prob = classification_model(X,y)"
   ]
  },
  {
   "cell_type": "markdown",
   "metadata": {},
   "source": [
    "__Evaluate Performance__"
   ]
  },
  {
   "cell_type": "code",
   "execution_count": 38,
   "metadata": {},
   "outputs": [
    {
     "name": "stdout",
     "output_type": "stream",
     "text": [
      "\n",
      " Accuracy Score :  0.8007990867579908\n",
      "\n",
      " AUC Score :  0.8873826300596783\n",
      "\n",
      " Confusion Matrix : \n",
      " [[2226  398]\n",
      " [ 649 1983]]\n",
      "\n",
      " Classification Report : \n",
      "               precision    recall  f1-score   support\n",
      "\n",
      "           0       0.77      0.85      0.81      2624\n",
      "           1       0.83      0.75      0.79      2632\n",
      "\n",
      "    accuracy                           0.80      5256\n",
      "   macro avg       0.80      0.80      0.80      5256\n",
      "weighted avg       0.80      0.80      0.80      5256\n",
      "\n",
      "TPR, TNR, FPR, FNR: 0.7534 0.8483 0.1517 0.2466\n",
      "\n",
      " ROC curve : \n",
      "\n"
     ]
    },
    {
     "data": {
      "image/png": "[encoded data removed]",
      "text/plain": [
       "<Figure size 432x288 with 1 Axes>"
      ]
     },
     "metadata": {
      "needs_background": "light"
     },
     "output_type": "display_data"
    }
   ],
   "source": [
    "# Get evaluation metrices\n",
    "compute_evaluation_metric(lr, X_test, y_test, y_predicted, y_predicted_prob)"
   ]
  },
  {
   "cell_type": "code",
   "execution_count": 39,
   "metadata": {},
   "outputs": [],
   "source": [
    "# name, accuracy, F1, ROC, TPR, TNR, FPR, FNR\n",
    "base                = [\"reference\",  0.81, 0.33, 0.77, 0.2255, 0.9595, 0.0405, 0.7745]\n",
    "upsample_minority   = [\"upsample_minority\",  0.71, 0.71, 0.78, 0.6925, 0.7264, 0.2736, 0.3075]\n",
    "downsample_majority = [\"downsample_majority\", 0.71, 0.72, 0.78, 0.7251, 0.7039, 0.2961, 0.2749]\n",
    "cluster_centroids   = [\"cluster_cetroids\", 0.8557, 0.87, 0.93, 0.9272, 0.7842, 0.2158, 0.0728]\n",
    "SMOTE_oversample    = [\"SMOTE_oversample\", 0.81, 0.80, 0.89, 0.7743, 0.8472, 0.1528, 0.2257]"
   ]
  },
  {
   "cell_type": "markdown",
   "metadata": {},
   "source": [
    "<div class=\"alert alert-info\" style=\"padding:0px 10px; border-radius:5px;\"><h4 style='margin:10px 5px'> Inferences:</h4>\n",
    "</div>\n",
    "\n",
    "- Does a good job of detecting the 1's (defaulters) and a better job of handling out more loans to genuine non-defaulters. So, less conservative than cluster centroids based approach.\n",
    "\n",
    "__Mini Challenge__: Try to improve this performance by adjusting sampling_strategy (0.30, 0.35, 0.40, 0.45, 0.5, 0.55, 0.60, 0.65) "
   ]
  },
  {
   "cell_type": "code",
   "execution_count": null,
   "metadata": {},
   "outputs": [],
   "source": []
  },
  {
   "cell_type": "code",
   "execution_count": null,
   "metadata": {},
   "outputs": [],
   "source": []
  },
  {
   "cell_type": "code",
   "execution_count": null,
   "metadata": {},
   "outputs": [],
   "source": []
  },
  {
   "cell_type": "code",
   "execution_count": null,
   "metadata": {},
   "outputs": [],
   "source": []
  },
  {
   "cell_type": "markdown",
   "metadata": {
    "tags": []
   },
   "source": [
    "<a id=\"6\"></a> <br>\n",
    "\n",
    "<div class=\"alert alert-info\" style=\"background-color:#006a79; color:white; padding:0px 10px; border-radius:5px;\"><h2 style='margin:10px 5px'> 6. ADASYN </h2>\n",
    "</div>\n",
    "\n",
    "- Imblearn [API Ref](https://imbalanced-learn.readthedocs.io/en/stable/generated/imblearn.over_sampling.ADASYN.html)\n",
    "- ADASYN [Paper](https://www.ele.uri.edu/faculty/he/PDFfiles/adasyn.pdf)\n",
    "\n",
    "ADASYN(Adaptive Synthetic Sampling Apraoch): As the name suggests, it's a sampling technique which adaptively generates syntetic minority data samples according to their distribution. i.e it generates more rows/records in the low density regions of feature space and less rows/records in the high density regions of feature space.\n",
    "\n",
    "'''_ADASYN is based on the idea of adaptively generating minority data samples according to their distributions: more synthetic data is generated for minority class samples that are harder to learn compared to those minority samples that are easier to learn._'''"
   ]
  },
  {
   "cell_type": "markdown",
   "metadata": {},
   "source": [
    "__Resample with ADASYN__"
   ]
  },
  {
   "cell_type": "code",
   "execution_count": 40,
   "metadata": {},
   "outputs": [
    {
     "data": {
      "text/plain": [
       "1    7977\n",
       "0    7963\n",
       "Name: Exited, dtype: int64"
      ]
     },
     "execution_count": 40,
     "metadata": {},
     "output_type": "execute_result"
    }
   ],
   "source": [
    "# import ADASYN function from imblearn.over_sampling\n",
    "from imblearn.over_sampling import ADASYN \n",
    "\n",
    "ada = ADASYN(sampling_strategy= 'minority', random_state=42, n_neighbors=5)\n",
    "\n",
    "# Fit the ADASYN\n",
    "X_res, y_res = ada.fit_resample(X_original, y_original)\n",
    "y_res.value_counts()"
   ]
  },
  {
   "cell_type": "markdown",
   "metadata": {},
   "source": [
    "__Build Model__"
   ]
  },
  {
   "cell_type": "code",
   "execution_count": 41,
   "metadata": {},
   "outputs": [],
   "source": [
    "# Build the model on balanced dataset and get the evaluation metrices\n",
    "X = X_res\n",
    "y = y_res\n",
    "lr, X_test, y_test, y_predicted, y_predicted_prob = classification_model(X,y)"
   ]
  },
  {
   "cell_type": "markdown",
   "metadata": {},
   "source": [
    "__Evaluate__"
   ]
  },
  {
   "cell_type": "code",
   "execution_count": 42,
   "metadata": {},
   "outputs": [
    {
     "name": "stdout",
     "output_type": "stream",
     "text": [
      "\n",
      " Accuracy Score :  0.8118228473674206\n",
      "\n",
      " AUC Score :  0.8904229126790559\n",
      "\n",
      " Confusion Matrix : \n",
      " [[2232  412]\n",
      " [ 578 2039]]\n",
      "\n",
      " Classification Report : \n",
      "               precision    recall  f1-score   support\n",
      "\n",
      "           0       0.79      0.84      0.82      2644\n",
      "           1       0.83      0.78      0.80      2617\n",
      "\n",
      "    accuracy                           0.81      5261\n",
      "   macro avg       0.81      0.81      0.81      5261\n",
      "weighted avg       0.81      0.81      0.81      5261\n",
      "\n",
      "TPR, TNR, FPR, FNR: 0.7791 0.8442 0.1558 0.2209\n",
      "\n",
      " ROC curve : \n",
      "\n"
     ]
    },
    {
     "data": {
      "image/png": "[encoded data removed]",
      "text/plain": [
       "<Figure size 432x288 with 1 Axes>"
      ]
     },
     "metadata": {
      "needs_background": "light"
     },
     "output_type": "display_data"
    }
   ],
   "source": [
    "# Get evaluation metrices\n",
    "compute_evaluation_metric(lr, X_test, y_test, y_predicted, y_predicted_prob)"
   ]
  },
  {
   "cell_type": "code",
   "execution_count": 43,
   "metadata": {},
   "outputs": [],
   "source": [
    "# name, accuracy, F1, ROC, TPR, TNR, FPR, FNR\n",
    "base                = [\"reference\",  0.81, 0.33, 0.77, 0.2255, 0.9595, 0.0405, 0.7745]\n",
    "upsample_minority   = [\"upsample_minority\",  0.71, 0.71, 0.78, 0.6925, 0.7264, 0.2736, 0.3075]\n",
    "downsample_majority = [\"downsample_majority\", 0.71, 0.72, 0.78, 0.7251, 0.7039, 0.2961, 0.2749]\n",
    "cluster_centroids   = [\"cluster_cetroids\", 0.8557, 0.87, 0.93, 0.9272, 0.7842, 0.2158, 0.0728]\n",
    "SMOTE_oversample    = [\"SMOTE_oversample\", 0.81, 0.80, 0.89, 0.7743, 0.8472, 0.1528, 0.2257]\n",
    "ADASYN_oversample   = [\"ADASYN_oversample\", 0.81, 0.80, 0.89, 0.7791, 0.8442, 0.1558, 0.2209]"
   ]
  },
  {
   "cell_type": "markdown",
   "metadata": {
    "tags": []
   },
   "source": [
    "<div class=\"alert alert-info\" style=\"padding:0px 10px; border-radius:5px;\"><h4 style='margin:10px 5px'> Inferences:</h4>\n",
    "</div>\n",
    "\n",
    "The results are very similar to what we had for SMOTE, may be a marginal improvement in TPR. Can be attributed to how similar these two algorithms are. "
   ]
  },
  {
   "cell_type": "markdown",
   "metadata": {
    "tags": []
   },
   "source": [
    "<a id=\"6\"></a> <br>\n",
    "\n",
    "<div class=\"alert alert-info\" style=\"background-color:#006a79; color:white; padding:0px 10px; border-radius:5px;\"><h2 style='margin:10px 5px'> 7. Near Miss</h2>\n",
    "</div>"
   ]
  },
  {
   "cell_type": "markdown",
   "metadata": {},
   "source": [
    "__Resample__"
   ]
  },
  {
   "cell_type": "code",
   "execution_count": 44,
   "metadata": {},
   "outputs": [
    {
     "data": {
      "text/plain": [
       "0    2037\n",
       "1    2037\n",
       "Name: Exited, dtype: int64"
      ]
     },
     "execution_count": 44,
     "metadata": {},
     "output_type": "execute_result"
    }
   ],
   "source": [
    "# NearMiss\n",
    "from imblearn.under_sampling import NearMiss \n",
    "\n",
    "nm = NearMiss(version=1)\n",
    "\n",
    "# Fit the NearMiss \n",
    "X_res, y_res = nm.fit_resample(X_original, y_original)\n",
    "y_res.value_counts()"
   ]
  },
  {
   "cell_type": "markdown",
   "metadata": {},
   "source": [
    "__Train Model__"
   ]
  },
  {
   "cell_type": "code",
   "execution_count": 45,
   "metadata": {},
   "outputs": [],
   "source": [
    "# Build the model on balanced dataset and get the evaluation metrices\n",
    "X = X_res\n",
    "y = y_res\n",
    "lr, X_test, y_test, y_predicted, y_predicted_prob = classification_model(X,y)"
   ]
  },
  {
   "cell_type": "markdown",
   "metadata": {},
   "source": [
    "__Evaluate__"
   ]
  },
  {
   "cell_type": "code",
   "execution_count": 46,
   "metadata": {},
   "outputs": [
    {
     "name": "stdout",
     "output_type": "stream",
     "text": [
      "\n",
      " Accuracy Score :  0.9033457249070632\n",
      "\n",
      " AUC Score :  0.9492676714073445\n",
      "\n",
      " Confusion Matrix : \n",
      " [[645  27]\n",
      " [103 570]]\n",
      "\n",
      " Classification Report : \n",
      "               precision    recall  f1-score   support\n",
      "\n",
      "           0       0.86      0.96      0.91       672\n",
      "           1       0.95      0.85      0.90       673\n",
      "\n",
      "    accuracy                           0.90      1345\n",
      "   macro avg       0.91      0.90      0.90      1345\n",
      "weighted avg       0.91      0.90      0.90      1345\n",
      "\n",
      "TPR, TNR, FPR, FNR: 0.847 0.9598 0.0402 0.153\n",
      "\n",
      " ROC curve : \n",
      "\n"
     ]
    },
    {
     "data": {
      "image/png": "[encoded data removed]",
      "text/plain": [
       "<Figure size 432x288 with 1 Axes>"
      ]
     },
     "metadata": {
      "needs_background": "light"
     },
     "output_type": "display_data"
    }
   ],
   "source": [
    "# Get evaluation metrices\n",
    "compute_evaluation_metric(lr, X_test, y_test, y_predicted, y_predicted_prob)"
   ]
  },
  {
   "cell_type": "code",
   "execution_count": 47,
   "metadata": {},
   "outputs": [],
   "source": [
    "# name, accuracy, F1, ROC, TPR, TNR, FPR, FNR\n",
    "base                = [\"reference\",  0.81, 0.33, 0.77, 0.2255, 0.9595, 0.0405, 0.7745]\n",
    "upsample_minority   = [\"upsample_minority\",  0.71, 0.71, 0.78, 0.6925, 0.7264, 0.2736, 0.3075]\n",
    "downsample_majority = [\"downsample_majority\", 0.71, 0.72, 0.78, 0.7251, 0.7039, 0.2961, 0.2749]\n",
    "cluster_centroids   = [\"cluster_cetroids\", 0.8557, 0.87, 0.93, 0.9272, 0.7842, 0.2158, 0.0728]\n",
    "SMOTE_oversample    = [\"SMOTE_oversample\", 0.81, 0.80, 0.89, 0.7743, 0.8472, 0.1528, 0.2257]\n",
    "ADASYN_oversample   = [\"ADASYN_oversample\", 0.81, 0.80, 0.89, 0.7791, 0.8442, 0.1558, 0.2209]\n",
    "nearmiss_v1         = [\"nearmiss_v1\", 0.90, 0.90, .95, 0.847, 0.9598, 0.0402, 0.153]"
   ]
  },
  {
   "cell_type": "markdown",
   "metadata": {},
   "source": [
    "__Inference:__\n",
    "\n",
    "1. Nearmiss v1 has very good accuracy, ROC, improved TPR and the best TNR at 95.9%. If chose, tt will a very good job of giving out loans to the genuine non-defaulters. Less conservative. Does a good job of identifying the defaulters as well."
   ]
  },
  {
   "cell_type": "markdown",
   "metadata": {},
   "source": [
    "<a id=\"6\"></a> <br>\n",
    "\n",
    "<div class=\"alert alert-info\" style=\"background-color:#006a79; color:white; padding:0px 10px; border-radius:5px;\"><h2 style='margin:10px 5px'> 8. Tomek Links</h2>\n",
    "</div>"
   ]
  },
  {
   "cell_type": "code",
   "execution_count": 51,
   "metadata": {},
   "outputs": [],
   "source": [
    "from imblearn.under_sampling import TomekLinks \n",
    "TL = TomekLinks()\n",
    "X_res, y_res = TL.fit_resample(X_original, y_original)"
   ]
  },
  {
   "cell_type": "markdown",
   "metadata": {},
   "source": [
    "__Train__"
   ]
  },
  {
   "cell_type": "code",
   "execution_count": 52,
   "metadata": {},
   "outputs": [],
   "source": [
    "# Build the model on balanced dataset and get the evaluation metrices\n",
    "X = X_res\n",
    "y = y_res\n",
    "lr, X_test, y_test, y_predicted, y_predicted_prob = classification_model(X,y)"
   ]
  },
  {
   "cell_type": "markdown",
   "metadata": {},
   "source": [
    "__Evaluate__"
   ]
  },
  {
   "cell_type": "code",
   "execution_count": 53,
   "metadata": {},
   "outputs": [
    {
     "name": "stdout",
     "output_type": "stream",
     "text": [
      "\n",
      " Accuracy Score :  0.7884679852497486\n",
      "\n",
      " AUC Score :  0.772786552580706\n",
      "\n",
      " Confusion Matrix : \n",
      " [[2196  110]\n",
      " [ 521  156]]\n",
      "\n",
      " Classification Report : \n",
      "               precision    recall  f1-score   support\n",
      "\n",
      "           0       0.81      0.95      0.87      2306\n",
      "           1       0.59      0.23      0.33       677\n",
      "\n",
      "    accuracy                           0.79      2983\n",
      "   macro avg       0.70      0.59      0.60      2983\n",
      "weighted avg       0.76      0.79      0.75      2983\n",
      "\n",
      "TPR, TNR, FPR, FNR: 0.2304 0.9523 0.0477 0.7696\n",
      "\n",
      " ROC curve : \n",
      "\n"
     ]
    },
    {
     "data": {
      "image/png": "[encoded data removed]",
      "text/plain": [
       "<Figure size 432x288 with 1 Axes>"
      ]
     },
     "metadata": {
      "needs_background": "light"
     },
     "output_type": "display_data"
    }
   ],
   "source": [
    "# Get evaluation metrices\n",
    "compute_evaluation_metric(lr, X_test, y_test, y_predicted, y_predicted_prob)"
   ]
  },
  {
   "cell_type": "code",
   "execution_count": 54,
   "metadata": {},
   "outputs": [],
   "source": [
    "# name, accuracy, F1, ROC, TPR, TNR, FPR, FNR\n",
    "base                = [\"reference\",  0.81, 0.33, 0.77, 0.2255, 0.9595, 0.0405, 0.7745]\n",
    "upsample_minority   = [\"upsample_minority\",  0.71, 0.71, 0.78, 0.6925, 0.7264, 0.2736, 0.3075]\n",
    "downsample_majority = [\"downsample_majority\", 0.71, 0.72, 0.78, 0.7251, 0.7039, 0.2961, 0.2749]\n",
    "cluster_centroids   = [\"cluster_cetroids\", 0.8557, 0.87, 0.93, 0.9272, 0.7842, 0.2158, 0.0728]\n",
    "SMOTE_oversample    = [\"SMOTE_oversample\", 0.81, 0.80, 0.89, 0.7743, 0.8472, 0.1528, 0.2257]\n",
    "ADASYN_oversample   = [\"ADASYN_oversample\", 0.81, 0.80, 0.89, 0.7791, 0.8442, 0.1558, 0.2209]\n",
    "nearmiss_v1         = [\"nearmiss_v1\", 0.90, 0.90, .95, 0.847, 0.9598, 0.0402, 0.153]\n",
    "tomek               = [\"Tomek\", 0.94, 0.93, .96, 0.8838, 0.981, 0.019, 0.1162]"
   ]
  },
  {
   "cell_type": "markdown",
   "metadata": {},
   "source": [
    "__Inference:__"
   ]
  },
  {
   "cell_type": "markdown",
   "metadata": {},
   "source": [
    "Beats NearMiss on Accuracy, F1 and AUC score. Even on TPR and TNR as well. All round better performance. "
   ]
  },
  {
   "cell_type": "markdown",
   "metadata": {},
   "source": [
    "__SMOTE TOMEK__"
   ]
  },
  {
   "cell_type": "code",
   "execution_count": 55,
   "metadata": {},
   "outputs": [],
   "source": [
    "from imblearn.combine import SMOTETomek \n",
    "ST = SMOTETomek(random_state=100)\n",
    "X_res, y_res = ST.fit_resample(X_original, y_original)"
   ]
  },
  {
   "cell_type": "markdown",
   "metadata": {},
   "source": [
    "__Train__"
   ]
  },
  {
   "cell_type": "code",
   "execution_count": 56,
   "metadata": {},
   "outputs": [],
   "source": [
    "# Build the model on balanced dataset and get the evaluation metrices\n",
    "X = X_res\n",
    "y = y_res\n",
    "lr, X_test, y_test, y_predicted, y_predicted_prob = classification_model(X,y)"
   ]
  },
  {
   "cell_type": "markdown",
   "metadata": {},
   "source": [
    "__Evaluate__"
   ]
  },
  {
   "cell_type": "code",
   "execution_count": 57,
   "metadata": {},
   "outputs": [
    {
     "name": "stdout",
     "output_type": "stream",
     "text": [
      "\n",
      " Accuracy Score :  0.8125138182622154\n",
      "\n",
      " AUC Score :  0.8930712717363795\n",
      "\n",
      " Confusion Matrix : \n",
      " [[1914  307]\n",
      " [ 541 1761]]\n",
      "\n",
      " Classification Report : \n",
      "               precision    recall  f1-score   support\n",
      "\n",
      "           0       0.78      0.86      0.82      2221\n",
      "           1       0.85      0.76      0.81      2302\n",
      "\n",
      "    accuracy                           0.81      4523\n",
      "   macro avg       0.82      0.81      0.81      4523\n",
      "weighted avg       0.82      0.81      0.81      4523\n",
      "\n",
      "TPR, TNR, FPR, FNR: 0.765 0.8618 0.1382 0.235\n",
      "\n",
      " ROC curve : \n",
      "\n"
     ]
    },
    {
     "data": {
      "image/png": "[encoded data removed]",
      "text/plain": [
       "<Figure size 432x288 with 1 Axes>"
      ]
     },
     "metadata": {
      "needs_background": "light"
     },
     "output_type": "display_data"
    }
   ],
   "source": [
    "# Get evaluation metrices\n",
    "compute_evaluation_metric(lr, X_test, y_test, y_predicted, y_predicted_prob)"
   ]
  },
  {
   "cell_type": "code",
   "execution_count": 58,
   "metadata": {},
   "outputs": [],
   "source": [
    "# name, accuracy, F1, ROC, TPR, TNR, FPR, FNR\n",
    "base                = [\"reference\",  0.81, 0.33, 0.77, 0.2255, 0.9595, 0.0405, 0.7745]\n",
    "upsample_minority   = [\"upsample_minority\",  0.71, 0.71, 0.78, 0.6925, 0.7264, 0.2736, 0.3075]\n",
    "downsample_majority = [\"downsample_majority\", 0.71, 0.72, 0.78, 0.7251, 0.7039, 0.2961, 0.2749]\n",
    "cluster_centroids   = [\"cluster_cetroids\", 0.8557, 0.87, 0.93, 0.9272, 0.7842, 0.2158, 0.0728]\n",
    "SMOTE_oversample    = [\"SMOTE_oversample\", 0.81, 0.80, 0.89, 0.7743, 0.8472, 0.1528, 0.2257]\n",
    "ADASYN_oversample   = [\"ADASYN_oversample\", 0.81, 0.80, 0.89, 0.7791, 0.8442, 0.1558, 0.2209]\n",
    "nearmiss_v1         = [\"nearmiss_v1\", 0.90, 0.90, .95, 0.847, 0.9598, 0.0402, 0.153]\n",
    "tomek               = [\"Tomek\", 0.94, 0.93, .96, 0.8838, 0.981, 0.019, 0.1162]\n",
    "tomek_smote         = [\"TomekSMOTE\", 0.94, 0.94, .97, 0.8944, 0.991, 0.009, 0.1056]"
   ]
  },
  {
   "cell_type": "markdown",
   "metadata": {},
   "source": [
    "__Inference__\n",
    "\n",
    "Beats Tomek performance marginally, across the board."
   ]
  },
  {
   "cell_type": "markdown",
   "metadata": {},
   "source": [
    "<a id=\"6\"></a> <br>\n",
    "\n",
    "<div class=\"alert alert-info\" style=\"background-color:#006a79; color:white; padding:0px 10px; border-radius:5px;\"><h2 style='margin:10px 5px'> 9. Edited Nearest Neighbours</h2>\n",
    "</div>\n",
    "\n",
    "__with Repeated Edited Neighbours and All KNN__"
   ]
  },
  {
   "cell_type": "code",
   "execution_count": 59,
   "metadata": {},
   "outputs": [],
   "source": [
    "from imblearn.under_sampling import EditedNearestNeighbours \n",
    "ENN = EditedNearestNeighbours()\n",
    "X_res, y_res = ENN.fit_resample(X_original, y_original)"
   ]
  },
  {
   "cell_type": "code",
   "execution_count": 60,
   "metadata": {},
   "outputs": [
    {
     "data": {
      "text/plain": [
       "0    4172\n",
       "1    2037\n",
       "Name: Exited, dtype: int64"
      ]
     },
     "execution_count": 60,
     "metadata": {},
     "output_type": "execute_result"
    }
   ],
   "source": [
    "y_res.value_counts()"
   ]
  },
  {
   "cell_type": "markdown",
   "metadata": {},
   "source": [
    "__Train Model__"
   ]
  },
  {
   "cell_type": "code",
   "execution_count": 61,
   "metadata": {},
   "outputs": [],
   "source": [
    "# Build the model on balanced dataset and get the evaluation metrices\n",
    "X = X_res\n",
    "y = y_res\n",
    "lr, X_test, y_test, y_predicted, y_predicted_prob = classification_model(X,y)"
   ]
  },
  {
   "cell_type": "markdown",
   "metadata": {},
   "source": [
    "__Evaluate__"
   ]
  },
  {
   "cell_type": "code",
   "execution_count": 62,
   "metadata": {},
   "outputs": [
    {
     "name": "stdout",
     "output_type": "stream",
     "text": [
      "\n",
      " Accuracy Score :  0.7535383113714007\n",
      "\n",
      " AUC Score :  0.7845723412577686\n",
      "\n",
      " Confusion Matrix : \n",
      " [[1244  140]\n",
      " [ 365  300]]\n",
      "\n",
      " Classification Report : \n",
      "               precision    recall  f1-score   support\n",
      "\n",
      "           0       0.77      0.90      0.83      1384\n",
      "           1       0.68      0.45      0.54       665\n",
      "\n",
      "    accuracy                           0.75      2049\n",
      "   macro avg       0.73      0.67      0.69      2049\n",
      "weighted avg       0.74      0.75      0.74      2049\n",
      "\n",
      "TPR, TNR, FPR, FNR: 0.4511 0.8988 0.1012 0.5489\n",
      "\n",
      " ROC curve : \n",
      "\n"
     ]
    },
    {
     "data": {
      "image/png": "[encoded data removed]",
      "text/plain": [
       "<Figure size 432x288 with 1 Axes>"
      ]
     },
     "metadata": {
      "needs_background": "light"
     },
     "output_type": "display_data"
    }
   ],
   "source": [
    "# Get evaluation metrices\n",
    "compute_evaluation_metric(lr, X_test, y_test, y_predicted, y_predicted_prob)"
   ]
  },
  {
   "cell_type": "code",
   "execution_count": 63,
   "metadata": {},
   "outputs": [],
   "source": [
    "# name, accuracy, F1, ROC, TPR, TNR, FPR, FNR\n",
    "base                = [\"reference\",  0.81, 0.33, 0.77, 0.2255, 0.9595, 0.0405, 0.7745]\n",
    "edited_nn           = [\"edited_nn\",  0.75, 0.54, 0.78, 0.4511, 0.8988, 0.1012, 0.5489]\n"
   ]
  },
  {
   "cell_type": "code",
   "execution_count": null,
   "metadata": {},
   "outputs": [],
   "source": []
  },
  {
   "cell_type": "code",
   "execution_count": null,
   "metadata": {},
   "outputs": [],
   "source": []
  },
  {
   "cell_type": "markdown",
   "metadata": {},
   "source": [
    "__Right Way: Resample after train-test split__"
   ]
  },
  {
   "cell_type": "code",
   "execution_count": 64,
   "metadata": {},
   "outputs": [],
   "source": [
    "# Define the function to create classificatio model and get the evaluation metrices\n",
    "def classification_model(X,y,class_weight = None):\n",
    "    # Split the dataset into the Training set and Test set\n",
    "    X_train, X_test, y_train, y_test = train_test_split(X, y, test_size = 0.33, random_state = 0)\n",
    "    \n",
    "    ENN = EditedNearestNeighbours()\n",
    "    X_train, y_train = ENN.fit_resample(X_train, y_train)\n",
    "    \n",
    "    # Scale the features as we don't want one independent variable to dominate the others and additionally it makes computations easy\n",
    "    sc = StandardScaler()\n",
    "    X_train = sc.fit_transform(X_train)\n",
    "    X_test = sc.transform(X_test)\n",
    "    \n",
    "    # Define the model\n",
    "    lr = LogisticRegression(class_weight = class_weight, random_state=0)\n",
    "\n",
    "    # Train the model\n",
    "    lr.fit(X_train, y_train)\n",
    "\n",
    "    # Predicting target values on x_test dataset\n",
    "    y_predicted = lr.predict(X_test)\n",
    "    y_predicted_prob = lr.predict_proba(X_test)\n",
    "    y_predicted_prob = [x[1] for x in y_predicted_prob]\n",
    "    return(lr, X_test, y_test, y_predicted, y_predicted_prob)"
   ]
  },
  {
   "cell_type": "markdown",
   "metadata": {},
   "source": [
    "__Resample and build model__"
   ]
  },
  {
   "cell_type": "code",
   "execution_count": 65,
   "metadata": {},
   "outputs": [],
   "source": [
    "# Build the model on balanced dataset and get the evaluation metrices\n",
    "X = X_res\n",
    "y = y_res\n",
    "lr, X_test, y_test, y_predicted, y_predicted_prob = classification_model(X_original, y_original)"
   ]
  },
  {
   "cell_type": "markdown",
   "metadata": {},
   "source": [
    "__Compute Evaluation Metric__"
   ]
  },
  {
   "cell_type": "code",
   "execution_count": 66,
   "metadata": {},
   "outputs": [
    {
     "name": "stdout",
     "output_type": "stream",
     "text": [
      "\n",
      " Accuracy Score :  0.786060606060606\n",
      "\n",
      " AUC Score :  0.7644632376101524\n",
      "\n",
      " Confusion Matrix : \n",
      " [[2271  346]\n",
      " [ 360  323]]\n",
      "\n",
      " Classification Report : \n",
      "               precision    recall  f1-score   support\n",
      "\n",
      "           0       0.86      0.87      0.87      2617\n",
      "           1       0.48      0.47      0.48       683\n",
      "\n",
      "    accuracy                           0.79      3300\n",
      "   macro avg       0.67      0.67      0.67      3300\n",
      "weighted avg       0.78      0.79      0.79      3300\n",
      "\n",
      "TPR, TNR, FPR, FNR: 0.4729 0.8678 0.1322 0.5271\n",
      "\n",
      " ROC curve : \n",
      "\n"
     ]
    },
    {
     "data": {
      "image/png": "[encoded data removed]",
      "text/plain": [
       "<Figure size 432x288 with 1 Axes>"
      ]
     },
     "metadata": {
      "needs_background": "light"
     },
     "output_type": "display_data"
    }
   ],
   "source": [
    "# Get evaluation metrices\n",
    "compute_evaluation_metric(lr, X_test, y_test, y_predicted, y_predicted_prob)"
   ]
  },
  {
   "cell_type": "code",
   "execution_count": null,
   "metadata": {},
   "outputs": [],
   "source": [
    "# name, accuracy, F1, ROC, TPR, TNR, FPR, FNR\n",
    "base                = [\"reference\",  0.81, 0.33, 0.77, 0.2255, 0.9595, 0.0405, 0.7745]\n",
    "edited_nn           = [\"edited_nn\",  0.75, 0.54, 0.78, 0.4511, 0.8988, 0.1012, 0.5489]\n",
    "edited_nn_r         = [\"edited_nn_r\",0.78, 0.48, 0.76, 0.4729, 0.8678, 0.1322, 0.5271]"
   ]
  },
  {
   "cell_type": "code",
   "execution_count": null,
   "metadata": {},
   "outputs": [],
   "source": []
  },
  {
   "cell_type": "code",
   "execution_count": null,
   "metadata": {},
   "outputs": [],
   "source": []
  },
  {
   "cell_type": "code",
   "execution_count": null,
   "metadata": {},
   "outputs": [],
   "source": []
  },
  {
   "cell_type": "markdown",
   "metadata": {},
   "source": [
    "<a id=\"7\"></a> <br>\n",
    "\n",
    "<div class=\"alert alert-info\" style=\"background-color:#006a79; color:white; padding:0px 10px; border-radius:5px;\"><h2 style='margin:10px 5px'> 9. Cost Sensitive Learning</h2>\n",
    "</div>\n",
    "\n",
    "Lot of sklearn algrothims have been designed in a way so that they can handle such class imbalance by passing an parameter itself.\n",
    "\n",
    "You can use class_weight = 'balanced' in such cases. Let's see how to set the parameter in Logistic Regression and Random Forecast Classifier"
   ]
  },
  {
   "cell_type": "code",
   "execution_count": 88,
   "metadata": {},
   "outputs": [],
   "source": [
    "from sklearn.linear_model import LogisticRegression\n",
    "lr = LogisticRegression(class_weight = 'balanced')"
   ]
  },
  {
   "cell_type": "markdown",
   "metadata": {},
   "source": [
    "__Compute class Weight__"
   ]
  },
  {
   "cell_type": "markdown",
   "metadata": {},
   "source": [
    "_Weighting Formula:_\n",
    "\n",
    "__weight = n_sample / (n_classes * n_samples_with_class)__\n"
   ]
  },
  {
   "cell_type": "code",
   "execution_count": 89,
   "metadata": {},
   "outputs": [
    {
     "name": "stdout",
     "output_type": "stream",
     "text": [
      "2 10000\n"
     ]
    }
   ],
   "source": [
    "n_classes = y_original.nunique()\n",
    "n_samples = len(y_original)\n",
    "print(n_classes, n_samples)"
   ]
  },
  {
   "cell_type": "code",
   "execution_count": 90,
   "metadata": {},
   "outputs": [
    {
     "name": "stdout",
     "output_type": "stream",
     "text": [
      "0    7963\n",
      "1    2037\n",
      "Name: Exited, dtype: int64\n"
     ]
    }
   ],
   "source": [
    "print(y_original.value_counts())\n",
    "zeros, ones = y_original.value_counts()"
   ]
  },
  {
   "cell_type": "code",
   "execution_count": 91,
   "metadata": {},
   "outputs": [
    {
     "name": "stdout",
     "output_type": "stream",
     "text": [
      "0.6279040562602034 2.454590083456063\n"
     ]
    }
   ],
   "source": [
    "weight_0 = n_samples / (n_classes * zeros)\n",
    "weight_1 = n_samples / (n_classes * ones)\n",
    "print(weight_0, weight_1)"
   ]
  },
  {
   "cell_type": "code",
   "execution_count": 92,
   "metadata": {},
   "outputs": [
    {
     "data": {
      "text/plain": [
       "{0: 0.6279040562602034, 1: 2.454590083456063}"
      ]
     },
     "execution_count": 92,
     "metadata": {},
     "output_type": "execute_result"
    }
   ],
   "source": [
    "weights = {0: weight_0, 1: weight_1}\n",
    "weights"
   ]
  },
  {
   "cell_type": "code",
   "execution_count": 93,
   "metadata": {},
   "outputs": [],
   "source": [
    "# Build the model on unbalanced dataset and use class_weight = 'balanced' for logistic regression and get the evaluation metrices\n",
    "lr, X_test, y_test, y_predicted, y_predicted_prob = classification_model(X_original, y_original, class_weight = weights)"
   ]
  },
  {
   "cell_type": "markdown",
   "metadata": {},
   "source": [
    "__Evaluate__"
   ]
  },
  {
   "cell_type": "code",
   "execution_count": 94,
   "metadata": {},
   "outputs": [
    {
     "name": "stdout",
     "output_type": "stream",
     "text": [
      "\n",
      " Accuracy Score :  0.7087878787878787\n",
      "\n",
      " AUC Score :  0.7723987376154673\n",
      "\n",
      " Confusion Matrix : \n",
      " [[1849  768]\n",
      " [ 193  490]]\n",
      "\n",
      " Classification Report : \n",
      "               precision    recall  f1-score   support\n",
      "\n",
      "           0       0.91      0.71      0.79      2617\n",
      "           1       0.39      0.72      0.50       683\n",
      "\n",
      "    accuracy                           0.71      3300\n",
      "   macro avg       0.65      0.71      0.65      3300\n",
      "weighted avg       0.80      0.71      0.73      3300\n",
      "\n",
      "TPR, TNR, FPR, FNR: 0.7174 0.7065 0.2935 0.2826\n",
      "\n",
      " ROC curve : \n",
      "\n"
     ]
    },
    {
     "data": {
      "image/png": "[encoded data removed]",
      "text/plain": [
       "<Figure size 432x288 with 1 Axes>"
      ]
     },
     "metadata": {
      "needs_background": "light"
     },
     "output_type": "display_data"
    }
   ],
   "source": [
    "compute_evaluation_metric(lr, X_test, y_test, y_predicted, y_predicted_prob)"
   ]
  },
  {
   "cell_type": "code",
   "execution_count": 95,
   "metadata": {},
   "outputs": [],
   "source": [
    "# name, accuracy, F1, ROC, TPR, TNR, FPR, FNR\n",
    "base                = [\"reference\",  0.81, 0.33, 0.77, 0.2255, 0.9595, 0.0405, 0.7745]\n",
    "\n",
    "# cost sensitive\n",
    "class_weight_logit  = [\"logit_CW\", 0.71, 0.50, .77, 0.7174, 0.7065, 0.2935, 0.2826]"
   ]
  },
  {
   "cell_type": "markdown",
   "metadata": {
    "tags": []
   },
   "source": [
    "<div class=\"alert alert-info\" style=\"padding:0px 10px; border-radius:5px;\"><h4 style='margin:10px 5px'> Inferences:</h4>\n",
    "</div>\n",
    "\n",
    "- The accuracy has reduced as compared to the model buit on original dataset but now the model is in a good state to precict the 1's as well. The TPR has significantly improved and TNR has been compromised a bit."
   ]
  },
  {
   "cell_type": "markdown",
   "metadata": {},
   "source": [
    "<a id=\"9\"></a> <br>\n",
    "\n",
    "<div class=\"alert alert-info\" style=\"background-color:#006a79; color:white; padding:0px 10px; border-radius:5px;\"><h2 style='margin:10px 5px'> 10. Cost Sensitive Learning with XGBoost <br>\n",
    "(Class weighted XGBoost)</h2>\n",
    "</div>"
   ]
  },
  {
   "cell_type": "markdown",
   "metadata": {},
   "source": [
    "XGBoost short for Extreme Gradient Boosting is an efficient implementation of the Gradient boosting algorithm, which by itself is powerful machine learning algorithm.  "
   ]
  },
  {
   "cell_type": "code",
   "execution_count": 165,
   "metadata": {},
   "outputs": [],
   "source": [
    "# !pip install xgboost==1.5.2"
   ]
  },
  {
   "cell_type": "markdown",
   "metadata": {},
   "source": [
    "_Import and check version_"
   ]
  },
  {
   "cell_type": "code",
   "execution_count": 162,
   "metadata": {},
   "outputs": [
    {
     "data": {
      "text/plain": [
       "'1.5.2'"
      ]
     },
     "execution_count": 162,
     "metadata": {},
     "output_type": "execute_result"
    }
   ],
   "source": [
    "import xgboost\n",
    "xgboost.__version__"
   ]
  },
  {
   "cell_type": "code",
   "execution_count": 166,
   "metadata": {},
   "outputs": [],
   "source": [
    "from xgboost import XGBClassifier"
   ]
  },
  {
   "cell_type": "code",
   "execution_count": 176,
   "metadata": {},
   "outputs": [],
   "source": [
    "# Define the function to create classificatio model and get the evaluation metrices\n",
    "def classification_model(X,y,scale_pos_weight = None):\n",
    "    \n",
    "    # Split the dataset into the Training set and Test set\n",
    "    X_train, X_test, y_train, y_test = train_test_split(X, y, test_size = 0.33, random_state = 0)\n",
    "    \n",
    "    # Scale the features as we don't want one independent variable to dominate the others and additionally it makes computations easy\n",
    "    sc = StandardScaler()\n",
    "    X_train = sc.fit_transform(X_train)\n",
    "    X_test = sc.transform(X_test)\n",
    "    \n",
    "    # Define the model\n",
    "    xg = XGBClassifier(scale_pos_weight=scale_pos_weight, random_state=0)\n",
    "\n",
    "    # Train the model\n",
    "    xg.fit(X_train, y_train)\n",
    "\n",
    "    # Predicting target values on x_test dataset\n",
    "    y_predicted = xg.predict(X_test)\n",
    "    y_predicted_prob = xg.predict_proba(X_test)\n",
    "    y_predicted_prob = [x[1] for x in y_predicted_prob]\n",
    "    return(xg, X_test, y_test, y_predicted, y_predicted_prob)"
   ]
  },
  {
   "cell_type": "code",
   "execution_count": 177,
   "metadata": {},
   "outputs": [],
   "source": [
    "# Define the function to get the evaluation metrices\n",
    "def compute_evaluation_metric(model, x_test, y_actual, y_predicted, y_predicted_prob):\n",
    "    cm = confusion_matrix(y_actual, y_predicted)\n",
    "    print(\"\\n Accuracy Score : \",accuracy_score(y_actual,y_predicted))\n",
    "    print(\"\\n AUC Score : \", roc_auc_score(y_actual, y_predicted_prob))\n",
    "    print(\"\\n Confusion Matrix : \\n\", cm)\n",
    "    TP = sum([1 if ((i==1) & (j==1)) else 0 for (i, j) in zip(y_test, y_predicted)])\n",
    "    TN = sum([1 if ((i==0) & (j==0)) else 0 for (i, j) in zip(y_test, y_predicted)])\n",
    "    FP = sum([1 if ((i==0) & (j==1)) else 0 for (i, j) in zip(y_test, y_predicted)])\n",
    "    FN = sum([1 if ((i==1) & (j==0)) else 0 for (i, j) in zip(y_test, y_predicted)])\n",
    "    # Sensitivity, recall\n",
    "    TPR = round(TP/(TP+FN), 4)\n",
    "    # Specificity\n",
    "    TNR = round(TN/(TN+FP), 4)\n",
    "    # False Pos Rate\n",
    "    FPR = round(FP/(FP+TN), 4)\n",
    "    # False Neg rate\n",
    "    FNR = round(FN/(TP+FN), 4)\n",
    "    print(\"\\n Classification Report : \\n\",classification_report(y_actual, y_predicted))\n",
    "    print(\"TPR, TNR, FPR, FNR:\" , TPR, TNR, FPR, FNR)\n",
    "    print(\"\\n ROC curve : \\n\")\n",
    "    plot_roc_curve(model, x_test, y_actual)\n",
    "    plt.show()"
   ]
  },
  {
   "cell_type": "code",
   "execution_count": 178,
   "metadata": {},
   "outputs": [
    {
     "name": "stdout",
     "output_type": "stream",
     "text": [
      "[08:43:18] WARNING: C:/Users/Administrator/workspace/xgboost-win64_release_1.5.1/src/learner.cc:1115: Starting in XGBoost 1.3.0, the default evaluation metric used with the objective 'binary:logistic' was changed from 'error' to 'logloss'. Explicitly set eval_metric if you'd like to restore the old behavior.\n"
     ]
    }
   ],
   "source": [
    "# Train\n",
    "xg, X_test, y_test, y_predicted, y_predicted_prob = classification_model(X_original, y_original)"
   ]
  },
  {
   "cell_type": "code",
   "execution_count": 179,
   "metadata": {},
   "outputs": [
    {
     "name": "stdout",
     "output_type": "stream",
     "text": [
      "\n",
      " Accuracy Score :  0.8590909090909091\n",
      "\n",
      " AUC Score :  0.8543630983584638\n",
      "\n",
      " Confusion Matrix : \n",
      " [[2483  134]\n",
      " [ 331  352]]\n",
      "\n",
      " Classification Report : \n",
      "               precision    recall  f1-score   support\n",
      "\n",
      "           0       0.88      0.95      0.91      2617\n",
      "           1       0.72      0.52      0.60       683\n",
      "\n",
      "    accuracy                           0.86      3300\n",
      "   macro avg       0.80      0.73      0.76      3300\n",
      "weighted avg       0.85      0.86      0.85      3300\n",
      "\n",
      "TPR, TNR, FPR, FNR: 0.5154 0.9488 0.0512 0.4846\n",
      "\n",
      " ROC curve : \n",
      "\n"
     ]
    },
    {
     "data": {
      "image/png": "[encoded data removed]",
      "text/plain": [
       "<Figure size 432x288 with 1 Axes>"
      ]
     },
     "metadata": {
      "needs_background": "light"
     },
     "output_type": "display_data"
    }
   ],
   "source": [
    "compute_evaluation_metric(xg, X_test, y_test, y_predicted, y_predicted_prob)"
   ]
  },
  {
   "cell_type": "markdown",
   "metadata": {},
   "source": [
    "__Class Weighted XGBoost__"
   ]
  },
  {
   "cell_type": "code",
   "execution_count": 180,
   "metadata": {},
   "outputs": [
    {
     "name": "stdout",
     "output_type": "stream",
     "text": [
      "[08:45:42] WARNING: C:/Users/Administrator/workspace/xgboost-win64_release_1.5.1/src/learner.cc:1115: Starting in XGBoost 1.3.0, the default evaluation metric used with the objective 'binary:logistic' was changed from 'error' to 'logloss'. Explicitly set eval_metric if you'd like to restore the old behavior.\n"
     ]
    }
   ],
   "source": [
    "# Train\n",
    "xg, X_test, y_test, y_predicted, y_predicted_prob = classification_model(X_original, y_original, scale_pos_weight=3.90)"
   ]
  },
  {
   "cell_type": "code",
   "execution_count": 181,
   "metadata": {},
   "outputs": [
    {
     "name": "stdout",
     "output_type": "stream",
     "text": [
      "\n",
      " Accuracy Score :  0.8242424242424242\n",
      "\n",
      " AUC Score :  0.8523792233571351\n",
      "\n",
      " Confusion Matrix : \n",
      " [[2266  351]\n",
      " [ 229  454]]\n",
      "\n",
      " Classification Report : \n",
      "               precision    recall  f1-score   support\n",
      "\n",
      "           0       0.91      0.87      0.89      2617\n",
      "           1       0.56      0.66      0.61       683\n",
      "\n",
      "    accuracy                           0.82      3300\n",
      "   macro avg       0.74      0.77      0.75      3300\n",
      "weighted avg       0.84      0.82      0.83      3300\n",
      "\n",
      "TPR, TNR, FPR, FNR: 0.6647 0.8659 0.1341 0.3353\n",
      "\n",
      " ROC curve : \n",
      "\n"
     ]
    },
    {
     "data": {
      "image/png": "[encoded data removed]",
      "text/plain": [
       "<Figure size 432x288 with 1 Axes>"
      ]
     },
     "metadata": {
      "needs_background": "light"
     },
     "output_type": "display_data"
    }
   ],
   "source": [
    "compute_evaluation_metric(xg, X_test, y_test, y_predicted, y_predicted_prob)"
   ]
  },
  {
   "cell_type": "code",
   "execution_count": null,
   "metadata": {},
   "outputs": [],
   "source": [
    "# name, accuracy, F1, ROC, TPR, TNR, FPR, FNR\n",
    "base                = [\"reference\",  0.81, 0.33, 0.77, 0.2255, 0.9595, 0.0405, 0.7745]\n",
    "\n",
    "xgboost             = [\"xgboost\",  0.85, 0.60, 0.8543, 0.5154, 0.9488, 0.0512, 0.4846]\n",
    "\n",
    "# cost sensitive\n",
    "class_weight_xg     = [\"xgboost_CW\", 0.82, 0.61, .8523, 0.6647, 0.8659, 0.1341, 0.3353]"
   ]
  },
  {
   "cell_type": "code",
   "execution_count": null,
   "metadata": {},
   "outputs": [],
   "source": []
  },
  {
   "cell_type": "code",
   "execution_count": null,
   "metadata": {},
   "outputs": [],
   "source": []
  },
  {
   "cell_type": "code",
   "execution_count": null,
   "metadata": {},
   "outputs": [],
   "source": []
  },
  {
   "cell_type": "code",
   "execution_count": null,
   "metadata": {},
   "outputs": [],
   "source": []
  },
  {
   "cell_type": "code",
   "execution_count": null,
   "metadata": {},
   "outputs": [],
   "source": []
  },
  {
   "cell_type": "markdown",
   "metadata": {},
   "source": [
    "<a id=\"9\"></a> <br>\n",
    "\n",
    "<div class=\"alert alert-info\" style=\"background-color:#006a79; color:white; padding:0px 10px; border-radius:5px;\"><h2 style='margin:10px 5px'> 9. The One-Class SVM </h2>\n",
    "</div>\n",
    " \n",
    "A One-Class Support Vector Machine is an unsupervised learning algorithm that is trained only on the ‘normal’ data, in our case it's the class 0 i.e majority class. It learns the boundaries of these points and is therefore able to classify any points that lie outside the boundary as outliers. These points are nothing but class 1 or minority class\n",
    "\n",
    " \n",
    "How imbalanced learning algorithms generally work is to connect points of a certain class, and create new observations along the lines that connect those points. This works great when there is a clear planar separation between the classes, but when there is not, you observe no improvement in the performance of the model. Hence let's go for one-class SVM\n",
    "\n",
    " "
   ]
  },
  {
   "cell_type": "code",
   "execution_count": 96,
   "metadata": {},
   "outputs": [
    {
     "data": {
      "text/plain": [
       "0.25673249551166966"
      ]
     },
     "execution_count": 96,
     "metadata": {},
     "output_type": "execute_result"
    }
   ],
   "source": [
    "# import OneClassSVM function from sklearn.svm\n",
    "from sklearn.svm import OneClassSVM \n",
    "\n",
    "# Compute Outlier Proportion - A param\n",
    "train, test = train_test_split(churn_data, test_size=.3) \n",
    "train_normal = train[train['Exited']==0] \n",
    "train_outliers = train[train['Exited']==1] \n",
    "outlier_prop = len(train_outliers) / len(train_normal) \n",
    "outlier_prop"
   ]
  },
  {
   "cell_type": "markdown",
   "metadata": {},
   "source": [
    "__Redefine classification model for One Class SVM__"
   ]
  },
  {
   "cell_type": "code",
   "execution_count": 97,
   "metadata": {},
   "outputs": [],
   "source": [
    "# Define the function to create classificatio model and get the evaluation metrices\n",
    "def classification_model(X,y,class_weight = None):\n",
    "    # Split the dataset into the Training set and Test set\n",
    "    X_train, X_test, y_train, y_test = train_test_split(X, y, \n",
    "                                                        test_size = 0.33, \n",
    "                                                        random_state = 0)\n",
    "    \n",
    "    train_normal = X_train[y_train==0] \n",
    "    test_normal = X_test[y_test==0] \n",
    "    test_outliers = X_test[y_test==1] \n",
    "\n",
    "    # Scale the features as we don't want one independent variable to dominate the others and additionally it makes computations easy\n",
    "    sc = StandardScaler()\n",
    "    train_normal = sc.fit_transform(train_normal)\n",
    "    X_test = sc.transform(X_test)\n",
    "    \n",
    "    # Define the model\n",
    "    # gamma controls how smooth the contour lines around the population are.\n",
    "    svm = OneClassSVM(kernel='rbf', nu=outlier_prop, gamma=0.000001) \n",
    "\n",
    "    # Train the model\n",
    "    svm.fit(train_normal)\n",
    "\n",
    "    # Predicting target values on x_test dataset\n",
    "    y_predicted = svm.predict(X_test)\n",
    "    y_predicted = np.where(y_predicted==-1, 1, 0)  # preds are -1 and +1\n",
    "    y_predicted_prob = svm.score_samples(X_test)  # pred proba does not exist for svm one class.\n",
    "    return(svm, X_test, y_test, y_predicted, y_predicted_prob)"
   ]
  },
  {
   "cell_type": "code",
   "execution_count": 98,
   "metadata": {},
   "outputs": [],
   "source": [
    "# Define the function to get the evaluation metrices\n",
    "def compute_evaluation_metric(model, x_test, y_actual, y_predicted, y_predicted_prob):\n",
    "    cm = confusion_matrix(y_actual, y_predicted)\n",
    "    print(\"\\n Accuracy Score : \",accuracy_score(y_actual,y_predicted))\n",
    "    print(\"\\n AUC Score : \", roc_auc_score(y_actual, y_predicted_prob))\n",
    "    print(\"\\n Confusion Matrix : \\n\", cm)\n",
    "    TP = sum([1 if ((i==1) & (j==1)) else 0 for (i, j) in zip(y_test, y_predicted)])\n",
    "    TN = sum([1 if ((i==0) & (j==0)) else 0 for (i, j) in zip(y_test, y_predicted)])\n",
    "    FP = sum([1 if ((i==0) & (j==1)) else 0 for (i, j) in zip(y_test, y_predicted)])\n",
    "    FN = sum([1 if ((i==1) & (j==0)) else 0 for (i, j) in zip(y_test, y_predicted)])\n",
    "    # Sensitivity, recall\n",
    "    TPR = round(TP/(TP+FN), 4)\n",
    "    # Specificity\n",
    "    TNR = round(TN/(TN+FP), 4)\n",
    "    # False Pos Rate\n",
    "    FPR = round(FP/(FP+TN), 4)\n",
    "    # False Neg rate\n",
    "    FNR = round(FN/(TP+FN), 4)\n",
    "    print(\"\\n Classification Report : \\n\",classification_report(y_actual, y_predicted))\n",
    "    print(\"TPR, TNR, FPR, FNR:\" , TPR, TNR, FPR, FNR)"
   ]
  },
  {
   "cell_type": "markdown",
   "metadata": {},
   "source": [
    "__Build Model__"
   ]
  },
  {
   "cell_type": "code",
   "execution_count": 99,
   "metadata": {},
   "outputs": [],
   "source": [
    "# Build the model on unbalanced dataset and use class_weight = 'balanced' for logistic regression and get the evaluation metrices\n",
    "sv_model, X_test, y_test, y_predicted, y_predicted_prob = classification_model(X_original, y_original, class_weight = weights)"
   ]
  },
  {
   "cell_type": "markdown",
   "metadata": {},
   "source": [
    "__Evaluate__"
   ]
  },
  {
   "cell_type": "code",
   "execution_count": 100,
   "metadata": {},
   "outputs": [
    {
     "name": "stdout",
     "output_type": "stream",
     "text": [
      "\n",
      " Accuracy Score :  0.6851515151515152\n",
      "\n",
      " AUC Score :  0.34836419827336856\n",
      "\n",
      " Confusion Matrix : \n",
      " [[1938  679]\n",
      " [ 360  323]]\n",
      "\n",
      " Classification Report : \n",
      "               precision    recall  f1-score   support\n",
      "\n",
      "           0       0.84      0.74      0.79      2617\n",
      "           1       0.32      0.47      0.38       683\n",
      "\n",
      "    accuracy                           0.69      3300\n",
      "   macro avg       0.58      0.61      0.59      3300\n",
      "weighted avg       0.74      0.69      0.70      3300\n",
      "\n",
      "TPR, TNR, FPR, FNR: 0.4729 0.7405 0.2595 0.5271\n"
     ]
    }
   ],
   "source": [
    "compute_evaluation_metric(sv_model, X_test, y_test, y_predicted, y_predicted_prob)"
   ]
  },
  {
   "cell_type": "code",
   "execution_count": 101,
   "metadata": {},
   "outputs": [],
   "source": [
    "# name, accuracy, F1, ROC, TPR, TNR, FPR, FNR\n",
    "base                = [\"reference\",  0.81, 0.33, 0.77, 0.2255, 0.9595, 0.0405, 0.7745]\n",
    "\n",
    "# cost sensitive\n",
    "oneclass_SVM  = [\"oneclass_SVM\", 0.66, 0.39, None, 0.5081, 0.705, 0.295, 0.4919]"
   ]
  },
  {
   "cell_type": "markdown",
   "metadata": {},
   "source": [
    "<div class=\"alert alert-info\" style=\"padding:0px 10px; border-radius:5px;\"><h4 style='margin:10px 5px'> Inferences:</h4>\n",
    "</div>\n",
    "\n",
    "- Relatively, this technique didn't perform well on this dataset compared to the other methods. However, this cannot be generalized for all datasets. This can turn out to be a useful tool when the data points are [well separated](https://towardsdatascience.com/outlier-detection-with-one-class-svms-5403a1a1878c). \n"
   ]
  },
  {
   "cell_type": "code",
   "execution_count": null,
   "metadata": {},
   "outputs": [],
   "source": []
  },
  {
   "cell_type": "code",
   "execution_count": null,
   "metadata": {},
   "outputs": [],
   "source": []
  },
  {
   "cell_type": "code",
   "execution_count": null,
   "metadata": {},
   "outputs": [],
   "source": []
  },
  {
   "cell_type": "code",
   "execution_count": null,
   "metadata": {},
   "outputs": [],
   "source": []
  },
  {
   "cell_type": "code",
   "execution_count": null,
   "metadata": {},
   "outputs": [],
   "source": []
  },
  {
   "cell_type": "code",
   "execution_count": null,
   "metadata": {},
   "outputs": [],
   "source": []
  },
  {
   "cell_type": "markdown",
   "metadata": {},
   "source": [
    "<a id=\"10\"></a> <br>\n",
    "\n",
    "<div class=\"alert alert-info\" style=\"background-color:#006a79; color:white; padding:0px 10px; border-radius:5px;\"><h2 style='margin:10px 5px'> 10. Using Mahalonobis Distance </h2>\n",
    "</div>\n",
    "\n",
    "Ref: https://www.machinelearningplus.com/statistics/mahalanobis-distance/\n",
    "\n",
    "Mahalanobis distance is an effective multivariate distance metric that measures the distance between a point and a distribution. It is an extremely useful metric having, excellent applications in multivariate anomaly detection, classification on highly imbalanced datasets and one-class classification.\n",
    "\n",
    "Let's see, how is Mahalanobis distance different from Euclidean distance?\n",
    "\n",
    "- It transforms the columns into uncorrelated variables\n",
    "- Scale the columns to make their variance equal to 1\n",
    "- Finally, it calculates the Euclidean distance."
   ]
  },
  {
   "cell_type": "code",
   "execution_count": null,
   "metadata": {},
   "outputs": [],
   "source": [
    "# Split the dataset into the Training set and Test set\n",
    "X_train, X_test, y_train, y_test = train_test_split(X_original, y_original, test_size = 0.33, random_state = 0)"
   ]
  },
  {
   "attachments": {
    "1ca69bc4-f94c-4bff-8183-f8cdd905792b.png": {
     "image/png": "[encoded data removed]"
    }
   },
   "cell_type": "markdown",
   "metadata": {},
   "source": [
    "__Mahalanobis Distance Formula__\n",
    "![image.png](attachment:1ca69bc4-f94c-4bff-8183-f8cdd905792b.png)"
   ]
  },
  {
   "cell_type": "code",
   "execution_count": null,
   "metadata": {},
   "outputs": [],
   "source": [
    "import scipy as sp\n",
    "\n",
    "def mahalanobis(x=None, data=None, cov=None):\n",
    "    \"\"\"Compute the Mahalanobis Distance between each row of x and the data  \n",
    "    x    : vector or matrix of data with, say, p columns.\n",
    "    data : ndarray of the distribution from which Mahalanobis distance of each observation of x is to be computed.\n",
    "    cov  : covariance matrix (p x p) of the distribution. If None, will be computed from data.\n",
    "    \"\"\"\n",
    "    x_minus_mu = x - np.mean(data)\n",
    "    if not cov:\n",
    "        cov = np.cov(data.values.T)\n",
    "    inv_covmat = sp.linalg.inv(cov)\n",
    "    left_term = np.dot(x_minus_mu, inv_covmat)\n",
    "    mahal = np.dot(left_term, x_minus_mu.T)\n",
    "    return mahal.diagonal()\n",
    "\n",
    "\n",
    "class MahalanobisBinaryClassifier():\n",
    "    def __init__(self, X_train, y_train):\n",
    "        self.xtrain_pos = X_train.loc[y_train == 1, :]\n",
    "        self.xtrain_neg = X_train.loc[y_train == 0, :]\n",
    "\n",
    "    def predict_proba(self, X_test):\n",
    "        pos_neg_dists = [(p,n) for p, n in zip(mahalanobis(X_test, self.xtrain_pos), mahalanobis(X_test, self.xtrain_neg))]\n",
    "        return np.array([(1-n/(p+n), 1-p/(p+n)) for p,n in pos_neg_dists])\n",
    "\n",
    "    def predict(self, X_test):\n",
    "        return np.array([np.argmax(row) for row in self.predict_proba(X_test)])\n",
    "\n",
    "\n",
    "clf = MahalanobisBinaryClassifier(X_train, y_train)        \n",
    "pred_probs = clf.predict_proba(X_test)\n",
    "pred_class = clf.predict(X_test)\n",
    "\n",
    "# Pred and Truth\n",
    "pred_actuals = pd.DataFrame([(pred, act) for pred, act in zip(pred_class, y_test)], columns=['pred', 'true'])       "
   ]
  },
  {
   "cell_type": "markdown",
   "metadata": {},
   "source": [
    "__Probability Scores__"
   ]
  },
  {
   "cell_type": "code",
   "execution_count": null,
   "metadata": {},
   "outputs": [],
   "source": [
    "# P(Pos), P(Neg)\n",
    "pred_probs[:6]"
   ]
  },
  {
   "cell_type": "markdown",
   "metadata": {},
   "source": [
    "__Predictions vs Actuals__"
   ]
  },
  {
   "cell_type": "code",
   "execution_count": null,
   "metadata": {},
   "outputs": [],
   "source": [
    "pred_actuals.head()"
   ]
  },
  {
   "cell_type": "code",
   "execution_count": null,
   "metadata": {},
   "outputs": [],
   "source": [
    "print(classification_report(pred_actuals['true'],pred_actuals['pred']))"
   ]
  },
  {
   "cell_type": "code",
   "execution_count": null,
   "metadata": {},
   "outputs": [],
   "source": [
    "# name, accuracy, F1, ROC, TPR, TNR, FPR, FNR\n",
    "base                = [\"reference\",  0.81, 0.33, 0.77, 0.2255, 0.9595, 0.0405, 0.7745]\n",
    "\n",
    "# cost sensitive\n",
    "mahalanobis  = [\"Mahalanobis\", 0.63, 0.48, None, 0.82, 0.59, 0.41, 0.18]"
   ]
  },
  {
   "cell_type": "markdown",
   "metadata": {},
   "source": [
    "<div class=\"alert alert-info\" style=\"padding:0px 10px; border-radius:5px;\"><h4 style='margin:10px 5px'> Inferences:</h4>\n",
    "</div>\n",
    "\n",
    "- The accuracy has reduced as compared to the model buit on original dataset but now the model is in a good state to precict the 1's as well, the precision recall and f-1 score has improved for class 1 as well."
   ]
  },
  {
   "cell_type": "markdown",
   "metadata": {},
   "source": [
    "<a id=\"11\"></a> <br>\n",
    "\n",
    "<div class=\"alert alert-info\" style=\"background-color:#006a79; color:white; padding:0px 10px; border-radius:5px;\"><h2 style='margin:10px 5px'> 11. Isolation Forest for One Class Classification </h2>\n",
    "</div>"
   ]
  },
  {
   "cell_type": "code",
   "execution_count": null,
   "metadata": {},
   "outputs": [],
   "source": [
    "from sklearn.ensemble import IsolationForest\n",
    "\n",
    "# define outlier detection model\n",
    "model = IsolationForest(contamination=0.01, n_estimators=100)"
   ]
  },
  {
   "cell_type": "code",
   "execution_count": null,
   "metadata": {},
   "outputs": [],
   "source": [
    "y_train.value_counts(normalize=True)"
   ]
  },
  {
   "cell_type": "markdown",
   "metadata": {},
   "source": [
    "__Train Model__"
   ]
  },
  {
   "cell_type": "code",
   "execution_count": null,
   "metadata": {},
   "outputs": [],
   "source": [
    "# fit on majority class\n",
    "train_data = X_train[y_train==0]\n",
    "model.fit(train_data)"
   ]
  },
  {
   "cell_type": "markdown",
   "metadata": {},
   "source": [
    "__Predict__"
   ]
  },
  {
   "cell_type": "code",
   "execution_count": null,
   "metadata": {},
   "outputs": [],
   "source": [
    "pred = model.predict(X_test)\n",
    "pred = np.where(pred==-1, 0, 1)\n",
    "np.unique(pred, return_counts=True)"
   ]
  },
  {
   "cell_type": "markdown",
   "metadata": {},
   "source": [
    "__Report__"
   ]
  },
  {
   "cell_type": "code",
   "execution_count": null,
   "metadata": {},
   "outputs": [],
   "source": [
    "# classification Report\n",
    "print(classification_report(y_test, pred))"
   ]
  },
  {
   "cell_type": "code",
   "execution_count": null,
   "metadata": {},
   "outputs": [],
   "source": []
  },
  {
   "cell_type": "markdown",
   "metadata": {},
   "source": [
    "<a id=\"11\"></a> <br>\n",
    "\n",
    "<div class=\"alert alert-info\" style=\"background-color:#006a79; color:white; padding:0px 10px; border-radius:5px;\"><h2 style='margin:10px 5px'> 11. Probability Threshold Tuning</h2>\n",
    "</div>"
   ]
  },
  {
   "cell_type": "markdown",
   "metadata": {},
   "source": [
    "Depending on the problem objectives you might want to check if the model achieves a better performance at a different probability threshold. \n",
    "\n",
    "Let's tune the threshold."
   ]
  },
  {
   "cell_type": "code",
   "execution_count": 108,
   "metadata": {},
   "outputs": [],
   "source": [
    "# Define the function to create classificatio model and get the evaluation metrices\n",
    "def classification_model(X,y,class_weight = None):\n",
    "    # Split the dataset into the Training set and Test set\n",
    "    X_train, X_test, y_train, y_test = train_test_split(X, y, test_size = 0.33, random_state = 0)\n",
    "    \n",
    "    # Scale the features as we don't want one independent variable to dominate the others and additionally it makes computations easy\n",
    "    sc = StandardScaler()\n",
    "    X_train = sc.fit_transform(X_train)\n",
    "    X_test = sc.transform(X_test)\n",
    "    \n",
    "    # Define the model\n",
    "    lr = LogisticRegression(class_weight = class_weight, random_state=0)\n",
    "\n",
    "    # Train the model\n",
    "    lr.fit(X_train, y_train)\n",
    "    return (lr, X_test)\n",
    "\n",
    "    \n",
    "def results(lr, X_test, threshold=0.5):\n",
    "    # Predicting target values on x_test dataset\n",
    "    # y_predicted = lr.predict(X_test)\n",
    "    y_predicted_prob = lr.predict_proba(X_test)\n",
    "    y_predicted_prob = [x[1] for x in y_predicted_prob]\n",
    "    y_predicted = [1 if p > threshold else 0 for p in  y_predicted_prob]\n",
    "    return(y_test, y_predicted, y_predicted_prob, threshold)"
   ]
  },
  {
   "cell_type": "code",
   "execution_count": 146,
   "metadata": {},
   "outputs": [],
   "source": [
    "from sklearn.metrics import precision_score, f1_score"
   ]
  },
  {
   "cell_type": "code",
   "execution_count": 156,
   "metadata": {},
   "outputs": [],
   "source": [
    "# Define the function to get the evaluation metrices\n",
    "def compute_evaluation_metric(y_actual, y_predicted, y_predicted_prob, threshold):\n",
    "    accuracy = round(accuracy_score(y_actual,y_predicted), 3)\n",
    "    TP = sum([1 if ((i==1) & (j==1)) else 0 for (i, j) in zip(y_test, y_predicted)])\n",
    "    TN = sum([1 if ((i==0) & (j==0)) else 0 for (i, j) in zip(y_test, y_predicted)])\n",
    "    FP = sum([1 if ((i==0) & (j==1)) else 0 for (i, j) in zip(y_test, y_predicted)])\n",
    "    FN = sum([1 if ((i==1) & (j==0)) else 0 for (i, j) in zip(y_test, y_predicted)])\n",
    "    # Sensitivity, recall\n",
    "    TPR = round(TP/(TP+FN), 4)\n",
    "    # Specificity\n",
    "    TNR = round(TN/(TN+FP), 4)\n",
    "    # False Pos Rate\n",
    "    FPR = round(FP/(FP+TN), 4)\n",
    "    # False Neg rate\n",
    "    FNR = round(FN/(TP+FN), 4)\n",
    "    youdens = round(TPR + TNR - 1, 3)\n",
    "    precision = round(precision_score(y_actual, y_predicted), 3)\n",
    "    f1 = round(f1_score(y_actual, y_predicted), 3)\n",
    "    # print(\"TPR, TNR, FPR, FNR, accuracy, auc, Youdens:\" , TPR, TNR, FPR, FNR, accuracy, youdens, round(youdens, 3))\n",
    "    return(round(threshold, 3), TPR, TNR, precision, youdens, f1)"
   ]
  },
  {
   "cell_type": "code",
   "execution_count": null,
   "metadata": {},
   "outputs": [],
   "source": []
  },
  {
   "cell_type": "markdown",
   "metadata": {},
   "source": [
    "__Build Model__"
   ]
  },
  {
   "cell_type": "code",
   "execution_count": 157,
   "metadata": {},
   "outputs": [],
   "source": [
    "# Build the model on original dataset and get the evaluation metrices\n",
    "lr, X_test,  = classification_model(X_original,y_original)"
   ]
  },
  {
   "cell_type": "markdown",
   "metadata": {},
   "source": [
    "__Iterate and evaluate for all thresholds__"
   ]
  },
  {
   "cell_type": "code",
   "execution_count": 158,
   "metadata": {},
   "outputs": [],
   "source": [
    "output = []\n",
    "for i in np.linspace(0, 1, 50):\n",
    "    y_test, y_predicted, y_predicted_prob, threshold = results(lr, X_test, threshold=i)\n",
    "    output.append(compute_evaluation_metric(y_test, y_predicted, y_predicted_prob, i))"
   ]
  },
  {
   "cell_type": "code",
   "execution_count": 159,
   "metadata": {},
   "outputs": [
    {
     "data": {
      "text/html": [
       "<div>\n",
       "<style scoped>\n",
       "    .dataframe tbody tr th:only-of-type {\n",
       "        vertical-align: middle;\n",
       "    }\n",
       "\n",
       "    .dataframe tbody tr th {\n",
       "        vertical-align: top;\n",
       "    }\n",
       "\n",
       "    .dataframe thead th {\n",
       "        text-align: right;\n",
       "    }\n",
       "</style>\n",
       "<table border=\"1\" class=\"dataframe\">\n",
       "  <thead>\n",
       "    <tr style=\"text-align: right;\">\n",
       "      <th></th>\n",
       "      <th>Threshold</th>\n",
       "      <th>TPR</th>\n",
       "      <th>TNR</th>\n",
       "      <th>Precision</th>\n",
       "      <th>Youdens</th>\n",
       "      <th>F1</th>\n",
       "    </tr>\n",
       "  </thead>\n",
       "  <tbody>\n",
       "    <tr>\n",
       "      <th>0</th>\n",
       "      <td>0.000</td>\n",
       "      <td>1.0000</td>\n",
       "      <td>0.0000</td>\n",
       "      <td>0.207</td>\n",
       "      <td>0.000</td>\n",
       "      <td>0.343</td>\n",
       "    </tr>\n",
       "    <tr>\n",
       "      <th>1</th>\n",
       "      <td>0.020</td>\n",
       "      <td>0.9956</td>\n",
       "      <td>0.0069</td>\n",
       "      <td>0.207</td>\n",
       "      <td>0.002</td>\n",
       "      <td>0.343</td>\n",
       "    </tr>\n",
       "    <tr>\n",
       "      <th>2</th>\n",
       "      <td>0.041</td>\n",
       "      <td>0.9883</td>\n",
       "      <td>0.0757</td>\n",
       "      <td>0.218</td>\n",
       "      <td>0.064</td>\n",
       "      <td>0.357</td>\n",
       "    </tr>\n",
       "    <tr>\n",
       "      <th>3</th>\n",
       "      <td>0.061</td>\n",
       "      <td>0.9707</td>\n",
       "      <td>0.1731</td>\n",
       "      <td>0.235</td>\n",
       "      <td>0.144</td>\n",
       "      <td>0.378</td>\n",
       "    </tr>\n",
       "    <tr>\n",
       "      <th>4</th>\n",
       "      <td>0.082</td>\n",
       "      <td>0.9400</td>\n",
       "      <td>0.2828</td>\n",
       "      <td>0.255</td>\n",
       "      <td>0.223</td>\n",
       "      <td>0.401</td>\n",
       "    </tr>\n",
       "    <tr>\n",
       "      <th>5</th>\n",
       "      <td>0.102</td>\n",
       "      <td>0.9092</td>\n",
       "      <td>0.3756</td>\n",
       "      <td>0.275</td>\n",
       "      <td>0.285</td>\n",
       "      <td>0.423</td>\n",
       "    </tr>\n",
       "    <tr>\n",
       "      <th>6</th>\n",
       "      <td>0.122</td>\n",
       "      <td>0.8712</td>\n",
       "      <td>0.4547</td>\n",
       "      <td>0.294</td>\n",
       "      <td>0.326</td>\n",
       "      <td>0.440</td>\n",
       "    </tr>\n",
       "    <tr>\n",
       "      <th>7</th>\n",
       "      <td>0.143</td>\n",
       "      <td>0.8360</td>\n",
       "      <td>0.5311</td>\n",
       "      <td>0.318</td>\n",
       "      <td>0.367</td>\n",
       "      <td>0.460</td>\n",
       "    </tr>\n",
       "    <tr>\n",
       "      <th>8</th>\n",
       "      <td>0.163</td>\n",
       "      <td>0.7965</td>\n",
       "      <td>0.5972</td>\n",
       "      <td>0.340</td>\n",
       "      <td>0.394</td>\n",
       "      <td>0.477</td>\n",
       "    </tr>\n",
       "    <tr>\n",
       "      <th>9</th>\n",
       "      <td>0.184</td>\n",
       "      <td>0.7570</td>\n",
       "      <td>0.6454</td>\n",
       "      <td>0.358</td>\n",
       "      <td>0.402</td>\n",
       "      <td>0.486</td>\n",
       "    </tr>\n",
       "    <tr>\n",
       "      <th>10</th>\n",
       "      <td>0.204</td>\n",
       "      <td>0.7130</td>\n",
       "      <td>0.6993</td>\n",
       "      <td>0.382</td>\n",
       "      <td>0.412</td>\n",
       "      <td>0.498</td>\n",
       "    </tr>\n",
       "    <tr>\n",
       "      <th>11</th>\n",
       "      <td>0.224</td>\n",
       "      <td>0.6676</td>\n",
       "      <td>0.7398</td>\n",
       "      <td>0.401</td>\n",
       "      <td>0.407</td>\n",
       "      <td>0.501</td>\n",
       "    </tr>\n",
       "    <tr>\n",
       "      <th>12</th>\n",
       "      <td>0.245</td>\n",
       "      <td>0.6310</td>\n",
       "      <td>0.7757</td>\n",
       "      <td>0.423</td>\n",
       "      <td>0.407</td>\n",
       "      <td>0.507</td>\n",
       "    </tr>\n",
       "    <tr>\n",
       "      <th>13</th>\n",
       "      <td>0.265</td>\n",
       "      <td>0.5842</td>\n",
       "      <td>0.8066</td>\n",
       "      <td>0.441</td>\n",
       "      <td>0.391</td>\n",
       "      <td>0.503</td>\n",
       "    </tr>\n",
       "    <tr>\n",
       "      <th>14</th>\n",
       "      <td>0.286</td>\n",
       "      <td>0.5490</td>\n",
       "      <td>0.8319</td>\n",
       "      <td>0.460</td>\n",
       "      <td>0.381</td>\n",
       "      <td>0.501</td>\n",
       "    </tr>\n",
       "    <tr>\n",
       "      <th>15</th>\n",
       "      <td>0.306</td>\n",
       "      <td>0.5081</td>\n",
       "      <td>0.8529</td>\n",
       "      <td>0.474</td>\n",
       "      <td>0.361</td>\n",
       "      <td>0.490</td>\n",
       "    </tr>\n",
       "    <tr>\n",
       "      <th>16</th>\n",
       "      <td>0.327</td>\n",
       "      <td>0.4744</td>\n",
       "      <td>0.8697</td>\n",
       "      <td>0.487</td>\n",
       "      <td>0.344</td>\n",
       "      <td>0.481</td>\n",
       "    </tr>\n",
       "    <tr>\n",
       "      <th>17</th>\n",
       "      <td>0.347</td>\n",
       "      <td>0.4436</td>\n",
       "      <td>0.8884</td>\n",
       "      <td>0.509</td>\n",
       "      <td>0.332</td>\n",
       "      <td>0.474</td>\n",
       "    </tr>\n",
       "    <tr>\n",
       "      <th>18</th>\n",
       "      <td>0.367</td>\n",
       "      <td>0.4056</td>\n",
       "      <td>0.9010</td>\n",
       "      <td>0.517</td>\n",
       "      <td>0.307</td>\n",
       "      <td>0.454</td>\n",
       "    </tr>\n",
       "    <tr>\n",
       "      <th>19</th>\n",
       "      <td>0.388</td>\n",
       "      <td>0.3719</td>\n",
       "      <td>0.9152</td>\n",
       "      <td>0.534</td>\n",
       "      <td>0.287</td>\n",
       "      <td>0.438</td>\n",
       "    </tr>\n",
       "    <tr>\n",
       "      <th>20</th>\n",
       "      <td>0.408</td>\n",
       "      <td>0.3294</td>\n",
       "      <td>0.9263</td>\n",
       "      <td>0.538</td>\n",
       "      <td>0.256</td>\n",
       "      <td>0.409</td>\n",
       "    </tr>\n",
       "    <tr>\n",
       "      <th>21</th>\n",
       "      <td>0.429</td>\n",
       "      <td>0.3001</td>\n",
       "      <td>0.9343</td>\n",
       "      <td>0.544</td>\n",
       "      <td>0.234</td>\n",
       "      <td>0.387</td>\n",
       "    </tr>\n",
       "    <tr>\n",
       "      <th>22</th>\n",
       "      <td>0.449</td>\n",
       "      <td>0.2767</td>\n",
       "      <td>0.9454</td>\n",
       "      <td>0.569</td>\n",
       "      <td>0.222</td>\n",
       "      <td>0.372</td>\n",
       "    </tr>\n",
       "    <tr>\n",
       "      <th>23</th>\n",
       "      <td>0.469</td>\n",
       "      <td>0.2533</td>\n",
       "      <td>0.9515</td>\n",
       "      <td>0.577</td>\n",
       "      <td>0.205</td>\n",
       "      <td>0.352</td>\n",
       "    </tr>\n",
       "    <tr>\n",
       "      <th>24</th>\n",
       "      <td>0.490</td>\n",
       "      <td>0.2357</td>\n",
       "      <td>0.9553</td>\n",
       "      <td>0.579</td>\n",
       "      <td>0.191</td>\n",
       "      <td>0.335</td>\n",
       "    </tr>\n",
       "    <tr>\n",
       "      <th>25</th>\n",
       "      <td>0.510</td>\n",
       "      <td>0.2152</td>\n",
       "      <td>0.9641</td>\n",
       "      <td>0.610</td>\n",
       "      <td>0.179</td>\n",
       "      <td>0.318</td>\n",
       "    </tr>\n",
       "    <tr>\n",
       "      <th>26</th>\n",
       "      <td>0.531</td>\n",
       "      <td>0.1874</td>\n",
       "      <td>0.9721</td>\n",
       "      <td>0.637</td>\n",
       "      <td>0.159</td>\n",
       "      <td>0.290</td>\n",
       "    </tr>\n",
       "    <tr>\n",
       "      <th>27</th>\n",
       "      <td>0.551</td>\n",
       "      <td>0.1698</td>\n",
       "      <td>0.9775</td>\n",
       "      <td>0.663</td>\n",
       "      <td>0.147</td>\n",
       "      <td>0.270</td>\n",
       "    </tr>\n",
       "    <tr>\n",
       "      <th>28</th>\n",
       "      <td>0.571</td>\n",
       "      <td>0.1435</td>\n",
       "      <td>0.9805</td>\n",
       "      <td>0.658</td>\n",
       "      <td>0.124</td>\n",
       "      <td>0.236</td>\n",
       "    </tr>\n",
       "    <tr>\n",
       "      <th>29</th>\n",
       "      <td>0.592</td>\n",
       "      <td>0.1201</td>\n",
       "      <td>0.9832</td>\n",
       "      <td>0.651</td>\n",
       "      <td>0.103</td>\n",
       "      <td>0.203</td>\n",
       "    </tr>\n",
       "    <tr>\n",
       "      <th>30</th>\n",
       "      <td>0.612</td>\n",
       "      <td>0.1010</td>\n",
       "      <td>0.9859</td>\n",
       "      <td>0.651</td>\n",
       "      <td>0.087</td>\n",
       "      <td>0.175</td>\n",
       "    </tr>\n",
       "    <tr>\n",
       "      <th>31</th>\n",
       "      <td>0.633</td>\n",
       "      <td>0.0820</td>\n",
       "      <td>0.9882</td>\n",
       "      <td>0.644</td>\n",
       "      <td>0.070</td>\n",
       "      <td>0.145</td>\n",
       "    </tr>\n",
       "    <tr>\n",
       "      <th>32</th>\n",
       "      <td>0.653</td>\n",
       "      <td>0.0717</td>\n",
       "      <td>0.9893</td>\n",
       "      <td>0.636</td>\n",
       "      <td>0.061</td>\n",
       "      <td>0.129</td>\n",
       "    </tr>\n",
       "    <tr>\n",
       "      <th>33</th>\n",
       "      <td>0.673</td>\n",
       "      <td>0.0615</td>\n",
       "      <td>0.9916</td>\n",
       "      <td>0.656</td>\n",
       "      <td>0.053</td>\n",
       "      <td>0.112</td>\n",
       "    </tr>\n",
       "    <tr>\n",
       "      <th>34</th>\n",
       "      <td>0.694</td>\n",
       "      <td>0.0498</td>\n",
       "      <td>0.9939</td>\n",
       "      <td>0.680</td>\n",
       "      <td>0.044</td>\n",
       "      <td>0.093</td>\n",
       "    </tr>\n",
       "    <tr>\n",
       "      <th>35</th>\n",
       "      <td>0.714</td>\n",
       "      <td>0.0425</td>\n",
       "      <td>0.9950</td>\n",
       "      <td>0.690</td>\n",
       "      <td>0.038</td>\n",
       "      <td>0.080</td>\n",
       "    </tr>\n",
       "    <tr>\n",
       "      <th>36</th>\n",
       "      <td>0.735</td>\n",
       "      <td>0.0366</td>\n",
       "      <td>0.9962</td>\n",
       "      <td>0.714</td>\n",
       "      <td>0.033</td>\n",
       "      <td>0.070</td>\n",
       "    </tr>\n",
       "    <tr>\n",
       "      <th>37</th>\n",
       "      <td>0.755</td>\n",
       "      <td>0.0264</td>\n",
       "      <td>0.9973</td>\n",
       "      <td>0.720</td>\n",
       "      <td>0.024</td>\n",
       "      <td>0.051</td>\n",
       "    </tr>\n",
       "    <tr>\n",
       "      <th>38</th>\n",
       "      <td>0.776</td>\n",
       "      <td>0.0205</td>\n",
       "      <td>0.9981</td>\n",
       "      <td>0.737</td>\n",
       "      <td>0.019</td>\n",
       "      <td>0.040</td>\n",
       "    </tr>\n",
       "    <tr>\n",
       "      <th>39</th>\n",
       "      <td>0.796</td>\n",
       "      <td>0.0117</td>\n",
       "      <td>0.9985</td>\n",
       "      <td>0.667</td>\n",
       "      <td>0.010</td>\n",
       "      <td>0.023</td>\n",
       "    </tr>\n",
       "    <tr>\n",
       "      <th>40</th>\n",
       "      <td>0.816</td>\n",
       "      <td>0.0059</td>\n",
       "      <td>0.9996</td>\n",
       "      <td>0.800</td>\n",
       "      <td>0.006</td>\n",
       "      <td>0.012</td>\n",
       "    </tr>\n",
       "    <tr>\n",
       "      <th>41</th>\n",
       "      <td>0.837</td>\n",
       "      <td>0.0029</td>\n",
       "      <td>1.0000</td>\n",
       "      <td>1.000</td>\n",
       "      <td>0.003</td>\n",
       "      <td>0.006</td>\n",
       "    </tr>\n",
       "    <tr>\n",
       "      <th>42</th>\n",
       "      <td>0.857</td>\n",
       "      <td>0.0029</td>\n",
       "      <td>1.0000</td>\n",
       "      <td>1.000</td>\n",
       "      <td>0.003</td>\n",
       "      <td>0.006</td>\n",
       "    </tr>\n",
       "    <tr>\n",
       "      <th>43</th>\n",
       "      <td>0.878</td>\n",
       "      <td>0.0015</td>\n",
       "      <td>1.0000</td>\n",
       "      <td>1.000</td>\n",
       "      <td>0.002</td>\n",
       "      <td>0.003</td>\n",
       "    </tr>\n",
       "    <tr>\n",
       "      <th>44</th>\n",
       "      <td>0.898</td>\n",
       "      <td>0.0015</td>\n",
       "      <td>1.0000</td>\n",
       "      <td>1.000</td>\n",
       "      <td>0.002</td>\n",
       "      <td>0.003</td>\n",
       "    </tr>\n",
       "    <tr>\n",
       "      <th>45</th>\n",
       "      <td>0.918</td>\n",
       "      <td>0.0000</td>\n",
       "      <td>1.0000</td>\n",
       "      <td>0.000</td>\n",
       "      <td>0.000</td>\n",
       "      <td>0.000</td>\n",
       "    </tr>\n",
       "    <tr>\n",
       "      <th>46</th>\n",
       "      <td>0.939</td>\n",
       "      <td>0.0000</td>\n",
       "      <td>1.0000</td>\n",
       "      <td>0.000</td>\n",
       "      <td>0.000</td>\n",
       "      <td>0.000</td>\n",
       "    </tr>\n",
       "    <tr>\n",
       "      <th>47</th>\n",
       "      <td>0.959</td>\n",
       "      <td>0.0000</td>\n",
       "      <td>1.0000</td>\n",
       "      <td>0.000</td>\n",
       "      <td>0.000</td>\n",
       "      <td>0.000</td>\n",
       "    </tr>\n",
       "    <tr>\n",
       "      <th>48</th>\n",
       "      <td>0.980</td>\n",
       "      <td>0.0000</td>\n",
       "      <td>1.0000</td>\n",
       "      <td>0.000</td>\n",
       "      <td>0.000</td>\n",
       "      <td>0.000</td>\n",
       "    </tr>\n",
       "    <tr>\n",
       "      <th>49</th>\n",
       "      <td>1.000</td>\n",
       "      <td>0.0000</td>\n",
       "      <td>1.0000</td>\n",
       "      <td>0.000</td>\n",
       "      <td>0.000</td>\n",
       "      <td>0.000</td>\n",
       "    </tr>\n",
       "  </tbody>\n",
       "</table>\n",
       "</div>"
      ],
      "text/plain": [
       "    Threshold     TPR     TNR  Precision  Youdens     F1\n",
       "0       0.000  1.0000  0.0000      0.207    0.000  0.343\n",
       "1       0.020  0.9956  0.0069      0.207    0.002  0.343\n",
       "2       0.041  0.9883  0.0757      0.218    0.064  0.357\n",
       "3       0.061  0.9707  0.1731      0.235    0.144  0.378\n",
       "4       0.082  0.9400  0.2828      0.255    0.223  0.401\n",
       "5       0.102  0.9092  0.3756      0.275    0.285  0.423\n",
       "6       0.122  0.8712  0.4547      0.294    0.326  0.440\n",
       "7       0.143  0.8360  0.5311      0.318    0.367  0.460\n",
       "8       0.163  0.7965  0.5972      0.340    0.394  0.477\n",
       "9       0.184  0.7570  0.6454      0.358    0.402  0.486\n",
       "10      0.204  0.7130  0.6993      0.382    0.412  0.498\n",
       "11      0.224  0.6676  0.7398      0.401    0.407  0.501\n",
       "12      0.245  0.6310  0.7757      0.423    0.407  0.507\n",
       "13      0.265  0.5842  0.8066      0.441    0.391  0.503\n",
       "14      0.286  0.5490  0.8319      0.460    0.381  0.501\n",
       "15      0.306  0.5081  0.8529      0.474    0.361  0.490\n",
       "16      0.327  0.4744  0.8697      0.487    0.344  0.481\n",
       "17      0.347  0.4436  0.8884      0.509    0.332  0.474\n",
       "18      0.367  0.4056  0.9010      0.517    0.307  0.454\n",
       "19      0.388  0.3719  0.9152      0.534    0.287  0.438\n",
       "20      0.408  0.3294  0.9263      0.538    0.256  0.409\n",
       "21      0.429  0.3001  0.9343      0.544    0.234  0.387\n",
       "22      0.449  0.2767  0.9454      0.569    0.222  0.372\n",
       "23      0.469  0.2533  0.9515      0.577    0.205  0.352\n",
       "24      0.490  0.2357  0.9553      0.579    0.191  0.335\n",
       "25      0.510  0.2152  0.9641      0.610    0.179  0.318\n",
       "26      0.531  0.1874  0.9721      0.637    0.159  0.290\n",
       "27      0.551  0.1698  0.9775      0.663    0.147  0.270\n",
       "28      0.571  0.1435  0.9805      0.658    0.124  0.236\n",
       "29      0.592  0.1201  0.9832      0.651    0.103  0.203\n",
       "30      0.612  0.1010  0.9859      0.651    0.087  0.175\n",
       "31      0.633  0.0820  0.9882      0.644    0.070  0.145\n",
       "32      0.653  0.0717  0.9893      0.636    0.061  0.129\n",
       "33      0.673  0.0615  0.9916      0.656    0.053  0.112\n",
       "34      0.694  0.0498  0.9939      0.680    0.044  0.093\n",
       "35      0.714  0.0425  0.9950      0.690    0.038  0.080\n",
       "36      0.735  0.0366  0.9962      0.714    0.033  0.070\n",
       "37      0.755  0.0264  0.9973      0.720    0.024  0.051\n",
       "38      0.776  0.0205  0.9981      0.737    0.019  0.040\n",
       "39      0.796  0.0117  0.9985      0.667    0.010  0.023\n",
       "40      0.816  0.0059  0.9996      0.800    0.006  0.012\n",
       "41      0.837  0.0029  1.0000      1.000    0.003  0.006\n",
       "42      0.857  0.0029  1.0000      1.000    0.003  0.006\n",
       "43      0.878  0.0015  1.0000      1.000    0.002  0.003\n",
       "44      0.898  0.0015  1.0000      1.000    0.002  0.003\n",
       "45      0.918  0.0000  1.0000      0.000    0.000  0.000\n",
       "46      0.939  0.0000  1.0000      0.000    0.000  0.000\n",
       "47      0.959  0.0000  1.0000      0.000    0.000  0.000\n",
       "48      0.980  0.0000  1.0000      0.000    0.000  0.000\n",
       "49      1.000  0.0000  1.0000      0.000    0.000  0.000"
      ]
     },
     "execution_count": 159,
     "metadata": {},
     "output_type": "execute_result"
    }
   ],
   "source": [
    "# Threshold, TPR, TNR, youdens, precision, f1\n",
    "pd.DataFrame(output, columns=['Threshold', 'TPR', 'TNR', 'Precision', 'Youdens', 'F1'])"
   ]
  },
  {
   "cell_type": "code",
   "execution_count": null,
   "metadata": {},
   "outputs": [],
   "source": []
  },
  {
   "cell_type": "code",
   "execution_count": null,
   "metadata": {},
   "outputs": [],
   "source": []
  },
  {
   "cell_type": "code",
   "execution_count": null,
   "metadata": {},
   "outputs": [],
   "source": []
  },
  {
   "cell_type": "code",
   "execution_count": null,
   "metadata": {},
   "outputs": [],
   "source": []
  },
  {
   "cell_type": "code",
   "execution_count": null,
   "metadata": {},
   "outputs": [],
   "source": []
  },
  {
   "cell_type": "code",
   "execution_count": null,
   "metadata": {},
   "outputs": [],
   "source": []
  }
 ],
 "metadata": {
  "kernelspec": {
   "display_name": "Python 3 (ipykernel)",
   "language": "python",
   "name": "python3"
  },
  "language_info": {
   "codemirror_mode": {
    "name": "ipython",
    "version": 3
   },
   "file_extension": ".py",
   "mimetype": "text/x-python",
   "name": "python",
   "nbconvert_exporter": "python",
   "pygments_lexer": "ipython3",
   "version": "3.11.3"
  },
  "toc-autonumbering": false,
  "toc-showcode": false,
  "toc-showmarkdowntxt": false
 },
 "nbformat": 4,
 "nbformat_minor": 4
}
