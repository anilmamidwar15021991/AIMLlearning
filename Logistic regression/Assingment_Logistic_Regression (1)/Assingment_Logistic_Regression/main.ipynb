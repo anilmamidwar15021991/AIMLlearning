{
 "cells": [
  {
   "cell_type": "markdown",
   "id": "c028298f",
   "metadata": {},
   "source": [
    "## Assignment \n",
    "\n"
   ]
  },
  {
   "cell_type": "markdown",
   "id": "771f9d6e",
   "metadata": {},
   "source": [
    "###\n",
    "1.\tBuild a classification model using logistic regression to predict the correct type of drug based on the given dataset. \n",
    "2.\tReport the confusion matrix and compute the f-1 score\n",
    "3.\tFind out which variable has the highest impact on target variable"
   ]
  },
  {
   "cell_type": "code",
   "execution_count": 1,
   "id": "c7fe3b31",
   "metadata": {},
   "outputs": [],
   "source": [
    "#load neccesary libraries\n",
    "\n",
    "import pandas as pd\n",
    "import numpy as np\n",
    "from matplotlib import pyplot as plt\n",
    "import seaborn as sns\n",
    "\n",
    "import os\n",
    "import warnings\n",
    "warnings.filterwarnings('ignore')\n",
    "\n",
    "from sklearn.model_selection import train_test_split\n",
    "from sklearn.linear_model import LogisticRegression\n",
    "from sklearn.metrics import confusion_matrix\n",
    "from sklearn.preprocessing import StandardScaler\n",
    "import statsmodels.api as sm\n",
    "\n"
   ]
  },
  {
   "cell_type": "code",
   "execution_count": 2,
   "id": "8c270d31",
   "metadata": {},
   "outputs": [],
   "source": [
    "df=pd.read_csv(\"drug_df.csv\")"
   ]
  },
  {
   "cell_type": "code",
   "execution_count": 3,
   "id": "6d3f0d15",
   "metadata": {},
   "outputs": [
    {
     "name": "stdout",
     "output_type": "stream",
     "text": [
      "<class 'pandas.core.frame.DataFrame'>\n",
      "RangeIndex: 200 entries, 0 to 199\n",
      "Data columns (total 6 columns):\n",
      " #   Column       Non-Null Count  Dtype  \n",
      "---  ------       --------------  -----  \n",
      " 0   Age          200 non-null    int64  \n",
      " 1   Sex          200 non-null    object \n",
      " 2   BP           200 non-null    object \n",
      " 3   Cholesterol  200 non-null    object \n",
      " 4   Na_to_K      200 non-null    float64\n",
      " 5   Drug         200 non-null    object \n",
      "dtypes: float64(1), int64(1), object(4)\n",
      "memory usage: 9.5+ KB\n"
     ]
    }
   ],
   "source": [
    "df.info()"
   ]
  },
  {
   "cell_type": "code",
   "execution_count": 4,
   "id": "33fb85f9",
   "metadata": {},
   "outputs": [
    {
     "data": {
      "text/html": [
       "<div>\n",
       "<style scoped>\n",
       "    .dataframe tbody tr th:only-of-type {\n",
       "        vertical-align: middle;\n",
       "    }\n",
       "\n",
       "    .dataframe tbody tr th {\n",
       "        vertical-align: top;\n",
       "    }\n",
       "\n",
       "    .dataframe thead th {\n",
       "        text-align: right;\n",
       "    }\n",
       "</style>\n",
       "<table border=\"1\" class=\"dataframe\">\n",
       "  <thead>\n",
       "    <tr style=\"text-align: right;\">\n",
       "      <th></th>\n",
       "      <th>Age</th>\n",
       "      <th>Sex</th>\n",
       "      <th>BP</th>\n",
       "      <th>Cholesterol</th>\n",
       "      <th>Na_to_K</th>\n",
       "      <th>Drug</th>\n",
       "    </tr>\n",
       "  </thead>\n",
       "  <tbody>\n",
       "    <tr>\n",
       "      <th>0</th>\n",
       "      <td>23</td>\n",
       "      <td>F</td>\n",
       "      <td>HIGH</td>\n",
       "      <td>HIGH</td>\n",
       "      <td>25.355</td>\n",
       "      <td>DrugY</td>\n",
       "    </tr>\n",
       "    <tr>\n",
       "      <th>1</th>\n",
       "      <td>47</td>\n",
       "      <td>M</td>\n",
       "      <td>LOW</td>\n",
       "      <td>HIGH</td>\n",
       "      <td>13.093</td>\n",
       "      <td>drugC</td>\n",
       "    </tr>\n",
       "    <tr>\n",
       "      <th>2</th>\n",
       "      <td>47</td>\n",
       "      <td>M</td>\n",
       "      <td>LOW</td>\n",
       "      <td>HIGH</td>\n",
       "      <td>10.114</td>\n",
       "      <td>drugC</td>\n",
       "    </tr>\n",
       "    <tr>\n",
       "      <th>3</th>\n",
       "      <td>28</td>\n",
       "      <td>F</td>\n",
       "      <td>NORMAL</td>\n",
       "      <td>HIGH</td>\n",
       "      <td>7.798</td>\n",
       "      <td>drugX</td>\n",
       "    </tr>\n",
       "    <tr>\n",
       "      <th>4</th>\n",
       "      <td>61</td>\n",
       "      <td>F</td>\n",
       "      <td>LOW</td>\n",
       "      <td>HIGH</td>\n",
       "      <td>18.043</td>\n",
       "      <td>DrugY</td>\n",
       "    </tr>\n",
       "  </tbody>\n",
       "</table>\n",
       "</div>"
      ],
      "text/plain": [
       "   Age Sex      BP Cholesterol  Na_to_K   Drug\n",
       "0   23   F    HIGH        HIGH   25.355  DrugY\n",
       "1   47   M     LOW        HIGH   13.093  drugC\n",
       "2   47   M     LOW        HIGH   10.114  drugC\n",
       "3   28   F  NORMAL        HIGH    7.798  drugX\n",
       "4   61   F     LOW        HIGH   18.043  DrugY"
      ]
     },
     "execution_count": 4,
     "metadata": {},
     "output_type": "execute_result"
    }
   ],
   "source": [
    "df.head()\n"
   ]
  },
  {
   "cell_type": "code",
   "execution_count": 5,
   "id": "841f86cc",
   "metadata": {},
   "outputs": [],
   "source": [
    "#numerical and categorical column\n",
    "num_col=df.select_dtypes(include=np.number).columns\n",
    "cat_col=df.select_dtypes(exclude=np.number).columns\n"
   ]
  },
  {
   "cell_type": "markdown",
   "id": "77714be3",
   "metadata": {},
   "source": [
    "##### inference -  \n",
    "1) there are no missing values.\n",
    "2) target varibale is a multiclass(5)\n"
   ]
  },
  {
   "cell_type": "markdown",
   "id": "4ac48ca3",
   "metadata": {},
   "source": [
    "<div class=\"alert alert-info\" style=\"background-color:#006a79; color:white; padding:0px 10px; border-radius:5px;\"><h2 style='margin:10px 5px'>Exploratory Data Analysis</h2>\n",
    "</div>"
   ]
  },
  {
   "cell_type": "code",
   "execution_count": 6,
   "id": "fbbca16f",
   "metadata": {},
   "outputs": [
    {
     "data": {
      "text/plain": [
       "<Axes: >"
      ]
     },
     "execution_count": 6,
     "metadata": {},
     "output_type": "execute_result"
    },
    {
     "data": {
      "image/png": "[encoded data removed]",
      "text/plain": [
       "<Figure size 1200x600 with 2 Axes>"
      ]
     },
     "metadata": {},
     "output_type": "display_data"
    }
   ],
   "source": [
    "#lets plot heatmap\n",
    "plt.figure(figsize=(12,6))\n",
    "sns.heatmap(df.corr(),annot=True,cmap='RdYlGn')"
   ]
  },
  {
   "cell_type": "code",
   "execution_count": 7,
   "id": "9c5c62dd",
   "metadata": {},
   "outputs": [
    {
     "data": {
      "text/plain": [
       "<Axes: xlabel='count', ylabel='Drug'>"
      ]
     },
     "execution_count": 7,
     "metadata": {},
     "output_type": "execute_result"
    },
    {
     "data": {
      "image/png": "[encoded data removed]",
      "text/plain": [
       "<Figure size 640x480 with 1 Axes>"
      ]
     },
     "metadata": {},
     "output_type": "display_data"
    }
   ],
   "source": [
    "#lets check the y variable distribution to see if it is a unbalanced class\n",
    "\n",
    "sns.countplot(y=df['Drug'],data=df)"
   ]
  },
  {
   "cell_type": "markdown",
   "id": "f94eb485",
   "metadata": {},
   "source": [
    "### Inference - it looks, it has many minority class and shows class imbalance "
   ]
  },
  {
   "cell_type": "code",
   "execution_count": 8,
   "id": "f8412790",
   "metadata": {},
   "outputs": [
    {
     "name": "stdout",
     "output_type": "stream",
     "text": [
      "Sex\n",
      "chisquare value for Sex is 2.119248418109203 and p-value is 0.7138369773987128, and dof 4\n",
      "BP\n",
      "chisquare value for BP is 143.2328718496999 and p-value is 5.0417334144665895e-27, and dof 8\n",
      "Cholesterol\n",
      "chisquare value for Cholesterol is 19.609657681313475 and p-value is 0.0005962588389856497, and dof 4\n",
      "Drug\n",
      "chisquare value for Drug is 800.0000000000001 and p-value is 6.336427947937658e-160, and dof 16\n"
     ]
    }
   ],
   "source": [
    "#lets do chisquare test to understand the relation between x(category variable ) and y(category variable)\n",
    "\n",
    "#chiSquare (using scipy.stats) \n",
    "from IPython.display import display, HTML\n",
    "from scipy.stats import chi2_contingency\n",
    "\n",
    "CSS = \"\"\"\n",
    ".output {\n",
    "    flex-direction: row;\n",
    "}\n",
    "\"\"\"\n",
    "\n",
    "HTML('<style>{}</style>'.format(CSS))\n",
    "\n",
    "\n",
    "\n",
    "for col in cat_col:\n",
    "    print(col)\n",
    "    observed_fre=pd.crosstab(df[col],df['Drug'].astype('category'))\n",
    "    stat,p,dof,expected_fre=chi2_contingency(observed_fre)\n",
    "    print(f'chisquare value for {col} is {stat} and p-value is {p}, and dof {dof}')\n"
   ]
  },
  {
   "cell_type": "markdown",
   "id": "299b1e8e",
   "metadata": {},
   "source": [
    "##### inference - sex column is not statistically significant     "
   ]
  },
  {
   "cell_type": "code",
   "execution_count": 9,
   "id": "f3599263",
   "metadata": {},
   "outputs": [
    {
     "data": {
      "text/plain": [
       "Text(0.5, 1.0, 'relation Sex vs Drug')"
      ]
     },
     "execution_count": 9,
     "metadata": {},
     "output_type": "execute_result"
    },
    {
     "data": {
      "image/png": "[encoded data removed]",
      "text/plain": [
       "<Figure size 640x480 with 1 Axes>"
      ]
     },
     "metadata": {},
     "output_type": "display_data"
    }
   ],
   "source": [
    "# sex vs Drug\n",
    "sns.histplot(x=df['Sex'],bins=50,color='white',hue=df['Drug'])\n",
    "plt.title(\"relation Sex vs Drug\")"
   ]
  },
  {
   "cell_type": "markdown",
   "id": "6a603857",
   "metadata": {},
   "source": [
    "##### inference - all types of drugs are used for both sex , we can not conclude drugs prediction  for  sex column"
   ]
  },
  {
   "cell_type": "code",
   "execution_count": 10,
   "id": "18d679bc",
   "metadata": {},
   "outputs": [
    {
     "data": {
      "text/plain": [
       "Text(0.5, 1.0, 'relation BP vs Drug')"
      ]
     },
     "execution_count": 10,
     "metadata": {},
     "output_type": "execute_result"
    },
    {
     "data": {
      "image/png": "[encoded data removed]",
      "text/plain": [
       "<Figure size 640x480 with 1 Axes>"
      ]
     },
     "metadata": {},
     "output_type": "display_data"
    }
   ],
   "source": [
    "#BP vs Drug\n",
    "sns.histplot(x=df['BP'],bins=5,color='white',hue=df['Drug'],kde=True)\n",
    "plt.title(\"relation BP vs Drug\")"
   ]
  },
  {
   "cell_type": "markdown",
   "id": "526e0410",
   "metadata": {},
   "source": [
    "##### inference - drug B  is only used for high BP patients and drug X is only for normal BP pateint  "
   ]
  },
  {
   "cell_type": "code",
   "execution_count": 11,
   "id": "d6a97e96",
   "metadata": {},
   "outputs": [
    {
     "data": {
      "text/plain": [
       "Text(0.5, 1.0, 'relation Cholestrol vs Drug')"
      ]
     },
     "execution_count": 11,
     "metadata": {},
     "output_type": "execute_result"
    },
    {
     "data": {
      "image/png": "[encoded data removed]",
      "text/plain": [
       "<Figure size 640x480 with 1 Axes>"
      ]
     },
     "metadata": {},
     "output_type": "display_data"
    }
   ],
   "source": [
    "#cholestrol vs Drug\n",
    "sns.histplot(x=df['Cholesterol'],bins=50,color='white',hue=df['Drug'],binwidth=.2,multiple='stack')\n",
    "plt.title(\"relation Cholestrol vs Drug\")"
   ]
  },
  {
   "cell_type": "markdown",
   "id": "1c31472a",
   "metadata": {},
   "source": [
    "##### "
   ]
  },
  {
   "cell_type": "markdown",
   "id": "2170b54d",
   "metadata": {},
   "source": [
    "##### inference - drug c is only used for high cholestrol patients "
   ]
  },
  {
   "cell_type": "code",
   "execution_count": 12,
   "id": "08640ad9",
   "metadata": {},
   "outputs": [
    {
     "data": {
      "text/plain": [
       "Text(0.5, 1.0, 'relation Cholestrol vs Drug')"
      ]
     },
     "execution_count": 12,
     "metadata": {},
     "output_type": "execute_result"
    },
    {
     "data": {
      "image/png": "[encoded data removed]",
      "text/plain": [
       "<Figure size 640x480 with 1 Axes>"
      ]
     },
     "metadata": {},
     "output_type": "display_data"
    }
   ],
   "source": [
    "#age vs drug\n",
    "\n",
    "#lets create a  age group\n",
    "labels=['0-10','11-20','21-30','31-50','50-70','70+']\n",
    "bins=[0,10,20,30,50,70,100]\n",
    "df_age_grp=pd.DataFrame()\n",
    "df_age_grp=df.copy()\n",
    "df_age_grp['Age_group']=pd.cut(df_age_grp['Age'],bins=bins,labels=labels)\n",
    "sns.histplot(x=df_age_grp['Age_group'],bins=100,multiple='stack',hue=df['Drug'])\n",
    "plt.title(\"relation Cholestrol vs Drug\")\n"
   ]
  },
  {
   "cell_type": "code",
   "execution_count": 13,
   "id": "b54cfad8",
   "metadata": {},
   "outputs": [
    {
     "data": {
      "text/plain": [
       "<Axes: xlabel='Age', ylabel='Count'>"
      ]
     },
     "execution_count": 13,
     "metadata": {},
     "output_type": "execute_result"
    },
    {
     "data": {
      "image/png": "[encoded data removed]",
      "text/plain": [
       "<Figure size 640x480 with 1 Axes>"
      ]
     },
     "metadata": {},
     "output_type": "display_data"
    }
   ],
   "source": [
    "sns.histplot(data=df_age_grp,x='Age',bins=100,kde=True)"
   ]
  },
  {
   "cell_type": "markdown",
   "id": "6abedfb1",
   "metadata": {},
   "source": [
    "##### inference - drugs are not used for kids , drug B is only  used for patients having age above 50 (senior citizens) , drug A is not used for patients having age above 50"
   ]
  },
  {
   "cell_type": "code",
   "execution_count": 14,
   "id": "d4d1841e",
   "metadata": {},
   "outputs": [
    {
     "data": {
      "text/plain": [
       "Age_group  BP      Drug \n",
       "11-20      HIGH    DrugY     8\n",
       "                   drugA     2\n",
       "           LOW     drugC     1\n",
       "                   drugX     1\n",
       "           NORMAL  drugX     4\n",
       "21-30      HIGH    DrugY     8\n",
       "                   drugA     4\n",
       "           LOW     drugC     4\n",
       "                   DrugY     2\n",
       "           NORMAL  drugX     8\n",
       "                   DrugY     6\n",
       "31-50      HIGH    drugA    17\n",
       "                   DrugY    11\n",
       "           LOW     DrugY    14\n",
       "                   drugX    12\n",
       "                   drugC     7\n",
       "           NORMAL  drugX    10\n",
       "                   DrugY     8\n",
       "50-70      HIGH    drugB    14\n",
       "                   DrugY     9\n",
       "           LOW     DrugY    12\n",
       "                   drugC     3\n",
       "                   drugX     3\n",
       "           NORMAL  drugX    14\n",
       "                   DrugY     8\n",
       "70+        HIGH    DrugY     2\n",
       "                   drugB     2\n",
       "           LOW     DrugY     2\n",
       "                   drugX     2\n",
       "                   drugC     1\n",
       "           NORMAL  DrugY     1\n",
       "Name: Drug, dtype: int64"
      ]
     },
     "execution_count": 14,
     "metadata": {},
     "output_type": "execute_result"
    }
   ],
   "source": [
    "df_age_grp.groupby(['Age_group','BP'])['Drug'].value_counts()"
   ]
  },
  {
   "cell_type": "code",
   "execution_count": 15,
   "id": "be991c72",
   "metadata": {},
   "outputs": [
    {
     "data": {
      "text/plain": [
       "<Axes: xlabel='Drug', ylabel='Age_group'>"
      ]
     },
     "execution_count": 15,
     "metadata": {},
     "output_type": "execute_result"
    },
    {
     "data": {
      "image/png": "[encoded data removed]",
      "text/plain": [
       "<Figure size 640x480 with 1 Axes>"
      ]
     },
     "metadata": {},
     "output_type": "display_data"
    }
   ],
   "source": [
    "sns.histplot(data=df_age_grp,y='Age_group',x='Drug',hue='BP')"
   ]
  },
  {
   "cell_type": "code",
   "execution_count": 16,
   "id": "e25f2d9c",
   "metadata": {},
   "outputs": [
    {
     "data": {
      "text/plain": [
       "Text(0.5, 1.0, 'relation Na_to_K vs Drug')"
      ]
     },
     "execution_count": 16,
     "metadata": {},
     "output_type": "execute_result"
    },
    {
     "data": {
      "image/png": "[encoded data removed]",
      "text/plain": [
       "<Figure size 640x480 with 1 Axes>"
      ]
     },
     "metadata": {},
     "output_type": "display_data"
    }
   ],
   "source": [
    "sns.histplot(x=df_age_grp['Na_to_K'],bins=100,kde=True)\n",
    "plt.title(\"relation Na_to_K vs Drug\")\n"
   ]
  },
  {
   "cell_type": "code",
   "execution_count": 17,
   "id": "0f040594",
   "metadata": {},
   "outputs": [
    {
     "data": {
      "text/plain": [
       "<Axes: >"
      ]
     },
     "execution_count": 17,
     "metadata": {},
     "output_type": "execute_result"
    },
    {
     "data": {
      "image/png": "[encoded data removed]",
      "text/plain": [
       "<Figure size 640x480 with 1 Axes>"
      ]
     },
     "metadata": {},
     "output_type": "display_data"
    }
   ],
   "source": [
    "#checking the outliers using box plot\n",
    "\n",
    "sns.boxplot(data=df_age_grp)"
   ]
  },
  {
   "cell_type": "markdown",
   "id": "cc51fb23",
   "metadata": {},
   "source": [
    "## feature encoding "
   ]
  },
  {
   "cell_type": "code",
   "execution_count": 18,
   "id": "be1b04cf",
   "metadata": {},
   "outputs": [],
   "source": [
    "df.drop(columns='Sex',inplace=True)"
   ]
  },
  {
   "cell_type": "code",
   "execution_count": 19,
   "id": "6b288444",
   "metadata": {},
   "outputs": [],
   "source": [
    "#lets do one hot encoding for all category columns\n",
    "BP_dummies= pd.get_dummies(data=df,columns=['BP'],prefix='BP')\n",
    "BP_dummies['Cholesterol']=BP_dummies['Cholesterol'].map({'HIGH':1,\"NORMAL\":0})"
   ]
  },
  {
   "cell_type": "code",
   "execution_count": 20,
   "id": "b2bc6dfd",
   "metadata": {},
   "outputs": [
    {
     "data": {
      "text/html": [
       "<div>\n",
       "<style scoped>\n",
       "    .dataframe tbody tr th:only-of-type {\n",
       "        vertical-align: middle;\n",
       "    }\n",
       "\n",
       "    .dataframe tbody tr th {\n",
       "        vertical-align: top;\n",
       "    }\n",
       "\n",
       "    .dataframe thead th {\n",
       "        text-align: right;\n",
       "    }\n",
       "</style>\n",
       "<table border=\"1\" class=\"dataframe\">\n",
       "  <thead>\n",
       "    <tr style=\"text-align: right;\">\n",
       "      <th></th>\n",
       "      <th>Age</th>\n",
       "      <th>Cholesterol</th>\n",
       "      <th>Na_to_K</th>\n",
       "      <th>Drug</th>\n",
       "      <th>BP_HIGH</th>\n",
       "      <th>BP_LOW</th>\n",
       "      <th>BP_NORMAL</th>\n",
       "    </tr>\n",
       "  </thead>\n",
       "  <tbody>\n",
       "    <tr>\n",
       "      <th>0</th>\n",
       "      <td>23</td>\n",
       "      <td>1</td>\n",
       "      <td>25.355</td>\n",
       "      <td>DrugY</td>\n",
       "      <td>1</td>\n",
       "      <td>0</td>\n",
       "      <td>0</td>\n",
       "    </tr>\n",
       "    <tr>\n",
       "      <th>1</th>\n",
       "      <td>47</td>\n",
       "      <td>1</td>\n",
       "      <td>13.093</td>\n",
       "      <td>drugC</td>\n",
       "      <td>0</td>\n",
       "      <td>1</td>\n",
       "      <td>0</td>\n",
       "    </tr>\n",
       "    <tr>\n",
       "      <th>2</th>\n",
       "      <td>47</td>\n",
       "      <td>1</td>\n",
       "      <td>10.114</td>\n",
       "      <td>drugC</td>\n",
       "      <td>0</td>\n",
       "      <td>1</td>\n",
       "      <td>0</td>\n",
       "    </tr>\n",
       "    <tr>\n",
       "      <th>3</th>\n",
       "      <td>28</td>\n",
       "      <td>1</td>\n",
       "      <td>7.798</td>\n",
       "      <td>drugX</td>\n",
       "      <td>0</td>\n",
       "      <td>0</td>\n",
       "      <td>1</td>\n",
       "    </tr>\n",
       "    <tr>\n",
       "      <th>4</th>\n",
       "      <td>61</td>\n",
       "      <td>1</td>\n",
       "      <td>18.043</td>\n",
       "      <td>DrugY</td>\n",
       "      <td>0</td>\n",
       "      <td>1</td>\n",
       "      <td>0</td>\n",
       "    </tr>\n",
       "    <tr>\n",
       "      <th>...</th>\n",
       "      <td>...</td>\n",
       "      <td>...</td>\n",
       "      <td>...</td>\n",
       "      <td>...</td>\n",
       "      <td>...</td>\n",
       "      <td>...</td>\n",
       "      <td>...</td>\n",
       "    </tr>\n",
       "    <tr>\n",
       "      <th>195</th>\n",
       "      <td>56</td>\n",
       "      <td>1</td>\n",
       "      <td>11.567</td>\n",
       "      <td>drugC</td>\n",
       "      <td>0</td>\n",
       "      <td>1</td>\n",
       "      <td>0</td>\n",
       "    </tr>\n",
       "    <tr>\n",
       "      <th>196</th>\n",
       "      <td>16</td>\n",
       "      <td>1</td>\n",
       "      <td>12.006</td>\n",
       "      <td>drugC</td>\n",
       "      <td>0</td>\n",
       "      <td>1</td>\n",
       "      <td>0</td>\n",
       "    </tr>\n",
       "    <tr>\n",
       "      <th>197</th>\n",
       "      <td>52</td>\n",
       "      <td>1</td>\n",
       "      <td>9.894</td>\n",
       "      <td>drugX</td>\n",
       "      <td>0</td>\n",
       "      <td>0</td>\n",
       "      <td>1</td>\n",
       "    </tr>\n",
       "    <tr>\n",
       "      <th>198</th>\n",
       "      <td>23</td>\n",
       "      <td>0</td>\n",
       "      <td>14.020</td>\n",
       "      <td>drugX</td>\n",
       "      <td>0</td>\n",
       "      <td>0</td>\n",
       "      <td>1</td>\n",
       "    </tr>\n",
       "    <tr>\n",
       "      <th>199</th>\n",
       "      <td>40</td>\n",
       "      <td>0</td>\n",
       "      <td>11.349</td>\n",
       "      <td>drugX</td>\n",
       "      <td>0</td>\n",
       "      <td>1</td>\n",
       "      <td>0</td>\n",
       "    </tr>\n",
       "  </tbody>\n",
       "</table>\n",
       "<p>200 rows × 7 columns</p>\n",
       "</div>"
      ],
      "text/plain": [
       "     Age  Cholesterol  Na_to_K   Drug  BP_HIGH  BP_LOW  BP_NORMAL\n",
       "0     23            1   25.355  DrugY        1       0          0\n",
       "1     47            1   13.093  drugC        0       1          0\n",
       "2     47            1   10.114  drugC        0       1          0\n",
       "3     28            1    7.798  drugX        0       0          1\n",
       "4     61            1   18.043  DrugY        0       1          0\n",
       "..   ...          ...      ...    ...      ...     ...        ...\n",
       "195   56            1   11.567  drugC        0       1          0\n",
       "196   16            1   12.006  drugC        0       1          0\n",
       "197   52            1    9.894  drugX        0       0          1\n",
       "198   23            0   14.020  drugX        0       0          1\n",
       "199   40            0   11.349  drugX        0       1          0\n",
       "\n",
       "[200 rows x 7 columns]"
      ]
     },
     "execution_count": 20,
     "metadata": {},
     "output_type": "execute_result"
    }
   ],
   "source": [
    "df_encoded= BP_dummies.copy()\n",
    "df_encoded"
   ]
  },
  {
   "cell_type": "code",
   "execution_count": 21,
   "id": "89f62da1",
   "metadata": {},
   "outputs": [
    {
     "data": {
      "image/png": "[encoded data removed]",
      "text/plain": [
       "<Figure size 1500x1200 with 6 Axes>"
      ]
     },
     "metadata": {},
     "output_type": "display_data"
    }
   ],
   "source": [
    "df_encoded.hist(figsize=(15,12),bins=12)\n",
    "plt.title(\"features distribution\")\n",
    "plt.show()"
   ]
  },
  {
   "cell_type": "code",
   "execution_count": 22,
   "id": "51285a80",
   "metadata": {},
   "outputs": [],
   "source": [
    "X=df_encoded.drop(columns='Drug')\n",
    "y=df_encoded['Drug']\n",
    "X_train,X_test,y_train,y_test=train_test_split(X,y,test_size=0.2,random_state=1234)"
   ]
  },
  {
   "cell_type": "code",
   "execution_count": 23,
   "id": "f098e6c3",
   "metadata": {},
   "outputs": [],
   "source": [
    "model= LogisticRegression(multi_class='multinomial',solver='lbfgs')"
   ]
  },
  {
   "cell_type": "code",
   "execution_count": 24,
   "id": "ba26d3a9",
   "metadata": {},
   "outputs": [],
   "source": [
    "#standradizing the values for same scale \n",
    "\n",
    "\n",
    "sc= StandardScaler()\n",
    "X_train=sc.fit_transform(X_train)\n",
    "X_test=sc.fit_transform(X_test)\n"
   ]
  },
  {
   "cell_type": "code",
   "execution_count": null,
   "id": "ed7ef5ba",
   "metadata": {},
   "outputs": [],
   "source": []
  },
  {
   "cell_type": "code",
   "execution_count": null,
   "id": "83f48d3d",
   "metadata": {},
   "outputs": [],
   "source": []
  },
  {
   "cell_type": "code",
   "execution_count": null,
   "id": "50f878d7",
   "metadata": {},
   "outputs": [],
   "source": []
  },
  {
   "cell_type": "code",
   "execution_count": null,
   "id": "dee025d9",
   "metadata": {},
   "outputs": [],
   "source": []
  },
  {
   "cell_type": "code",
   "execution_count": 25,
   "id": "0d991a19",
   "metadata": {},
   "outputs": [
    {
     "data": {
      "text/html": [
       "<style>#sk-container-id-1 {color: black;background-color: white;}#sk-container-id-1 pre{padding: 0;}#sk-container-id-1 div.sk-toggleable {background-color: white;}#sk-container-id-1 label.sk-toggleable__label {cursor: pointer;display: block;width: 100%;margin-bottom: 0;padding: 0.3em;box-sizing: border-box;text-align: center;}#sk-container-id-1 label.sk-toggleable__label-arrow:before {content: \"▸\";float: left;margin-right: 0.25em;color: #696969;}#sk-container-id-1 label.sk-toggleable__label-arrow:hover:before {color: black;}#sk-container-id-1 div.sk-estimator:hover label.sk-toggleable__label-arrow:before {color: black;}#sk-container-id-1 div.sk-toggleable__content {max-height: 0;max-width: 0;overflow: hidden;text-align: left;background-color: #f0f8ff;}#sk-container-id-1 div.sk-toggleable__content pre {margin: 0.2em;color: black;border-radius: 0.25em;background-color: #f0f8ff;}#sk-container-id-1 input.sk-toggleable__control:checked~div.sk-toggleable__content {max-height: 200px;max-width: 100%;overflow: auto;}#sk-container-id-1 input.sk-toggleable__control:checked~label.sk-toggleable__label-arrow:before {content: \"▾\";}#sk-container-id-1 div.sk-estimator input.sk-toggleable__control:checked~label.sk-toggleable__label {background-color: #d4ebff;}#sk-container-id-1 div.sk-label input.sk-toggleable__control:checked~label.sk-toggleable__label {background-color: #d4ebff;}#sk-container-id-1 input.sk-hidden--visually {border: 0;clip: rect(1px 1px 1px 1px);clip: rect(1px, 1px, 1px, 1px);height: 1px;margin: -1px;overflow: hidden;padding: 0;position: absolute;width: 1px;}#sk-container-id-1 div.sk-estimator {font-family: monospace;background-color: #f0f8ff;border: 1px dotted black;border-radius: 0.25em;box-sizing: border-box;margin-bottom: 0.5em;}#sk-container-id-1 div.sk-estimator:hover {background-color: #d4ebff;}#sk-container-id-1 div.sk-parallel-item::after {content: \"\";width: 100%;border-bottom: 1px solid gray;flex-grow: 1;}#sk-container-id-1 div.sk-label:hover label.sk-toggleable__label {background-color: #d4ebff;}#sk-container-id-1 div.sk-serial::before {content: \"\";position: absolute;border-left: 1px solid gray;box-sizing: border-box;top: 0;bottom: 0;left: 50%;z-index: 0;}#sk-container-id-1 div.sk-serial {display: flex;flex-direction: column;align-items: center;background-color: white;padding-right: 0.2em;padding-left: 0.2em;position: relative;}#sk-container-id-1 div.sk-item {position: relative;z-index: 1;}#sk-container-id-1 div.sk-parallel {display: flex;align-items: stretch;justify-content: center;background-color: white;position: relative;}#sk-container-id-1 div.sk-item::before, #sk-container-id-1 div.sk-parallel-item::before {content: \"\";position: absolute;border-left: 1px solid gray;box-sizing: border-box;top: 0;bottom: 0;left: 50%;z-index: -1;}#sk-container-id-1 div.sk-parallel-item {display: flex;flex-direction: column;z-index: 1;position: relative;background-color: white;}#sk-container-id-1 div.sk-parallel-item:first-child::after {align-self: flex-end;width: 50%;}#sk-container-id-1 div.sk-parallel-item:last-child::after {align-self: flex-start;width: 50%;}#sk-container-id-1 div.sk-parallel-item:only-child::after {width: 0;}#sk-container-id-1 div.sk-dashed-wrapped {border: 1px dashed gray;margin: 0 0.4em 0.5em 0.4em;box-sizing: border-box;padding-bottom: 0.4em;background-color: white;}#sk-container-id-1 div.sk-label label {font-family: monospace;font-weight: bold;display: inline-block;line-height: 1.2em;}#sk-container-id-1 div.sk-label-container {text-align: center;}#sk-container-id-1 div.sk-container {/* jupyter's `normalize.less` sets `[hidden] { display: none; }` but bootstrap.min.css set `[hidden] { display: none !important; }` so we also need the `!important` here to be able to override the default hidden behavior on the sphinx rendered scikit-learn.org. See: https://github.com/scikit-learn/scikit-learn/issues/21755 */display: inline-block !important;position: relative;}#sk-container-id-1 div.sk-text-repr-fallback {display: none;}</style><div id=\"sk-container-id-1\" class=\"sk-top-container\"><div class=\"sk-text-repr-fallback\"><pre>LogisticRegression(multi_class=&#x27;multinomial&#x27;)</pre><b>In a Jupyter environment, please rerun this cell to show the HTML representation or trust the notebook. <br />On GitHub, the HTML representation is unable to render, please try loading this page with nbviewer.org.</b></div><div class=\"sk-container\" hidden><div class=\"sk-item\"><div class=\"sk-estimator sk-toggleable\"><input class=\"sk-toggleable__control sk-hidden--visually\" id=\"sk-estimator-id-1\" type=\"checkbox\" checked><label for=\"sk-estimator-id-1\" class=\"sk-toggleable__label sk-toggleable__label-arrow\">LogisticRegression</label><div class=\"sk-toggleable__content\"><pre>LogisticRegression(multi_class=&#x27;multinomial&#x27;)</pre></div></div></div></div></div>"
      ],
      "text/plain": [
       "LogisticRegression(multi_class='multinomial')"
      ]
     },
     "execution_count": 25,
     "metadata": {},
     "output_type": "execute_result"
    }
   ],
   "source": [
    "model.fit(X_train,y_train)"
   ]
  },
  {
   "cell_type": "code",
   "execution_count": 26,
   "id": "804a423c",
   "metadata": {},
   "outputs": [
    {
     "data": {
      "text/plain": [
       "array([[ 0.00996371, -0.28124591,  3.9924242 , -0.18517416, -0.081326  ,\n",
       "         0.28834377],\n",
       "       [-0.90484888,  0.30626797, -1.39410438,  1.21384386, -0.67774669,\n",
       "        -0.61379975],\n",
       "       [ 1.40622249, -0.0845907 , -0.33476507,  1.05755599, -0.70442689,\n",
       "        -0.41466481],\n",
       "       [-0.47507312,  1.25268591, -1.13564312, -0.57907877,  1.12564258,\n",
       "        -0.55288587],\n",
       "       [-0.03626419, -1.19311726, -1.12791163, -1.50714692,  0.337857  ,\n",
       "         1.29300666]])"
      ]
     },
     "execution_count": 26,
     "metadata": {},
     "output_type": "execute_result"
    }
   ],
   "source": [
    "model.coef_"
   ]
  },
  {
   "cell_type": "code",
   "execution_count": 27,
   "id": "47d118a4",
   "metadata": {},
   "outputs": [
    {
     "data": {
      "text/html": [
       "<div>\n",
       "<style scoped>\n",
       "    .dataframe tbody tr th:only-of-type {\n",
       "        vertical-align: middle;\n",
       "    }\n",
       "\n",
       "    .dataframe tbody tr th {\n",
       "        vertical-align: top;\n",
       "    }\n",
       "\n",
       "    .dataframe thead th {\n",
       "        text-align: right;\n",
       "    }\n",
       "</style>\n",
       "<table border=\"1\" class=\"dataframe\">\n",
       "  <thead>\n",
       "    <tr style=\"text-align: right;\">\n",
       "      <th></th>\n",
       "      <th>Feature</th>\n",
       "      <th>COEFF</th>\n",
       "    </tr>\n",
       "  </thead>\n",
       "  <tbody>\n",
       "    <tr>\n",
       "      <th>0</th>\n",
       "      <td>Age</td>\n",
       "      <td>0.009964</td>\n",
       "    </tr>\n",
       "    <tr>\n",
       "      <th>1</th>\n",
       "      <td>Cholesterol</td>\n",
       "      <td>-0.281246</td>\n",
       "    </tr>\n",
       "    <tr>\n",
       "      <th>2</th>\n",
       "      <td>Na_to_K</td>\n",
       "      <td>3.992424</td>\n",
       "    </tr>\n",
       "    <tr>\n",
       "      <th>3</th>\n",
       "      <td>BP_HIGH</td>\n",
       "      <td>-0.185174</td>\n",
       "    </tr>\n",
       "    <tr>\n",
       "      <th>4</th>\n",
       "      <td>BP_LOW</td>\n",
       "      <td>-0.081326</td>\n",
       "    </tr>\n",
       "    <tr>\n",
       "      <th>5</th>\n",
       "      <td>BP_NORMAL</td>\n",
       "      <td>0.288344</td>\n",
       "    </tr>\n",
       "  </tbody>\n",
       "</table>\n",
       "</div>"
      ],
      "text/plain": [
       "       Feature     COEFF\n",
       "0          Age  0.009964\n",
       "1  Cholesterol -0.281246\n",
       "2      Na_to_K  3.992424\n",
       "3      BP_HIGH -0.185174\n",
       "4       BP_LOW -0.081326\n",
       "5    BP_NORMAL  0.288344"
      ]
     },
     "execution_count": 27,
     "metadata": {},
     "output_type": "execute_result"
    }
   ],
   "source": [
    "df_coeff=pd.DataFrame({'Feature':X.columns,'COEFF':model.coef_[0]})\n",
    "df_coeff"
   ]
  },
  {
   "cell_type": "code",
   "execution_count": 28,
   "id": "dc502c78",
   "metadata": {},
   "outputs": [],
   "source": [
    "#lets check for multicollinearity using perturbation test\n",
    "w=model.coef_\n",
    "\n",
    "#introduce noise\n",
    "epilson=0.0005\n",
    "X_=X_train+epilson"
   ]
  },
  {
   "cell_type": "code",
   "execution_count": 29,
   "id": "5a9c15f4",
   "metadata": {},
   "outputs": [],
   "source": [
    "model_perturb=LogisticRegression(multi_class='multinomial',solver='lbfgs')\n",
    "model_perturb.fit(X_,y_train)\n",
    "w_=model_perturb.coef_"
   ]
  },
  {
   "cell_type": "code",
   "execution_count": 30,
   "id": "7aff3a7b",
   "metadata": {},
   "outputs": [],
   "source": [
    "small_number=0.0000001\n",
    "w_=w_+small_number\n",
    "w=w+small_number\n",
    "\n",
    "change= (abs((w-w_)/(w))*100)[0]\n",
    "\n",
    "\n"
   ]
  },
  {
   "cell_type": "code",
   "execution_count": 31,
   "id": "0fcf931b",
   "metadata": {},
   "outputs": [
    {
     "data": {
      "text/plain": [
       "{'Age': 0.0218,\n",
       " 'Cholesterol': 0.0024,\n",
       " 'Na_to_K': 0.0002,\n",
       " 'BP_HIGH': 0.0007,\n",
       " 'BP_LOW': 0.0084,\n",
       " 'BP_NORMAL': 0.0001}"
      ]
     },
     "execution_count": 31,
     "metadata": {},
     "output_type": "execute_result"
    }
   ],
   "source": [
    "dict(zip(X.columns,change.round(4)))"
   ]
  },
  {
   "cell_type": "markdown",
   "id": "7ee24a8f",
   "metadata": {},
   "source": [
    "##### inference-  no multicollinearity exist"
   ]
  },
  {
   "cell_type": "markdown",
   "id": "22f74433",
   "metadata": {},
   "source": [
    "## lets predict the test data on model"
   ]
  },
  {
   "cell_type": "code",
   "execution_count": 32,
   "id": "6a78ea80",
   "metadata": {},
   "outputs": [],
   "source": [
    "y_pred0=model.predict(X_test)\n"
   ]
  },
  {
   "cell_type": "code",
   "execution_count": 33,
   "id": "458500eb",
   "metadata": {},
   "outputs": [
    {
     "name": "stdout",
     "output_type": "stream",
     "text": [
      "0.975\n"
     ]
    }
   ],
   "source": [
    "#letc check the accuracy of the model\n",
    "\n",
    "#ACCURACY\n",
    "\n",
    "score_lr= model.score(X_test,y_test)\n",
    "print(score_lr)"
   ]
  },
  {
   "cell_type": "code",
   "execution_count": 34,
   "id": "f8e9de51",
   "metadata": {},
   "outputs": [
    {
     "data": {
      "text/plain": [
       "Index(['DrugY', 'drugX', 'drugA', 'drugC', 'drugB'], dtype='object')"
      ]
     },
     "execution_count": 34,
     "metadata": {},
     "output_type": "execute_result"
    }
   ],
   "source": [
    "y.value_counts().index"
   ]
  },
  {
   "cell_type": "code",
   "execution_count": 35,
   "id": "5722fab8",
   "metadata": {},
   "outputs": [
    {
     "name": "stdout",
     "output_type": "stream",
     "text": [
      "Confusion matrix\n",
      "[[19  0  0  0  0]\n",
      " [ 0 10  0  0  0]\n",
      " [ 0  0  3  0  0]\n",
      " [ 0  0  0  4  0]\n",
      " [ 0  0  1  0  3]]\n"
     ]
    }
   ],
   "source": [
    "actual=y_test\n",
    "predicted=y_pred0\n",
    "results= confusion_matrix(actual,predicted,labels=y.value_counts().index)\n",
    "print(\"Confusion matrix\")\n",
    "print(results)"
   ]
  },
  {
   "cell_type": "markdown",
   "id": "b99ca1a8",
   "metadata": {},
   "source": [
    "##### inference \n",
    "1) DRUG Y\n",
    "TP =  19 ,\n",
    "TN= (10+4+4+4),\n",
    "FN= 0,\n",
    "FP = 0\n",
    "2) DRUX X\n",
    "TP= 10,\n",
    "TN= (19+3+4+4),\n",
    "FN= 0,\n",
    "FP= 0\n",
    "\n",
    "model has predicted correctly"
   ]
  },
  {
   "cell_type": "code",
   "execution_count": 36,
   "id": "8f911203",
   "metadata": {},
   "outputs": [
    {
     "name": "stdout",
     "output_type": "stream",
     "text": [
      "              precision    recall  f1-score   support\n",
      "\n",
      "       DrugY       1.00      1.00      1.00        19\n",
      "       drugX       0.75      1.00      0.86         3\n",
      "       drugB       1.00      0.75      0.86         4\n",
      "       drugC       1.00      1.00      1.00         4\n",
      "       drugA       1.00      1.00      1.00        10\n",
      "\n",
      "    accuracy                           0.97        40\n",
      "   macro avg       0.95      0.95      0.94        40\n",
      "weighted avg       0.98      0.97      0.97        40\n",
      "\n"
     ]
    }
   ],
   "source": [
    "#lets calculate recall(TPR) and precision\n",
    "\n",
    "from sklearn.metrics import classification_report\n",
    "\n",
    "print(classification_report(actual,predicted,target_names=y_test.value_counts().index))"
   ]
  },
  {
   "cell_type": "markdown",
   "id": "025141bc",
   "metadata": {},
   "source": [
    "\n",
    "## class imbalance using SMOTE\n",
    "by default SMOTE will oversample all classes to have the same number of classes equal as the class with the most examples"
   ]
  },
  {
   "cell_type": "code",
   "execution_count": 177,
   "id": "2c9ca3ce",
   "metadata": {},
   "outputs": [
    {
     "data": {
      "text/plain": [
       "DrugY    91\n",
       "drugX    54\n",
       "drugA    23\n",
       "drugC    16\n",
       "drugB    16\n",
       "Name: Drug, dtype: int64"
      ]
     },
     "execution_count": 177,
     "metadata": {},
     "output_type": "execute_result"
    }
   ],
   "source": [
    "y.value_counts()"
   ]
  },
  {
   "cell_type": "code",
   "execution_count": null,
   "id": "f7390f2b",
   "metadata": {},
   "outputs": [],
   "source": []
  },
  {
   "cell_type": "code",
   "execution_count": 181,
   "id": "01385edb",
   "metadata": {},
   "outputs": [
    {
     "data": {
      "text/plain": [
       "array([[-0.71529099,  0.93933644,  2.57283241, -0.77459667,  1.46193533,\n",
       "        -0.6644106 ],\n",
       "       [ 0.25975956, -1.06458129, -0.99509935,  1.29099445, -0.68402479,\n",
       "        -0.6644106 ],\n",
       "       [-1.50751956, -1.06458129, -0.9114647 , -0.77459667, -0.68402479,\n",
       "         1.50509339],\n",
       "       [ 1.23481011, -1.06458129,  2.34107375,  1.29099445, -0.68402479,\n",
       "        -0.6644106 ],\n",
       "       [ 0.1988189 ,  0.93933644, -0.08303546, -0.77459667,  1.46193533,\n",
       "        -0.6644106 ],\n",
       "       [ 0.01599692, -1.06458129, -0.80551789, -0.77459667,  1.46193533,\n",
       "        -0.6644106 ],\n",
       "       [ 0.80822549, -1.06458129, -0.19776319,  1.29099445, -0.68402479,\n",
       "        -0.6644106 ],\n",
       "       [-0.83717231, -1.06458129, -0.53863555,  1.29099445, -0.68402479,\n",
       "        -0.6644106 ],\n",
       "       [ 0.62540352, -1.06458129, -1.20224265, -0.77459667, -0.68402479,\n",
       "         1.50509339],\n",
       "       [-1.01999429,  0.93933644,  0.58474617, -0.77459667, -0.68402479,\n",
       "         1.50509339],\n",
       "       [ 1.53951341,  0.93933644, -0.8297014 ,  1.29099445, -0.68402479,\n",
       "        -0.6644106 ],\n",
       "       [ 0.32070022,  0.93933644, -1.16927822,  1.29099445, -0.68402479,\n",
       "        -0.6644106 ],\n",
       "       [ 0.32070022, -1.06458129,  0.02550245, -0.77459667, -0.68402479,\n",
       "         1.50509339],\n",
       "       [-1.01999429,  0.93933644,  1.64838886, -0.77459667, -0.68402479,\n",
       "         1.50509339],\n",
       "       [-1.32469758,  0.93933644, -1.09428054,  1.29099445, -0.68402479,\n",
       "        -0.6644106 ],\n",
       "       [ 0.74728484, -1.06458129, -0.81588225,  1.29099445, -0.68402479,\n",
       "        -0.6644106 ],\n",
       "       [ 0.13787824,  0.93933644, -0.5536063 , -0.77459667,  1.46193533,\n",
       "        -0.6644106 ],\n",
       "       [ 1.72233539,  0.93933644,  0.39372521,  1.29099445, -0.68402479,\n",
       "        -0.6644106 ],\n",
       "       [-1.1418756 , -1.06458129,  0.51075614,  1.29099445, -0.68402479,\n",
       "        -0.6644106 ],\n",
       "       [ 1.35669143, -1.06458129,  0.73128674, -0.77459667,  1.46193533,\n",
       "        -0.6644106 ],\n",
       "       [ 1.17386945,  0.93933644, -1.13026791, -0.77459667, -0.68402479,\n",
       "         1.50509339],\n",
       "       [-0.16682506,  0.93933644,  0.63340109, -0.77459667,  1.46193533,\n",
       "        -0.6644106 ],\n",
       "       [-0.59340967, -1.06458129, -0.92744309, -0.77459667,  1.46193533,\n",
       "        -0.6644106 ],\n",
       "       [ 0.99104747,  0.93933644, -0.88814489, -0.77459667, -0.68402479,\n",
       "         1.50509339],\n",
       "       [ 0.93010681,  0.93933644, -0.06360228, -0.77459667, -0.68402479,\n",
       "         1.50509339],\n",
       "       [ 1.41763209,  0.93933644, -0.66272   ,  1.29099445, -0.68402479,\n",
       "        -0.6644106 ],\n",
       "       [-0.47152835, -1.06458129,  0.15995126, -0.77459667,  1.46193533,\n",
       "        -0.6644106 ],\n",
       "       [ 1.05198813,  0.93933644,  0.14123783, -0.77459667, -0.68402479,\n",
       "         1.50509339],\n",
       "       [-0.77623165, -1.06458129, -0.88785699,  1.29099445, -0.68402479,\n",
       "        -0.6644106 ],\n",
       "       [ 0.01599692, -1.06458129, -1.04260268, -0.77459667,  1.46193533,\n",
       "        -0.6644106 ],\n",
       "       [-0.34964703, -1.06458129,  1.01976149, -0.77459667,  1.46193533,\n",
       "        -0.6644106 ],\n",
       "       [ 1.78327604,  0.93933644,  0.76713016, -0.77459667,  1.46193533,\n",
       "        -0.6644106 ],\n",
       "       [-0.65435033, -1.06458129, -0.3872007 , -0.77459667,  1.46193533,\n",
       "        -0.6644106 ],\n",
       "       [ 0.93010681,  0.93933644, -0.24166778,  1.29099445, -0.68402479,\n",
       "        -0.6644106 ],\n",
       "       [-0.83717231, -1.06458129, -0.63133902,  1.29099445, -0.68402479,\n",
       "        -0.6644106 ],\n",
       "       [ 0.32070022, -1.06458129, -0.47760098, -0.77459667, -0.68402479,\n",
       "         1.50509339],\n",
       "       [ 1.66139473,  0.93933644,  0.10035618, -0.77459667,  1.46193533,\n",
       "        -0.6644106 ],\n",
       "       [ 0.5035222 ,  0.93933644,  1.05805205, -0.77459667,  1.46193533,\n",
       "        -0.6644106 ],\n",
       "       [ 1.53951341,  0.93933644,  0.70192105, -0.77459667, -0.68402479,\n",
       "         1.50509339],\n",
       "       [-0.41058769, -1.06458129,  2.05303084, -0.77459667,  1.46193533,\n",
       "        -0.6644106 ],\n",
       "       [-0.22776571,  0.93933644, -0.65868942, -0.77459667,  1.46193533,\n",
       "        -0.6644106 ],\n",
       "       [-1.62940088, -1.06458129, -0.98790187, -0.77459667, -0.68402479,\n",
       "         1.50509339],\n",
       "       [-1.20281626,  0.93933644,  0.48916372, -0.77459667, -0.68402479,\n",
       "         1.50509339],\n",
       "       [ 0.25975956, -1.06458129, -0.29003481, -0.77459667,  1.46193533,\n",
       "        -0.6644106 ],\n",
       "       [ 0.01599692,  0.93933644,  0.33657727, -0.77459667,  1.46193533,\n",
       "        -0.6644106 ],\n",
       "       [ 0.07693758, -1.06458129, -1.19878786, -0.77459667, -0.68402479,\n",
       "         1.50509339],\n",
       "       [-1.32469758,  0.93933644,  1.4023792 ,  1.29099445, -0.68402479,\n",
       "        -0.6644106 ],\n",
       "       [ 1.23481011, -1.06458129,  2.79034007,  1.29099445, -0.68402479,\n",
       "        -0.6644106 ],\n",
       "       [ 1.29575077, -1.06458129, -1.08046139, -0.77459667, -0.68402479,\n",
       "         1.50509339],\n",
       "       [-0.59340967,  0.93933644, -0.39137524,  1.29099445, -0.68402479,\n",
       "        -0.6644106 ],\n",
       "       [ 1.72233539,  0.93933644,  0.51939311, -0.77459667, -0.68402479,\n",
       "         1.50509339],\n",
       "       [-0.65435033,  0.93933644,  0.44482728,  1.29099445, -0.68402479,\n",
       "        -0.6644106 ],\n",
       "       [-1.1418756 , -1.06458129, -0.47587358,  1.29099445, -0.68402479,\n",
       "        -0.6644106 ],\n",
       "       [-0.47152835,  0.93933644, -0.36301719,  1.29099445, -0.68402479,\n",
       "        -0.6644106 ],\n",
       "       [-1.56846022, -1.06458129,  1.49076418,  1.29099445, -0.68402479,\n",
       "        -0.6644106 ],\n",
       "       [-1.38563824,  0.93933644, -1.00848665, -0.77459667, -0.68402479,\n",
       "         1.50509339],\n",
       "       [ 1.47857275, -1.06458129, -0.59851854, -0.77459667,  1.46193533,\n",
       "        -0.6644106 ],\n",
       "       [-1.50751956,  0.93933644, -0.62630079,  1.29099445, -0.68402479,\n",
       "        -0.6644106 ],\n",
       "       [ 1.41763209, -1.06458129,  1.64637357, -0.77459667, -0.68402479,\n",
       "         1.50509339],\n",
       "       [-0.83717231, -1.06458129,  0.20961383,  1.29099445, -0.68402479,\n",
       "        -0.6644106 ],\n",
       "       [-1.26375692, -1.06458129, -0.8835385 ,  1.29099445, -0.68402479,\n",
       "        -0.6644106 ],\n",
       "       [ 0.68634418,  0.93933644, -0.5823962 , -0.77459667,  1.46193533,\n",
       "        -0.6644106 ],\n",
       "       [-0.34964703, -1.06458129, -0.84985432, -0.77459667, -0.68402479,\n",
       "         1.50509339],\n",
       "       [ 0.25975956, -1.06458129, -0.89706975, -0.77459667, -0.68402479,\n",
       "         1.50509339],\n",
       "       [ 1.41763209, -1.06458129, -0.78075858,  1.29099445, -0.68402479,\n",
       "        -0.6644106 ],\n",
       "       [ 1.78327604, -1.06458129, -0.02545567,  1.29099445, -0.68402479,\n",
       "        -0.6644106 ],\n",
       "       [ 0.99104747, -1.06458129, -1.19087064, -0.77459667,  1.46193533,\n",
       "        -0.6644106 ],\n",
       "       [ 0.86916615,  0.93933644, -0.24886526, -0.77459667, -0.68402479,\n",
       "         1.50509339],\n",
       "       [-1.4465789 , -1.06458129,  1.87410164,  1.29099445, -0.68402479,\n",
       "        -0.6644106 ],\n",
       "       [ 0.93010681, -1.06458129, -1.00647136,  1.29099445, -0.68402479,\n",
       "        -0.6644106 ],\n",
       "       [ 1.47857275,  0.93933644, -0.01940979, -0.77459667,  1.46193533,\n",
       "        -0.6644106 ],\n",
       "       [-0.1058844 , -1.06458129,  0.54055368, -0.77459667,  1.46193533,\n",
       "        -0.6644106 ],\n",
       "       [ 0.25975956,  0.93933644,  0.09531795, -0.77459667, -0.68402479,\n",
       "         1.50509339],\n",
       "       [-0.89811297,  0.93933644, -0.74419541, -0.77459667, -0.68402479,\n",
       "         1.50509339],\n",
       "       [ 1.35669143, -1.06458129, -0.87792447, -0.77459667, -0.68402479,\n",
       "         1.50509339],\n",
       "       [-0.65435033,  0.93933644,  0.98506967, -0.77459667, -0.68402479,\n",
       "         1.50509339],\n",
       "       [-0.41058769,  0.93933644,  0.38609589, -0.77459667,  1.46193533,\n",
       "        -0.6644106 ],\n",
       "       [-1.7512822 ,  0.93933644, -0.51920237, -0.77459667,  1.46193533,\n",
       "        -0.6644106 ],\n",
       "       [ 0.74728484,  0.93933644, -0.20107403, -0.77459667, -0.68402479,\n",
       "         1.50509339],\n",
       "       [ 1.17386945, -1.06458129,  1.4579437 , -0.77459667,  1.46193533,\n",
       "        -0.6644106 ],\n",
       "       [ 0.32070022, -1.06458129,  0.23005466, -0.77459667, -0.68402479,\n",
       "         1.50509339],\n",
       "       [ 1.11292879,  0.93933644,  1.48327881, -0.77459667, -0.68402479,\n",
       "         1.50509339],\n",
       "       [-0.65435033, -1.06458129,  0.51622622,  1.29099445, -0.68402479,\n",
       "        -0.6644106 ],\n",
       "       [-1.69034154, -1.06458129, -0.68819906, -0.77459667, -0.68402479,\n",
       "         1.50509339],\n",
       "       [-1.01999429,  0.93933644, -1.12494178, -0.77459667, -0.68402479,\n",
       "         1.50509339],\n",
       "       [ 0.38164088,  0.93933644, -0.29017876, -0.77459667, -0.68402479,\n",
       "         1.50509339],\n",
       "       [ 0.38164088, -1.06458129,  1.06381003, -0.77459667,  1.46193533,\n",
       "        -0.6644106 ],\n",
       "       [-0.22776571, -1.06458129, -0.06576152,  1.29099445, -0.68402479,\n",
       "        -0.6644106 ],\n",
       "       [ 0.62540352,  0.93933644, -0.66732639,  1.29099445, -0.68402479,\n",
       "        -0.6644106 ],\n",
       "       [-1.32469758,  0.93933644,  2.31372335, -0.77459667, -0.68402479,\n",
       "         1.50509339],\n",
       "       [-0.28870637,  0.93933644, -0.79313823, -0.77459667, -0.68402479,\n",
       "         1.50509339],\n",
       "       [ 1.35669143, -1.06458129, -0.6786984 , -0.77459667, -0.68402479,\n",
       "         1.50509339],\n",
       "       [ 0.13787824,  0.93933644, -0.36272929, -0.77459667,  1.46193533,\n",
       "        -0.6644106 ],\n",
       "       [-1.32469758,  0.93933644, -1.19691652, -0.77459667,  1.46193533,\n",
       "        -0.6644106 ],\n",
       "       [-0.1058844 ,  0.93933644, -0.03409263, -0.77459667,  1.46193533,\n",
       "        -0.6644106 ],\n",
       "       [ 0.1988189 , -1.06458129, -0.74376356,  1.29099445, -0.68402479,\n",
       "        -0.6644106 ],\n",
       "       [ 1.23481011, -1.06458129, -0.61507273,  1.29099445, -0.68402479,\n",
       "        -0.6644106 ],\n",
       "       [-1.01999429, -1.06458129,  0.46008592,  1.29099445, -0.68402479,\n",
       "        -0.6644106 ],\n",
       "       [ 0.01599692,  0.93933644, -0.39713322,  1.29099445, -0.68402479,\n",
       "        -0.6644106 ],\n",
       "       [-1.32469758,  0.93933644, -0.48263921, -0.77459667, -0.68402479,\n",
       "         1.50509339],\n",
       "       [-0.77623165,  0.93933644, -1.17114956, -0.77459667, -0.68402479,\n",
       "         1.50509339],\n",
       "       [ 0.68634418,  0.93933644, -0.95680879, -0.77459667, -0.68402479,\n",
       "         1.50509339],\n",
       "       [ 0.32070022,  0.93933644, -0.41886959, -0.77459667, -0.68402479,\n",
       "         1.50509339],\n",
       "       [-0.16682506,  0.93933644,  0.78066141,  1.29099445, -0.68402479,\n",
       "        -0.6644106 ],\n",
       "       [ 0.38164088,  0.93933644,  0.38609589,  1.29099445, -0.68402479,\n",
       "        -0.6644106 ],\n",
       "       [-0.28870637, -1.06458129, -0.61377718, -0.77459667,  1.46193533,\n",
       "        -0.6644106 ],\n",
       "       [ 1.53951341,  0.93933644, -0.23691745,  1.29099445, -0.68402479,\n",
       "        -0.6644106 ],\n",
       "       [-1.7512822 , -1.06458129, -0.01393971,  1.29099445, -0.68402479,\n",
       "        -0.6644106 ],\n",
       "       [-0.47152835, -1.06458129, -0.51920237, -0.77459667,  1.46193533,\n",
       "        -0.6644106 ],\n",
       "       [ 0.13787824, -1.06458129,  2.15278783, -0.77459667,  1.46193533,\n",
       "        -0.6644106 ],\n",
       "       [ 0.38164088, -1.06458129, -0.61464088,  1.29099445, -0.68402479,\n",
       "        -0.6644106 ],\n",
       "       [ 0.93010681, -1.06458129, -0.79486562, -0.77459667, -0.68402479,\n",
       "         1.50509339],\n",
       "       [-1.1418756 , -1.06458129,  0.76237983, -0.77459667,  1.46193533,\n",
       "        -0.6644106 ],\n",
       "       [ 0.93010681,  0.93933644, -0.3324999 ,  1.29099445, -0.68402479,\n",
       "        -0.6644106 ],\n",
       "       [-1.62940088, -1.06458129,  1.24705772,  1.29099445, -0.68402479,\n",
       "        -0.6644106 ],\n",
       "       [ 1.66139473,  0.93933644, -1.27306579, -0.77459667,  1.46193533,\n",
       "        -0.6644106 ],\n",
       "       [ 0.44258154, -1.06458129,  2.4916449 , -0.77459667,  1.46193533,\n",
       "        -0.6644106 ],\n",
       "       [-0.53246901,  0.93933644, -0.63551355,  1.29099445, -0.68402479,\n",
       "        -0.6644106 ],\n",
       "       [ 0.5035222 ,  0.93933644, -0.21302184, -0.77459667, -0.68402479,\n",
       "         1.50509339],\n",
       "       [ 0.25975956,  0.93933644, -0.73066416, -0.77459667,  1.46193533,\n",
       "        -0.6644106 ],\n",
       "       [ 0.68634418,  0.93933644, -0.0860584 , -0.77459667,  1.46193533,\n",
       "        -0.6644106 ],\n",
       "       [-0.77623165, -1.06458129, -0.76593178,  1.29099445, -0.68402479,\n",
       "        -0.6644106 ],\n",
       "       [ 0.68634418,  0.93933644,  1.40813718,  1.29099445, -0.68402479,\n",
       "        -0.6644106 ],\n",
       "       [-1.01999429,  0.93933644, -0.35783501, -0.77459667,  1.46193533,\n",
       "        -0.6644106 ],\n",
       "       [-0.95905363,  0.93933644,  1.99185232,  1.29099445, -0.68402479,\n",
       "        -0.6644106 ],\n",
       "       [ 0.5035222 , -1.06458129, -0.44881108,  1.29099445, -0.68402479,\n",
       "        -0.6644106 ],\n",
       "       [-1.81222286, -1.06458129,  0.16009521,  1.29099445, -0.68402479,\n",
       "        -0.6644106 ],\n",
       "       [-0.47152835, -1.06458129, -0.95652089, -0.77459667,  1.46193533,\n",
       "        -0.6644106 ],\n",
       "       [ 1.78327604, -1.06458129, -0.52884699, -0.77459667,  1.46193533,\n",
       "        -0.6644106 ],\n",
       "       [ 0.13787824,  0.93933644, -0.74995339,  1.29099445, -0.68402479,\n",
       "        -0.6644106 ],\n",
       "       [-0.22776571, -1.06458129,  0.45000946, -0.77459667,  1.46193533,\n",
       "        -0.6644106 ],\n",
       "       [ 0.44258154,  0.93933644, -0.82322367, -0.77459667, -0.68402479,\n",
       "         1.50509339],\n",
       "       [-1.81222286,  0.93933644, -0.93982275, -0.77459667, -0.68402479,\n",
       "         1.50509339],\n",
       "       [ 0.13787824,  0.93933644, -0.79832041, -0.77459667,  1.46193533,\n",
       "        -0.6644106 ],\n",
       "       [ 0.13787824,  0.93933644, -0.79155479, -0.77459667,  1.46193533,\n",
       "        -0.6644106 ],\n",
       "       [-1.1418756 ,  0.93933644, -0.2091352 , -0.77459667,  1.46193533,\n",
       "        -0.6644106 ],\n",
       "       [-1.01999429,  0.93933644,  0.60216406, -0.77459667,  1.46193533,\n",
       "        -0.6644106 ],\n",
       "       [ 0.56446286,  0.93933644,  1.30204642, -0.77459667, -0.68402479,\n",
       "         1.50509339],\n",
       "       [ 0.80822549,  0.93933644,  0.48628473,  1.29099445, -0.68402479,\n",
       "        -0.6644106 ],\n",
       "       [-1.7512822 , -1.06458129,  0.48858792,  1.29099445, -0.68402479,\n",
       "        -0.6644106 ],\n",
       "       [-1.56846022,  0.93933644, -0.33106041,  1.29099445, -0.68402479,\n",
       "        -0.6644106 ],\n",
       "       [ 0.07693758,  0.93933644,  2.74557178,  1.29099445, -0.68402479,\n",
       "        -0.6644106 ],\n",
       "       [ 1.66139473, -1.06458129, -0.13975155, -0.77459667,  1.46193533,\n",
       "        -0.6644106 ],\n",
       "       [ 0.13787824, -1.06458129, -1.28544544, -0.77459667, -0.68402479,\n",
       "         1.50509339],\n",
       "       [-0.16682506, -1.06458129, -0.40980077,  1.29099445, -0.68402479,\n",
       "        -0.6644106 ],\n",
       "       [ 0.25975956, -1.06458129, -0.66200026, -0.77459667,  1.46193533,\n",
       "        -0.6644106 ],\n",
       "       [-0.22776571, -1.06458129,  1.04970298, -0.77459667, -0.68402479,\n",
       "         1.50509339],\n",
       "       [ 1.41763209,  0.93933644, -0.76607573, -0.77459667,  1.46193533,\n",
       "        -0.6644106 ],\n",
       "       [-1.32469758, -1.06458129, -0.22928813, -0.77459667, -0.68402479,\n",
       "         1.50509339],\n",
       "       [ 1.23481011, -1.06458129, -0.26541945, -0.77459667,  1.46193533,\n",
       "        -0.6644106 ],\n",
       "       [ 0.80822549,  0.93933644,  3.25817587, -0.77459667,  1.46193533,\n",
       "        -0.6644106 ],\n",
       "       [-0.28870637,  0.93933644,  1.75807836,  1.29099445, -0.68402479,\n",
       "        -0.6644106 ],\n",
       "       [-0.53246901,  0.93933644,  0.1641258 , -0.77459667, -0.68402479,\n",
       "         1.50509339],\n",
       "       [-1.38563824,  0.93933644, -0.5268317 , -0.77459667, -0.68402479,\n",
       "         1.50509339],\n",
       "       [-0.41058769, -1.06458129, -0.61708802,  1.29099445, -0.68402479,\n",
       "        -0.6644106 ],\n",
       "       [-0.1058844 ,  0.93933644, -0.2361977 ,  1.29099445, -0.68402479,\n",
       "        -0.6644106 ],\n",
       "       [-1.50751956, -1.06458129,  2.88275563,  1.29099445, -0.68402479,\n",
       "        -0.6644106 ],\n",
       "       [-0.95905363,  0.93933644, -0.39684532,  1.29099445, -0.68402479,\n",
       "        -0.6644106 ],\n",
       "       [ 1.29575077,  0.93933644,  0.10568231,  1.29099445, -0.68402479,\n",
       "        -0.6644106 ],\n",
       "       [-1.32469758,  0.93933644,  0.1780889 , -0.77459667, -0.68402479,\n",
       "         1.50509339]])"
      ]
     },
     "execution_count": 181,
     "metadata": {},
     "output_type": "execute_result"
    }
   ],
   "source": [
    "X_train,X_test,y_train,y_test=train_test_split(X,y,test_size=0.2,random_state=123)\n",
    "sc=StandardScaler()\n",
    "X_train=sc.fit_transform(X_train)\n",
    "X_test=sc.fit_transform(X_test)\n",
    "X_train"
   ]
  },
  {
   "cell_type": "code",
   "execution_count": 182,
   "id": "9d8ceec8",
   "metadata": {},
   "outputs": [
    {
     "data": {
      "text/plain": [
       "DrugY    68\n",
       "drugA    68\n",
       "drugX    68\n",
       "drugB    68\n",
       "drugC    68\n",
       "Name: Drug, dtype: int64"
      ]
     },
     "execution_count": 182,
     "metadata": {},
     "output_type": "execute_result"
    }
   ],
   "source": [
    "from imblearn.over_sampling import SMOTE\n",
    "smote=SMOTE(sampling_strategy='not majority')\n",
    "X_sm,y_sm=smote.fit_resample(X_train,y_train)\n",
    "y_sm.value_counts()\n"
   ]
  },
  {
   "cell_type": "markdown",
   "id": "849b37af",
   "metadata": {},
   "source": [
    "##### inferene- we have sampled all the minority class except majority class,here majjority class was Drug Y "
   ]
  },
  {
   "cell_type": "code",
   "execution_count": 190,
   "id": "a999c2a6",
   "metadata": {},
   "outputs": [],
   "source": [
    "#always first split teh data into train_test then stanrdize them using any method and the resample the train data"
   ]
  },
  {
   "cell_type": "code",
   "execution_count": 191,
   "id": "c79d360c",
   "metadata": {},
   "outputs": [],
   "source": [
    "#model building\n",
    "\n",
    "lr=LogisticRegression(multi_class='multinomial',solver='lbfgs')"
   ]
  },
  {
   "cell_type": "code",
   "execution_count": 192,
   "id": "30e63073",
   "metadata": {},
   "outputs": [
    {
     "data": {
      "text/html": [
       "<style>#sk-container-id-5 {color: black;background-color: white;}#sk-container-id-5 pre{padding: 0;}#sk-container-id-5 div.sk-toggleable {background-color: white;}#sk-container-id-5 label.sk-toggleable__label {cursor: pointer;display: block;width: 100%;margin-bottom: 0;padding: 0.3em;box-sizing: border-box;text-align: center;}#sk-container-id-5 label.sk-toggleable__label-arrow:before {content: \"▸\";float: left;margin-right: 0.25em;color: #696969;}#sk-container-id-5 label.sk-toggleable__label-arrow:hover:before {color: black;}#sk-container-id-5 div.sk-estimator:hover label.sk-toggleable__label-arrow:before {color: black;}#sk-container-id-5 div.sk-toggleable__content {max-height: 0;max-width: 0;overflow: hidden;text-align: left;background-color: #f0f8ff;}#sk-container-id-5 div.sk-toggleable__content pre {margin: 0.2em;color: black;border-radius: 0.25em;background-color: #f0f8ff;}#sk-container-id-5 input.sk-toggleable__control:checked~div.sk-toggleable__content {max-height: 200px;max-width: 100%;overflow: auto;}#sk-container-id-5 input.sk-toggleable__control:checked~label.sk-toggleable__label-arrow:before {content: \"▾\";}#sk-container-id-5 div.sk-estimator input.sk-toggleable__control:checked~label.sk-toggleable__label {background-color: #d4ebff;}#sk-container-id-5 div.sk-label input.sk-toggleable__control:checked~label.sk-toggleable__label {background-color: #d4ebff;}#sk-container-id-5 input.sk-hidden--visually {border: 0;clip: rect(1px 1px 1px 1px);clip: rect(1px, 1px, 1px, 1px);height: 1px;margin: -1px;overflow: hidden;padding: 0;position: absolute;width: 1px;}#sk-container-id-5 div.sk-estimator {font-family: monospace;background-color: #f0f8ff;border: 1px dotted black;border-radius: 0.25em;box-sizing: border-box;margin-bottom: 0.5em;}#sk-container-id-5 div.sk-estimator:hover {background-color: #d4ebff;}#sk-container-id-5 div.sk-parallel-item::after {content: \"\";width: 100%;border-bottom: 1px solid gray;flex-grow: 1;}#sk-container-id-5 div.sk-label:hover label.sk-toggleable__label {background-color: #d4ebff;}#sk-container-id-5 div.sk-serial::before {content: \"\";position: absolute;border-left: 1px solid gray;box-sizing: border-box;top: 0;bottom: 0;left: 50%;z-index: 0;}#sk-container-id-5 div.sk-serial {display: flex;flex-direction: column;align-items: center;background-color: white;padding-right: 0.2em;padding-left: 0.2em;position: relative;}#sk-container-id-5 div.sk-item {position: relative;z-index: 1;}#sk-container-id-5 div.sk-parallel {display: flex;align-items: stretch;justify-content: center;background-color: white;position: relative;}#sk-container-id-5 div.sk-item::before, #sk-container-id-5 div.sk-parallel-item::before {content: \"\";position: absolute;border-left: 1px solid gray;box-sizing: border-box;top: 0;bottom: 0;left: 50%;z-index: -1;}#sk-container-id-5 div.sk-parallel-item {display: flex;flex-direction: column;z-index: 1;position: relative;background-color: white;}#sk-container-id-5 div.sk-parallel-item:first-child::after {align-self: flex-end;width: 50%;}#sk-container-id-5 div.sk-parallel-item:last-child::after {align-self: flex-start;width: 50%;}#sk-container-id-5 div.sk-parallel-item:only-child::after {width: 0;}#sk-container-id-5 div.sk-dashed-wrapped {border: 1px dashed gray;margin: 0 0.4em 0.5em 0.4em;box-sizing: border-box;padding-bottom: 0.4em;background-color: white;}#sk-container-id-5 div.sk-label label {font-family: monospace;font-weight: bold;display: inline-block;line-height: 1.2em;}#sk-container-id-5 div.sk-label-container {text-align: center;}#sk-container-id-5 div.sk-container {/* jupyter's `normalize.less` sets `[hidden] { display: none; }` but bootstrap.min.css set `[hidden] { display: none !important; }` so we also need the `!important` here to be able to override the default hidden behavior on the sphinx rendered scikit-learn.org. See: https://github.com/scikit-learn/scikit-learn/issues/21755 */display: inline-block !important;position: relative;}#sk-container-id-5 div.sk-text-repr-fallback {display: none;}</style><div id=\"sk-container-id-5\" class=\"sk-top-container\"><div class=\"sk-text-repr-fallback\"><pre>LogisticRegression(multi_class=&#x27;multinomial&#x27;)</pre><b>In a Jupyter environment, please rerun this cell to show the HTML representation or trust the notebook. <br />On GitHub, the HTML representation is unable to render, please try loading this page with nbviewer.org.</b></div><div class=\"sk-container\" hidden><div class=\"sk-item\"><div class=\"sk-estimator sk-toggleable\"><input class=\"sk-toggleable__control sk-hidden--visually\" id=\"sk-estimator-id-5\" type=\"checkbox\" checked><label for=\"sk-estimator-id-5\" class=\"sk-toggleable__label sk-toggleable__label-arrow\">LogisticRegression</label><div class=\"sk-toggleable__content\"><pre>LogisticRegression(multi_class=&#x27;multinomial&#x27;)</pre></div></div></div></div></div>"
      ],
      "text/plain": [
       "LogisticRegression(multi_class='multinomial')"
      ]
     },
     "execution_count": 192,
     "metadata": {},
     "output_type": "execute_result"
    }
   ],
   "source": [
    "lr.fit(X_sm,y_sm)"
   ]
  },
  {
   "cell_type": "code",
   "execution_count": 193,
   "id": "41891e68",
   "metadata": {},
   "outputs": [
    {
     "data": {
      "text/plain": [
       "array([[-0.0207841 , -0.41597575,  4.92116246, -0.2746796 , -0.04731414,\n",
       "         0.33633103],\n",
       "       [-1.68811708,  0.2536325 , -1.84472009,  1.56252074, -0.77866589,\n",
       "        -0.85391703],\n",
       "       [ 2.33892366, -0.21836106, -0.53598182,  1.35287218, -0.99544067,\n",
       "        -0.41456868],\n",
       "       [-0.67324287,  1.73747868, -1.49317764, -0.85245278,  1.60457946,\n",
       "        -0.72684692],\n",
       "       [ 0.0432204 , -1.35677436, -1.04728291, -1.78826054,  0.21684123,\n",
       "         1.6590016 ]])"
      ]
     },
     "execution_count": 193,
     "metadata": {},
     "output_type": "execute_result"
    }
   ],
   "source": [
    "lr.coef_"
   ]
  },
  {
   "cell_type": "code",
   "execution_count": 194,
   "id": "3e8f5a1a",
   "metadata": {},
   "outputs": [
    {
     "data": {
      "text/html": [
       "<div>\n",
       "<style scoped>\n",
       "    .dataframe tbody tr th:only-of-type {\n",
       "        vertical-align: middle;\n",
       "    }\n",
       "\n",
       "    .dataframe tbody tr th {\n",
       "        vertical-align: top;\n",
       "    }\n",
       "\n",
       "    .dataframe thead th {\n",
       "        text-align: right;\n",
       "    }\n",
       "</style>\n",
       "<table border=\"1\" class=\"dataframe\">\n",
       "  <thead>\n",
       "    <tr style=\"text-align: right;\">\n",
       "      <th></th>\n",
       "      <th>columns</th>\n",
       "      <th>coeff</th>\n",
       "    </tr>\n",
       "  </thead>\n",
       "  <tbody>\n",
       "    <tr>\n",
       "      <th>0</th>\n",
       "      <td>Age</td>\n",
       "      <td>-0.020784</td>\n",
       "    </tr>\n",
       "    <tr>\n",
       "      <th>1</th>\n",
       "      <td>Cholesterol</td>\n",
       "      <td>-0.415976</td>\n",
       "    </tr>\n",
       "    <tr>\n",
       "      <th>2</th>\n",
       "      <td>Na_to_K</td>\n",
       "      <td>4.921162</td>\n",
       "    </tr>\n",
       "    <tr>\n",
       "      <th>3</th>\n",
       "      <td>BP_HIGH</td>\n",
       "      <td>-0.274680</td>\n",
       "    </tr>\n",
       "    <tr>\n",
       "      <th>4</th>\n",
       "      <td>BP_LOW</td>\n",
       "      <td>-0.047314</td>\n",
       "    </tr>\n",
       "    <tr>\n",
       "      <th>5</th>\n",
       "      <td>BP_NORMAL</td>\n",
       "      <td>0.336331</td>\n",
       "    </tr>\n",
       "  </tbody>\n",
       "</table>\n",
       "</div>"
      ],
      "text/plain": [
       "       columns     coeff\n",
       "0          Age -0.020784\n",
       "1  Cholesterol -0.415976\n",
       "2      Na_to_K  4.921162\n",
       "3      BP_HIGH -0.274680\n",
       "4       BP_LOW -0.047314\n",
       "5    BP_NORMAL  0.336331"
      ]
     },
     "execution_count": 194,
     "metadata": {},
     "output_type": "execute_result"
    }
   ],
   "source": [
    "df_coeff= pd.DataFrame({\"columns\": X.columns,\"coeff\": lr.coef_[0]})\n",
    "df_coeff"
   ]
  },
  {
   "cell_type": "markdown",
   "id": "7e8fa8bb",
   "metadata": {},
   "source": [
    "#### "
   ]
  },
  {
   "cell_type": "markdown",
   "id": "43733510",
   "metadata": {},
   "source": [
    "#### lets check evaluation metrics"
   ]
  },
  {
   "cell_type": "code",
   "execution_count": 195,
   "id": "ab2001b1",
   "metadata": {},
   "outputs": [],
   "source": [
    "from sklearn.metrics import accuracy_score,roc_auc_score,plot_roc_curve\n",
    "def compute_evaluation_metric(model,X_test,y_actual,y_pred,y_pred_prob):\n",
    "    cm=confusion_matrix(y_actual,y_pred,labels=y.value_counts().index)\n",
    "    print(f\"confusion matrix -\\n {cm}\\n\")\n",
    "    print(f\"accuracy score : {accuracy_score(y_actual,y_pred)}\")\n",
    "    print(f\"macro averaged OvR AUC score : {roc_auc_score(y_actual,y_pred_prob,multi_class='ovr',average='macro')}\")\n",
    "    #way to find entire multiclass confusion matrix\n",
    "    TP=(np.diag(cm))\n",
    "    \n",
    "    FP=(cm.sum(axis=0)-np.diag(cm))\n",
    "    #print(FP)\n",
    "    FN=(cm.sum(axis=1)-np.diag(cm))\n",
    "    #print(FN)\n",
    "    #print(f\"cm sum -{cm.sum()}\")\n",
    "    TN=cm.sum()-(FP+FN+TP)\n",
    "    #print(TN)\n",
    "    \n",
    "    TPR=np.round(np.mean(TP/(TP+FN)),4)\n",
    "    FNR=np.round(np.mean(FN/(TP+FN)),4)\n",
    "    TNR=np.round(np.mean(TN/(TN+FP)),4)\n",
    "    FPR=np.round(np.mean(FP/(FP+TN)),4)\n",
    "    print(f\"TPR/Recall is {TPR}\")\n",
    "    print(f\"TNR/Specifity is {TNR}\")\n",
    "    print(f\"FNR is {FNR}\")\n",
    "    print(f\"FPR is {FPR}\" )\n",
    "    print(f\"\\n classification report - :\\n {classification_report(y_actual,y_pred)}\")\n",
    "    #plot_roc_curve(model,y_actual,y_pred_prob)\n",
    "    #plt.show()"
   ]
  },
  {
   "cell_type": "code",
   "execution_count": 196,
   "id": "38c324b8",
   "metadata": {},
   "outputs": [
    {
     "name": "stdout",
     "output_type": "stream",
     "text": [
      "confusion matrix -\n",
      " [[18  3  2  0  0]\n",
      " [ 0  9  0  0  0]\n",
      " [ 0  0  2  0  0]\n",
      " [ 0  0  0  3  0]\n",
      " [ 0  0  0  0  3]]\n",
      "\n",
      "accuracy score : 0.875\n",
      "macro averaged OvR AUC score : 0.9918694585927185\n",
      "TPR/Recall is 0.9565\n",
      "TNR/Specifity is 0.9701\n",
      "FNR is 0.0435\n",
      "FPR is 0.0299\n",
      "\n",
      " classification report - :\n",
      "               precision    recall  f1-score   support\n",
      "\n",
      "       DrugY       1.00      0.78      0.88        23\n",
      "       drugA       0.50      1.00      0.67         2\n",
      "       drugB       1.00      1.00      1.00         3\n",
      "       drugC       1.00      1.00      1.00         3\n",
      "       drugX       0.75      1.00      0.86         9\n",
      "\n",
      "    accuracy                           0.88        40\n",
      "   macro avg       0.85      0.96      0.88        40\n",
      "weighted avg       0.92      0.88      0.88        40\n",
      "\n"
     ]
    }
   ],
   "source": [
    "y_pred=lr.predict(X_test)\n",
    "y_pred_prob=lr.predict_proba(X_test)\n",
    "#y_pred_prob=[x[1] for x in y_pred_prob]\n",
    "\n",
    "compute_evaluation_metric(lr,X_test,y_test,y_pred,y_pred_prob)\n"
   ]
  },
  {
   "cell_type": "markdown",
   "id": "c86a3882",
   "metadata": {},
   "source": [
    "### ROC curves are typically used in binary classification, where the TPR and FPR can be defined unambiguously. In the case of multiclass classification, a notion of TPR or FPR is obtained only after binarizing the output. This can be done in 2 different ways:\n",
    "\n",
    "the One-vs-Rest scheme compares each class against all the others (assumed as one);\n",
    "\n",
    "the One-vs-One scheme compares every unique pairwise combination of classes. "
   ]
  },
  {
   "cell_type": "code",
   "execution_count": 197,
   "id": "01130000",
   "metadata": {},
   "outputs": [],
   "source": [
    "#converting class labels to integers\n",
    "from sklearn.preprocessing import LabelBinarizer\n",
    "lb=LabelBinarizer().fit(y_train)\n",
    "y_encode_test=lb.transform(y_test)"
   ]
  },
  {
   "cell_type": "code",
   "execution_count": 198,
   "id": "96675d83",
   "metadata": {},
   "outputs": [
    {
     "data": {
      "text/plain": [
       "(40, 5)"
      ]
     },
     "execution_count": 198,
     "metadata": {},
     "output_type": "execute_result"
    }
   ],
   "source": [
    "y_encode_test.shape #(n_samples,n_classes)\n"
   ]
  },
  {
   "cell_type": "code",
   "execution_count": 199,
   "id": "ba4138dc",
   "metadata": {},
   "outputs": [
    {
     "name": "stdout",
     "output_type": "stream",
     "text": [
      "class - DrugY\n",
      "TP DrugY - 18\n",
      "FP DrugY - 0\n",
      "TN DrugY - 17\n",
      "FN DrugY - 5\n",
      "TPR is 0.9565217391304348\n",
      "TNR is 0.9701188455008488\n",
      "\n",
      "Mirco-averaged one vs rest ROC AUC score for classid 0 is 1.0\n",
      "class - drugA\n",
      "TP drugA - 2\n",
      "FP drugA - 2\n",
      "TN drugA - 36\n",
      "FN drugA - 0\n",
      "TPR is 0.9565217391304348\n",
      "TNR is 0.9701188455008488\n",
      "\n",
      "Mirco-averaged one vs rest ROC AUC score for classid 1 is 0.9736842105263158\n",
      "class - drugB\n",
      "TP drugB - 3\n",
      "FP drugB - 0\n",
      "TN drugB - 37\n",
      "FN drugB - 0\n",
      "TPR is 0.9565217391304348\n",
      "TNR is 0.9701188455008488\n",
      "\n",
      "Mirco-averaged one vs rest ROC AUC score for classid 2 is 1.0\n",
      "class - drugC\n",
      "TP drugC - 3\n",
      "FP drugC - 0\n",
      "TN drugC - 37\n",
      "FN drugC - 0\n",
      "TPR is 0.9565217391304348\n",
      "TNR is 0.9701188455008488\n",
      "\n",
      "Mirco-averaged one vs rest ROC AUC score for classid 3 is 1.0\n",
      "class - drugX\n",
      "TP drugX - 9\n",
      "FP drugX - 3\n",
      "TN drugX - 28\n",
      "FN drugX - 0\n",
      "TPR is 0.9565217391304348\n",
      "TNR is 0.9701188455008488\n",
      "\n",
      "Mirco-averaged one vs rest ROC AUC score for classid 4 is 0.985663082437276\n"
     ]
    }
   ],
   "source": [
    "# for each classs in multiclass find ROC and Confusionmatrix parameters\n",
    "for clss in lb.classes_:\n",
    "    print(f\"class - {clss}\")\n",
    "    print(f\"TP {clss} - {sum([1 if ((i==clss) & (j==clss)) else 0 for (i,j) in zip(y_test,y_pred)])}\")\n",
    "    print(f\"FP {clss} - {sum([1 if ((i!=clss) & (j==clss)) else 0 for (i,j) in zip(y_test,y_pred)])}\")\n",
    "    print(f\"TN {clss} - {sum([1 if ((i!=clss) & (j!=clss)) else 0 for (i,j) in zip(y_test,y_pred)])}\")\n",
    "    print(f\"FN {clss} - {sum([1 if ((i==clss) & (j!=clss)) else 0 for (i,j) in zip(y_test,y_pred)])}\")\n",
    "    print(f\"TPR is {np.mean(TP/(TP+FN))}\")\n",
    "    print(f\"TNR is {np.mean(TN/(TN+FP))}\")\n",
    "    print(f\"\")\n",
    "    classid=np.flatnonzero(lb.classes_==clss)[0]\n",
    "    roc=roc_auc_score(\n",
    "        y_encode_test[:,classid],\n",
    "        y_pred_prob[:,classid],\n",
    "        multi_class='ovr',\n",
    "        average='micro',\n",
    "    )\n",
    "    print(f\"Mirco-averaged one vs rest ROC AUC score for classid {classid} is {roc}\")"
   ]
  },
  {
   "cell_type": "markdown",
   "id": "c751d376",
   "metadata": {},
   "source": [
    "### TPR,TNR,FNR,FPR for multiclass problem\n"
   ]
  },
  {
   "cell_type": "code",
   "execution_count": 200,
   "id": "bf0af091",
   "metadata": {},
   "outputs": [
    {
     "data": {
      "text/plain": [
       "array([[18,  2,  0,  0,  3],\n",
       "       [ 0,  2,  0,  0,  0],\n",
       "       [ 0,  0,  3,  0,  0],\n",
       "       [ 0,  0,  0,  3,  0],\n",
       "       [ 0,  0,  0,  0,  9]], dtype=int64)"
      ]
     },
     "execution_count": 200,
     "metadata": {},
     "output_type": "execute_result"
    }
   ],
   "source": [
    "cm=confusion_matrix(y_test,y_pred)\n",
    "cm"
   ]
  },
  {
   "cell_type": "code",
   "execution_count": 201,
   "id": "4e4bc05d",
   "metadata": {},
   "outputs": [
    {
     "data": {
      "text/plain": [
       "array([18.,  2.,  3.,  3.,  9.])"
      ]
     },
     "execution_count": 201,
     "metadata": {},
     "output_type": "execute_result"
    }
   ],
   "source": [
    "TP=np.diag(cm).astype(float)\n",
    "TP"
   ]
  },
  {
   "cell_type": "code",
   "execution_count": 202,
   "id": "38f3fa0b",
   "metadata": {},
   "outputs": [
    {
     "data": {
      "text/plain": [
       "array([5, 0, 0, 0, 0], dtype=int64)"
      ]
     },
     "execution_count": 202,
     "metadata": {},
     "output_type": "execute_result"
    }
   ],
   "source": [
    "FN=cm.sum(axis=1)-np.diag(cm)\n",
    "FN"
   ]
  },
  {
   "cell_type": "code",
   "execution_count": 203,
   "id": "f03e9510",
   "metadata": {},
   "outputs": [
    {
     "data": {
      "text/plain": [
       "5"
      ]
     },
     "execution_count": 203,
     "metadata": {},
     "output_type": "execute_result"
    }
   ],
   "source": [
    "FP=cm.sum(axis=0)-np.diag(cm)\n",
    "FP.sum()"
   ]
  },
  {
   "cell_type": "code",
   "execution_count": 204,
   "id": "8d68162e",
   "metadata": {},
   "outputs": [
    {
     "data": {
      "text/plain": [
       "array([17., 36., 37., 37., 28.])"
      ]
     },
     "execution_count": 204,
     "metadata": {},
     "output_type": "execute_result"
    }
   ],
   "source": [
    "TN= cm.sum()-(FP+FN+TP)\n",
    "TN"
   ]
  }
 ],
 "metadata": {
  "kernelspec": {
   "display_name": "Python 3 (ipykernel)",
   "language": "python",
   "name": "python3"
  },
  "language_info": {
   "codemirror_mode": {
    "name": "ipython",
    "version": 3
   },
   "file_extension": ".py",
   "mimetype": "text/x-python",
   "name": "python",
   "nbconvert_exporter": "python",
   "pygments_lexer": "ipython3",
   "version": "3.11.3"
  }
 },
 "nbformat": 4,
 "nbformat_minor": 5
}
