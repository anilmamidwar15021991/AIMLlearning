{
 "cells": [
  {
   "cell_type": "markdown",
   "id": "a86ef73d-5b21-49ad-bcd0-1e9df7b28f01",
   "metadata": {
    "id": "a86ef73d-5b21-49ad-bcd0-1e9df7b28f01"
   },
   "source": [
    "# Assignment Set 7 - Plots"
   ]
  },
  {
   "cell_type": "code",
   "execution_count": null,
   "id": "8decd9a3-473b-4a58-a97a-a02621a20525",
   "metadata": {
    "id": "8decd9a3-473b-4a58-a97a-a02621a20525"
   },
   "outputs": [],
   "source": [
    "import numpy as np\n",
    "import pandas as pd\n",
    "import matplotlib as mpl\n",
    "import matplotlib.pyplot as plt\n",
    "import seaborn as sns\n",
    "import warnings; warnings.filterwarnings(action='once')\n",
    "\n",
    "large = 22; med = 16; small = 12\n",
    "params = {'axes.titlesize': large,\n",
    "          'legend.fontsize': med,\n",
    "          'figure.figsize': (16, 10),\n",
    "          'axes.labelsize': med,\n",
    "          'axes.titlesize': med,\n",
    "          'xtick.labelsize': med,\n",
    "          'ytick.labelsize': med,\n",
    "          'figure.titlesize': large}\n",
    "plt.rcParams.update(params)\n",
    "plt.style.use('seaborn-whitegrid')\n",
    "sns.set_style(\"white\")\n",
    "%matplotlib inline"
   ]
  },
  {
   "cell_type": "markdown",
   "id": "b2e18fd3-01fe-4a1f-937a-71ee6023f2d6",
   "metadata": {
    "id": "b2e18fd3-01fe-4a1f-937a-71ee6023f2d6",
    "tags": []
   },
   "source": [
    "### Q1. Plot the Air Passenger traffic change over time"
   ]
  },
  {
   "cell_type": "code",
   "execution_count": null,
   "id": "a5ce5a0e-c104-422b-baca-929847867117",
   "metadata": {},
   "outputs": [],
   "source": [
    "# Input\n",
    "df = pd.read_csv('https://github.com/selva86/datasets/raw/master/AirPassengers.csv')\n",
    "df.head()"
   ]
  },
  {
   "cell_type": "markdown",
   "id": "6e493261-23aa-49c1-aca6-858825f1f80a",
   "metadata": {
    "id": "6e493261-23aa-49c1-aca6-858825f1f80a"
   },
   "source": [
    "### Q2. Plot the Air Passenger traffic change over time and plot all the the peaks and troughs and annotate the occurence of some special events (every 3rd peak and trough)"
   ]
  },
  {
   "cell_type": "code",
   "execution_count": null,
   "id": "530db975-612b-47e8-8e9e-b86dbb802f7e",
   "metadata": {
    "id": "530db975-612b-47e8-8e9e-b86dbb802f7e",
    "outputId": "f477e273-6dce-4bae-9310-5700de7f8554"
   },
   "outputs": [],
   "source": [
    "# Input\n",
    "df = pd.read_csv('https://github.com/selva86/datasets/raw/master/AirPassengers.csv')"
   ]
  },
  {
   "cell_type": "markdown",
   "id": "9a7b9823-5f51-45e4-b6b7-c2de702b9fcb",
   "metadata": {
    "id": "6e493261-23aa-49c1-aca6-858825f1f80a"
   },
   "source": [
    "### Q3. Plot multiple time series of same range on the same chart\n",
    "- plot mdeaths and fdeaths"
   ]
  },
  {
   "cell_type": "code",
   "execution_count": null,
   "id": "ba6c4dd2-620e-4313-aaf9-b6199dff88ad",
   "metadata": {
    "id": "530db975-612b-47e8-8e9e-b86dbb802f7e",
    "outputId": "f477e273-6dce-4bae-9310-5700de7f8554"
   },
   "outputs": [],
   "source": [
    "# Input\n",
    "df = pd.read_csv('https://github.com/selva86/datasets/raw/master/mortality.csv')\n",
    "df.head()"
   ]
  },
  {
   "cell_type": "markdown",
   "id": "ea78278f-f379-4486-9ab4-17af70dacce4",
   "metadata": {
    "id": "b2e18fd3-01fe-4a1f-937a-71ee6023f2d6",
    "tags": []
   },
   "source": [
    "### Q4. Compare the number of unique vehicles manufactured under various vehicle types. Draw a bar plot to represent it and arrange the bars in descending order"
   ]
  },
  {
   "cell_type": "code",
   "execution_count": null,
   "id": "b16be6a6-06a9-45f6-b2e3-35993016fc04",
   "metadata": {},
   "outputs": [],
   "source": [
    "# Input\n",
    "df = pd.read_csv('https://raw.githubusercontent.com/selva86/datasets/master/Cars93.csv')\n",
    "df.head()"
   ]
  },
  {
   "cell_type": "markdown",
   "id": "65764d5a-2132-4d6d-a909-c0b36b26a5cc",
   "metadata": {
    "id": "b2e18fd3-01fe-4a1f-937a-71ee6023f2d6",
    "tags": []
   },
   "source": [
    "### Q5. Compare the number of unique vehicles under every vehicle type and group it by DriveTrain. Draw a stacked bar chart for it, group the charts by DriveTrain"
   ]
  },
  {
   "cell_type": "code",
   "execution_count": null,
   "id": "fa5d9f44-f782-4746-a8a3-4f73c65d0052",
   "metadata": {},
   "outputs": [],
   "source": [
    "# Input\n",
    "df = pd.read_csv('https://raw.githubusercontent.com/selva86/datasets/master/Cars93.csv')\n",
    "df.head()"
   ]
  },
  {
   "cell_type": "markdown",
   "id": "e7d23991-18ae-4b9f-8542-556674ac0bfe",
   "metadata": {
    "id": "b2e18fd3-01fe-4a1f-937a-71ee6023f2d6",
    "tags": []
   },
   "source": [
    "### Q6.  Check the distribution of Price in Cars93 dataset"
   ]
  },
  {
   "cell_type": "code",
   "execution_count": null,
   "id": "d0a3b44e-6770-4654-bdb1-bb7854b40dff",
   "metadata": {},
   "outputs": [],
   "source": [
    "# Input\n",
    "df = pd.read_csv('https://raw.githubusercontent.com/selva86/datasets/master/Cars93.csv')\n",
    "df.head()"
   ]
  },
  {
   "cell_type": "markdown",
   "id": "1a2f5793-4acc-4474-b2e6-27107a762288",
   "metadata": {
    "id": "b2e18fd3-01fe-4a1f-937a-71ee6023f2d6",
    "tags": []
   },
   "source": [
    "### Q7.  Check the relation between MPG.highway and Weight of the vehicle using a regression plot"
   ]
  },
  {
   "cell_type": "code",
   "execution_count": null,
   "id": "f6b72d83-a272-40f3-aced-56016ca523cc",
   "metadata": {},
   "outputs": [],
   "source": [
    "# Input\n",
    "df = pd.read_csv('https://raw.githubusercontent.com/selva86/datasets/master/Cars93.csv')\n",
    "df.head()"
   ]
  },
  {
   "cell_type": "markdown",
   "id": "2eba3155-b99a-4190-a77d-6559f11f7e83",
   "metadata": {
    "id": "b2e18fd3-01fe-4a1f-937a-71ee6023f2d6",
    "tags": []
   },
   "source": [
    "### Q8.  Check the relation between MPG.highway and Weight of the vehicle using a regression plot. Check if different type of vehicles have different relation."
   ]
  },
  {
   "cell_type": "code",
   "execution_count": null,
   "id": "f015fa86-68e1-4b68-9bb7-67d411cef00a",
   "metadata": {},
   "outputs": [],
   "source": [
    "# Input\n",
    "df = pd.read_csv('https://raw.githubusercontent.com/selva86/datasets/master/Cars93.csv')\n",
    "df.head()"
   ]
  }
 ],
 "metadata": {
  "colab": {
   "collapsed_sections": [],
   "name": "assignment_set_1_solutions.ipynb",
   "provenance": []
  },
  "kernelspec": {
   "display_name": "Python 3 (ipykernel)",
   "language": "python",
   "name": "python3"
  },
  "language_info": {
   "codemirror_mode": {
    "name": "ipython",
    "version": 3
   },
   "file_extension": ".py",
   "mimetype": "text/x-python",
   "name": "python",
   "nbconvert_exporter": "python",
   "pygments_lexer": "ipython3",
   "version": "3.11.3"
  }
 },
 "nbformat": 4,
 "nbformat_minor": 5
}
