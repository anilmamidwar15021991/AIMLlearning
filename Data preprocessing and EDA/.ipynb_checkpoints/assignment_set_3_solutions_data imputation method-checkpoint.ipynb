{
 "cells": [
  {
   "cell_type": "markdown",
   "id": "a86ef73d-5b21-49ad-bcd0-1e9df7b28f01",
   "metadata": {
    "id": "a86ef73d-5b21-49ad-bcd0-1e9df7b28f01"
   },
   "source": [
    "# Assignment Set 3 Solutions - Missing Value Imputations"
   ]
  },
  {
   "cell_type": "code",
   "execution_count": 1,
   "id": "8decd9a3-473b-4a58-a97a-a02621a20525",
   "metadata": {
    "id": "8decd9a3-473b-4a58-a97a-a02621a20525"
   },
   "outputs": [],
   "source": [
    "import pandas as pd\n",
    "import numpy as np"
   ]
  },
  {
   "cell_type": "markdown",
   "id": "b2e18fd3-01fe-4a1f-937a-71ee6023f2d6",
   "metadata": {
    "id": "b2e18fd3-01fe-4a1f-937a-71ee6023f2d6",
    "tags": []
   },
   "source": [
    "### Q1. Replace the spaces in my_str with the least frequent character."
   ]
  },
  {
   "cell_type": "code",
   "execution_count": 3,
   "id": "a5ce5a0e-c104-422b-baca-929847867117",
   "metadata": {},
   "outputs": [],
   "source": [
    "# Input\n",
    "my_str = 'dbc deb abed gade'"
   ]
  },
  {
   "cell_type": "code",
   "execution_count": 4,
   "id": "e63f1d70-48e3-47fd-a6e1-c805fd6ab7d6",
   "metadata": {
    "id": "47a1b868-d7da-4857-8125-0ef39e2ace88",
    "outputId": "cc5ad1a7-a3bd-494c-e4bb-fff87426c9ee"
   },
   "outputs": [
    {
     "name": "stdout",
     "output_type": "stream",
     "text": [
      "d    4\n",
      "     3\n",
      "b    3\n",
      "e    3\n",
      "a    2\n",
      "g    1\n",
      "c    1\n",
      "dtype: int64\n"
     ]
    },
    {
     "data": {
      "text/plain": [
       "'dbccdebcabedcgade'"
      ]
     },
     "execution_count": 4,
     "metadata": {},
     "output_type": "execute_result"
    }
   ],
   "source": [
    "# Solution\n",
    "ser = pd.Series(list('dbc deb abed gade'))\n",
    "freq = ser.value_counts()\n",
    "print(freq)\n",
    "least_freq = freq.dropna().index[-1]\n",
    "\"\".join(ser.replace(' ', least_freq))"
   ]
  },
  {
   "cell_type": "markdown",
   "id": "6e493261-23aa-49c1-aca6-858825f1f80a",
   "metadata": {
    "id": "6e493261-23aa-49c1-aca6-858825f1f80a"
   },
   "source": [
    "### Q2. Check if df has any missing values."
   ]
  },
  {
   "cell_type": "code",
   "execution_count": 5,
   "id": "530db975-612b-47e8-8e9e-b86dbb802f7e",
   "metadata": {
    "id": "530db975-612b-47e8-8e9e-b86dbb802f7e",
    "outputId": "f477e273-6dce-4bae-9310-5700de7f8554"
   },
   "outputs": [],
   "source": [
    "# Input\n",
    "df = pd.read_csv('https://raw.githubusercontent.com/selva86/datasets/master/Cars93_miss.csv')"
   ]
  },
  {
   "cell_type": "code",
   "execution_count": 6,
   "id": "59553c05-aa7c-4b4a-bfa4-03cb90f5c52a",
   "metadata": {
    "id": "-rG0ZGjv0ygA",
    "outputId": "2a3e5ce5-5b18-4fd3-e1d1-805cd36057c7",
    "tags": []
   },
   "outputs": [
    {
     "data": {
      "text/plain": [
       "True"
      ]
     },
     "execution_count": 6,
     "metadata": {},
     "output_type": "execute_result"
    }
   ],
   "source": [
    "# Solution\n",
    "df.isnull().values.any()"
   ]
  },
  {
   "cell_type": "markdown",
   "id": "9a7b9823-5f51-45e4-b6b7-c2de702b9fcb",
   "metadata": {
    "id": "6e493261-23aa-49c1-aca6-858825f1f80a"
   },
   "source": [
    "### Q3. Count the number of missing values in each column of df. Which column has the maximum number of missing values?"
   ]
  },
  {
   "cell_type": "code",
   "execution_count": 7,
   "id": "ba6c4dd2-620e-4313-aaf9-b6199dff88ad",
   "metadata": {
    "id": "530db975-612b-47e8-8e9e-b86dbb802f7e",
    "outputId": "f477e273-6dce-4bae-9310-5700de7f8554"
   },
   "outputs": [],
   "source": [
    "# Input\n",
    "df = pd.read_csv('https://raw.githubusercontent.com/selva86/datasets/master/Cars93_miss.csv')"
   ]
  },
  {
   "cell_type": "code",
   "execution_count": 9,
   "id": "2ba810b5-ebaf-46f5-ada7-2f4ffb8ae594",
   "metadata": {},
   "outputs": [
    {
     "data": {
      "text/plain": [
       "Manufacturer           4\n",
       "Model                  1\n",
       "Type                   3\n",
       "Min.Price              7\n",
       "Price                  2\n",
       "Max.Price              5\n",
       "MPG.city               9\n",
       "MPG.highway            2\n",
       "AirBags                6\n",
       "DriveTrain             7\n",
       "Cylinders              5\n",
       "EngineSize             2\n",
       "Horsepower             7\n",
       "RPM                    3\n",
       "Rev.per.mile           6\n",
       "Man.trans.avail        5\n",
       "Fuel.tank.capacity     8\n",
       "Passengers             2\n",
       "Length                 4\n",
       "Wheelbase              1\n",
       "Width                  6\n",
       "Turn.circle            5\n",
       "Rear.seat.room         4\n",
       "Luggage.room          19\n",
       "Weight                 7\n",
       "Origin                 5\n",
       "Make                   3\n",
       "dtype: int64"
      ]
     },
     "execution_count": 9,
     "metadata": {},
     "output_type": "execute_result"
    }
   ],
   "source": [
    "# Solution\n",
    "n_missings_each_col = df.apply(lambda x: x.isnull().sum())\n",
    "n_missings_each_col"
   ]
  },
  {
   "cell_type": "code",
   "execution_count": 10,
   "id": "e2df4687-a826-47d2-8b95-f858e1ba34b5",
   "metadata": {},
   "outputs": [
    {
     "data": {
      "text/plain": [
       "23"
      ]
     },
     "execution_count": 10,
     "metadata": {},
     "output_type": "execute_result"
    }
   ],
   "source": [
    "# Column with maximum missing values\n",
    "n_missings_each_col.argmax()"
   ]
  },
  {
   "cell_type": "markdown",
   "id": "39e1c9a6-d395-4774-b3db-719aa02b7574",
   "metadata": {
    "id": "6e493261-23aa-49c1-aca6-858825f1f80a"
   },
   "source": [
    "### Q4. Showcase the missing values in each column of df visually"
   ]
  },
  {
   "cell_type": "code",
   "execution_count": 2,
   "id": "eda8b2c1-3727-4927-970f-cc80ec0a7591",
   "metadata": {
    "id": "530db975-612b-47e8-8e9e-b86dbb802f7e",
    "outputId": "f477e273-6dce-4bae-9310-5700de7f8554"
   },
   "outputs": [],
   "source": [
    "# Input\n",
    "df = pd.read_csv('https://raw.githubusercontent.com/selva86/datasets/master/Cars93_miss.csv')"
   ]
  },
  {
   "cell_type": "code",
   "execution_count": 4,
   "id": "69d4567b-f66e-4642-a1fa-a8eabded41c2",
   "metadata": {
    "executionInfo": {
     "elapsed": 923,
     "status": "ok",
     "timestamp": 1629520279748,
     "user": {
      "displayName": "Numyard",
      "photoUrl": "",
      "userId": "11840559599997486775"
     },
     "user_tz": -330
    },
    "id": "W6U2wIli-hKp"
   },
   "outputs": [
    {
     "data": {
      "text/plain": [
       "<AxesSubplot:>"
      ]
     },
     "execution_count": 4,
     "metadata": {},
     "output_type": "execute_result"
    },
    {
     "data": {
      "image/png": "[encoded data removed]",
      "text/plain": [
       "<Figure size 1800x720 with 2 Axes>"
      ]
     },
     "metadata": {
      "needs_background": "light"
     },
     "output_type": "display_data"
    }
   ],
   "source": [
    "# Solution\n",
    "import missingno as msno\n",
    "msno.matrix(df)"
   ]
  },
  {
   "cell_type": "markdown",
   "id": "ea78278f-f379-4486-9ab4-17af70dacce4",
   "metadata": {
    "id": "b2e18fd3-01fe-4a1f-937a-71ee6023f2d6",
    "tags": []
   },
   "source": [
    "### Q5. Replace missing values in Min.Price and Max.Price columns with their respective mean."
   ]
  },
  {
   "cell_type": "code",
   "execution_count": 11,
   "id": "b16be6a6-06a9-45f6-b2e3-35993016fc04",
   "metadata": {},
   "outputs": [],
   "source": [
    "# Input\n",
    "df = pd.read_csv('https://raw.githubusercontent.com/selva86/datasets/master/Cars93_miss.csv')"
   ]
  },
  {
   "cell_type": "code",
   "execution_count": 14,
   "id": "6b648060-cf59-492c-96d4-3691a047fe73",
   "metadata": {
    "id": "Z5IiKXhF0ygC",
    "outputId": "cc621444-5631-4d31-8026-028c677a1c20"
   },
   "outputs": [
    {
     "data": {
      "text/html": [
       "<div>\n",
       "<style scoped>\n",
       "    .dataframe tbody tr th:only-of-type {\n",
       "        vertical-align: middle;\n",
       "    }\n",
       "\n",
       "    .dataframe tbody tr th {\n",
       "        vertical-align: top;\n",
       "    }\n",
       "\n",
       "    .dataframe thead th {\n",
       "        text-align: right;\n",
       "    }\n",
       "</style>\n",
       "<table border=\"1\" class=\"dataframe\">\n",
       "  <thead>\n",
       "    <tr style=\"text-align: right;\">\n",
       "      <th></th>\n",
       "      <th>Min.Price</th>\n",
       "      <th>Max.Price</th>\n",
       "    </tr>\n",
       "  </thead>\n",
       "  <tbody>\n",
       "    <tr>\n",
       "      <th>0</th>\n",
       "      <td>12.900000</td>\n",
       "      <td>18.800000</td>\n",
       "    </tr>\n",
       "    <tr>\n",
       "      <th>1</th>\n",
       "      <td>29.200000</td>\n",
       "      <td>38.700000</td>\n",
       "    </tr>\n",
       "    <tr>\n",
       "      <th>2</th>\n",
       "      <td>25.900000</td>\n",
       "      <td>32.300000</td>\n",
       "    </tr>\n",
       "    <tr>\n",
       "      <th>3</th>\n",
       "      <td>17.118605</td>\n",
       "      <td>44.600000</td>\n",
       "    </tr>\n",
       "    <tr>\n",
       "      <th>4</th>\n",
       "      <td>17.118605</td>\n",
       "      <td>21.459091</td>\n",
       "    </tr>\n",
       "    <tr>\n",
       "      <th>...</th>\n",
       "      <td>...</td>\n",
       "      <td>...</td>\n",
       "    </tr>\n",
       "    <tr>\n",
       "      <th>88</th>\n",
       "      <td>16.600000</td>\n",
       "      <td>22.700000</td>\n",
       "    </tr>\n",
       "    <tr>\n",
       "      <th>89</th>\n",
       "      <td>17.600000</td>\n",
       "      <td>22.400000</td>\n",
       "    </tr>\n",
       "    <tr>\n",
       "      <th>90</th>\n",
       "      <td>22.900000</td>\n",
       "      <td>23.700000</td>\n",
       "    </tr>\n",
       "    <tr>\n",
       "      <th>91</th>\n",
       "      <td>21.800000</td>\n",
       "      <td>23.500000</td>\n",
       "    </tr>\n",
       "    <tr>\n",
       "      <th>92</th>\n",
       "      <td>24.800000</td>\n",
       "      <td>28.500000</td>\n",
       "    </tr>\n",
       "  </tbody>\n",
       "</table>\n",
       "<p>93 rows × 2 columns</p>\n",
       "</div>"
      ],
      "text/plain": [
       "    Min.Price  Max.Price\n",
       "0   12.900000  18.800000\n",
       "1   29.200000  38.700000\n",
       "2   25.900000  32.300000\n",
       "3   17.118605  44.600000\n",
       "4   17.118605  21.459091\n",
       "..        ...        ...\n",
       "88  16.600000  22.700000\n",
       "89  17.600000  22.400000\n",
       "90  22.900000  23.700000\n",
       "91  21.800000  23.500000\n",
       "92  24.800000  28.500000\n",
       "\n",
       "[93 rows x 2 columns]"
      ]
     },
     "execution_count": 14,
     "metadata": {},
     "output_type": "execute_result"
    }
   ],
   "source": [
    "# Solution\n",
    "df_out = df[['Min.Price', 'Max.Price']] = df[['Min.Price', 'Max.Price']].apply(lambda x: x.fillna(x.mean()))\n",
    "df_out"
   ]
  },
  {
   "cell_type": "markdown",
   "id": "65764d5a-2132-4d6d-a909-c0b36b26a5cc",
   "metadata": {
    "id": "b2e18fd3-01fe-4a1f-937a-71ee6023f2d6",
    "tags": []
   },
   "source": [
    "### Q6. Replace missing values in Min.Price columns using cubic interpolation"
   ]
  },
  {
   "cell_type": "code",
   "execution_count": 19,
   "id": "fa5d9f44-f782-4746-a8a3-4f73c65d0052",
   "metadata": {},
   "outputs": [
    {
     "data": {
      "text/html": [
       "<div>\n",
       "<style scoped>\n",
       "    .dataframe tbody tr th:only-of-type {\n",
       "        vertical-align: middle;\n",
       "    }\n",
       "\n",
       "    .dataframe tbody tr th {\n",
       "        vertical-align: top;\n",
       "    }\n",
       "\n",
       "    .dataframe thead th {\n",
       "        text-align: right;\n",
       "    }\n",
       "</style>\n",
       "<table border=\"1\" class=\"dataframe\">\n",
       "  <thead>\n",
       "    <tr style=\"text-align: right;\">\n",
       "      <th></th>\n",
       "      <th>Manufacturer</th>\n",
       "      <th>Model</th>\n",
       "      <th>Type</th>\n",
       "      <th>Min.Price</th>\n",
       "      <th>Price</th>\n",
       "      <th>Max.Price</th>\n",
       "      <th>MPG.city</th>\n",
       "      <th>MPG.highway</th>\n",
       "      <th>AirBags</th>\n",
       "      <th>DriveTrain</th>\n",
       "      <th>...</th>\n",
       "      <th>Passengers</th>\n",
       "      <th>Length</th>\n",
       "      <th>Wheelbase</th>\n",
       "      <th>Width</th>\n",
       "      <th>Turn.circle</th>\n",
       "      <th>Rear.seat.room</th>\n",
       "      <th>Luggage.room</th>\n",
       "      <th>Weight</th>\n",
       "      <th>Origin</th>\n",
       "      <th>Make</th>\n",
       "    </tr>\n",
       "  </thead>\n",
       "  <tbody>\n",
       "    <tr>\n",
       "      <th>0</th>\n",
       "      <td>Acura</td>\n",
       "      <td>Integra</td>\n",
       "      <td>Small</td>\n",
       "      <td>12.9</td>\n",
       "      <td>15.9</td>\n",
       "      <td>18.8</td>\n",
       "      <td>25.0</td>\n",
       "      <td>31.0</td>\n",
       "      <td>None</td>\n",
       "      <td>Front</td>\n",
       "      <td>...</td>\n",
       "      <td>5.0</td>\n",
       "      <td>177.0</td>\n",
       "      <td>102.0</td>\n",
       "      <td>68.0</td>\n",
       "      <td>37.0</td>\n",
       "      <td>26.5</td>\n",
       "      <td>NaN</td>\n",
       "      <td>2705.0</td>\n",
       "      <td>non-USA</td>\n",
       "      <td>Acura Integra</td>\n",
       "    </tr>\n",
       "    <tr>\n",
       "      <th>1</th>\n",
       "      <td>NaN</td>\n",
       "      <td>Legend</td>\n",
       "      <td>Midsize</td>\n",
       "      <td>29.2</td>\n",
       "      <td>33.9</td>\n",
       "      <td>38.7</td>\n",
       "      <td>18.0</td>\n",
       "      <td>25.0</td>\n",
       "      <td>Driver &amp; Passenger</td>\n",
       "      <td>Front</td>\n",
       "      <td>...</td>\n",
       "      <td>5.0</td>\n",
       "      <td>195.0</td>\n",
       "      <td>115.0</td>\n",
       "      <td>71.0</td>\n",
       "      <td>38.0</td>\n",
       "      <td>30.0</td>\n",
       "      <td>15.0</td>\n",
       "      <td>3560.0</td>\n",
       "      <td>non-USA</td>\n",
       "      <td>Acura Legend</td>\n",
       "    </tr>\n",
       "    <tr>\n",
       "      <th>2</th>\n",
       "      <td>Audi</td>\n",
       "      <td>90</td>\n",
       "      <td>Compact</td>\n",
       "      <td>25.9</td>\n",
       "      <td>29.1</td>\n",
       "      <td>32.3</td>\n",
       "      <td>20.0</td>\n",
       "      <td>26.0</td>\n",
       "      <td>Driver only</td>\n",
       "      <td>Front</td>\n",
       "      <td>...</td>\n",
       "      <td>5.0</td>\n",
       "      <td>180.0</td>\n",
       "      <td>102.0</td>\n",
       "      <td>67.0</td>\n",
       "      <td>37.0</td>\n",
       "      <td>28.0</td>\n",
       "      <td>14.0</td>\n",
       "      <td>3375.0</td>\n",
       "      <td>non-USA</td>\n",
       "      <td>Audi 90</td>\n",
       "    </tr>\n",
       "    <tr>\n",
       "      <th>3</th>\n",
       "      <td>Audi</td>\n",
       "      <td>100</td>\n",
       "      <td>Midsize</td>\n",
       "      <td>NaN</td>\n",
       "      <td>37.7</td>\n",
       "      <td>44.6</td>\n",
       "      <td>19.0</td>\n",
       "      <td>26.0</td>\n",
       "      <td>Driver &amp; Passenger</td>\n",
       "      <td>NaN</td>\n",
       "      <td>...</td>\n",
       "      <td>6.0</td>\n",
       "      <td>193.0</td>\n",
       "      <td>106.0</td>\n",
       "      <td>NaN</td>\n",
       "      <td>37.0</td>\n",
       "      <td>31.0</td>\n",
       "      <td>17.0</td>\n",
       "      <td>3405.0</td>\n",
       "      <td>non-USA</td>\n",
       "      <td>Audi 100</td>\n",
       "    </tr>\n",
       "    <tr>\n",
       "      <th>4</th>\n",
       "      <td>BMW</td>\n",
       "      <td>535i</td>\n",
       "      <td>Midsize</td>\n",
       "      <td>NaN</td>\n",
       "      <td>30.0</td>\n",
       "      <td>NaN</td>\n",
       "      <td>22.0</td>\n",
       "      <td>30.0</td>\n",
       "      <td>NaN</td>\n",
       "      <td>Rear</td>\n",
       "      <td>...</td>\n",
       "      <td>4.0</td>\n",
       "      <td>186.0</td>\n",
       "      <td>109.0</td>\n",
       "      <td>69.0</td>\n",
       "      <td>39.0</td>\n",
       "      <td>27.0</td>\n",
       "      <td>13.0</td>\n",
       "      <td>3640.0</td>\n",
       "      <td>non-USA</td>\n",
       "      <td>BMW 535i</td>\n",
       "    </tr>\n",
       "  </tbody>\n",
       "</table>\n",
       "<p>5 rows × 27 columns</p>\n",
       "</div>"
      ],
      "text/plain": [
       "  Manufacturer    Model     Type  Min.Price  Price  Max.Price  MPG.city  \\\n",
       "0        Acura  Integra    Small       12.9   15.9       18.8      25.0   \n",
       "1          NaN   Legend  Midsize       29.2   33.9       38.7      18.0   \n",
       "2         Audi       90  Compact       25.9   29.1       32.3      20.0   \n",
       "3         Audi      100  Midsize        NaN   37.7       44.6      19.0   \n",
       "4          BMW     535i  Midsize        NaN   30.0        NaN      22.0   \n",
       "\n",
       "   MPG.highway             AirBags DriveTrain  ... Passengers  Length  \\\n",
       "0         31.0                None      Front  ...        5.0   177.0   \n",
       "1         25.0  Driver & Passenger      Front  ...        5.0   195.0   \n",
       "2         26.0         Driver only      Front  ...        5.0   180.0   \n",
       "3         26.0  Driver & Passenger        NaN  ...        6.0   193.0   \n",
       "4         30.0                 NaN       Rear  ...        4.0   186.0   \n",
       "\n",
       "   Wheelbase  Width  Turn.circle Rear.seat.room  Luggage.room  Weight  \\\n",
       "0      102.0   68.0         37.0           26.5           NaN  2705.0   \n",
       "1      115.0   71.0         38.0           30.0          15.0  3560.0   \n",
       "2      102.0   67.0         37.0           28.0          14.0  3375.0   \n",
       "3      106.0    NaN         37.0           31.0          17.0  3405.0   \n",
       "4      109.0   69.0         39.0           27.0          13.0  3640.0   \n",
       "\n",
       "    Origin           Make  \n",
       "0  non-USA  Acura Integra  \n",
       "1  non-USA   Acura Legend  \n",
       "2  non-USA        Audi 90  \n",
       "3  non-USA       Audi 100  \n",
       "4  non-USA       BMW 535i  \n",
       "\n",
       "[5 rows x 27 columns]"
      ]
     },
     "execution_count": 19,
     "metadata": {},
     "output_type": "execute_result"
    }
   ],
   "source": [
    "# Input\n",
    "df = pd.read_csv('https://raw.githubusercontent.com/selva86/datasets/master/Cars93_miss.csv')\n",
    "df.head()"
   ]
  },
  {
   "cell_type": "code",
   "execution_count": 20,
   "id": "79723c66-e25a-42a1-9e47-afb82d3fc84b",
   "metadata": {},
   "outputs": [
    {
     "data": {
      "text/plain": [
       "0     12.900000\n",
       "1     29.200000\n",
       "2     25.900000\n",
       "3     18.859494\n",
       "4     13.868578\n",
       "        ...    \n",
       "88    16.600000\n",
       "89    17.600000\n",
       "90    22.900000\n",
       "91    21.800000\n",
       "92    24.800000\n",
       "Name: Min.Price, Length: 93, dtype: float64"
      ]
     },
     "execution_count": 20,
     "metadata": {},
     "output_type": "execute_result"
    }
   ],
   "source": [
    "# Solution\n",
    "df['Min.Price'].interpolate(method ='cubic', limit_direction ='forward')"
   ]
  }
 ],
 "metadata": {
  "colab": {
   "collapsed_sections": [],
   "name": "assignment_set_1_solutions.ipynb",
   "provenance": []
  },
  "kernelspec": {
   "display_name": "Python 3 (ipykernel)",
   "language": "python",
   "name": "python3"
  },
  "language_info": {
   "codemirror_mode": {
    "name": "ipython",
    "version": 3
   },
   "file_extension": ".py",
   "mimetype": "text/x-python",
   "name": "python",
   "nbconvert_exporter": "python",
   "pygments_lexer": "ipython3",
   "version": "3.11.3"
  }
 },
 "nbformat": 4,
 "nbformat_minor": 5
}
