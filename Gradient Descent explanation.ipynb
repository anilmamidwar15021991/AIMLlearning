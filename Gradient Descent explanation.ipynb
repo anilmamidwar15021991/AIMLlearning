{
 "cells": [
  {
   "cell_type": "markdown",
   "id": "e128e985",
   "metadata": {},
   "source": [
    "# this will explain the gradient descent logic in python"
   ]
  },
  {
   "cell_type": "code",
   "execution_count": 55,
   "id": "9da78cfe",
   "metadata": {},
   "outputs": [],
   "source": [
    "#generate a initial point, here the objective functioni y=x2(square)\n",
    "\n",
    "def objectivefun(X):\n",
    "    return X**2.0\n"
   ]
  },
  {
   "cell_type": "code",
   "execution_count": 56,
   "id": "ff34d03a",
   "metadata": {},
   "outputs": [],
   "source": [
    "#define a range of inputs and respetive output\n",
    "import numpy as np\n",
    "X_min,X_max=-1.0,1.0\n",
    "X_inputs= np.arange(X_min,X_max+0.1,0.1)"
   ]
  },
  {
   "cell_type": "code",
   "execution_count": 57,
   "id": "8bdc2f70",
   "metadata": {},
   "outputs": [],
   "source": [
    "y_op= objectivefun(X_inputs)"
   ]
  },
  {
   "cell_type": "code",
   "execution_count": 58,
   "id": "9ff8f92d",
   "metadata": {},
   "outputs": [],
   "source": [
    "import matplotlib.pyplot as plt\n",
    "import seaborn as sns\n",
    "\n"
   ]
  },
  {
   "cell_type": "code",
   "execution_count": 59,
   "id": "113b62f5",
   "metadata": {},
   "outputs": [
    {
     "name": "stderr",
     "output_type": "stream",
     "text": [
      "c:\\users\\maste\\documents\\personal\\numyard ml\\virenv\\lib\\site-packages\\seaborn\\_decorators.py:36: FutureWarning: Pass the following variables as keyword args: x, y. From version 0.12, the only valid positional argument will be `data`, and passing other arguments without an explicit keyword will result in an error or misinterpretation.\n",
      "  warnings.warn(\n"
     ]
    },
    {
     "data": {
      "text/plain": [
       "<AxesSubplot:>"
      ]
     },
     "execution_count": 59,
     "metadata": {},
     "output_type": "execute_result"
    },
    {
     "data": {
      "image/png": "[encoded data removed]",
      "text/plain": [
       "<Figure size 432x288 with 1 Axes>"
      ]
     },
     "metadata": {
      "needs_background": "light"
     },
     "output_type": "display_data"
    }
   ],
   "source": [
    "sns.scatterplot(X_inputs,y_op)"
   ]
  },
  {
   "cell_type": "code",
   "execution_count": 60,
   "id": "ab95e7cf",
   "metadata": {},
   "outputs": [
    {
     "data": {
      "image/png": "[encoded data removed]",
      "text/plain": [
       "<Figure size 432x288 with 1 Axes>"
      ]
     },
     "metadata": {
      "needs_background": "light"
     },
     "output_type": "display_data"
    }
   ],
   "source": [
    "plt.plot(X_inputs,y_op)\n",
    "plt.show()"
   ]
  },
  {
   "cell_type": "code",
   "execution_count": 61,
   "id": "2811d90f",
   "metadata": {},
   "outputs": [],
   "source": [
    "import sympy as sym"
   ]
  },
  {
   "cell_type": "code",
   "execution_count": null,
   "id": "839f5f24",
   "metadata": {},
   "outputs": [],
   "source": []
  },
  {
   "cell_type": "code",
   "execution_count": 133,
   "id": "4c1cee42",
   "metadata": {},
   "outputs": [
    {
     "name": "stdout",
     "output_type": "stream",
     "text": [
      "X\n",
      "2*X\n",
      "8\n"
     ]
    }
   ],
   "source": [
    "#function for derivation and evaluation of derviatives\n",
    "\n",
    "def derivativeFunc(X):\n",
    "    print (X)\n",
    "    return X**2\n",
    "    \n",
    "\n",
    "X = sym.symbols('X')\n",
    "Z=derivativeFunc(X)\n",
    "print(sym.diff(Z))\n",
    "DErivativeoff = sym.lambdify((X),sym.diff(Z),\"numpy\")\n",
    "\n",
    "\n",
    "\n",
    "\n",
    "print(DErivativeoff(4))"
   ]
  },
  {
   "cell_type": "code",
   "execution_count": 174,
   "id": "3ccc6b82",
   "metadata": {},
   "outputs": [],
   "source": [
    "import sys\n",
    "from numpy.random import rand "
   ]
  },
  {
   "cell_type": "code",
   "execution_count": 181,
   "id": "2f88f70c",
   "metadata": {},
   "outputs": [],
   "source": [
    "def gradient_des(derivativeFunc,DErivativeoff,LR,n_iter,objectivefun,bounds):\n",
    "    solution = bounds[:,0]+rand(len(bounds))*(bounds[:,1]-bounds[:,0])\n",
    "    for i in range(n_iter):\n",
    "        #print(solution)\n",
    "        #print(DErivativeoff(solution))\n",
    "        solution = solution -LR*DErivativeoff(solution)\n",
    "        solution_eval=objectivefun(solution)\n",
    "        print('>%d f(%s)=%.5f' %(i,solution,solution_eval))\n",
    "    return [solution,solution_eval]\n",
    "    \n"
   ]
  },
  {
   "cell_type": "code",
   "execution_count": 182,
   "id": "211a53d1",
   "metadata": {},
   "outputs": [],
   "source": [
    "bounds=np.asarray([[-1.0,1.0]])\n",
    "n_iter=30\n",
    "LR=0.1"
   ]
  },
  {
   "cell_type": "code",
   "execution_count": 183,
   "id": "938fbcb7",
   "metadata": {},
   "outputs": [
    {
     "name": "stdout",
     "output_type": "stream",
     "text": [
      "[-0.76638754]\n",
      "[-1.53277509]\n",
      ">0 f([-0.61311003])=0.37590\n",
      "[-0.61311003]\n",
      "[-1.22622007]\n",
      ">1 f([-0.49048803])=0.24058\n",
      "[-0.49048803]\n",
      "[-0.98097606]\n",
      ">2 f([-0.39239042])=0.15397\n",
      "[-0.39239042]\n",
      "[-0.78478084]\n",
      ">3 f([-0.31391234])=0.09854\n",
      "[-0.31391234]\n",
      "[-0.62782468]\n",
      ">4 f([-0.25112987])=0.06307\n",
      "[-0.25112987]\n",
      "[-0.50225974]\n",
      ">5 f([-0.2009039])=0.04036\n",
      "[-0.2009039]\n",
      "[-0.40180779]\n",
      ">6 f([-0.16072312])=0.02583\n",
      "[-0.16072312]\n",
      "[-0.32144623]\n",
      ">7 f([-0.12857849])=0.01653\n",
      "[-0.12857849]\n",
      "[-0.25715699]\n",
      ">8 f([-0.10286279])=0.01058\n",
      "[-0.10286279]\n",
      "[-0.20572559]\n",
      ">9 f([-0.08229024])=0.00677\n",
      "[-0.08229024]\n",
      "[-0.16458047]\n",
      ">10 f([-0.06583219])=0.00433\n",
      "[-0.06583219]\n",
      "[-0.13166438]\n",
      ">11 f([-0.05266575])=0.00277\n",
      "[-0.05266575]\n",
      "[-0.1053315]\n",
      ">12 f([-0.0421326])=0.00178\n",
      "[-0.0421326]\n",
      "[-0.0842652]\n",
      ">13 f([-0.03370608])=0.00114\n",
      "[-0.03370608]\n",
      "[-0.06741216]\n",
      ">14 f([-0.02696486])=0.00073\n",
      "[-0.02696486]\n",
      "[-0.05392973]\n",
      ">15 f([-0.02157189])=0.00047\n",
      "[-0.02157189]\n",
      "[-0.04314378]\n",
      ">16 f([-0.01725751])=0.00030\n",
      "[-0.01725751]\n",
      "[-0.03451503]\n",
      ">17 f([-0.01380601])=0.00019\n",
      "[-0.01380601]\n",
      "[-0.02761202]\n",
      ">18 f([-0.01104481])=0.00012\n",
      "[-0.01104481]\n",
      "[-0.02208962]\n",
      ">19 f([-0.00883585])=0.00008\n",
      "[-0.00883585]\n",
      "[-0.01767169]\n",
      ">20 f([-0.00706868])=0.00005\n",
      "[-0.00706868]\n",
      "[-0.01413735]\n",
      ">21 f([-0.00565494])=0.00003\n",
      "[-0.00565494]\n",
      "[-0.01130988]\n",
      ">22 f([-0.00452395])=0.00002\n",
      "[-0.00452395]\n",
      "[-0.00904791]\n",
      ">23 f([-0.00361916])=0.00001\n",
      "[-0.00361916]\n",
      "[-0.00723833]\n",
      ">24 f([-0.00289533])=0.00001\n",
      "[-0.00289533]\n",
      "[-0.00579066]\n",
      ">25 f([-0.00231626])=0.00001\n",
      "[-0.00231626]\n",
      "[-0.00463253]\n",
      ">26 f([-0.00185301])=0.00000\n",
      "[-0.00185301]\n",
      "[-0.00370602]\n",
      ">27 f([-0.00148241])=0.00000\n",
      "[-0.00148241]\n",
      "[-0.00296482]\n",
      ">28 f([-0.00118593])=0.00000\n",
      "[-0.00118593]\n",
      "[-0.00237185]\n",
      ">29 f([-0.00094874])=0.00000\n"
     ]
    }
   ],
   "source": [
    "best,score = gradient_des(derivativeFunc,DErivativeoff,LR,n_iter,objectivefun,bounds)"
   ]
  },
  {
   "cell_type": "code",
   "execution_count": 184,
   "id": "dc78ca73",
   "metadata": {},
   "outputs": [
    {
     "data": {
      "text/plain": [
       "array([-0.00094874])"
      ]
     },
     "execution_count": 184,
     "metadata": {},
     "output_type": "execute_result"
    }
   ],
   "source": [
    "best"
   ]
  },
  {
   "cell_type": "code",
   "execution_count": 185,
   "id": "1cccf21c",
   "metadata": {},
   "outputs": [
    {
     "data": {
      "text/plain": [
       "array([9.00111051e-07])"
      ]
     },
     "execution_count": 185,
     "metadata": {},
     "output_type": "execute_result"
    }
   ],
   "source": [
    "score"
   ]
  },
  {
   "cell_type": "code",
   "execution_count": null,
   "id": "199f9aa0",
   "metadata": {},
   "outputs": [],
   "source": []
  }
 ],
 "metadata": {
  "kernelspec": {
   "display_name": "Python 3",
   "language": "python",
   "name": "python3"
  },
  "language_info": {
   "codemirror_mode": {
    "name": "ipython",
    "version": 3
   },
   "file_extension": ".py",
   "mimetype": "text/x-python",
   "name": "python",
   "nbconvert_exporter": "python",
   "pygments_lexer": "ipython3",
   "version": "3.9.4"
  }
 },
 "nbformat": 4,
 "nbformat_minor": 5
}
