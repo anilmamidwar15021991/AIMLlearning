{
 "cells": [
  {
   "cell_type": "code",
   "execution_count": 1,
   "id": "2c9bd503",
   "metadata": {},
   "outputs": [],
   "source": [
    "import os\n",
    "import findspark"
   ]
  },
  {
   "cell_type": "code",
   "execution_count": 2,
   "id": "f51cf4e6",
   "metadata": {},
   "outputs": [],
   "source": [
    "findspark.init()"
   ]
  },
  {
   "cell_type": "code",
   "execution_count": 3,
   "id": "c46b3fd6",
   "metadata": {},
   "outputs": [
    {
     "data": {
      "text/plain": [
       "'C:\\\\Users\\\\maste\\\\anaconda3\\\\envs\\\\Venv_Learning\\\\Lib\\\\site-packages\\\\pyspark'"
      ]
     },
     "execution_count": 3,
     "metadata": {},
     "output_type": "execute_result"
    }
   ],
   "source": [
    "os.environ['SPARK_HOME']"
   ]
  },
  {
   "cell_type": "code",
   "execution_count": 4,
   "id": "929f47b2",
   "metadata": {},
   "outputs": [
    {
     "data": {
      "text/plain": [
       "'C:\\\\Users\\\\maste\\\\anaconda3\\\\envs\\\\Venv_Learning\\\\Lib\\\\site-packages\\\\pyspark'"
      ]
     },
     "execution_count": 4,
     "metadata": {},
     "output_type": "execute_result"
    }
   ],
   "source": [
    "os.getenv(\"SPARK_HOME\")"
   ]
  },
  {
   "cell_type": "code",
   "execution_count": 6,
   "id": "6fcb12a1",
   "metadata": {},
   "outputs": [],
   "source": [
    "from pyspark.sql import SparkSession\n",
    "spark=SparkSession.builder.appName(\"MySparkApplication\")\\\n",
    "                          .master(\"local[*]\")\\\n",
    "                          .getOrCreate()"
   ]
  },
  {
   "cell_type": "code",
   "execution_count": 7,
   "id": "8c9bae94",
   "metadata": {},
   "outputs": [
    {
     "data": {
      "text/html": [
       "\n",
       "            <div>\n",
       "                <p><b>SparkSession - in-memory</b></p>\n",
       "                \n",
       "        <div>\n",
       "            <p><b>SparkContext</b></p>\n",
       "\n",
       "            <p><a href=\"http://Anil-PC:4040\">Spark UI</a></p>\n",
       "\n",
       "            <dl>\n",
       "              <dt>Version</dt>\n",
       "                <dd><code>v3.5.0</code></dd>\n",
       "              <dt>Master</dt>\n",
       "                <dd><code>local[*]</code></dd>\n",
       "              <dt>AppName</dt>\n",
       "                <dd><code>MySparkApplication</code></dd>\n",
       "            </dl>\n",
       "        </div>\n",
       "        \n",
       "            </div>\n",
       "        "
      ],
      "text/plain": [
       "<pyspark.sql.session.SparkSession at 0x23153412cd0>"
      ]
     },
     "execution_count": 7,
     "metadata": {},
     "output_type": "execute_result"
    }
   ],
   "source": [
    "spark"
   ]
  },
  {
   "cell_type": "code",
   "execution_count": 8,
   "id": "8519974f",
   "metadata": {},
   "outputs": [],
   "source": [
    "data=[('Alice',34,'F'),(\"Bob\",45,'M'),(\"Anil\",33,'M')]\n",
    "columns=[\"Name\",\"Age\",\"Sex\"]\n",
    "df=spark.createDataFrame(data,columns)\n"
   ]
  },
  {
   "cell_type": "code",
   "execution_count": 9,
   "id": "5bb03963",
   "metadata": {},
   "outputs": [
    {
     "name": "stdout",
     "output_type": "stream",
     "text": [
      "+-----+---+---+\n",
      "| Name|Age|Sex|\n",
      "+-----+---+---+\n",
      "|Alice| 34|  F|\n",
      "|  Bob| 45|  M|\n",
      "| Anil| 33|  M|\n",
      "+-----+---+---+\n",
      "\n"
     ]
    }
   ],
   "source": [
    "df.show()"
   ]
  },
  {
   "cell_type": "code",
   "execution_count": 10,
   "id": "1555dc35",
   "metadata": {},
   "outputs": [
    {
     "name": "stdout",
     "output_type": "stream",
     "text": [
      "+----+---+---+\n",
      "|Name|Age|Sex|\n",
      "+----+---+---+\n",
      "| Bob| 45|  M|\n",
      "+----+---+---+\n",
      "\n"
     ]
    }
   ],
   "source": [
    "df.createOrReplaceTempView(\"people\")\n",
    "query=\"select * from people where age >=35\"\n",
    "query_result=spark.sql(query)\n",
    "query_result.show()"
   ]
  },
  {
   "cell_type": "code",
   "execution_count": 13,
   "id": "68de8374",
   "metadata": {},
   "outputs": [
    {
     "name": "stdout",
     "output_type": "stream",
     "text": [
      "+---+\n",
      "|age|\n",
      "+---+\n",
      "| 34|\n",
      "| 45|\n",
      "| 33|\n",
      "+---+\n",
      "\n"
     ]
    }
   ],
   "source": [
    "from pyspark.sql.functions import col,mean\n",
    "df_query= df.select(df['age'])\n",
    "df_query.show()"
   ]
  },
  {
   "cell_type": "code",
   "execution_count": 19,
   "id": "d682cfa7",
   "metadata": {},
   "outputs": [
    {
     "name": "stdout",
     "output_type": "stream",
     "text": [
      "+------------------+\n",
      "|          avg(age)|\n",
      "+------------------+\n",
      "|37.333333333333336|\n",
      "+------------------+\n",
      "\n"
     ]
    }
   ],
   "source": [
    "mean_age=df.agg(mean('age'))\n",
    "mean_age.show()"
   ]
  },
  {
   "cell_type": "code",
   "execution_count": null,
   "id": "7793beb7",
   "metadata": {},
   "outputs": [],
   "source": []
  },
  {
   "cell_type": "markdown",
   "id": "f4db3635",
   "metadata": {},
   "source": [
    "### RDD - datatype in spark\n",
    "#### spark does dustributed computing using RDD and SPARK dataframe objects"
   ]
  },
  {
   "cell_type": "code",
   "execution_count": 20,
   "id": "f2198cae",
   "metadata": {},
   "outputs": [],
   "source": [
    "sc= spark.sparkContext\n",
    "\n"
   ]
  },
  {
   "cell_type": "code",
   "execution_count": 22,
   "id": "a325a34d",
   "metadata": {},
   "outputs": [],
   "source": [
    "data=[1,3,5,7,9,11,13,15,17,19]\n",
    "rdd= sc.parallelize(data)"
   ]
  },
  {
   "cell_type": "code",
   "execution_count": 23,
   "id": "af1a27a5",
   "metadata": {},
   "outputs": [
    {
     "data": {
      "text/plain": [
       "ParallelCollectionRDD[28] at readRDDFromFile at PythonRDD.scala:289"
      ]
     },
     "execution_count": 23,
     "metadata": {},
     "output_type": "execute_result"
    }
   ],
   "source": [
    "rdd"
   ]
  },
  {
   "cell_type": "code",
   "execution_count": 29,
   "id": "687657fa",
   "metadata": {},
   "outputs": [],
   "source": [
    "#creating spark df\n",
    "\n",
    "data_df= spark.createDataFrame([(value,)] for value in data)"
   ]
  },
  {
   "cell_type": "code",
   "execution_count": 27,
   "id": "dc499f78",
   "metadata": {},
   "outputs": [
    {
     "data": {
      "text/plain": [
       "DataFrame[_1: struct<_1:bigint>]"
      ]
     },
     "execution_count": 27,
     "metadata": {},
     "output_type": "execute_result"
    }
   ],
   "source": [
    "data_df"
   ]
  },
  {
   "cell_type": "code",
   "execution_count": null,
   "id": "988ad181",
   "metadata": {},
   "outputs": [],
   "source": []
  }
 ],
 "metadata": {
  "kernelspec": {
   "display_name": "Python 3 (ipykernel)",
   "language": "python",
   "name": "python3"
  },
  "language_info": {
   "codemirror_mode": {
    "name": "ipython",
    "version": 3
   },
   "file_extension": ".py",
   "mimetype": "text/x-python",
   "name": "python",
   "nbconvert_exporter": "python",
   "pygments_lexer": "ipython3",
   "version": "3.11.3"
  }
 },
 "nbformat": 4,
 "nbformat_minor": 5
}
