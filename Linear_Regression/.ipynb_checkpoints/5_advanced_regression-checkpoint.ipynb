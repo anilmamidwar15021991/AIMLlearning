{
 "cells": [
  {
   "cell_type": "markdown",
   "metadata": {
    "id": "uwFhELWjrYus"
   },
   "source": [
    "<div class=\"alert\" style=\"background-color:#fff; color:white; padding:0px 10px; border-radius:5px;\"><h1 style='margin:15px 15px; color:#006a79; font-size:40px'> Advanced Regression Implementation</h1>\n",
    "Copyright Machine Learning Plus\n",
    "</div>\n",
    "\n",
    "### Content : \n",
    "1. Partial Least Squares\n",
    "2. Polynomial Regression\n",
    "3. RANSAC Regression\n",
    "4. Theil Sen Regression\n",
    "5. Quantile Regression "
   ]
  },
  {
   "cell_type": "markdown",
   "metadata": {
    "id": "ftnBkO3QrYvS"
   },
   "source": [
    "<div class=\"alert alert-info\" style=\"background-color:#006a79; color:white; padding:0px 10px; border-radius:5px;\"><h2 style='margin:10px 5px'>Partial Least squares</h2>\n",
    "</div>"
   ]
  },
  {
   "cell_type": "markdown",
   "metadata": {
    "id": "bvjfvXET-beR"
   },
   "source": [
    "### Load libraries"
   ]
  },
  {
   "cell_type": "code",
   "execution_count": null,
   "metadata": {
    "_cell_guid": "b1076dfc-b9ad-4769-8c92-a6c4dae69d19",
    "_uuid": "8f2839f25d086af736a60e9eeb907d3b93b6e0e5",
    "id": "IId-ObvirYvZ"
   },
   "outputs": [],
   "source": [
    "# Data manipulation\n",
    "import numpy as np \n",
    "import pandas as pd\n",
    "\n",
    "# Data Visualazation\n",
    "import seaborn as sns\n",
    "import matplotlib.pyplot as plt\n",
    "\n",
    "# Machine learning\n",
    "from sklearn.linear_model import LinearRegression\n",
    "from sklearn.cross_decomposition import PLSRegression\n",
    "from sklearn.preprocessing import scale\n",
    "from sklearn.model_selection import train_test_split\n",
    "from sklearn import model_selection\n",
    "from sklearn.model_selection import RepeatedKFold\n",
    "from sklearn.metrics import mean_absolute_percentage_error\n",
    "\n",
    "import warnings\n",
    "warnings.filterwarnings(\"ignore\")\n",
    "\n",
    "# Set options\n",
    "pd.set_option('display.max_rows', 800)\n",
    "pd.set_option('display.max_columns', 500)\n",
    "%matplotlib inline"
   ]
  },
  {
   "cell_type": "markdown",
   "metadata": {
    "id": "3zN10OM4-beS"
   },
   "source": [
    "### Load Data"
   ]
  },
  {
   "cell_type": "code",
   "execution_count": null,
   "metadata": {
    "_cell_guid": "79c7e3d0-c299-4dcb-8224-4455121ee9b0",
    "_uuid": "d629ff2d2480ee46fbb7e2d37f6b5fab8052498a",
    "id": "pDRxzspfrYvn",
    "outputId": "fac7bb83-b6af-4222-afb0-9c2ba111a95e"
   },
   "outputs": [
    {
     "data": {
      "text/html": [
       "<div>\n",
       "<style scoped>\n",
       "    .dataframe tbody tr th:only-of-type {\n",
       "        vertical-align: middle;\n",
       "    }\n",
       "\n",
       "    .dataframe tbody tr th {\n",
       "        vertical-align: top;\n",
       "    }\n",
       "\n",
       "    .dataframe thead th {\n",
       "        text-align: right;\n",
       "    }\n",
       "</style>\n",
       "<table border=\"1\" class=\"dataframe\">\n",
       "  <thead>\n",
       "    <tr style=\"text-align: right;\">\n",
       "      <th></th>\n",
       "      <th>OverallQual</th>\n",
       "      <th>YearBuilt</th>\n",
       "      <th>TotalBsmtSF</th>\n",
       "      <th>1stFlrSF</th>\n",
       "      <th>GrLivArea</th>\n",
       "      <th>FullBath</th>\n",
       "      <th>GarageCars</th>\n",
       "      <th>GarageArea</th>\n",
       "      <th>SalePrice</th>\n",
       "    </tr>\n",
       "  </thead>\n",
       "  <tbody>\n",
       "    <tr>\n",
       "      <th>0</th>\n",
       "      <td>6</td>\n",
       "      <td>1960</td>\n",
       "      <td>1080.0</td>\n",
       "      <td>1656</td>\n",
       "      <td>1656</td>\n",
       "      <td>1</td>\n",
       "      <td>2.0</td>\n",
       "      <td>528.0</td>\n",
       "      <td>215000</td>\n",
       "    </tr>\n",
       "    <tr>\n",
       "      <th>1</th>\n",
       "      <td>5</td>\n",
       "      <td>1961</td>\n",
       "      <td>882.0</td>\n",
       "      <td>896</td>\n",
       "      <td>896</td>\n",
       "      <td>1</td>\n",
       "      <td>1.0</td>\n",
       "      <td>730.0</td>\n",
       "      <td>105000</td>\n",
       "    </tr>\n",
       "    <tr>\n",
       "      <th>2</th>\n",
       "      <td>6</td>\n",
       "      <td>1958</td>\n",
       "      <td>1329.0</td>\n",
       "      <td>1329</td>\n",
       "      <td>1329</td>\n",
       "      <td>1</td>\n",
       "      <td>1.0</td>\n",
       "      <td>312.0</td>\n",
       "      <td>172000</td>\n",
       "    </tr>\n",
       "    <tr>\n",
       "      <th>3</th>\n",
       "      <td>7</td>\n",
       "      <td>1968</td>\n",
       "      <td>2110.0</td>\n",
       "      <td>2110</td>\n",
       "      <td>2110</td>\n",
       "      <td>2</td>\n",
       "      <td>2.0</td>\n",
       "      <td>522.0</td>\n",
       "      <td>244000</td>\n",
       "    </tr>\n",
       "    <tr>\n",
       "      <th>4</th>\n",
       "      <td>5</td>\n",
       "      <td>1997</td>\n",
       "      <td>928.0</td>\n",
       "      <td>928</td>\n",
       "      <td>1629</td>\n",
       "      <td>2</td>\n",
       "      <td>2.0</td>\n",
       "      <td>482.0</td>\n",
       "      <td>189900</td>\n",
       "    </tr>\n",
       "  </tbody>\n",
       "</table>\n",
       "</div>"
      ],
      "text/plain": [
       "   OverallQual  YearBuilt  TotalBsmtSF  1stFlrSF  GrLivArea  FullBath  \\\n",
       "0            6       1960       1080.0      1656       1656         1   \n",
       "1            5       1961        882.0       896        896         1   \n",
       "2            6       1958       1329.0      1329       1329         1   \n",
       "3            7       1968       2110.0      2110       2110         2   \n",
       "4            5       1997        928.0       928       1629         2   \n",
       "\n",
       "   GarageCars  GarageArea  SalePrice  \n",
       "0         2.0       528.0     215000  \n",
       "1         1.0       730.0     105000  \n",
       "2         1.0       312.0     172000  \n",
       "3         2.0       522.0     244000  \n",
       "4         2.0       482.0     189900  "
      ]
     },
     "execution_count": 2,
     "metadata": {},
     "output_type": "execute_result"
    }
   ],
   "source": [
    "# Load the data\n",
    "df = pd.read_csv(\"Datasets/hoursing_df_cleaned.csv\", usecols = ['SalePrice', 'OverallQual', 'GrLivArea', 'GarageCars', 'GarageArea',\n",
    "       'TotalBsmtSF', '1stFlrSF', 'YearBuilt', 'FullBath'])\n",
    "df.head()"
   ]
  },
  {
   "cell_type": "markdown",
   "metadata": {
    "id": "fk9to1YP-beT"
   },
   "source": [
    "### Model Building"
   ]
  },
  {
   "cell_type": "code",
   "execution_count": null,
   "metadata": {
    "id": "FB-tm3IyrYws"
   },
   "outputs": [],
   "source": [
    "# Split the dataset in X and y\n",
    "X = df.drop(columns=['SalePrice'])\n",
    "y = df[['SalePrice']]"
   ]
  },
  {
   "cell_type": "code",
   "execution_count": null,
   "metadata": {
    "id": "fC16qX-m-beT"
   },
   "outputs": [],
   "source": [
    "#define cross-validation method\n",
    "cv = RepeatedKFold(n_splits=10, n_repeats=3, random_state=1)\n",
    "\n",
    "mse = []\n",
    "n = len(X)\n",
    "\n",
    "# Calculate MSE with only the intercept\n",
    "score = -1*model_selection.cross_val_score(PLSRegression(n_components=1),\n",
    "           np.ones((n,1)), y, cv=cv, scoring='neg_mean_squared_error').mean()    \n",
    "mse.append(score)"
   ]
  },
  {
   "cell_type": "code",
   "execution_count": null,
   "metadata": {
    "id": "aPG4xG6e-beU",
    "outputId": "094727a3-6f56-4ad4-9d36-500a190dd88f"
   },
   "outputs": [
    {
     "data": {
      "text/plain": [
       "[nan,\n",
       " 1040231788.0321385,\n",
       " 833913960.0661438,\n",
       " 807081318.7845757,\n",
       " 804392393.3487221,\n",
       " 803545343.9085369]"
      ]
     },
     "execution_count": 5,
     "metadata": {},
     "output_type": "execute_result"
    }
   ],
   "source": [
    "# Calculate MSE using cross-validation, adding one component at a time\n",
    "for i in np.arange(1, 6):\n",
    "    pls = PLSRegression(n_components=i)\n",
    "    score = -1*model_selection.cross_val_score(pls, scale(X), y, cv=cv,\n",
    "               scoring='neg_mean_squared_error').mean()\n",
    "    mse.append(score)\n",
    "    \n",
    "mse"
   ]
  },
  {
   "cell_type": "code",
   "execution_count": null,
   "metadata": {
    "id": "y6StCXZX-beU",
    "outputId": "ad0e4258-d673-4b63-e2a6-453f7b87aab9"
   },
   "outputs": [
    {
     "data": {
      "text/plain": [
       "Text(0.5, 1.0, 'hp')"
      ]
     },
     "execution_count": 6,
     "metadata": {},
     "output_type": "execute_result"
    },
    {
     "data": {
      "image/png": "[encoded data removed]",
      "text/plain": [
       "<Figure size 432x288 with 1 Axes>"
      ]
     },
     "metadata": {
      "needs_background": "light"
     },
     "output_type": "display_data"
    }
   ],
   "source": [
    "#plot test MSE vs. number of components\n",
    "plt.plot(mse)\n",
    "plt.xlabel('Number of PLS Components')\n",
    "plt.ylabel('MSE')\n",
    "plt.title('hp')"
   ]
  },
  {
   "cell_type": "markdown",
   "metadata": {
    "id": "XHFabdHl-beU"
   },
   "source": [
    "### Final Model"
   ]
  },
  {
   "cell_type": "code",
   "execution_count": null,
   "metadata": {
    "id": "3eSHX8JQrYwt",
    "outputId": "3c0557aa-da99-43f7-e04a-c608d5cfcd06"
   },
   "outputs": [
    {
     "data": {
      "text/html": [
       "<div>\n",
       "<style scoped>\n",
       "    .dataframe tbody tr th:only-of-type {\n",
       "        vertical-align: middle;\n",
       "    }\n",
       "\n",
       "    .dataframe tbody tr th {\n",
       "        vertical-align: top;\n",
       "    }\n",
       "\n",
       "    .dataframe thead th {\n",
       "        text-align: right;\n",
       "    }\n",
       "</style>\n",
       "<table border=\"1\" class=\"dataframe\">\n",
       "  <thead>\n",
       "    <tr style=\"text-align: right;\">\n",
       "      <th></th>\n",
       "      <th>OverallQual</th>\n",
       "      <th>YearBuilt</th>\n",
       "      <th>TotalBsmtSF</th>\n",
       "      <th>1stFlrSF</th>\n",
       "      <th>GrLivArea</th>\n",
       "      <th>FullBath</th>\n",
       "      <th>GarageCars</th>\n",
       "      <th>GarageArea</th>\n",
       "    </tr>\n",
       "  </thead>\n",
       "  <tbody>\n",
       "    <tr>\n",
       "      <th>1930</th>\n",
       "      <td>3</td>\n",
       "      <td>1948</td>\n",
       "      <td>649.0</td>\n",
       "      <td>679</td>\n",
       "      <td>1183</td>\n",
       "      <td>1</td>\n",
       "      <td>1.0</td>\n",
       "      <td>308.0</td>\n",
       "    </tr>\n",
       "    <tr>\n",
       "      <th>497</th>\n",
       "      <td>8</td>\n",
       "      <td>2006</td>\n",
       "      <td>1422.0</td>\n",
       "      <td>1432</td>\n",
       "      <td>1432</td>\n",
       "      <td>2</td>\n",
       "      <td>2.0</td>\n",
       "      <td>492.0</td>\n",
       "    </tr>\n",
       "    <tr>\n",
       "      <th>1246</th>\n",
       "      <td>6</td>\n",
       "      <td>1954</td>\n",
       "      <td>832.0</td>\n",
       "      <td>832</td>\n",
       "      <td>832</td>\n",
       "      <td>1</td>\n",
       "      <td>2.0</td>\n",
       "      <td>528.0</td>\n",
       "    </tr>\n",
       "    <tr>\n",
       "      <th>952</th>\n",
       "      <td>6</td>\n",
       "      <td>1998</td>\n",
       "      <td>1204.0</td>\n",
       "      <td>1204</td>\n",
       "      <td>1204</td>\n",
       "      <td>2</td>\n",
       "      <td>2.0</td>\n",
       "      <td>412.0</td>\n",
       "    </tr>\n",
       "    <tr>\n",
       "      <th>1464</th>\n",
       "      <td>4</td>\n",
       "      <td>2005</td>\n",
       "      <td>1132.0</td>\n",
       "      <td>1132</td>\n",
       "      <td>1132</td>\n",
       "      <td>1</td>\n",
       "      <td>2.0</td>\n",
       "      <td>451.0</td>\n",
       "    </tr>\n",
       "  </tbody>\n",
       "</table>\n",
       "</div>"
      ],
      "text/plain": [
       "      OverallQual  YearBuilt  TotalBsmtSF  1stFlrSF  GrLivArea  FullBath  \\\n",
       "1930            3       1948        649.0       679       1183         1   \n",
       "497             8       2006       1422.0      1432       1432         2   \n",
       "1246            6       1954        832.0       832        832         1   \n",
       "952             6       1998       1204.0      1204       1204         2   \n",
       "1464            4       2005       1132.0      1132       1132         1   \n",
       "\n",
       "      GarageCars  GarageArea  \n",
       "1930         1.0       308.0  \n",
       "497          2.0       492.0  \n",
       "1246         2.0       528.0  \n",
       "952          2.0       412.0  \n",
       "1464         2.0       451.0  "
      ]
     },
     "execution_count": 7,
     "metadata": {},
     "output_type": "execute_result"
    }
   ],
   "source": [
    "# Train test split\n",
    "X_train, X_test, y_train, y_test = train_test_split(X, y, test_size=0.3, random_state=1234)\n",
    "\n",
    "X_train.head()"
   ]
  },
  {
   "cell_type": "code",
   "execution_count": null,
   "metadata": {
    "id": "h-KQvsUf-beV",
    "outputId": "e1a6d526-8b01-48f1-fc0e-ebe3870d3679"
   },
   "outputs": [
    {
     "data": {
      "text/plain": [
       "PLSRegression(n_components=3)"
      ]
     },
     "execution_count": 8,
     "metadata": {},
     "output_type": "execute_result"
    }
   ],
   "source": [
    "# Fit the model\n",
    "pls = PLSRegression(n_components=3)\n",
    "pls.fit(scale(X_train), y_train)"
   ]
  },
  {
   "cell_type": "code",
   "execution_count": null,
   "metadata": {
    "id": "Z2IRc1cC-beV",
    "outputId": "ad961df7-fd7e-453c-c732-769e6aa0fdba",
    "scrolled": true,
    "tags": []
   },
   "outputs": [
    {
     "data": {
      "text/plain": [
       "array([[267862.75382881],\n",
       "       [178808.05055828],\n",
       "       [120937.45266296],\n",
       "       [120367.56487631],\n",
       "       [255553.08040706],\n",
       "       [160737.09317214],\n",
       "       [207242.46883311],\n",
       "       [133837.64542892],\n",
       "       [184781.08290265],\n",
       "       [124373.54691346],\n",
       "       [201266.24913609],\n",
       "       [176331.04890246],\n",
       "       [166712.50354081],\n",
       "       [223391.7691623 ],\n",
       "       [ 48696.67041958],\n",
       "       [ 86029.49404284],\n",
       "       [319334.85120546],\n",
       "       [243051.96425639],\n",
       "       [192191.77057231],\n",
       "       [253651.6652165 ],\n",
       "       [157630.14230151],\n",
       "       [136973.61512876],\n",
       "       [137442.22303266],\n",
       "       [221442.00689645],\n",
       "       [313111.94393547],\n",
       "       [155109.62544793],\n",
       "       [243834.7119542 ],\n",
       "       [257969.1153742 ],\n",
       "       [205963.36802946],\n",
       "       [281137.82244618],\n",
       "       [207021.23737753],\n",
       "       [192565.4185289 ],\n",
       "       [248693.71378813],\n",
       "       [193203.98768773],\n",
       "       [129077.87909375],\n",
       "       [178043.51628415],\n",
       "       [267333.53427445],\n",
       "       [158694.70152579],\n",
       "       [310618.69573522],\n",
       "       [189991.98928506],\n",
       "       [192300.85685423],\n",
       "       [244636.27719846],\n",
       "       [223786.52955966],\n",
       "       [152196.10872328],\n",
       "       [163083.33447286],\n",
       "       [121373.04101261],\n",
       "       [123632.41829812],\n",
       "       [134208.50658884],\n",
       "       [287494.92660034],\n",
       "       [ 47553.34361501],\n",
       "       [121670.05667529],\n",
       "       [354174.64610686],\n",
       "       [141708.74215806],\n",
       "       [169427.27900468],\n",
       "       [143600.94738472],\n",
       "       [137938.54598806],\n",
       "       [ 63315.05061356],\n",
       "       [293496.16050915],\n",
       "       [124731.50550579],\n",
       "       [231048.4366383 ],\n",
       "       [234086.35439695],\n",
       "       [205125.42215464],\n",
       "       [ 94272.05869513],\n",
       "       [209762.33451791],\n",
       "       [226449.0503455 ],\n",
       "       [129231.79887893],\n",
       "       [316408.0852315 ],\n",
       "       [136391.16514942],\n",
       "       [122061.87375749],\n",
       "       [189335.91688214],\n",
       "       [143124.9297717 ],\n",
       "       [218608.08969172],\n",
       "       [156683.21059931],\n",
       "       [135500.35520835],\n",
       "       [168387.11620787],\n",
       "       [229063.08899715],\n",
       "       [171242.81443625],\n",
       "       [206651.62211097],\n",
       "       [243690.67584402],\n",
       "       [256801.75359493],\n",
       "       [111727.17657823],\n",
       "       [321773.2597134 ],\n",
       "       [105792.51319673],\n",
       "       [288350.48918602],\n",
       "       [149089.84985845],\n",
       "       [274105.35369106],\n",
       "       [246382.82047753],\n",
       "       [198941.64344368],\n",
       "       [204543.35809746],\n",
       "       [220609.91811073],\n",
       "       [156250.14628924],\n",
       "       [193235.88433474],\n",
       "       [ 83070.20374751],\n",
       "       [179433.83194794],\n",
       "       [ 84927.09814112],\n",
       "       [117127.05475658],\n",
       "       [116958.84972945],\n",
       "       [216647.8162557 ],\n",
       "       [253700.37653363],\n",
       "       [125721.34393419],\n",
       "       [228405.58713686],\n",
       "       [253964.76185016],\n",
       "       [204543.35809746],\n",
       "       [173233.8550018 ],\n",
       "       [273497.03216569],\n",
       "       [201950.03921878],\n",
       "       [308197.38258404],\n",
       "       [175667.95507753],\n",
       "       [222872.58101854],\n",
       "       [225342.71686081],\n",
       "       [143495.49407937],\n",
       "       [128332.48418667],\n",
       "       [209664.73229121],\n",
       "       [ 70859.71885196],\n",
       "       [113158.87824167],\n",
       "       [140295.25084349],\n",
       "       [300927.20030101],\n",
       "       [119732.93859397],\n",
       "       [188678.65687862],\n",
       "       [174057.73371061],\n",
       "       [151776.63324206],\n",
       "       [112570.84200069],\n",
       "       [307849.70138464],\n",
       "       [  2407.03263084],\n",
       "       [220829.42178489],\n",
       "       [205881.64882862],\n",
       "       [146461.66400567],\n",
       "       [223203.5441031 ],\n",
       "       [124589.12337228],\n",
       "       [147718.29226486],\n",
       "       [214040.26440766],\n",
       "       [274813.3123549 ],\n",
       "       [202083.66098586],\n",
       "       [208589.7073474 ],\n",
       "       [129568.87312983],\n",
       "       [214817.74224946],\n",
       "       [144107.42540005],\n",
       "       [220234.51584766],\n",
       "       [205970.36093025],\n",
       "       [192170.16997234],\n",
       "       [148525.48023094],\n",
       "       [218115.57088248],\n",
       "       [118152.75816346],\n",
       "       [208628.63148443],\n",
       "       [106795.25101878],\n",
       "       [211304.02718907],\n",
       "       [226604.71355412],\n",
       "       [142738.58813305],\n",
       "       [124596.03085039],\n",
       "       [137661.53715213],\n",
       "       [124076.65202049],\n",
       "       [118388.35291893],\n",
       "       [104855.47364871],\n",
       "       [117598.59284565],\n",
       "       [238620.65613352],\n",
       "       [179847.53084976],\n",
       "       [267031.74381609],\n",
       "       [245911.68205173],\n",
       "       [160232.09172058],\n",
       "       [200396.91236705],\n",
       "       [161989.83206685],\n",
       "       [133481.01619141],\n",
       "       [ 94642.95580158],\n",
       "       [128418.82042283],\n",
       "       [158071.12494128],\n",
       "       [130824.09344036],\n",
       "       [170666.85762945],\n",
       "       [ 91113.64388725],\n",
       "       [112127.31167648],\n",
       "       [ 89069.07920024],\n",
       "       [180526.96204039],\n",
       "       [208439.33408704],\n",
       "       [251707.33008529],\n",
       "       [234945.28459698],\n",
       "       [226724.44688722],\n",
       "       [118071.9589508 ],\n",
       "       [104185.23768927],\n",
       "       [209261.80191256],\n",
       "       [151615.38058776],\n",
       "       [139851.53266658],\n",
       "       [ 56558.26369866],\n",
       "       [ 56292.76072685],\n",
       "       [202097.06869804],\n",
       "       [209669.28766131],\n",
       "       [157474.71313653],\n",
       "       [220720.92988528],\n",
       "       [194507.49704032],\n",
       "       [151489.18388688],\n",
       "       [158922.58467357],\n",
       "       [  1476.51697396],\n",
       "       [245339.65876697],\n",
       "       [ 59848.29662538],\n",
       "       [164534.20010265],\n",
       "       [156453.12648969],\n",
       "       [ 69733.03869006],\n",
       "       [168303.68517832],\n",
       "       [240265.78591137],\n",
       "       [238494.81504599],\n",
       "       [115153.13330519],\n",
       "       [164603.50500458],\n",
       "       [272465.77112702],\n",
       "       [251357.676497  ],\n",
       "       [153711.13235797],\n",
       "       [262412.1643417 ],\n",
       "       [258709.12025533],\n",
       "       [203895.06335763],\n",
       "       [260392.52124409],\n",
       "       [281782.14430586],\n",
       "       [231085.50984294],\n",
       "       [132207.62456143],\n",
       "       [113171.62687586],\n",
       "       [290940.13809536],\n",
       "       [150904.01244266],\n",
       "       [237684.71145594],\n",
       "       [168276.54224005],\n",
       "       [ 59848.29662538],\n",
       "       [205123.72413555],\n",
       "       [213441.2796467 ],\n",
       "       [118050.18310783],\n",
       "       [123922.60200676],\n",
       "       [173598.31742243],\n",
       "       [312702.38435906],\n",
       "       [141342.8058486 ],\n",
       "       [387505.46444657],\n",
       "       [108424.77099229],\n",
       "       [158750.70677064],\n",
       "       [199766.34270967],\n",
       "       [128520.32305287],\n",
       "       [232223.51160784],\n",
       "       [183210.07162201],\n",
       "       [205730.67834625],\n",
       "       [101165.58973213],\n",
       "       [154659.52318424],\n",
       "       [139793.28793437],\n",
       "       [148923.88595119],\n",
       "       [347720.0052662 ],\n",
       "       [179654.52362702],\n",
       "       [181883.03607573],\n",
       "       [136952.26837503],\n",
       "       [162528.26229524],\n",
       "       [200105.94430385],\n",
       "       [ 66126.95080704],\n",
       "       [175014.78644821],\n",
       "       [112764.43929359],\n",
       "       [138393.96507079],\n",
       "       [176778.96645264],\n",
       "       [243855.36738469],\n",
       "       [271368.89566367],\n",
       "       [217999.53173744],\n",
       "       [178572.54030813],\n",
       "       [222992.24249695],\n",
       "       [230108.02157076],\n",
       "       [101813.34093334],\n",
       "       [131031.35923413],\n",
       "       [103494.27762444],\n",
       "       [220667.7439896 ],\n",
       "       [136580.15051756],\n",
       "       [128486.75870065],\n",
       "       [228814.71053743],\n",
       "       [136343.51457691],\n",
       "       [167387.04050485],\n",
       "       [261358.63455532],\n",
       "       [124021.1340684 ],\n",
       "       [323154.27961802],\n",
       "       [  7073.61017455],\n",
       "       [121316.62936131],\n",
       "       [339397.97214776],\n",
       "       [248406.52387792],\n",
       "       [139012.35811403],\n",
       "       [308406.93092139],\n",
       "       [185046.96439246],\n",
       "       [240648.64930655],\n",
       "       [116677.39488019],\n",
       "       [192619.31450932],\n",
       "       [131273.92491759],\n",
       "       [129577.84141693],\n",
       "       [174027.79025593],\n",
       "       [176406.8936149 ],\n",
       "       [141354.58764151],\n",
       "       [119014.94114785],\n",
       "       [130903.36060992],\n",
       "       [135155.85340603],\n",
       "       [291169.98737049],\n",
       "       [207510.95078774],\n",
       "       [ 11779.31569597],\n",
       "       [133328.66591101],\n",
       "       [140010.12482878],\n",
       "       [228334.76751287],\n",
       "       [230940.23277025],\n",
       "       [174754.55852402],\n",
       "       [171572.14615171],\n",
       "       [225265.04135916],\n",
       "       [162699.44535436],\n",
       "       [ 55492.18120871],\n",
       "       [183204.65499094],\n",
       "       [123202.75183321],\n",
       "       [228049.02455341],\n",
       "       [189407.93745901],\n",
       "       [219384.13576136],\n",
       "       [170789.76462183],\n",
       "       [168899.6986761 ],\n",
       "       [177937.92659585],\n",
       "       [134902.92750752],\n",
       "       [131716.57191728],\n",
       "       [137464.62097818],\n",
       "       [132463.62530271],\n",
       "       [194915.33334033],\n",
       "       [313628.814715  ],\n",
       "       [148583.9255484 ],\n",
       "       [223427.69592874],\n",
       "       [162557.33687877],\n",
       "       [168302.35996591],\n",
       "       [196290.58151445],\n",
       "       [261200.50879625],\n",
       "       [177756.48727767],\n",
       "       [ 98904.06612613],\n",
       "       [ 48495.90301274],\n",
       "       [137210.95000814],\n",
       "       [209088.9419518 ],\n",
       "       [155091.16694347],\n",
       "       [134529.44240521],\n",
       "       [229290.78697375],\n",
       "       [104209.91476203],\n",
       "       [115250.01147061],\n",
       "       [245409.8683793 ],\n",
       "       [179588.99411802],\n",
       "       [184680.01368512],\n",
       "       [167826.57124249],\n",
       "       [126918.26845242],\n",
       "       [204543.35809746],\n",
       "       [186293.06372859],\n",
       "       [126376.31381281],\n",
       "       [154407.14082998],\n",
       "       [249760.07925953],\n",
       "       [203139.97441359],\n",
       "       [241826.86130527],\n",
       "       [126738.31067515],\n",
       "       [150579.55745289],\n",
       "       [214969.89063494],\n",
       "       [ 87997.08058594],\n",
       "       [187621.89544772],\n",
       "       [136659.25566247],\n",
       "       [113659.39883737],\n",
       "       [237813.51337555],\n",
       "       [108681.49439648],\n",
       "       [128368.35789832],\n",
       "       [125514.25421208],\n",
       "       [152137.03853748],\n",
       "       [180959.45765817],\n",
       "       [108157.27144988],\n",
       "       [244105.61207263],\n",
       "       [225574.62147091],\n",
       "       [190509.87025032],\n",
       "       [195765.26259037],\n",
       "       [177323.71831792],\n",
       "       [101380.74209653],\n",
       "       [123021.28369705],\n",
       "       [227079.58597554],\n",
       "       [188700.92874199],\n",
       "       [280128.69000006],\n",
       "       [181460.32731104],\n",
       "       [143563.99878535],\n",
       "       [118895.62010309],\n",
       "       [195696.65310128],\n",
       "       [212394.65462568],\n",
       "       [116265.2204592 ],\n",
       "       [177128.7801523 ],\n",
       "       [191444.90710374],\n",
       "       [145876.31706151],\n",
       "       [ 49008.36313844],\n",
       "       [138727.22786021],\n",
       "       [195444.53474051],\n",
       "       [246774.33561017],\n",
       "       [152137.03853748],\n",
       "       [205274.58408163],\n",
       "       [ 46027.06773809],\n",
       "       [159090.14802471],\n",
       "       [176073.30043493],\n",
       "       [148090.69658933],\n",
       "       [239411.83851994],\n",
       "       [182710.78181827],\n",
       "       [ 98479.75207762],\n",
       "       [211544.42857785],\n",
       "       [132212.73361815],\n",
       "       [150717.48828592],\n",
       "       [174702.2155366 ],\n",
       "       [157179.041882  ],\n",
       "       [199659.86732529],\n",
       "       [246798.19616758],\n",
       "       [119075.52625423],\n",
       "       [225658.750752  ],\n",
       "       [301089.24513353],\n",
       "       [124411.25207648],\n",
       "       [119911.7935733 ],\n",
       "       [209536.28728103],\n",
       "       [160624.35129333],\n",
       "       [223975.24742026],\n",
       "       [138604.3989521 ],\n",
       "       [131910.44878844],\n",
       "       [122757.8386673 ],\n",
       "       [ 89408.28839112],\n",
       "       [204471.39457036],\n",
       "       [126560.61355963],\n",
       "       [144326.77454614],\n",
       "       [113798.09136624],\n",
       "       [167420.42685903],\n",
       "       [195992.67909985],\n",
       "       [140567.24343359],\n",
       "       [284880.64320142],\n",
       "       [253591.47517788],\n",
       "       [296781.50726924],\n",
       "       [170722.65971103],\n",
       "       [236420.59415243],\n",
       "       [136230.51138899],\n",
       "       [138221.91530085],\n",
       "       [215314.25443987],\n",
       "       [176506.04397307],\n",
       "       [256553.56225472],\n",
       "       [123632.41829812],\n",
       "       [118193.68617469],\n",
       "       [161063.32529056],\n",
       "       [187290.63449129],\n",
       "       [143431.93788668],\n",
       "       [301339.53179892],\n",
       "       [192586.76436988],\n",
       "       [134840.15535283],\n",
       "       [153136.77385972],\n",
       "       [277858.7928016 ],\n",
       "       [186092.65426382],\n",
       "       [182256.61403836],\n",
       "       [184335.91365055],\n",
       "       [226209.86052519],\n",
       "       [148326.08887596],\n",
       "       [247826.16132224],\n",
       "       [ 77949.73626444],\n",
       "       [170235.03147149],\n",
       "       [100857.64385477],\n",
       "       [191303.33478055],\n",
       "       [266318.78773192],\n",
       "       [188150.62637377],\n",
       "       [143360.97252773],\n",
       "       [182725.87001189],\n",
       "       [193302.36822697],\n",
       "       [110809.6502375 ],\n",
       "       [204332.65731291],\n",
       "       [134481.09187856],\n",
       "       [232431.05133278],\n",
       "       [138485.63715575],\n",
       "       [ 95836.84587433],\n",
       "       [251333.22922607],\n",
       "       [161989.83206685],\n",
       "       [124411.25207648],\n",
       "       [272946.21635829],\n",
       "       [ 67784.55099199],\n",
       "       [170180.82888791],\n",
       "       [311972.50284534],\n",
       "       [218599.88599408],\n",
       "       [198166.3323434 ],\n",
       "       [114215.30491807],\n",
       "       [139697.5671696 ],\n",
       "       [114770.56182617],\n",
       "       [199471.30282574],\n",
       "       [142165.91108334],\n",
       "       [334840.622595  ],\n",
       "       [268495.25249161],\n",
       "       [312445.8208965 ],\n",
       "       [203636.67215902],\n",
       "       [ 46881.65222007],\n",
       "       [160077.43680179],\n",
       "       [140007.86079621],\n",
       "       [175263.65658697],\n",
       "       [276153.07402531],\n",
       "       [120511.53690369],\n",
       "       [188491.83738427],\n",
       "       [104008.69309952],\n",
       "       [177642.21100666],\n",
       "       [ 38814.60682422],\n",
       "       [311743.43662017],\n",
       "       [243153.54085914],\n",
       "       [254673.5709699 ],\n",
       "       [237198.78577424],\n",
       "       [125223.83537496],\n",
       "       [113961.78444296],\n",
       "       [169401.65836675],\n",
       "       [177066.30304768],\n",
       "       [203808.87593287],\n",
       "       [238850.53741502],\n",
       "       [ 96997.42304834],\n",
       "       [163495.7065661 ],\n",
       "       [126639.25980886],\n",
       "       [188074.90873592],\n",
       "       [168016.5519002 ],\n",
       "       [225978.20467307],\n",
       "       [204917.03111013],\n",
       "       [163443.77424117],\n",
       "       [219276.93846138],\n",
       "       [131898.97382388],\n",
       "       [237909.1179754 ],\n",
       "       [223403.9860614 ],\n",
       "       [ 48668.42593177],\n",
       "       [317802.34581975],\n",
       "       [112562.36692805],\n",
       "       [ 99220.35298681],\n",
       "       [108433.46685235],\n",
       "       [127721.17467255],\n",
       "       [233677.13583334],\n",
       "       [158282.22413382],\n",
       "       [176506.04397307],\n",
       "       [139929.06030271],\n",
       "       [125492.9576443 ],\n",
       "       [127220.29811638],\n",
       "       [186451.73971849],\n",
       "       [305160.67542669],\n",
       "       [105784.76254012],\n",
       "       [207769.40251074],\n",
       "       [121788.62652278],\n",
       "       [272319.17080218],\n",
       "       [203086.70792116],\n",
       "       [173143.50808102],\n",
       "       [153764.02894631],\n",
       "       [265163.09650303],\n",
       "       [244487.90860782],\n",
       "       [187099.16436627],\n",
       "       [120518.56077308],\n",
       "       [224005.75702054],\n",
       "       [181139.86896988],\n",
       "       [260894.82488842],\n",
       "       [143021.25950858],\n",
       "       [242233.96514877],\n",
       "       [158049.67885842],\n",
       "       [ 66196.17447738],\n",
       "       [216281.66014112],\n",
       "       [175537.20811655],\n",
       "       [123632.41829812],\n",
       "       [278055.90686178],\n",
       "       [121746.90440244],\n",
       "       [160584.25955539],\n",
       "       [347249.21259524],\n",
       "       [112542.23217002],\n",
       "       [150835.30814388],\n",
       "       [189388.70785451],\n",
       "       [209043.43377431],\n",
       "       [268885.57001176],\n",
       "       [230151.96429496],\n",
       "       [142017.10171868],\n",
       "       [129790.74480928],\n",
       "       [176926.94165087],\n",
       "       [221838.65157678],\n",
       "       [ 86176.44960049],\n",
       "       [217424.3601764 ],\n",
       "       [292071.83446283],\n",
       "       [112473.57236087],\n",
       "       [189527.64498808],\n",
       "       [119326.66599862],\n",
       "       [227801.05940664],\n",
       "       [176637.77854948],\n",
       "       [254423.06538262],\n",
       "       [304837.89106086],\n",
       "       [177968.01883375],\n",
       "       [162007.67492574],\n",
       "       [213514.79216596],\n",
       "       [247987.55882372],\n",
       "       [128368.56872972],\n",
       "       [315448.22450267],\n",
       "       [185077.53429992],\n",
       "       [147926.73645999],\n",
       "       [155042.62375177],\n",
       "       [ 42382.82592293],\n",
       "       [211721.76495466],\n",
       "       [124455.75109688],\n",
       "       [192915.07379332],\n",
       "       [197059.95257885],\n",
       "       [217332.4750145 ],\n",
       "       [162975.22460183],\n",
       "       [ 64222.64940688],\n",
       "       [124056.67078378],\n",
       "       [168868.80333657],\n",
       "       [286235.37093327],\n",
       "       [114941.96167104],\n",
       "       [156567.52101366],\n",
       "       [220613.80138145],\n",
       "       [142266.44186663],\n",
       "       [156074.58106279],\n",
       "       [100805.30716333],\n",
       "       [ 90201.14450413],\n",
       "       [296909.50024602],\n",
       "       [241295.38637924],\n",
       "       [167449.75547728],\n",
       "       [236061.16789733],\n",
       "       [106936.86726416],\n",
       "       [144187.41033513],\n",
       "       [146591.52054939],\n",
       "       [107976.43763223],\n",
       "       [152727.01538745],\n",
       "       [135136.02494984],\n",
       "       [166212.61907378],\n",
       "       [234777.35634711],\n",
       "       [177533.53729082],\n",
       "       [120436.36083105],\n",
       "       [ 96495.58556181],\n",
       "       [197807.60237988],\n",
       "       [ 91536.03237029],\n",
       "       [112378.64222552],\n",
       "       [162671.92758136],\n",
       "       [311948.47392081],\n",
       "       [123647.20369341],\n",
       "       [215716.02551585],\n",
       "       [170483.5421967 ],\n",
       "       [170851.07116005],\n",
       "       [104851.05387147],\n",
       "       [197148.77485822],\n",
       "       [163442.12638715],\n",
       "       [219726.8450348 ],\n",
       "       [185313.0207292 ],\n",
       "       [163970.99176277],\n",
       "       [125453.91433176],\n",
       "       [129272.40322664],\n",
       "       [124116.09923788],\n",
       "       [334663.02337264],\n",
       "       [139528.52328976],\n",
       "       [240353.43744822],\n",
       "       [217023.16362152],\n",
       "       [145999.24989962],\n",
       "       [227363.74136018],\n",
       "       [258660.94214733],\n",
       "       [169106.85671428],\n",
       "       [133687.15471401],\n",
       "       [131936.76565966],\n",
       "       [127637.26923122],\n",
       "       [154168.88253822],\n",
       "       [152507.60284515],\n",
       "       [245856.4578455 ],\n",
       "       [148302.68405532],\n",
       "       [217181.82831452],\n",
       "       [ 66196.17447738],\n",
       "       [ 84371.78226531],\n",
       "       [140665.29236829],\n",
       "       [234577.21366867],\n",
       "       [210441.34191089],\n",
       "       [310259.12269713],\n",
       "       [171375.91066522],\n",
       "       [145966.75416586],\n",
       "       [228440.32796326],\n",
       "       [237036.6997625 ],\n",
       "       [184722.07062638],\n",
       "       [ 62649.23569833],\n",
       "       [232769.18199597],\n",
       "       [229902.86287002],\n",
       "       [188147.43191403],\n",
       "       [ 96968.9675394 ],\n",
       "       [318699.87966251],\n",
       "       [133740.80373735],\n",
       "       [ 97101.79399752],\n",
       "       [136249.87972057],\n",
       "       [112760.41705056],\n",
       "       [217631.25126093],\n",
       "       [289526.63574512],\n",
       "       [180526.96204039],\n",
       "       [246776.07482856],\n",
       "       [ 83697.31017468],\n",
       "       [ 58278.05050334],\n",
       "       [222288.84487002],\n",
       "       [196738.44904037],\n",
       "       [183022.91892852],\n",
       "       [269104.10074979],\n",
       "       [201770.08256865],\n",
       "       [142705.37095327],\n",
       "       [283453.63247349],\n",
       "       [171225.65472349],\n",
       "       [149108.41257952],\n",
       "       [268232.54918198],\n",
       "       [192017.94470061],\n",
       "       [144221.97597012],\n",
       "       [ 94411.28934077],\n",
       "       [135837.43623993],\n",
       "       [163989.00254558],\n",
       "       [219874.32110651],\n",
       "       [167296.60498729],\n",
       "       [128373.42059791],\n",
       "       [248654.64843529],\n",
       "       [107889.31911668],\n",
       "       [140177.09709011],\n",
       "       [278289.96329759],\n",
       "       [ 83693.708956  ],\n",
       "       [175314.51580255],\n",
       "       [130214.28852624],\n",
       "       [209777.39231915],\n",
       "       [137658.35306841],\n",
       "       [126423.36514873],\n",
       "       [139182.54364524],\n",
       "       [117034.78572056],\n",
       "       [160214.62728964],\n",
       "       [178238.04412406],\n",
       "       [ 91821.27897533],\n",
       "       [109850.44916967],\n",
       "       [284278.87801117],\n",
       "       [222092.83880145],\n",
       "       [123458.91527771],\n",
       "       [267020.22806414],\n",
       "       [312641.62692018],\n",
       "       [176737.71595176],\n",
       "       [ 96828.59490422],\n",
       "       [171592.19977539],\n",
       "       [195605.97726724],\n",
       "       [170678.45662845],\n",
       "       [297496.58654542],\n",
       "       [159493.84774272],\n",
       "       [171380.80105655],\n",
       "       [142407.94967647],\n",
       "       [192413.97961951],\n",
       "       [136881.88155739],\n",
       "       [140510.1768421 ],\n",
       "       [148343.75727462],\n",
       "       [117275.58943669],\n",
       "       [122494.25207658],\n",
       "       [ 21633.83415508],\n",
       "       [ 75826.44649172],\n",
       "       [295568.08102447],\n",
       "       [134082.36034028],\n",
       "       [282188.30730644],\n",
       "       [226162.93180604],\n",
       "       [211712.85662454],\n",
       "       [171279.54706725],\n",
       "       [224722.063444  ],\n",
       "       [160856.1272239 ],\n",
       "       [220544.92715073],\n",
       "       [113618.86786831],\n",
       "       [218686.80557701],\n",
       "       [112070.0762479 ],\n",
       "       [253146.27007765],\n",
       "       [230474.97202486],\n",
       "       [192604.33031339],\n",
       "       [ 92863.46286577],\n",
       "       [251164.02350991],\n",
       "       [147854.91966981],\n",
       "       [281461.78488312],\n",
       "       [190291.05464601],\n",
       "       [230111.28602769],\n",
       "       [169865.54496162],\n",
       "       [144087.47086053],\n",
       "       [228783.66426216],\n",
       "       [148225.00680869],\n",
       "       [133286.85445143],\n",
       "       [113862.34291607],\n",
       "       [136389.40137863],\n",
       "       [106620.22477769],\n",
       "       [167063.87121113],\n",
       "       [ 94188.28897094],\n",
       "       [137104.03945755],\n",
       "       [326658.92943539],\n",
       "       [304542.44276618],\n",
       "       [136652.07844992],\n",
       "       [216392.67290586],\n",
       "       [224996.9524477 ],\n",
       "       [228619.0216737 ],\n",
       "       [298974.41304263],\n",
       "       [171565.68462731],\n",
       "       [263984.26798769],\n",
       "       [166056.3711185 ],\n",
       "       [116060.56383341],\n",
       "       [230560.44434111],\n",
       "       [176657.18870872],\n",
       "       [ 72127.09027216],\n",
       "       [155024.55778071],\n",
       "       [200490.1068145 ],\n",
       "       [216890.83994169],\n",
       "       [248649.65515025],\n",
       "       [136188.86483747],\n",
       "       [288501.07344437],\n",
       "       [184225.79040291],\n",
       "       [135122.2044851 ],\n",
       "       [ 78079.5727517 ],\n",
       "       [ 85507.14212014],\n",
       "       [146188.14540093],\n",
       "       [113451.87545792],\n",
       "       [151580.22826252],\n",
       "       [169169.43790402],\n",
       "       [ 72372.92412974],\n",
       "       [ 89219.8827677 ],\n",
       "       [120723.66732205],\n",
       "       [209692.78118402],\n",
       "       [196549.12220741],\n",
       "       [141005.1740149 ],\n",
       "       [185168.88222961],\n",
       "       [226426.47709792],\n",
       "       [ 59107.16801003],\n",
       "       [ 96352.70365734],\n",
       "       [209989.70236549],\n",
       "       [112230.56120899],\n",
       "       [194555.24997074],\n",
       "       [103171.17763103],\n",
       "       [223243.14532621],\n",
       "       [150051.38638323],\n",
       "       [230734.0086589 ],\n",
       "       [250540.84088234],\n",
       "       [118502.160748  ],\n",
       "       [130737.90232299],\n",
       "       [303673.28804026],\n",
       "       [175649.91425343],\n",
       "       [231899.51476033],\n",
       "       [167467.96289607],\n",
       "       [130348.50935497],\n",
       "       [131217.95705117],\n",
       "       [224458.12098414],\n",
       "       [161418.54444043],\n",
       "       [195625.75002439],\n",
       "       [176007.94785463],\n",
       "       [264535.74874797],\n",
       "       [207893.96814142],\n",
       "       [143609.90754465],\n",
       "       [214228.52346203],\n",
       "       [126150.38537545],\n",
       "       [ 78502.24880922],\n",
       "       [247398.66453003],\n",
       "       [195213.43211509],\n",
       "       [155459.64630322],\n",
       "       [144802.61811803],\n",
       "       [ 92478.18549716],\n",
       "       [ 54043.20554274],\n",
       "       [112562.36692805],\n",
       "       [195656.43991998],\n",
       "       [ 88012.70191312],\n",
       "       [143792.47293094],\n",
       "       [225105.82710026],\n",
       "       [124373.54691346],\n",
       "       [180594.49589863],\n",
       "       [ 87951.40853534],\n",
       "       [188906.23332938],\n",
       "       [322811.2527363 ],\n",
       "       [174797.50852227],\n",
       "       [185191.31392537],\n",
       "       [296620.67047546],\n",
       "       [181915.74572662],\n",
       "       [114269.67916653],\n",
       "       [118976.38476239],\n",
       "       [ 95155.92339396],\n",
       "       [200174.5316329 ],\n",
       "       [229390.15302392],\n",
       "       [167548.92605483],\n",
       "       [121170.09115411],\n",
       "       [164496.21925622],\n",
       "       [209999.59588995],\n",
       "       [ 71156.63648577],\n",
       "       [174473.52579608],\n",
       "       [180219.75325129],\n",
       "       [235030.6431893 ],\n",
       "       [182126.89329504],\n",
       "       [ 85678.00360666],\n",
       "       [238839.8864266 ],\n",
       "       [230296.96776811],\n",
       "       [125088.10253621],\n",
       "       [150340.69005751],\n",
       "       [ 92928.78730161],\n",
       "       [126893.25816119],\n",
       "       [144943.64334885],\n",
       "       [105314.52909363],\n",
       "       [182736.6555692 ],\n",
       "       [109840.9717223 ]])"
      ]
     },
     "execution_count": 9,
     "metadata": {},
     "output_type": "execute_result"
    }
   ],
   "source": [
    "# Get predictions\n",
    "y_pred = pls.predict(scale(X_test))\n",
    "y_pred"
   ]
  },
  {
   "cell_type": "code",
   "execution_count": null,
   "metadata": {
    "id": "LfccX_Qj-beV",
    "outputId": "89d39143-061e-47e5-ac76-05e66ffe912b"
   },
   "outputs": [
    {
     "data": {
      "text/plain": [
       "0.14610338842440687"
      ]
     },
     "execution_count": 10,
     "metadata": {},
     "output_type": "execute_result"
    }
   ],
   "source": [
    "# MAPE\n",
    "mean_absolute_percentage_error(y_test, y_pred)"
   ]
  },
  {
   "cell_type": "code",
   "execution_count": null,
   "metadata": {
    "id": "k602dK74-beW"
   },
   "outputs": [],
   "source": []
  },
  {
   "cell_type": "code",
   "execution_count": null,
   "metadata": {
    "id": "QSXiUR1e-beW"
   },
   "outputs": [],
   "source": []
  },
  {
   "cell_type": "code",
   "execution_count": null,
   "metadata": {
    "id": "jc8Qb8BS-beW"
   },
   "outputs": [],
   "source": []
  },
  {
   "cell_type": "markdown",
   "metadata": {
    "id": "XeJNKUV--beW"
   },
   "source": [
    "<div class=\"alert alert-info\" style=\"background-color:#006a79; color:white; padding:0px 10px; border-radius:5px;\"><h2 style='margin:10px 5px'>Polynomial Regression</h2>\n",
    "</div>"
   ]
  },
  {
   "cell_type": "markdown",
   "metadata": {
    "id": "bpYNpPxg-beW"
   },
   "source": [
    "### Load libraries"
   ]
  },
  {
   "cell_type": "code",
   "execution_count": null,
   "metadata": {
    "_cell_guid": "b1076dfc-b9ad-4769-8c92-a6c4dae69d19",
    "_uuid": "8f2839f25d086af736a60e9eeb907d3b93b6e0e5",
    "id": "zNpi7G58-beW"
   },
   "outputs": [],
   "source": [
    "# Data manipulation\n",
    "import numpy as np \n",
    "import pandas as pd\n",
    "\n",
    "# Data Visualazation\n",
    "import seaborn as sns\n",
    "import matplotlib.pyplot as plt\n",
    "\n",
    "# Machine learning\n",
    "from sklearn.linear_model import LinearRegression\n",
    "from sklearn.preprocessing import PolynomialFeatures\n",
    "from sklearn.model_selection import train_test_split\n",
    "from sklearn.metrics import mean_absolute_percentage_error\n",
    "\n",
    "import warnings\n",
    "warnings.filterwarnings(\"ignore\")\n",
    "\n",
    "# Set options\n",
    "pd.set_option('display.max_rows', 800)\n",
    "pd.set_option('display.max_columns', 500)\n",
    "%matplotlib inline"
   ]
  },
  {
   "cell_type": "markdown",
   "metadata": {
    "id": "j5F74xXi-beX"
   },
   "source": [
    "### Load Data"
   ]
  },
  {
   "cell_type": "code",
   "execution_count": null,
   "metadata": {
    "_cell_guid": "79c7e3d0-c299-4dcb-8224-4455121ee9b0",
    "_uuid": "d629ff2d2480ee46fbb7e2d37f6b5fab8052498a",
    "id": "dnsLLqYj-beX",
    "outputId": "fac7bb83-b6af-4222-afb0-9c2ba111a95e"
   },
   "outputs": [
    {
     "data": {
      "text/html": [
       "<div>\n",
       "<style scoped>\n",
       "    .dataframe tbody tr th:only-of-type {\n",
       "        vertical-align: middle;\n",
       "    }\n",
       "\n",
       "    .dataframe tbody tr th {\n",
       "        vertical-align: top;\n",
       "    }\n",
       "\n",
       "    .dataframe thead th {\n",
       "        text-align: right;\n",
       "    }\n",
       "</style>\n",
       "<table border=\"1\" class=\"dataframe\">\n",
       "  <thead>\n",
       "    <tr style=\"text-align: right;\">\n",
       "      <th></th>\n",
       "      <th>OverallQual</th>\n",
       "      <th>YearBuilt</th>\n",
       "      <th>GrLivArea</th>\n",
       "      <th>GarageArea</th>\n",
       "      <th>SalePrice</th>\n",
       "    </tr>\n",
       "  </thead>\n",
       "  <tbody>\n",
       "    <tr>\n",
       "      <th>0</th>\n",
       "      <td>6</td>\n",
       "      <td>1960</td>\n",
       "      <td>1656</td>\n",
       "      <td>528.0</td>\n",
       "      <td>215000</td>\n",
       "    </tr>\n",
       "    <tr>\n",
       "      <th>1</th>\n",
       "      <td>5</td>\n",
       "      <td>1961</td>\n",
       "      <td>896</td>\n",
       "      <td>730.0</td>\n",
       "      <td>105000</td>\n",
       "    </tr>\n",
       "    <tr>\n",
       "      <th>2</th>\n",
       "      <td>6</td>\n",
       "      <td>1958</td>\n",
       "      <td>1329</td>\n",
       "      <td>312.0</td>\n",
       "      <td>172000</td>\n",
       "    </tr>\n",
       "    <tr>\n",
       "      <th>3</th>\n",
       "      <td>7</td>\n",
       "      <td>1968</td>\n",
       "      <td>2110</td>\n",
       "      <td>522.0</td>\n",
       "      <td>244000</td>\n",
       "    </tr>\n",
       "    <tr>\n",
       "      <th>4</th>\n",
       "      <td>5</td>\n",
       "      <td>1997</td>\n",
       "      <td>1629</td>\n",
       "      <td>482.0</td>\n",
       "      <td>189900</td>\n",
       "    </tr>\n",
       "  </tbody>\n",
       "</table>\n",
       "</div>"
      ],
      "text/plain": [
       "   OverallQual  YearBuilt  GrLivArea  GarageArea  SalePrice\n",
       "0            6       1960       1656       528.0     215000\n",
       "1            5       1961        896       730.0     105000\n",
       "2            6       1958       1329       312.0     172000\n",
       "3            7       1968       2110       522.0     244000\n",
       "4            5       1997       1629       482.0     189900"
      ]
     },
     "execution_count": 12,
     "metadata": {},
     "output_type": "execute_result"
    }
   ],
   "source": [
    "# Load the data\n",
    "df = pd.read_csv(\"Datasets/hoursing_df_cleaned.csv\", usecols = ['SalePrice', 'OverallQual', 'GrLivArea', 'GarageArea', 'YearBuilt'])\n",
    "df.head()"
   ]
  },
  {
   "cell_type": "markdown",
   "metadata": {
    "id": "4765y7oT-beX"
   },
   "source": [
    "### Build Polynomial Features\n",
    "\n",
    "The features created include:\n",
    "\n",
    "- The bias (the value of 1.0) if include_bias = True\n",
    "- Values raised to a power for each degree (e.g. x^1, x^2, x^3, …)\n",
    "- Interactions between all pairs of features (e.g. x1 * x2, x1 * x3, …)"
   ]
  },
  {
   "cell_type": "code",
   "execution_count": null,
   "metadata": {
    "id": "t8P2zHCu-beX"
   },
   "outputs": [],
   "source": [
    "# Split the dataset in X and y\n",
    "X = df.drop(columns=['SalePrice'])\n",
    "y = df[['SalePrice']]"
   ]
  },
  {
   "cell_type": "code",
   "execution_count": null,
   "metadata": {
    "id": "0_4MhbKF-beX",
    "tags": []
   },
   "outputs": [],
   "source": [
    "polynomial_converter = PolynomialFeatures(degree=2,include_bias=False)"
   ]
  },
  {
   "cell_type": "code",
   "execution_count": null,
   "metadata": {
    "id": "-labXssj-beY"
   },
   "outputs": [],
   "source": [
    "# Fit transform the X dataset\n",
    "poly_features = polynomial_converter.fit_transform(X)"
   ]
  },
  {
   "cell_type": "code",
   "execution_count": null,
   "metadata": {
    "id": "a30D0MdP-beY",
    "outputId": "31ad6ad9-9ae0-46c9-e5cc-775cfd7d809d"
   },
   "outputs": [
    {
     "data": {
      "text/plain": [
       "(2858, 4)"
      ]
     },
     "execution_count": 16,
     "metadata": {},
     "output_type": "execute_result"
    }
   ],
   "source": [
    "# Check shape of X\n",
    "X.shape"
   ]
  },
  {
   "cell_type": "code",
   "execution_count": null,
   "metadata": {
    "id": "-0nubHId-beY",
    "outputId": "a9928978-0106-4884-c950-1c0bff588a89"
   },
   "outputs": [
    {
     "data": {
      "text/plain": [
       "(2858, 14)"
      ]
     },
     "execution_count": 17,
     "metadata": {},
     "output_type": "execute_result"
    }
   ],
   "source": [
    "# Check shape of new features\n",
    "poly_features.shape"
   ]
  },
  {
   "cell_type": "markdown",
   "metadata": {
    "id": "NjpcVyIO-beY"
   },
   "source": [
    "Total features are 14 now. 2 degrees of existing 4 features = 2*4 = 8. 6 interaction features between x1, x2, x3 and x4."
   ]
  },
  {
   "cell_type": "code",
   "execution_count": null,
   "metadata": {
    "id": "9_AP1ehC-beY",
    "outputId": "56acada2-6128-4bb9-ee21-9b923848c876"
   },
   "outputs": [
    {
     "data": {
      "text/plain": [
       "array([[6.000000e+00, 1.960000e+03, 1.656000e+03, ..., 2.742336e+06,\n",
       "        8.743680e+05, 2.787840e+05],\n",
       "       [5.000000e+00, 1.961000e+03, 8.960000e+02, ..., 8.028160e+05,\n",
       "        6.540800e+05, 5.329000e+05],\n",
       "       [6.000000e+00, 1.958000e+03, 1.329000e+03, ..., 1.766241e+06,\n",
       "        4.146480e+05, 9.734400e+04],\n",
       "       ...,\n",
       "       [5.000000e+00, 1.992000e+03, 9.700000e+02, ..., 9.409000e+05,\n",
       "        0.000000e+00, 0.000000e+00],\n",
       "       [5.000000e+00, 1.974000e+03, 1.389000e+03, ..., 1.929321e+06,\n",
       "        5.806020e+05, 1.747240e+05],\n",
       "       [7.000000e+00, 1.993000e+03, 2.000000e+03, ..., 4.000000e+06,\n",
       "        1.300000e+06, 4.225000e+05]])"
      ]
     },
     "execution_count": 18,
     "metadata": {},
     "output_type": "execute_result"
    }
   ],
   "source": [
    "poly_features"
   ]
  },
  {
   "cell_type": "markdown",
   "metadata": {
    "id": "Mua2MgwE-beZ"
   },
   "source": [
    "Let's cross check the calculations of these features"
   ]
  },
  {
   "cell_type": "code",
   "execution_count": null,
   "metadata": {
    "id": "DCQROmhN-beZ",
    "outputId": "104f4a49-2bce-453a-b7c4-9bfd822389ef"
   },
   "outputs": [
    {
     "data": {
      "text/plain": [
       "OverallQual       6.0\n",
       "YearBuilt      1960.0\n",
       "GrLivArea      1656.0\n",
       "GarageArea      528.0\n",
       "Name: 0, dtype: float64"
      ]
     },
     "execution_count": 19,
     "metadata": {},
     "output_type": "execute_result"
    }
   ],
   "source": [
    "# First row of existing dataframe\n",
    "X.iloc[0]"
   ]
  },
  {
   "cell_type": "code",
   "execution_count": null,
   "metadata": {
    "id": "nonCQb4v-beZ",
    "outputId": "7b09f81a-f0b2-4b7a-a203-300615abe9e6"
   },
   "outputs": [
    {
     "data": {
      "text/plain": [
       "array([6.000000e+00, 1.960000e+03, 1.656000e+03, 5.280000e+02,\n",
       "       3.600000e+01, 1.176000e+04, 9.936000e+03, 3.168000e+03,\n",
       "       3.841600e+06, 3.245760e+06, 1.034880e+06, 2.742336e+06,\n",
       "       8.743680e+05, 2.787840e+05])"
      ]
     },
     "execution_count": 20,
     "metadata": {},
     "output_type": "execute_result"
    }
   ],
   "source": [
    "# First row of poly_features\n",
    "poly_features[0]"
   ]
  },
  {
   "cell_type": "code",
   "execution_count": null,
   "metadata": {
    "id": "RGWFEDaD-beZ",
    "outputId": "d834e37f-c29d-4832-e302-3977a36019a8"
   },
   "outputs": [
    {
     "data": {
      "text/plain": [
       "array([   6., 1960., 1656.,  528.])"
      ]
     },
     "execution_count": 21,
     "metadata": {},
     "output_type": "execute_result"
    }
   ],
   "source": [
    "# First 4 values of poly_features\n",
    "poly_features[0][:4]"
   ]
  },
  {
   "cell_type": "markdown",
   "metadata": {
    "id": "QDuzEda3-beZ"
   },
   "source": [
    "As you can see the first 4 values of poly_feature are same as X. "
   ]
  },
  {
   "cell_type": "code",
   "execution_count": null,
   "metadata": {
    "id": "IHidkfLY-beZ",
    "outputId": "0726c322-e81a-4a9b-87a9-420b8b2ee445",
    "scrolled": true
   },
   "outputs": [
    {
     "data": {
      "text/plain": [
       "array([3.600000e+01, 3.841600e+06, 2.742336e+06, 2.787840e+05])"
      ]
     },
     "execution_count": 22,
     "metadata": {},
     "output_type": "execute_result"
    }
   ],
   "source": [
    "# Squares of first 4 values of poly_features\n",
    "poly_features[0][:4]**2"
   ]
  },
  {
   "cell_type": "markdown",
   "metadata": {
    "id": "_RJ2VUqo-bea"
   },
   "source": [
    "As you can see the 5th, 9th, 12th and 14th values of poly_feature are square of X values respectively.\n",
    "\n",
    "Now let's see the interaction terms $$x_1  \\cdot x_2 \\text{  and  } x_1  \\cdot x_3 \\text{  and  } x_1  \\cdot x_4 $$\n",
    "\n",
    "$$x_2  \\cdot x_3 \\text{  and  } x_2  \\cdot x_4 $$\n",
    "\n",
    "$$x_3  \\cdot x_4 $$"
   ]
  },
  {
   "cell_type": "code",
   "execution_count": null,
   "metadata": {
    "id": "2R7xzz0d-bea",
    "outputId": "fa9be773-c31d-454a-867c-5b5326c5b526"
   },
   "outputs": [
    {
     "data": {
      "text/plain": [
       "11760.0"
      ]
     },
     "execution_count": 23,
     "metadata": {},
     "output_type": "execute_result"
    }
   ],
   "source": [
    "# x1.x2\n",
    "X.iloc[0][0]*X.iloc[0][1]"
   ]
  },
  {
   "cell_type": "code",
   "execution_count": null,
   "metadata": {
    "id": "gwBJgHWH-bea",
    "outputId": "2d27971b-fca6-4f93-9289-7ca26e92bafd"
   },
   "outputs": [
    {
     "data": {
      "text/plain": [
       "9936.0"
      ]
     },
     "execution_count": 24,
     "metadata": {},
     "output_type": "execute_result"
    }
   ],
   "source": [
    "# x1.x3\n",
    "X.iloc[0][0]*X.iloc[0][2]"
   ]
  },
  {
   "cell_type": "code",
   "execution_count": null,
   "metadata": {
    "id": "Q5chnaga-bea",
    "outputId": "92851289-a509-4928-eb91-efc2e43968f8"
   },
   "outputs": [
    {
     "data": {
      "text/plain": [
       "3168.0"
      ]
     },
     "execution_count": 25,
     "metadata": {},
     "output_type": "execute_result"
    }
   ],
   "source": [
    "# x1.x4\n",
    "X.iloc[0][0]*X.iloc[0][3]"
   ]
  },
  {
   "cell_type": "markdown",
   "metadata": {
    "id": "HQ_lY38w-bea"
   },
   "source": [
    "### Model Building - Poly features"
   ]
  },
  {
   "cell_type": "code",
   "execution_count": null,
   "metadata": {
    "id": "T1gAF1pJ-bea"
   },
   "outputs": [],
   "source": [
    "# Train test split\n",
    "X_train, X_test, y_train, y_test = train_test_split(poly_features, y, test_size=0.3, random_state=1234)"
   ]
  },
  {
   "cell_type": "code",
   "execution_count": null,
   "metadata": {
    "id": "4Y-5jezjrYx4",
    "outputId": "55e19d82-9d97-4070-96b6-c97f24da0b93"
   },
   "outputs": [
    {
     "data": {
      "text/plain": [
       "LinearRegression()"
      ]
     },
     "execution_count": 27,
     "metadata": {},
     "output_type": "execute_result"
    }
   ],
   "source": [
    "# Linear regression \n",
    "model = LinearRegression().fit(X_train, y_train)\n",
    "model"
   ]
  },
  {
   "cell_type": "code",
   "execution_count": null,
   "metadata": {
    "id": "9-fytnaMrYx6",
    "outputId": "4acfe94e-37ea-4514-c6a6-eeb72bdded0b"
   },
   "outputs": [
    {
     "data": {
      "text/plain": [
       "0.8396285643106358"
      ]
     },
     "execution_count": 28,
     "metadata": {},
     "output_type": "execute_result"
    }
   ],
   "source": [
    "# R square\n",
    "model.score(X_train, y_train)"
   ]
  },
  {
   "cell_type": "code",
   "execution_count": null,
   "metadata": {
    "id": "pnByEB7erYx7",
    "outputId": "673d7202-021c-4442-e543-9da5314b9d1b"
   },
   "outputs": [
    {
     "data": {
      "text/plain": [
       "array([-7678437.74795741])"
      ]
     },
     "execution_count": 29,
     "metadata": {},
     "output_type": "execute_result"
    }
   ],
   "source": [
    "# Intercept\n",
    "model.intercept_"
   ]
  },
  {
   "cell_type": "code",
   "execution_count": null,
   "metadata": {
    "id": "UUkPX6j4rYx9",
    "outputId": "8db6ef70-a8ce-4729-9250-01c21ef82ccf",
    "scrolled": true,
    "tags": []
   },
   "outputs": [
    {
     "data": {
      "text/plain": [
       "array([[-1.34286134e+05,  8.12084954e+03,  8.09535657e-01,\n",
       "        -1.02376672e+03,  9.82684372e+02,  6.57527074e+01,\n",
       "         5.55782904e+00,  1.07886015e+01, -2.12614162e+00,\n",
       "         4.72179181e-03,  5.08993334e-01, -3.18363493e-04,\n",
       "         1.82971165e-02, -1.42179495e-02]])"
      ]
     },
     "execution_count": 30,
     "metadata": {},
     "output_type": "execute_result"
    }
   ],
   "source": [
    "# Coeffecients\n",
    "model.coef_"
   ]
  },
  {
   "cell_type": "code",
   "execution_count": null,
   "metadata": {
    "id": "FZcXUHJarYx_"
   },
   "outputs": [],
   "source": [
    "# Predictions\n",
    "y_pred = model.predict(X_test)"
   ]
  },
  {
   "cell_type": "code",
   "execution_count": null,
   "metadata": {
    "id": "9bYye4Ah-beb",
    "outputId": "a943bb98-b042-428f-c369-4e6e2b6689df"
   },
   "outputs": [
    {
     "data": {
      "text/plain": [
       "0.13618589110075244"
      ]
     },
     "execution_count": 32,
     "metadata": {},
     "output_type": "execute_result"
    }
   ],
   "source": [
    "# MAPE\n",
    "mean_absolute_percentage_error(y_test, y_pred)"
   ]
  },
  {
   "cell_type": "markdown",
   "metadata": {
    "id": "IkwmoRiJ-beb"
   },
   "source": [
    "### Model Building - Original Features"
   ]
  },
  {
   "cell_type": "code",
   "execution_count": null,
   "metadata": {
    "id": "VPgtAd9f-bec"
   },
   "outputs": [],
   "source": [
    "# Train test split\n",
    "X_train, X_test, y_train, y_test = train_test_split(X, y, test_size=0.3, random_state=1234)"
   ]
  },
  {
   "cell_type": "code",
   "execution_count": null,
   "metadata": {
    "id": "HZ9G29gz-bec",
    "outputId": "55e19d82-9d97-4070-96b6-c97f24da0b93"
   },
   "outputs": [
    {
     "data": {
      "text/plain": [
       "LinearRegression()"
      ]
     },
     "execution_count": 34,
     "metadata": {},
     "output_type": "execute_result"
    }
   ],
   "source": [
    "# Linear regression \n",
    "model = LinearRegression().fit(X_train, y_train)\n",
    "model"
   ]
  },
  {
   "cell_type": "code",
   "execution_count": null,
   "metadata": {
    "id": "REER157j-bec",
    "outputId": "4acfe94e-37ea-4514-c6a6-eeb72bdded0b"
   },
   "outputs": [
    {
     "data": {
      "text/plain": [
       "0.8074029202437273"
      ]
     },
     "execution_count": 35,
     "metadata": {},
     "output_type": "execute_result"
    }
   ],
   "source": [
    "# R square\n",
    "model.score(X_train, y_train)"
   ]
  },
  {
   "cell_type": "code",
   "execution_count": null,
   "metadata": {
    "id": "cnLmMFRw-bec",
    "outputId": "673d7202-021c-4442-e543-9da5314b9d1b"
   },
   "outputs": [
    {
     "data": {
      "text/plain": [
       "array([-885083.07274933])"
      ]
     },
     "execution_count": 36,
     "metadata": {},
     "output_type": "execute_result"
    }
   ],
   "source": [
    "# Intercept\n",
    "model.intercept_"
   ]
  },
  {
   "cell_type": "code",
   "execution_count": null,
   "metadata": {
    "id": "wsUy2aAs-bec",
    "outputId": "8db6ef70-a8ce-4729-9250-01c21ef82ccf",
    "scrolled": true,
    "tags": []
   },
   "outputs": [
    {
     "data": {
      "text/plain": [
       "array([[21003.8747536 ,   421.05838002,    53.29767669,    56.1005686 ]])"
      ]
     },
     "execution_count": 37,
     "metadata": {},
     "output_type": "execute_result"
    }
   ],
   "source": [
    "# Coeffecients\n",
    "model.coef_"
   ]
  },
  {
   "cell_type": "code",
   "execution_count": null,
   "metadata": {
    "id": "T-KmFdj7-bec"
   },
   "outputs": [],
   "source": [
    "# Predictions\n",
    "y_pred = model.predict(X_test)"
   ]
  },
  {
   "cell_type": "code",
   "execution_count": null,
   "metadata": {
    "id": "fH-J7Hf--bec",
    "outputId": "d9d2c269-804f-47d9-8846-663f69f002e3"
   },
   "outputs": [
    {
     "data": {
      "text/plain": [
       "0.1504912050542914"
      ]
     },
     "execution_count": 39,
     "metadata": {},
     "output_type": "execute_result"
    }
   ],
   "source": [
    "# MAPE\n",
    "mean_absolute_percentage_error(y_test, y_pred)"
   ]
  },
  {
   "cell_type": "markdown",
   "metadata": {
    "id": "V5ehkp1a-bed"
   },
   "source": [
    "As you can see the R2 of model with poly features is higher than the model with original features. The error is also less for model with poly features."
   ]
  },
  {
   "cell_type": "markdown",
   "metadata": {
    "id": "GJr9zd9I-bed"
   },
   "source": [
    "### Find the optimal degree for polynomial features"
   ]
  },
  {
   "cell_type": "code",
   "execution_count": null,
   "metadata": {
    "id": "STOEKiTX-bed"
   },
   "outputs": [],
   "source": [
    "# training mape\n",
    "train_mape = []\n",
    "# test mape\n",
    "test_mape = []\n",
    "\n",
    "for d in range(1,8):\n",
    "    \n",
    "    # Fit transform dataset for degree d\n",
    "    polynomial_converter = PolynomialFeatures(degree=d,include_bias=False)\n",
    "    poly_features = polynomial_converter.fit_transform(X)\n",
    "    \n",
    "    # Split the dataset in training and testing set\n",
    "    X_train, X_test, y_train, y_test = train_test_split(poly_features, y, test_size=0.3, random_state=101)\n",
    "    \n",
    "    # Train the linear regression model on poly features\n",
    "    model = LinearRegression(fit_intercept=True)\n",
    "    model.fit(X_train,y_train)\n",
    "    \n",
    "    # Get predictions\n",
    "    y_pred_train = model.predict(X_train)\n",
    "    y_pred_test = model.predict(X_test)\n",
    "    \n",
    "    # Calculate errors and append to the lists\n",
    "    train_mape.append(mean_absolute_percentage_error(y_train, y_pred_train))\n",
    "    test_mape.append(mean_absolute_percentage_error(y_test, y_pred_test))"
   ]
  },
  {
   "cell_type": "code",
   "execution_count": null,
   "metadata": {
    "id": "kIgdXKA7-bed",
    "outputId": "86709784-ce02-4212-f3da-278bbefa3e2b"
   },
   "outputs": [
    {
     "data": {
      "text/plain": [
       "[0.14358913464007497,\n",
       " 0.13093823995447548,\n",
       " 0.12295526665822284,\n",
       " 0.11914193621013759,\n",
       " 0.11584057284552898,\n",
       " 0.13215024634228478,\n",
       " 0.13747687245003956]"
      ]
     },
     "execution_count": 41,
     "metadata": {},
     "output_type": "execute_result"
    }
   ],
   "source": [
    "train_mape"
   ]
  },
  {
   "cell_type": "code",
   "execution_count": null,
   "metadata": {
    "id": "JLpE6JKJ-bed",
    "outputId": "7f1cbff1-6e6e-401b-efe4-9dc3739b6e2a"
   },
   "outputs": [
    {
     "data": {
      "text/plain": [
       "[0.14393802819321969,\n",
       " 0.12917748466419973,\n",
       " 0.1258132318732841,\n",
       " 0.1277044490830984,\n",
       " 0.133174696900748,\n",
       " 0.18597324586020977,\n",
       " 0.23843324815795794]"
      ]
     },
     "execution_count": 42,
     "metadata": {},
     "output_type": "execute_result"
    }
   ],
   "source": [
    "test_mape"
   ]
  },
  {
   "cell_type": "code",
   "execution_count": null,
   "metadata": {
    "id": "9KGj6kOp-bed",
    "outputId": "5cdf959b-d24e-4ecf-b88f-6d7398ae81e1"
   },
   "outputs": [
    {
     "data": {
      "image/png": "[encoded data removed]",
      "text/plain": [
       "<Figure size 864x432 with 1 Axes>"
      ]
     },
     "metadata": {
      "needs_background": "light"
     },
     "output_type": "display_data"
    }
   ],
   "source": [
    "# Let's plot the training and testing mape\n",
    "plt.figure(figsize = (12,6))\n",
    "plt.plot(range(1,8),train_mape,label='training mape')\n",
    "plt.plot(range(1,8),test_mape,label='testing mape')\n",
    "plt.xlabel(\"Degree of Polynomial\")\n",
    "plt.ylabel(\"MAPE\")\n",
    "plt.title(\"MAPE vs Degree of Polynomial\")\n",
    "plt.legend()\n",
    "plt.show()"
   ]
  },
  {
   "cell_type": "markdown",
   "metadata": {
    "id": "4Tqjs28m-bee"
   },
   "source": [
    "The optimal value of degree of polynomial is 3"
   ]
  },
  {
   "cell_type": "code",
   "execution_count": null,
   "metadata": {
    "id": "RgDUNhqY-bee"
   },
   "outputs": [],
   "source": []
  },
  {
   "cell_type": "markdown",
   "metadata": {
    "id": "0vcBgvTM-bee"
   },
   "source": [
    "<div class=\"alert alert-info\" style=\"background-color:#006a79; color:white; padding:0px 10px; border-radius:5px;\"><h2 style='margin:10px 5px'>RANSAC Regression</h2>\n",
    "</div>\n",
    "\n",
    "Example and data taken from \n",
    "https://scikit-learn.org/stable/auto_examples/linear_model/plot_ransac.html#sphx-glr-auto-examples-linear-model-plot-ransac-py"
   ]
  },
  {
   "cell_type": "markdown",
   "metadata": {
    "id": "K_6P1E9W-bee"
   },
   "source": [
    "### Load libraries"
   ]
  },
  {
   "cell_type": "code",
   "execution_count": 1,
   "metadata": {
    "_cell_guid": "b1076dfc-b9ad-4769-8c92-a6c4dae69d19",
    "_uuid": "8f2839f25d086af736a60e9eeb907d3b93b6e0e5",
    "id": "IFTkF_5e-bee"
   },
   "outputs": [],
   "source": [
    "# Data manipulation\n",
    "import numpy as np \n",
    "import pandas as pd\n",
    "\n",
    "# Data Visualazation\n",
    "import seaborn as sns\n",
    "import matplotlib.pyplot as plt\n",
    "\n",
    "# Machine learning\n",
    "from sklearn import datasets\n",
    "from sklearn.linear_model import LinearRegression\n",
    "from sklearn.linear_model import RANSACRegressor\n",
    "from sklearn.metrics import mean_absolute_percentage_error\n",
    "\n",
    "import warnings\n",
    "warnings.filterwarnings(\"ignore\")\n",
    "\n",
    "# Set options\n",
    "pd.set_option('display.max_rows', 800)\n",
    "pd.set_option('display.max_columns', 500)\n",
    "%matplotlib inline"
   ]
  },
  {
   "cell_type": "markdown",
   "metadata": {
    "id": "ftrbGJms-bee"
   },
   "source": [
    "### Load Data"
   ]
  },
  {
   "cell_type": "code",
   "execution_count": 2,
   "metadata": {
    "_cell_guid": "79c7e3d0-c299-4dcb-8224-4455121ee9b0",
    "_uuid": "d629ff2d2480ee46fbb7e2d37f6b5fab8052498a",
    "id": "QxwJUVVl-bee"
   },
   "outputs": [],
   "source": [
    "# Create the data\n",
    "n_samples = 1000\n",
    "n_outliers = 50\n",
    "\n",
    "\n",
    "X, y, coef = datasets.make_regression(\n",
    "    n_samples=n_samples,\n",
    "    n_features=1,\n",
    "    n_informative=1,\n",
    "    noise=10,\n",
    "    coef=True,\n",
    "    random_state=0,\n",
    ")"
   ]
  },
  {
   "cell_type": "code",
   "execution_count": 7,
   "metadata": {
    "id": "7SktdSGt-bee"
   },
   "outputs": [],
   "source": [
    "# Add outlier data\n",
    "np.random.seed(0)\n",
    "X[:n_outliers] = 3 + 0.5 * np.random.normal(size=(n_outliers, 1))\n",
    "y[:n_outliers] = -3 + 10 * np.random.normal(size=n_outliers)"
   ]
  },
  {
   "cell_type": "code",
   "execution_count": 56,
   "metadata": {},
   "outputs": [
    {
     "data": {
      "text/plain": [
       "array(82.19039084)"
      ]
     },
     "execution_count": 56,
     "metadata": {},
     "output_type": "execute_result"
    }
   ],
   "source": [
    "coef"
   ]
  },
  {
   "cell_type": "code",
   "execution_count": 51,
   "metadata": {},
   "outputs": [
    {
     "data": {
      "text/html": [
       "<div>\n",
       "<style scoped>\n",
       "    .dataframe tbody tr th:only-of-type {\n",
       "        vertical-align: middle;\n",
       "    }\n",
       "\n",
       "    .dataframe tbody tr th {\n",
       "        vertical-align: top;\n",
       "    }\n",
       "\n",
       "    .dataframe thead th {\n",
       "        text-align: right;\n",
       "    }\n",
       "</style>\n",
       "<table border=\"1\" class=\"dataframe\">\n",
       "  <thead>\n",
       "    <tr style=\"text-align: right;\">\n",
       "      <th></th>\n",
       "      <th>X</th>\n",
       "      <th>Y</th>\n",
       "    </tr>\n",
       "  </thead>\n",
       "  <tbody>\n",
       "    <tr>\n",
       "      <th>count</th>\n",
       "      <td>1000.000000</td>\n",
       "      <td>1000.000000</td>\n",
       "    </tr>\n",
       "    <tr>\n",
       "      <th>mean</th>\n",
       "      <td>0.113720</td>\n",
       "      <td>-3.205981</td>\n",
       "    </tr>\n",
       "    <tr>\n",
       "      <th>std</th>\n",
       "      <td>1.183827</td>\n",
       "      <td>79.577264</td>\n",
       "    </tr>\n",
       "    <tr>\n",
       "      <th>min</th>\n",
       "      <td>-3.046143</td>\n",
       "      <td>-262.277695</td>\n",
       "    </tr>\n",
       "    <tr>\n",
       "      <th>25%</th>\n",
       "      <td>-0.668905</td>\n",
       "      <td>-55.094617</td>\n",
       "    </tr>\n",
       "    <tr>\n",
       "      <th>50%</th>\n",
       "      <td>0.010999</td>\n",
       "      <td>-4.025865</td>\n",
       "    </tr>\n",
       "    <tr>\n",
       "      <th>75%</th>\n",
       "      <td>0.757065</td>\n",
       "      <td>46.904506</td>\n",
       "    </tr>\n",
       "    <tr>\n",
       "      <th>max</th>\n",
       "      <td>4.134877</td>\n",
       "      <td>231.301744</td>\n",
       "    </tr>\n",
       "  </tbody>\n",
       "</table>\n",
       "</div>"
      ],
      "text/plain": [
       "                 X            Y\n",
       "count  1000.000000  1000.000000\n",
       "mean      0.113720    -3.205981\n",
       "std       1.183827    79.577264\n",
       "min      -3.046143  -262.277695\n",
       "25%      -0.668905   -55.094617\n",
       "50%       0.010999    -4.025865\n",
       "75%       0.757065    46.904506\n",
       "max       4.134877   231.301744"
      ]
     },
     "execution_count": 51,
     "metadata": {},
     "output_type": "execute_result"
    }
   ],
   "source": [
    "y_ser=y.tolist()\n",
    "#df.insert(1,'Y',y_ser)\n",
    "df.describe()"
   ]
  },
  {
   "cell_type": "code",
   "execution_count": 89,
   "metadata": {},
   "outputs": [
    {
     "data": {
      "text/plain": [
       "<matplotlib.collections.PathCollection at 0x12af04fa3d0>"
      ]
     },
     "execution_count": 89,
     "metadata": {},
     "output_type": "execute_result"
    },
    {
     "data": {
      "image/png": "[encoded data removed]",
      "text/plain": [
       "<Figure size 640x480 with 1 Axes>"
      ]
     },
     "metadata": {},
     "output_type": "display_data"
    }
   ],
   "source": [
    "plt.scatter(x=df['X'],y=df['Y'])\n",
    "#plt.hist(df['Y'])\n",
    "#plt.boxplot(df['X'])"
   ]
  },
  {
   "cell_type": "markdown",
   "metadata": {
    "id": "yQNznqYf-bef"
   },
   "source": [
    "### Model Building"
   ]
  },
  {
   "cell_type": "code",
   "execution_count": 53,
   "metadata": {
    "id": "hIC1if98-bef",
    "outputId": "2af1e86e-6245-4f16-f13b-70baed2e5747"
   },
   "outputs": [
    {
     "data": {
      "text/html": [
       "<style>#sk-container-id-2 {color: black;background-color: white;}#sk-container-id-2 pre{padding: 0;}#sk-container-id-2 div.sk-toggleable {background-color: white;}#sk-container-id-2 label.sk-toggleable__label {cursor: pointer;display: block;width: 100%;margin-bottom: 0;padding: 0.3em;box-sizing: border-box;text-align: center;}#sk-container-id-2 label.sk-toggleable__label-arrow:before {content: \"▸\";float: left;margin-right: 0.25em;color: #696969;}#sk-container-id-2 label.sk-toggleable__label-arrow:hover:before {color: black;}#sk-container-id-2 div.sk-estimator:hover label.sk-toggleable__label-arrow:before {color: black;}#sk-container-id-2 div.sk-toggleable__content {max-height: 0;max-width: 0;overflow: hidden;text-align: left;background-color: #f0f8ff;}#sk-container-id-2 div.sk-toggleable__content pre {margin: 0.2em;color: black;border-radius: 0.25em;background-color: #f0f8ff;}#sk-container-id-2 input.sk-toggleable__control:checked~div.sk-toggleable__content {max-height: 200px;max-width: 100%;overflow: auto;}#sk-container-id-2 input.sk-toggleable__control:checked~label.sk-toggleable__label-arrow:before {content: \"▾\";}#sk-container-id-2 div.sk-estimator input.sk-toggleable__control:checked~label.sk-toggleable__label {background-color: #d4ebff;}#sk-container-id-2 div.sk-label input.sk-toggleable__control:checked~label.sk-toggleable__label {background-color: #d4ebff;}#sk-container-id-2 input.sk-hidden--visually {border: 0;clip: rect(1px 1px 1px 1px);clip: rect(1px, 1px, 1px, 1px);height: 1px;margin: -1px;overflow: hidden;padding: 0;position: absolute;width: 1px;}#sk-container-id-2 div.sk-estimator {font-family: monospace;background-color: #f0f8ff;border: 1px dotted black;border-radius: 0.25em;box-sizing: border-box;margin-bottom: 0.5em;}#sk-container-id-2 div.sk-estimator:hover {background-color: #d4ebff;}#sk-container-id-2 div.sk-parallel-item::after {content: \"\";width: 100%;border-bottom: 1px solid gray;flex-grow: 1;}#sk-container-id-2 div.sk-label:hover label.sk-toggleable__label {background-color: #d4ebff;}#sk-container-id-2 div.sk-serial::before {content: \"\";position: absolute;border-left: 1px solid gray;box-sizing: border-box;top: 0;bottom: 0;left: 50%;z-index: 0;}#sk-container-id-2 div.sk-serial {display: flex;flex-direction: column;align-items: center;background-color: white;padding-right: 0.2em;padding-left: 0.2em;position: relative;}#sk-container-id-2 div.sk-item {position: relative;z-index: 1;}#sk-container-id-2 div.sk-parallel {display: flex;align-items: stretch;justify-content: center;background-color: white;position: relative;}#sk-container-id-2 div.sk-item::before, #sk-container-id-2 div.sk-parallel-item::before {content: \"\";position: absolute;border-left: 1px solid gray;box-sizing: border-box;top: 0;bottom: 0;left: 50%;z-index: -1;}#sk-container-id-2 div.sk-parallel-item {display: flex;flex-direction: column;z-index: 1;position: relative;background-color: white;}#sk-container-id-2 div.sk-parallel-item:first-child::after {align-self: flex-end;width: 50%;}#sk-container-id-2 div.sk-parallel-item:last-child::after {align-self: flex-start;width: 50%;}#sk-container-id-2 div.sk-parallel-item:only-child::after {width: 0;}#sk-container-id-2 div.sk-dashed-wrapped {border: 1px dashed gray;margin: 0 0.4em 0.5em 0.4em;box-sizing: border-box;padding-bottom: 0.4em;background-color: white;}#sk-container-id-2 div.sk-label label {font-family: monospace;font-weight: bold;display: inline-block;line-height: 1.2em;}#sk-container-id-2 div.sk-label-container {text-align: center;}#sk-container-id-2 div.sk-container {/* jupyter's `normalize.less` sets `[hidden] { display: none; }` but bootstrap.min.css set `[hidden] { display: none !important; }` so we also need the `!important` here to be able to override the default hidden behavior on the sphinx rendered scikit-learn.org. See: https://github.com/scikit-learn/scikit-learn/issues/21755 */display: inline-block !important;position: relative;}#sk-container-id-2 div.sk-text-repr-fallback {display: none;}</style><div id=\"sk-container-id-2\" class=\"sk-top-container\"><div class=\"sk-text-repr-fallback\"><pre>LinearRegression()</pre><b>In a Jupyter environment, please rerun this cell to show the HTML representation or trust the notebook. <br />On GitHub, the HTML representation is unable to render, please try loading this page with nbviewer.org.</b></div><div class=\"sk-container\" hidden><div class=\"sk-item\"><div class=\"sk-estimator sk-toggleable\"><input class=\"sk-toggleable__control sk-hidden--visually\" id=\"sk-estimator-id-2\" type=\"checkbox\" checked><label for=\"sk-estimator-id-2\" class=\"sk-toggleable__label sk-toggleable__label-arrow\">LinearRegression</label><div class=\"sk-toggleable__content\"><pre>LinearRegression()</pre></div></div></div></div></div>"
      ],
      "text/plain": [
       "LinearRegression()"
      ]
     },
     "execution_count": 53,
     "metadata": {},
     "output_type": "execute_result"
    }
   ],
   "source": [
    "# Fit linear regression line using all data\n",
    "lr = LinearRegression()\n",
    "lr.fit(X, y)"
   ]
  },
  {
   "cell_type": "code",
   "execution_count": 55,
   "metadata": {},
   "outputs": [
    {
     "data": {
      "text/plain": [
       "array([54.17236387])"
      ]
     },
     "execution_count": 55,
     "metadata": {},
     "output_type": "execute_result"
    }
   ],
   "source": [
    "lr.coef_"
   ]
  },
  {
   "cell_type": "code",
   "execution_count": 71,
   "metadata": {
    "id": "B5Ef7z5F-bef"
   },
   "outputs": [],
   "source": [
    "# Robustly fit linear model with RANSAC algorithm\n",
    "ransac = RANSACRegressor()\n",
    "ransac.fit(X, y)\n",
    "inlier_mask = ransac.inlier_mask_\n",
    "outlier_mask = np.logical_not(inlier_mask)"
   ]
  },
  {
   "cell_type": "code",
   "execution_count": 72,
   "metadata": {},
   "outputs": [
    {
     "data": {
      "text/plain": [
       "array([-249.81104528, -167.72571369,  -85.64038211,   -3.55505052,\n",
       "         78.53028107,  160.61561265,  242.70094424,  324.78627583])"
      ]
     },
     "execution_count": 72,
     "metadata": {},
     "output_type": "execute_result"
    }
   ],
   "source": [
    "line_y_ransac"
   ]
  },
  {
   "cell_type": "code",
   "execution_count": 73,
   "metadata": {
    "id": "yn4nt4Ix-bef"
   },
   "outputs": [],
   "source": [
    "# Predict data of estimated models\n",
    "line_X = np.arange(X.min(), X.max())[:, np.newaxis]\n",
    "line_y = lr.predict(line_X)\n",
    "line_y_ransac = ransac.predict(line_X)"
   ]
  },
  {
   "cell_type": "code",
   "execution_count": 74,
   "metadata": {
    "id": "07Ivzez9-bef",
    "outputId": "b5ff4e39-0dc2-4a91-ca98-f33209f2ba15"
   },
   "outputs": [
    {
     "name": "stdout",
     "output_type": "stream",
     "text": [
      "Estimated coefficients (true, linear regression, RANSAC):\n",
      "82.1903908407869 [54.17236387] [82.08533159]\n"
     ]
    }
   ],
   "source": [
    "# Compare estimated coefficients\n",
    "print(\"Estimated coefficients (true, linear regression, RANSAC):\")\n",
    "print(coef, lr.coef_, ransac.estimator_.coef_)"
   ]
  },
  {
   "cell_type": "code",
   "execution_count": null,
   "metadata": {},
   "outputs": [],
   "source": []
  },
  {
   "cell_type": "code",
   "execution_count": 75,
   "metadata": {
    "id": "oJj5I8TR-bef",
    "outputId": "07ee6d76-93cb-4930-8977-e86489f99ea0"
   },
   "outputs": [
    {
     "data": {
      "image/png": "[encoded data removed]",
      "text/plain": [
       "<Figure size 1200x800 with 1 Axes>"
      ]
     },
     "metadata": {},
     "output_type": "display_data"
    }
   ],
   "source": [
    "# Plot the fits\n",
    "plt.figure(figsize = (12,8))\n",
    "plt.scatter(\n",
    "    X[inlier_mask], y[inlier_mask], color=\"yellowgreen\", marker=\".\", label=\"Inliers\"\n",
    ")\n",
    "plt.scatter(\n",
    "    X[outlier_mask], y[outlier_mask], color=\"gold\", marker=\".\", label=\"Outliers\"\n",
    ")\n",
    "plt.plot(line_X, line_y, color=\"navy\", linewidth=2, label=\"Linear regressor\")\n",
    "plt.plot(\n",
    "    line_X,\n",
    "    line_y_ransac,\n",
    "    color=\"cornflowerblue\",\n",
    "    linewidth=2,\n",
    "    label=\"RANSAC regressor\",\n",
    ")\n",
    "plt.legend(loc=\"lower right\")\n",
    "plt.xlabel(\"X\", fontsize = 20)\n",
    "plt.ylabel(\"Y\", fontsize = 20)\n",
    "plt.title(\"RANSAC vs Linear Regression Fit\", fontsize = 20)\n",
    "plt.show()"
   ]
  },
  {
   "cell_type": "code",
   "execution_count": null,
   "metadata": {
    "id": "NeOXERI4-bef"
   },
   "outputs": [],
   "source": []
  },
  {
   "cell_type": "markdown",
   "metadata": {
    "id": "ckSir4xE-beg"
   },
   "source": [
    "<div class=\"alert alert-info\" style=\"background-color:#006a79; color:white; padding:0px 10px; border-radius:5px;\"><h2 style='margin:10px 5px'>Theil Sen Regression</h2>\n",
    "</div>"
   ]
  },
  {
   "cell_type": "markdown",
   "metadata": {
    "id": "cy4ZPJ_--beg"
   },
   "source": [
    "### Load libraries"
   ]
  },
  {
   "cell_type": "code",
   "execution_count": 90,
   "metadata": {
    "_cell_guid": "b1076dfc-b9ad-4769-8c92-a6c4dae69d19",
    "_uuid": "8f2839f25d086af736a60e9eeb907d3b93b6e0e5",
    "id": "RpCda9x2-beg"
   },
   "outputs": [],
   "source": [
    "# Data manipulation\n",
    "import numpy as np \n",
    "import pandas as pd\n",
    "\n",
    "# Data Visualazation\n",
    "import seaborn as sns\n",
    "import matplotlib.pyplot as plt\n",
    "\n",
    "# Machine learning\n",
    "from sklearn import datasets\n",
    "from sklearn.linear_model import LinearRegression\n",
    "from sklearn.linear_model import TheilSenRegressor\n",
    "from sklearn.metrics import mean_absolute_percentage_error\n",
    "\n",
    "import warnings\n",
    "warnings.filterwarnings(\"ignore\")\n",
    "\n",
    "# Set options\n",
    "pd.set_option('display.max_rows', 800)\n",
    "pd.set_option('display.max_columns', 500)\n",
    "%matplotlib inline"
   ]
  },
  {
   "cell_type": "markdown",
   "metadata": {
    "id": "CGvx-WjL-beg"
   },
   "source": [
    "### Load Data"
   ]
  },
  {
   "cell_type": "code",
   "execution_count": 91,
   "metadata": {
    "_cell_guid": "79c7e3d0-c299-4dcb-8224-4455121ee9b0",
    "_uuid": "d629ff2d2480ee46fbb7e2d37f6b5fab8052498a",
    "id": "sBxvs1Uk-beg"
   },
   "outputs": [],
   "source": [
    "# Create the data\n",
    "n_samples = 1000\n",
    "n_outliers = 50\n",
    "\n",
    "\n",
    "X, y, coef = datasets.make_regression(\n",
    "    n_samples=n_samples,\n",
    "    n_features=1,\n",
    "    n_informative=1,\n",
    "    noise=10,\n",
    "    coef=True,\n",
    "    random_state=0,\n",
    ")"
   ]
  },
  {
   "cell_type": "code",
   "execution_count": null,
   "metadata": {},
   "outputs": [],
   "source": []
  },
  {
   "cell_type": "code",
   "execution_count": 92,
   "metadata": {
    "id": "Bdhb-qQi-beg"
   },
   "outputs": [],
   "source": [
    "# Add outlier data\n",
    "np.random.seed(0)\n",
    "X[:n_outliers] = 3 + 0.5 * np.random.normal(size=(n_outliers, 1))\n",
    "y[:n_outliers] = -3 + 10 * np.random.normal(size=n_outliers)"
   ]
  },
  {
   "cell_type": "markdown",
   "metadata": {
    "id": "OFUEjZo--beg"
   },
   "source": [
    "### Model Building"
   ]
  },
  {
   "cell_type": "code",
   "execution_count": 93,
   "metadata": {
    "id": "Y9zZAPAP-beg",
    "outputId": "de53b3c9-c1ea-4eec-9bf5-e1a87fd27f58"
   },
   "outputs": [
    {
     "data": {
      "text/html": [
       "<style>#sk-container-id-3 {color: black;background-color: white;}#sk-container-id-3 pre{padding: 0;}#sk-container-id-3 div.sk-toggleable {background-color: white;}#sk-container-id-3 label.sk-toggleable__label {cursor: pointer;display: block;width: 100%;margin-bottom: 0;padding: 0.3em;box-sizing: border-box;text-align: center;}#sk-container-id-3 label.sk-toggleable__label-arrow:before {content: \"▸\";float: left;margin-right: 0.25em;color: #696969;}#sk-container-id-3 label.sk-toggleable__label-arrow:hover:before {color: black;}#sk-container-id-3 div.sk-estimator:hover label.sk-toggleable__label-arrow:before {color: black;}#sk-container-id-3 div.sk-toggleable__content {max-height: 0;max-width: 0;overflow: hidden;text-align: left;background-color: #f0f8ff;}#sk-container-id-3 div.sk-toggleable__content pre {margin: 0.2em;color: black;border-radius: 0.25em;background-color: #f0f8ff;}#sk-container-id-3 input.sk-toggleable__control:checked~div.sk-toggleable__content {max-height: 200px;max-width: 100%;overflow: auto;}#sk-container-id-3 input.sk-toggleable__control:checked~label.sk-toggleable__label-arrow:before {content: \"▾\";}#sk-container-id-3 div.sk-estimator input.sk-toggleable__control:checked~label.sk-toggleable__label {background-color: #d4ebff;}#sk-container-id-3 div.sk-label input.sk-toggleable__control:checked~label.sk-toggleable__label {background-color: #d4ebff;}#sk-container-id-3 input.sk-hidden--visually {border: 0;clip: rect(1px 1px 1px 1px);clip: rect(1px, 1px, 1px, 1px);height: 1px;margin: -1px;overflow: hidden;padding: 0;position: absolute;width: 1px;}#sk-container-id-3 div.sk-estimator {font-family: monospace;background-color: #f0f8ff;border: 1px dotted black;border-radius: 0.25em;box-sizing: border-box;margin-bottom: 0.5em;}#sk-container-id-3 div.sk-estimator:hover {background-color: #d4ebff;}#sk-container-id-3 div.sk-parallel-item::after {content: \"\";width: 100%;border-bottom: 1px solid gray;flex-grow: 1;}#sk-container-id-3 div.sk-label:hover label.sk-toggleable__label {background-color: #d4ebff;}#sk-container-id-3 div.sk-serial::before {content: \"\";position: absolute;border-left: 1px solid gray;box-sizing: border-box;top: 0;bottom: 0;left: 50%;z-index: 0;}#sk-container-id-3 div.sk-serial {display: flex;flex-direction: column;align-items: center;background-color: white;padding-right: 0.2em;padding-left: 0.2em;position: relative;}#sk-container-id-3 div.sk-item {position: relative;z-index: 1;}#sk-container-id-3 div.sk-parallel {display: flex;align-items: stretch;justify-content: center;background-color: white;position: relative;}#sk-container-id-3 div.sk-item::before, #sk-container-id-3 div.sk-parallel-item::before {content: \"\";position: absolute;border-left: 1px solid gray;box-sizing: border-box;top: 0;bottom: 0;left: 50%;z-index: -1;}#sk-container-id-3 div.sk-parallel-item {display: flex;flex-direction: column;z-index: 1;position: relative;background-color: white;}#sk-container-id-3 div.sk-parallel-item:first-child::after {align-self: flex-end;width: 50%;}#sk-container-id-3 div.sk-parallel-item:last-child::after {align-self: flex-start;width: 50%;}#sk-container-id-3 div.sk-parallel-item:only-child::after {width: 0;}#sk-container-id-3 div.sk-dashed-wrapped {border: 1px dashed gray;margin: 0 0.4em 0.5em 0.4em;box-sizing: border-box;padding-bottom: 0.4em;background-color: white;}#sk-container-id-3 div.sk-label label {font-family: monospace;font-weight: bold;display: inline-block;line-height: 1.2em;}#sk-container-id-3 div.sk-label-container {text-align: center;}#sk-container-id-3 div.sk-container {/* jupyter's `normalize.less` sets `[hidden] { display: none; }` but bootstrap.min.css set `[hidden] { display: none !important; }` so we also need the `!important` here to be able to override the default hidden behavior on the sphinx rendered scikit-learn.org. See: https://github.com/scikit-learn/scikit-learn/issues/21755 */display: inline-block !important;position: relative;}#sk-container-id-3 div.sk-text-repr-fallback {display: none;}</style><div id=\"sk-container-id-3\" class=\"sk-top-container\"><div class=\"sk-text-repr-fallback\"><pre>LinearRegression()</pre><b>In a Jupyter environment, please rerun this cell to show the HTML representation or trust the notebook. <br />On GitHub, the HTML representation is unable to render, please try loading this page with nbviewer.org.</b></div><div class=\"sk-container\" hidden><div class=\"sk-item\"><div class=\"sk-estimator sk-toggleable\"><input class=\"sk-toggleable__control sk-hidden--visually\" id=\"sk-estimator-id-3\" type=\"checkbox\" checked><label for=\"sk-estimator-id-3\" class=\"sk-toggleable__label sk-toggleable__label-arrow\">LinearRegression</label><div class=\"sk-toggleable__content\"><pre>LinearRegression()</pre></div></div></div></div></div>"
      ],
      "text/plain": [
       "LinearRegression()"
      ]
     },
     "execution_count": 93,
     "metadata": {},
     "output_type": "execute_result"
    }
   ],
   "source": [
    "# Fit linear regression line using all data\n",
    "lr = LinearRegression()\n",
    "lr.fit(X, y)"
   ]
  },
  {
   "cell_type": "code",
   "execution_count": 94,
   "metadata": {
    "id": "h2JQhY9L-beh",
    "outputId": "021f56e0-710f-47cb-d2a2-ca562169f587"
   },
   "outputs": [
    {
     "data": {
      "text/html": [
       "<style>#sk-container-id-4 {color: black;background-color: white;}#sk-container-id-4 pre{padding: 0;}#sk-container-id-4 div.sk-toggleable {background-color: white;}#sk-container-id-4 label.sk-toggleable__label {cursor: pointer;display: block;width: 100%;margin-bottom: 0;padding: 0.3em;box-sizing: border-box;text-align: center;}#sk-container-id-4 label.sk-toggleable__label-arrow:before {content: \"▸\";float: left;margin-right: 0.25em;color: #696969;}#sk-container-id-4 label.sk-toggleable__label-arrow:hover:before {color: black;}#sk-container-id-4 div.sk-estimator:hover label.sk-toggleable__label-arrow:before {color: black;}#sk-container-id-4 div.sk-toggleable__content {max-height: 0;max-width: 0;overflow: hidden;text-align: left;background-color: #f0f8ff;}#sk-container-id-4 div.sk-toggleable__content pre {margin: 0.2em;color: black;border-radius: 0.25em;background-color: #f0f8ff;}#sk-container-id-4 input.sk-toggleable__control:checked~div.sk-toggleable__content {max-height: 200px;max-width: 100%;overflow: auto;}#sk-container-id-4 input.sk-toggleable__control:checked~label.sk-toggleable__label-arrow:before {content: \"▾\";}#sk-container-id-4 div.sk-estimator input.sk-toggleable__control:checked~label.sk-toggleable__label {background-color: #d4ebff;}#sk-container-id-4 div.sk-label input.sk-toggleable__control:checked~label.sk-toggleable__label {background-color: #d4ebff;}#sk-container-id-4 input.sk-hidden--visually {border: 0;clip: rect(1px 1px 1px 1px);clip: rect(1px, 1px, 1px, 1px);height: 1px;margin: -1px;overflow: hidden;padding: 0;position: absolute;width: 1px;}#sk-container-id-4 div.sk-estimator {font-family: monospace;background-color: #f0f8ff;border: 1px dotted black;border-radius: 0.25em;box-sizing: border-box;margin-bottom: 0.5em;}#sk-container-id-4 div.sk-estimator:hover {background-color: #d4ebff;}#sk-container-id-4 div.sk-parallel-item::after {content: \"\";width: 100%;border-bottom: 1px solid gray;flex-grow: 1;}#sk-container-id-4 div.sk-label:hover label.sk-toggleable__label {background-color: #d4ebff;}#sk-container-id-4 div.sk-serial::before {content: \"\";position: absolute;border-left: 1px solid gray;box-sizing: border-box;top: 0;bottom: 0;left: 50%;z-index: 0;}#sk-container-id-4 div.sk-serial {display: flex;flex-direction: column;align-items: center;background-color: white;padding-right: 0.2em;padding-left: 0.2em;position: relative;}#sk-container-id-4 div.sk-item {position: relative;z-index: 1;}#sk-container-id-4 div.sk-parallel {display: flex;align-items: stretch;justify-content: center;background-color: white;position: relative;}#sk-container-id-4 div.sk-item::before, #sk-container-id-4 div.sk-parallel-item::before {content: \"\";position: absolute;border-left: 1px solid gray;box-sizing: border-box;top: 0;bottom: 0;left: 50%;z-index: -1;}#sk-container-id-4 div.sk-parallel-item {display: flex;flex-direction: column;z-index: 1;position: relative;background-color: white;}#sk-container-id-4 div.sk-parallel-item:first-child::after {align-self: flex-end;width: 50%;}#sk-container-id-4 div.sk-parallel-item:last-child::after {align-self: flex-start;width: 50%;}#sk-container-id-4 div.sk-parallel-item:only-child::after {width: 0;}#sk-container-id-4 div.sk-dashed-wrapped {border: 1px dashed gray;margin: 0 0.4em 0.5em 0.4em;box-sizing: border-box;padding-bottom: 0.4em;background-color: white;}#sk-container-id-4 div.sk-label label {font-family: monospace;font-weight: bold;display: inline-block;line-height: 1.2em;}#sk-container-id-4 div.sk-label-container {text-align: center;}#sk-container-id-4 div.sk-container {/* jupyter's `normalize.less` sets `[hidden] { display: none; }` but bootstrap.min.css set `[hidden] { display: none !important; }` so we also need the `!important` here to be able to override the default hidden behavior on the sphinx rendered scikit-learn.org. See: https://github.com/scikit-learn/scikit-learn/issues/21755 */display: inline-block !important;position: relative;}#sk-container-id-4 div.sk-text-repr-fallback {display: none;}</style><div id=\"sk-container-id-4\" class=\"sk-top-container\"><div class=\"sk-text-repr-fallback\"><pre>TheilSenRegressor()</pre><b>In a Jupyter environment, please rerun this cell to show the HTML representation or trust the notebook. <br />On GitHub, the HTML representation is unable to render, please try loading this page with nbviewer.org.</b></div><div class=\"sk-container\" hidden><div class=\"sk-item\"><div class=\"sk-estimator sk-toggleable\"><input class=\"sk-toggleable__control sk-hidden--visually\" id=\"sk-estimator-id-4\" type=\"checkbox\" checked><label for=\"sk-estimator-id-4\" class=\"sk-toggleable__label sk-toggleable__label-arrow\">TheilSenRegressor</label><div class=\"sk-toggleable__content\"><pre>TheilSenRegressor()</pre></div></div></div></div></div>"
      ],
      "text/plain": [
       "TheilSenRegressor()"
      ]
     },
     "execution_count": 94,
     "metadata": {},
     "output_type": "execute_result"
    }
   ],
   "source": [
    "# Robustly fit linear model with Theil Sen algorithm\n",
    "theilsen = TheilSenRegressor()\n",
    "theilsen.fit(X, y)"
   ]
  },
  {
   "cell_type": "code",
   "execution_count": 95,
   "metadata": {
    "id": "NiK5-UXO-beh"
   },
   "outputs": [],
   "source": [
    "# Predict data of estimated models\n",
    "line_X = np.arange(X.min(), X.max())[:, np.newaxis]\n",
    "line_y = lr.predict(line_X)\n",
    "line_y_theilsen = theilsen.predict(line_X)"
   ]
  },
  {
   "cell_type": "code",
   "execution_count": 96,
   "metadata": {
    "id": "w07FfSn9-beh",
    "outputId": "c22448b5-ff13-4d29-8c4c-f2b36e3843c7"
   },
   "outputs": [
    {
     "data": {
      "image/png": "[encoded data removed]",
      "text/plain": [
       "<Figure size 1200x800 with 1 Axes>"
      ]
     },
     "metadata": {},
     "output_type": "display_data"
    }
   ],
   "source": [
    "# Plot the fits\n",
    "plt.figure(figsize = (12,8))\n",
    "plt.scatter(X, y, color=\"yellowgreen\", marker=\".\")\n",
    "plt.plot(line_X, line_y, color=\"navy\", linewidth=2, label=\"Linear regressor\")\n",
    "plt.plot(line_X, line_y_theilsen, color=\"cornflowerblue\", linewidth=2, label=\"Theil Sen regressor\")\n",
    "plt.legend(loc=\"lower right\")\n",
    "plt.xlabel(\"X\", fontsize = 20)\n",
    "plt.ylabel(\"Y\", fontsize = 20)\n",
    "plt.title(\"Theil Sen vs Linear Regression Fit\", fontsize = 20)\n",
    "plt.show()"
   ]
  },
  {
   "cell_type": "code",
   "execution_count": null,
   "metadata": {
    "id": "CaIXQqow-beh"
   },
   "outputs": [],
   "source": []
  },
  {
   "cell_type": "markdown",
   "metadata": {
    "id": "agWOZ3hs-beh"
   },
   "source": [
    "<div class=\"alert alert-info\" style=\"background-color:#006a79; color:white; padding:0px 10px; border-radius:5px;\"><h2 style='margin:10px 5px'>Quantile Regression</h2>\n",
    "</div>"
   ]
  },
  {
   "cell_type": "markdown",
   "metadata": {
    "id": "Qtffb3YD-beh"
   },
   "source": [
    "### Load libraries"
   ]
  },
  {
   "cell_type": "code",
   "execution_count": 1,
   "metadata": {
    "_cell_guid": "b1076dfc-b9ad-4769-8c92-a6c4dae69d19",
    "_uuid": "8f2839f25d086af736a60e9eeb907d3b93b6e0e5",
    "id": "GEMhy6ut-beh"
   },
   "outputs": [],
   "source": [
    "# Data manipulation\n",
    "import numpy as np \n",
    "import pandas as pd\n",
    "\n",
    "# Data Visualazation\n",
    "import seaborn as sns\n",
    "import matplotlib.pyplot as plt\n",
    "\n",
    "# Machine learning\n",
    "from sklearn import datasets\n",
    "import statsmodels.api as sm\n",
    "from statsmodels.formula.api import quantreg\n",
    "import statsmodels.formula.api as smf\n",
    "from sklearn.metrics import mean_absolute_percentage_error\n",
    "\n",
    "import warnings\n",
    "warnings.filterwarnings(\"ignore\")\n",
    "\n",
    "# Set options\n",
    "pd.set_option('display.max_rows', 800)\n",
    "pd.set_option('display.max_columns', 500)\n",
    "%matplotlib inline"
   ]
  },
  {
   "cell_type": "markdown",
   "metadata": {
    "id": "yPazw85w-bei"
   },
   "source": [
    "### Load Data"
   ]
  },
  {
   "cell_type": "code",
   "execution_count": 4,
   "metadata": {
    "_cell_guid": "79c7e3d0-c299-4dcb-8224-4455121ee9b0",
    "_uuid": "d629ff2d2480ee46fbb7e2d37f6b5fab8052498a",
    "id": "IdZdmCET-bei",
    "outputId": "fac7bb83-b6af-4222-afb0-9c2ba111a95e"
   },
   "outputs": [
    {
     "data": {
      "text/html": [
       "<div>\n",
       "<style scoped>\n",
       "    .dataframe tbody tr th:only-of-type {\n",
       "        vertical-align: middle;\n",
       "    }\n",
       "\n",
       "    .dataframe tbody tr th {\n",
       "        vertical-align: top;\n",
       "    }\n",
       "\n",
       "    .dataframe thead th {\n",
       "        text-align: right;\n",
       "    }\n",
       "</style>\n",
       "<table border=\"1\" class=\"dataframe\">\n",
       "  <thead>\n",
       "    <tr style=\"text-align: right;\">\n",
       "      <th></th>\n",
       "      <th>OverallQual</th>\n",
       "      <th>YearBuilt</th>\n",
       "      <th>TotalBsmtSF</th>\n",
       "      <th>1stFlrSF</th>\n",
       "      <th>GrLivArea</th>\n",
       "      <th>FullBath</th>\n",
       "      <th>GarageCars</th>\n",
       "      <th>GarageArea</th>\n",
       "      <th>SalePrice</th>\n",
       "    </tr>\n",
       "  </thead>\n",
       "  <tbody>\n",
       "    <tr>\n",
       "      <th>0</th>\n",
       "      <td>6</td>\n",
       "      <td>1960</td>\n",
       "      <td>1080.0</td>\n",
       "      <td>1656</td>\n",
       "      <td>1656</td>\n",
       "      <td>1</td>\n",
       "      <td>2.0</td>\n",
       "      <td>528.0</td>\n",
       "      <td>215000</td>\n",
       "    </tr>\n",
       "    <tr>\n",
       "      <th>1</th>\n",
       "      <td>5</td>\n",
       "      <td>1961</td>\n",
       "      <td>882.0</td>\n",
       "      <td>896</td>\n",
       "      <td>896</td>\n",
       "      <td>1</td>\n",
       "      <td>1.0</td>\n",
       "      <td>730.0</td>\n",
       "      <td>105000</td>\n",
       "    </tr>\n",
       "    <tr>\n",
       "      <th>2</th>\n",
       "      <td>6</td>\n",
       "      <td>1958</td>\n",
       "      <td>1329.0</td>\n",
       "      <td>1329</td>\n",
       "      <td>1329</td>\n",
       "      <td>1</td>\n",
       "      <td>1.0</td>\n",
       "      <td>312.0</td>\n",
       "      <td>172000</td>\n",
       "    </tr>\n",
       "    <tr>\n",
       "      <th>3</th>\n",
       "      <td>7</td>\n",
       "      <td>1968</td>\n",
       "      <td>2110.0</td>\n",
       "      <td>2110</td>\n",
       "      <td>2110</td>\n",
       "      <td>2</td>\n",
       "      <td>2.0</td>\n",
       "      <td>522.0</td>\n",
       "      <td>244000</td>\n",
       "    </tr>\n",
       "    <tr>\n",
       "      <th>4</th>\n",
       "      <td>5</td>\n",
       "      <td>1997</td>\n",
       "      <td>928.0</td>\n",
       "      <td>928</td>\n",
       "      <td>1629</td>\n",
       "      <td>2</td>\n",
       "      <td>2.0</td>\n",
       "      <td>482.0</td>\n",
       "      <td>189900</td>\n",
       "    </tr>\n",
       "  </tbody>\n",
       "</table>\n",
       "</div>"
      ],
      "text/plain": [
       "   OverallQual  YearBuilt  TotalBsmtSF  1stFlrSF  GrLivArea  FullBath  \\\n",
       "0            6       1960       1080.0      1656       1656         1   \n",
       "1            5       1961        882.0       896        896         1   \n",
       "2            6       1958       1329.0      1329       1329         1   \n",
       "3            7       1968       2110.0      2110       2110         2   \n",
       "4            5       1997        928.0       928       1629         2   \n",
       "\n",
       "   GarageCars  GarageArea  SalePrice  \n",
       "0         2.0       528.0     215000  \n",
       "1         1.0       730.0     105000  \n",
       "2         1.0       312.0     172000  \n",
       "3         2.0       522.0     244000  \n",
       "4         2.0       482.0     189900  "
      ]
     },
     "execution_count": 4,
     "metadata": {},
     "output_type": "execute_result"
    }
   ],
   "source": [
    "# Load the data\n",
    "df = pd.read_csv(\"C:/Users/maste/Documents/Personal/ML+/Learning/Linear_Regression/hoursing_df_cleaned.csv\", usecols = ['SalePrice', 'OverallQual', 'GrLivArea', 'GarageCars', 'GarageArea',\n",
    "       'TotalBsmtSF', '1stFlrSF', 'YearBuilt', 'FullBath'])\n",
    "df.head()"
   ]
  },
  {
   "cell_type": "markdown",
   "metadata": {
    "id": "O462wXKv-bei"
   },
   "source": [
    "### Model Building"
   ]
  },
  {
   "cell_type": "code",
   "execution_count": 5,
   "metadata": {
    "id": "Ozsu5d3X-bei",
    "outputId": "5d2d263e-7235-4e80-caeb-b9df27e3a93f"
   },
   "outputs": [
    {
     "name": "stdout",
     "output_type": "stream",
     "text": [
      "                         QuantReg Regression Results                          \n",
      "==============================================================================\n",
      "Dep. Variable:              SalePrice   Pseudo R-squared:               0.3140\n",
      "Model:                       QuantReg   Bandwidth:                   1.287e+04\n",
      "Method:                 Least Squares   Sparsity:                    8.488e+04\n",
      "Date:                Fri, 08 Sep 2023   No. Observations:                 2858\n",
      "Time:                        00:48:49   Df Residuals:                     2856\n",
      "                                        Df Model:                            1\n",
      "==============================================================================\n",
      "                 coef    std err          t      P>|t|      [0.025      0.975]\n",
      "------------------------------------------------------------------------------\n",
      "Intercept   2.796e+04   2638.891     10.596      0.000    2.28e+04    3.31e+04\n",
      "GrLivArea     98.9788      1.706     58.025      0.000      95.634     102.324\n",
      "==============================================================================\n",
      "\n",
      "The condition number is large, 5.14e+03. This might indicate that there are\n",
      "strong multicollinearity or other numerical problems.\n"
     ]
    }
   ],
   "source": [
    "# Fit quantile regression line using only 1 feature. \n",
    "# The LAD (Least Absolute Deviation) model is a special case of quantile regression where q=0.5\n",
    "\n",
    "mod = quantreg(\"SalePrice ~ GrLivArea\", df)\n",
    "res = mod.fit(q=0.5)\n",
    "print(res.summary())"
   ]
  },
  {
   "cell_type": "markdown",
   "metadata": {
    "id": "27wPEHpu-bei"
   },
   "source": [
    "### Visualize the quantile regression"
   ]
  },
  {
   "cell_type": "code",
   "execution_count": 6,
   "metadata": {
    "id": "00-knAXK-bei",
    "outputId": "7c5618e2-86b6-4525-eb36-15ba2383b12f"
   },
   "outputs": [
    {
     "name": "stdout",
     "output_type": "stream",
     "text": [
      "      q             a           b          lb          ub\n",
      "0  0.05  28482.309124   51.210428   43.899122   58.521734\n",
      "1  0.15  30431.704884   66.301097   61.212680   71.389513\n",
      "2  0.25  24169.811318   82.130966   77.268216   86.993715\n",
      "3  0.35  28381.166017   88.328913   84.457459   92.200368\n",
      "4  0.45  28086.956882   95.652174   92.184419   99.119928\n",
      "5  0.55  27024.193548  102.318548   98.969333  105.667764\n",
      "6  0.65  24539.636661  111.065235  107.446445  114.684026\n",
      "7  0.75  16324.845590  125.700368  121.833761  129.566974\n",
      "8  0.85   9999.999999  142.857143  138.377034  147.337251\n",
      "9  0.95 -20149.814430  189.958763  183.541200  196.376326\n",
      "{'a': 22924.84248689607, 'b': 103.33166431738226, 'lb': 99.4676769477433, 'ub': 107.19565168702123}\n"
     ]
    }
   ],
   "source": [
    "quantiles = np.arange(0.05, 0.96, 0.1)\n",
    "\n",
    "\n",
    "def fit_model(q):\n",
    "    res = mod.fit(q=q)\n",
    "    return [q, res.params[\"Intercept\"], res.params[\"GrLivArea\"]] + res.conf_int().loc[\n",
    "        \"GrLivArea\"\n",
    "    ].tolist()\n",
    "\n",
    "\n",
    "models = [fit_model(x) for x in quantiles]\n",
    "models = pd.DataFrame(models, columns=[\"q\", \"a\", \"b\", \"lb\", \"ub\"])\n",
    "\n",
    "ols = smf.ols(\"SalePrice ~ GrLivArea\", df).fit()\n",
    "ols_ci = ols.conf_int().loc[\"GrLivArea\"].tolist()\n",
    "ols = dict(\n",
    "    a=ols.params[\"Intercept\"], b=ols.params[\"GrLivArea\"], lb=ols_ci[0], ub=ols_ci[1]\n",
    ")\n",
    "\n",
    "print(models)\n",
    "print(ols)"
   ]
  },
  {
   "cell_type": "code",
   "execution_count": null,
   "metadata": {
    "collapsed": true
   },
   "outputs": [],
   "source": []
  },
  {
   "cell_type": "code",
   "execution_count": 12,
   "metadata": {},
   "outputs": [
    {
     "data": {
      "text/plain": [
       "array([ 57437.6183689 ,  62604.20158477,  67770.78480064,  72937.36801651,\n",
       "        78103.95123238,  83270.53444825,  88437.11766412,  93603.70087999,\n",
       "        98770.28409585, 103936.86731172, 109103.45052759, 114270.03374346,\n",
       "       119436.61695933, 124603.2001752 , 129769.78339107, 134936.36660694,\n",
       "       140102.94982281, 145269.53303868, 150436.11625455, 155602.69947041,\n",
       "       160769.28268628, 165935.86590215, 171102.44911802, 176269.03233389,\n",
       "       181435.61554976, 186602.19876563, 191768.7819815 , 196935.36519737,\n",
       "       202101.94841324, 207268.53162911, 212435.11484498, 217601.69806084,\n",
       "       222768.28127671, 227934.86449258, 233101.44770845, 238268.03092432,\n",
       "       243434.61414019, 248601.19735606, 253767.78057193, 258934.3637878 ,\n",
       "       264100.94700367, 269267.53021954, 274434.1134354 , 279600.69665127,\n",
       "       284767.27986714, 289933.86308301, 295100.44629888, 300267.02951475,\n",
       "       305433.61273062, 310600.19594649, 315766.77916236, 320933.36237823,\n",
       "       326099.9455941 , 331266.52880996, 336433.11202583, 341599.6952417 ,\n",
       "       346766.27845757, 351932.86167344, 357099.44488931, 362266.02810518,\n",
       "       367432.61132105, 372599.19453692, 377765.77775279, 382932.36096866,\n",
       "       388098.94418452, 393265.52740039, 398432.11061626])"
      ]
     },
     "execution_count": 12,
     "metadata": {},
     "output_type": "execute_result"
    }
   ],
   "source": [
    "x = np.arange(df.GrLivArea.min(), df.GrLivArea.max(), 50)\n",
    "get_y = lambda a, b: a + b * x\n",
    "y = get_y(ols[\"a\"], ols[\"b\"])\n"
   ]
  },
  {
   "cell_type": "code",
   "execution_count": 7,
   "metadata": {
    "id": "5CRgDHmN-bei",
    "outputId": "836e1ce0-1691-4c9f-e5df-2c65cf47092d"
   },
   "outputs": [
    {
     "data": {
      "image/png": "[encoded data removed]",
      "text/plain": [
       "<Figure size 1200x800 with 1 Axes>"
      ]
     },
     "metadata": {},
     "output_type": "display_data"
    }
   ],
   "source": [
    "# Draw Plot\n",
    "x = np.arange(df.GrLivArea.min(), df.GrLivArea.max(), 50)\n",
    "get_y = lambda a, b: a + b * x\n",
    "\n",
    "fig, ax = plt.subplots(figsize=(12, 8))\n",
    "\n",
    "for i in range(models.shape[0]):\n",
    "    y = get_y(models.a[i], models.b[i])\n",
    "    ax.plot(x, y, linestyle=\"dotted\", color=\"grey\")\n",
    "\n",
    "y = get_y(ols[\"a\"], ols[\"b\"])\n",
    "\n",
    "ax.plot(x, y, color=\"red\", label=\"OLS\")\n",
    "ax.scatter(df.GrLivArea, df.SalePrice, alpha=0.2)\n",
    "legend = ax.legend()\n",
    "ax.set_xlabel(\"Ground Living Area\", fontsize=16)\n",
    "ax.set_ylabel(\"Sales Price\", fontsize=16)\n",
    "plt.show()"
   ]
  },
  {
   "cell_type": "code",
   "execution_count": null,
   "metadata": {
    "id": "G5yVXFWj-bej",
    "outputId": "0c4955e9-eb2c-45d9-d99b-4e69ef13cf84"
   },
   "outputs": [
    {
     "data": {
      "image/png": "[encoded data removed]",
      "text/plain": [
       "<Figure size 864x576 with 1 Axes>"
      ]
     },
     "metadata": {
      "needs_background": "light"
     },
     "output_type": "display_data"
    }
   ],
   "source": [
    "# Change in coeffecients as per the quanitles\n",
    "plt.figure(figsize = (12,8))\n",
    "n = models.shape[0]\n",
    "p1 = plt.plot(models.q, models.b, color=\"black\", label=\"Quantile Reg.\")\n",
    "p2 = plt.plot(models.q, models.ub, linestyle=\"dotted\", color=\"black\")\n",
    "p3 = plt.plot(models.q, models.lb, linestyle=\"dotted\", color=\"black\")\n",
    "p4 = plt.plot(models.q, [ols[\"b\"]] * n, color=\"red\", label=\"OLS\")\n",
    "p5 = plt.plot(models.q, [ols[\"lb\"]] * n, linestyle=\"dotted\", color=\"red\")\n",
    "p6 = plt.plot(models.q, [ols[\"ub\"]] * n, linestyle=\"dotted\", color=\"red\")\n",
    "plt.ylabel(r\"$\\beta_{GrLivArea}$\")\n",
    "plt.xlabel(\"Quantiles of the conditional sales price distribution\")\n",
    "plt.legend()\n",
    "plt.show()"
   ]
  },
  {
   "cell_type": "code",
   "execution_count": null,
   "metadata": {
    "id": "sC7jpASP-bej"
   },
   "outputs": [],
   "source": []
  }
 ],
 "metadata": {
  "colab": {
   "collapsed_sections": [
    "bpYNpPxg-beW",
    "j5F74xXi-beX",
    "4765y7oT-beX",
    "HQ_lY38w-bea",
    "IkwmoRiJ-beb",
    "GJr9zd9I-bed",
    "K_6P1E9W-bee",
    "ftrbGJms-bee",
    "yQNznqYf-bef",
    "cy4ZPJ_--beg",
    "CGvx-WjL-beg",
    "OFUEjZo--beg",
    "Qtffb3YD-beh",
    "yPazw85w-bei",
    "O462wXKv-bei",
    "27wPEHpu-bei"
   ],
   "name": "5_advanced_regression.ipynb",
   "provenance": []
  },
  "kernelspec": {
   "display_name": "Python 3 (ipykernel)",
   "language": "python",
   "name": "python3"
  },
  "language_info": {
   "codemirror_mode": {
    "name": "ipython",
    "version": 3
   },
   "file_extension": ".py",
   "mimetype": "text/x-python",
   "name": "python",
   "nbconvert_exporter": "python",
   "pygments_lexer": "ipython3",
   "version": "3.11.3"
  },
  "toc": {
   "base_numbering": 1,
   "nav_menu": {},
   "number_sections": false,
   "sideBar": true,
   "skip_h1_title": false,
   "title_cell": "Table of Contents",
   "title_sidebar": "Contents",
   "toc_cell": false,
   "toc_position": {},
   "toc_section_display": true,
   "toc_window_display": false
  }
 },
 "nbformat": 4,
 "nbformat_minor": 1
}
