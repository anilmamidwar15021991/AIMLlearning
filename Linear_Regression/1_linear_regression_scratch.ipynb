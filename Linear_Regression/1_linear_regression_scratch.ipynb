{
 "cells": [
  {
   "cell_type": "markdown",
   "metadata": {
    "id": "BrwDh5LU96o-",
    "tags": []
   },
   "source": [
    "<div class=\"alert\" style=\"background-color:#fff; color:white; padding:0px 10px; border-radius:5px;\"><h1 style='margin:15px 15px; color:#006a79; font-size:40px'> Linear Regression from Scratch (Gradient Descent)</h1>\n",
    "Copyright Machine Learning Plus\n",
    "</div>"
   ]
  },
  {
   "cell_type": "markdown",
   "metadata": {
    "id": "rUK72M7996pC"
   },
   "source": [
    "### Import Packages"
   ]
  },
  {
   "cell_type": "code",
   "execution_count": 89,
   "metadata": {
    "_cell_guid": "b1076dfc-b9ad-4769-8c92-a6c4dae69d19",
    "_uuid": "8f2839f25d086af736a60e9eeb907d3b93b6e0e5",
    "id": "zfyNwIe496pC"
   },
   "outputs": [],
   "source": [
    "# Data manipulation\n",
    "import numpy as np \n",
    "import pandas as pd\n",
    "\n",
    "# Data Visualazation\n",
    "import seaborn as sns\n",
    "import matplotlib.pyplot as plt\n",
    "\n",
    "from sklearn.datasets import load_boston\n",
    "\n",
    "import random\n",
    "\n",
    "# Set options\n",
    "pd.set_option('display.max_rows', 800)\n",
    "pd.set_option('display.max_columns', 500)\n",
    "%matplotlib inline"
   ]
  },
  {
   "cell_type": "markdown",
   "metadata": {
    "id": "9jwjerwg96pE"
   },
   "source": [
    "### Load the boston data"
   ]
  },
  {
   "cell_type": "code",
   "execution_count": 90,
   "metadata": {
    "id": "BxBy6bLn96pE",
    "outputId": "b4b9c8f2-ac6f-4877-846a-e029c491f780"
   },
   "outputs": [
    {
     "name": "stderr",
     "output_type": "stream",
     "text": [
      "C:\\Users\\maste\\anaconda3\\envs\\Venv_Learning\\Lib\\site-packages\\sklearn\\utils\\deprecation.py:87: FutureWarning: Function load_boston is deprecated; `load_boston` is deprecated in 1.0 and will be removed in 1.2.\n",
      "\n",
      "    The Boston housing prices dataset has an ethical problem. You can refer to\n",
      "    the documentation of this function for further details.\n",
      "\n",
      "    The scikit-learn maintainers therefore strongly discourage the use of this\n",
      "    dataset unless the purpose of the code is to study and educate about\n",
      "    ethical issues in data science and machine learning.\n",
      "\n",
      "    In this special case, you can fetch the dataset from the original\n",
      "    source::\n",
      "\n",
      "        import pandas as pd\n",
      "        import numpy as np\n",
      "\n",
      "        data_url = \"http://lib.stat.cmu.edu/datasets/boston\"\n",
      "        raw_df = pd.read_csv(data_url, sep=\"\\s+\", skiprows=22, header=None)\n",
      "        data = np.hstack([raw_df.values[::2, :], raw_df.values[1::2, :2]])\n",
      "        target = raw_df.values[1::2, 2]\n",
      "\n",
      "    Alternative datasets include the California housing dataset (i.e.\n",
      "    :func:`~sklearn.datasets.fetch_california_housing`) and the Ames housing\n",
      "    dataset. You can load the datasets as follows::\n",
      "\n",
      "        from sklearn.datasets import fetch_california_housing\n",
      "        housing = fetch_california_housing()\n",
      "\n",
      "    for the California housing dataset and::\n",
      "\n",
      "        from sklearn.datasets import fetch_openml\n",
      "        housing = fetch_openml(name=\"house_prices\", as_frame=True)\n",
      "\n",
      "    for the Ames housing dataset.\n",
      "  warnings.warn(msg, category=FutureWarning)\n"
     ]
    },
    {
     "data": {
      "text/html": [
       "<div>\n",
       "<style scoped>\n",
       "    .dataframe tbody tr th:only-of-type {\n",
       "        vertical-align: middle;\n",
       "    }\n",
       "\n",
       "    .dataframe tbody tr th {\n",
       "        vertical-align: top;\n",
       "    }\n",
       "\n",
       "    .dataframe thead th {\n",
       "        text-align: right;\n",
       "    }\n",
       "</style>\n",
       "<table border=\"1\" class=\"dataframe\">\n",
       "  <thead>\n",
       "    <tr style=\"text-align: right;\">\n",
       "      <th></th>\n",
       "      <th>CRIM</th>\n",
       "      <th>ZN</th>\n",
       "      <th>INDUS</th>\n",
       "      <th>CHAS</th>\n",
       "      <th>NOX</th>\n",
       "      <th>RM</th>\n",
       "      <th>AGE</th>\n",
       "      <th>DIS</th>\n",
       "      <th>RAD</th>\n",
       "      <th>TAX</th>\n",
       "      <th>PTRATIO</th>\n",
       "      <th>B</th>\n",
       "      <th>LSTAT</th>\n",
       "    </tr>\n",
       "  </thead>\n",
       "  <tbody>\n",
       "    <tr>\n",
       "      <th>0</th>\n",
       "      <td>0.00632</td>\n",
       "      <td>18.0</td>\n",
       "      <td>2.31</td>\n",
       "      <td>0.0</td>\n",
       "      <td>0.538</td>\n",
       "      <td>6.575</td>\n",
       "      <td>65.2</td>\n",
       "      <td>4.0900</td>\n",
       "      <td>1.0</td>\n",
       "      <td>296.0</td>\n",
       "      <td>15.3</td>\n",
       "      <td>396.90</td>\n",
       "      <td>4.98</td>\n",
       "    </tr>\n",
       "    <tr>\n",
       "      <th>1</th>\n",
       "      <td>0.02731</td>\n",
       "      <td>0.0</td>\n",
       "      <td>7.07</td>\n",
       "      <td>0.0</td>\n",
       "      <td>0.469</td>\n",
       "      <td>6.421</td>\n",
       "      <td>78.9</td>\n",
       "      <td>4.9671</td>\n",
       "      <td>2.0</td>\n",
       "      <td>242.0</td>\n",
       "      <td>17.8</td>\n",
       "      <td>396.90</td>\n",
       "      <td>9.14</td>\n",
       "    </tr>\n",
       "    <tr>\n",
       "      <th>2</th>\n",
       "      <td>0.02729</td>\n",
       "      <td>0.0</td>\n",
       "      <td>7.07</td>\n",
       "      <td>0.0</td>\n",
       "      <td>0.469</td>\n",
       "      <td>7.185</td>\n",
       "      <td>61.1</td>\n",
       "      <td>4.9671</td>\n",
       "      <td>2.0</td>\n",
       "      <td>242.0</td>\n",
       "      <td>17.8</td>\n",
       "      <td>392.83</td>\n",
       "      <td>4.03</td>\n",
       "    </tr>\n",
       "    <tr>\n",
       "      <th>3</th>\n",
       "      <td>0.03237</td>\n",
       "      <td>0.0</td>\n",
       "      <td>2.18</td>\n",
       "      <td>0.0</td>\n",
       "      <td>0.458</td>\n",
       "      <td>6.998</td>\n",
       "      <td>45.8</td>\n",
       "      <td>6.0622</td>\n",
       "      <td>3.0</td>\n",
       "      <td>222.0</td>\n",
       "      <td>18.7</td>\n",
       "      <td>394.63</td>\n",
       "      <td>2.94</td>\n",
       "    </tr>\n",
       "    <tr>\n",
       "      <th>4</th>\n",
       "      <td>0.06905</td>\n",
       "      <td>0.0</td>\n",
       "      <td>2.18</td>\n",
       "      <td>0.0</td>\n",
       "      <td>0.458</td>\n",
       "      <td>7.147</td>\n",
       "      <td>54.2</td>\n",
       "      <td>6.0622</td>\n",
       "      <td>3.0</td>\n",
       "      <td>222.0</td>\n",
       "      <td>18.7</td>\n",
       "      <td>396.90</td>\n",
       "      <td>5.33</td>\n",
       "    </tr>\n",
       "  </tbody>\n",
       "</table>\n",
       "</div>"
      ],
      "text/plain": [
       "      CRIM    ZN  INDUS  CHAS    NOX     RM   AGE     DIS  RAD    TAX  \\\n",
       "0  0.00632  18.0   2.31   0.0  0.538  6.575  65.2  4.0900  1.0  296.0   \n",
       "1  0.02731   0.0   7.07   0.0  0.469  6.421  78.9  4.9671  2.0  242.0   \n",
       "2  0.02729   0.0   7.07   0.0  0.469  7.185  61.1  4.9671  2.0  242.0   \n",
       "3  0.03237   0.0   2.18   0.0  0.458  6.998  45.8  6.0622  3.0  222.0   \n",
       "4  0.06905   0.0   2.18   0.0  0.458  7.147  54.2  6.0622  3.0  222.0   \n",
       "\n",
       "   PTRATIO       B  LSTAT  \n",
       "0     15.3  396.90   4.98  \n",
       "1     17.8  396.90   9.14  \n",
       "2     17.8  392.83   4.03  \n",
       "3     18.7  394.63   2.94  \n",
       "4     18.7  396.90   5.33  "
      ]
     },
     "execution_count": 90,
     "metadata": {},
     "output_type": "execute_result"
    }
   ],
   "source": [
    "boston = load_boston()\n",
    "\n",
    "X = pd.DataFrame(boston.data, columns = boston.feature_names)\n",
    "Y = boston.target   \n",
    "\n",
    "X.head()"
   ]
  },
  {
   "cell_type": "markdown",
   "metadata": {
    "id": "n2Omaf_P96pF"
   },
   "source": [
    "__Description__\n",
    "\n",
    "        - CRIM     per capita crime rate by town\n",
    "        - ZN       proportion of residential land zoned for lots over 25,000 sq.ft.\n",
    "        - INDUS    proportion of non-retail business acres per town\n",
    "        - CHAS     Charles River dummy variable (= 1 if tract bounds river; 0 otherwise)\n",
    "        - NOX      nitric oxides concentration (parts per 10 million)\n",
    "        - RM       average number of rooms per dwelling\n",
    "        - AGE      proportion of owner-occupied units built prior to 1940\n",
    "        - DIS      weighted distances to five Boston employment centres\n",
    "        - RAD      index of accessibility to radial highways\n",
    "        - TAX      full-value property-tax rate per 10,000 dollars\n",
    "        - PTRATIO  pupil-teacher ratio by town\n",
    "        - B        1000(Bk - 0.63)^2 where Bk is the proportion of blacks by town\n",
    "        - LSTAT    % lower status of the population\n",
    "        - MEDV     Median value of owner-occupied homes in $1000's"
   ]
  },
  {
   "cell_type": "code",
   "execution_count": 91,
   "metadata": {
    "id": "D6E3CDqc96pG",
    "outputId": "b8f40381-cf70-4640-eb7f-73a71fbdb215"
   },
   "outputs": [
    {
     "name": "stdout",
     "output_type": "stream",
     "text": [
      "         CRIM    ZN  INDUS  CHAS    NOX     RM   AGE     DIS   RAD    TAX  \\\n",
      "435  11.16040   0.0  18.10   0.0  0.740  6.629  94.6  2.1247  24.0  666.0   \n",
      "88    0.05660   0.0   3.41   0.0  0.489  7.007  86.3  3.4217   2.0  270.0   \n",
      "365   4.55587   0.0  18.10   0.0  0.718  3.561  87.9  1.6132  24.0  666.0   \n",
      "242   0.10290  30.0   4.93   0.0  0.428  6.358  52.9  7.0355   6.0  300.0   \n",
      "461   3.69311   0.0  18.10   0.0  0.713  6.376  88.4  2.5671  24.0  666.0   \n",
      "\n",
      "     PTRATIO       B  LSTAT  \n",
      "435     20.2  109.85  23.27  \n",
      "88      17.8  396.90   5.50  \n",
      "365     20.2  354.70   7.12  \n",
      "242     16.6  372.75  11.22  \n",
      "461     20.2  391.43  14.65   \n",
      "\n",
      " Y_Train:  [13.4 23.6 27.5 22.2 17.7]\n"
     ]
    }
   ],
   "source": [
    "from sklearn.model_selection import train_test_split\n",
    "X_train, X_test, Y_train, Y_test = train_test_split(X, Y, test_size = 0.33, random_state = 5)\n",
    "print(X_train.head(), '\\n\\n Y_Train: ', Y_train[:5])"
   ]
  },
  {
   "cell_type": "markdown",
   "metadata": {
    "id": "EF_zKiZH96pH"
   },
   "source": [
    "__Standardize X__"
   ]
  },
  {
   "cell_type": "code",
   "execution_count": 92,
   "metadata": {
    "id": "ZQDtv4t496pH"
   },
   "outputs": [],
   "source": [
    "X_train_standardized = (X_train - X_train .mean()) / X_train.std()\n",
    "X_test_standardized  = (X_test - X_train.mean()) /  X_train.std()"
   ]
  },
  {
   "cell_type": "markdown",
   "metadata": {
    "id": "qiLYN41J96pI"
   },
   "source": [
    "### Define Functions\n",
    "\n",
    "__Credits__: https://github.com/prateeksharma51/Multivariate-Linear-Regression-from-scratch-in-python/blob/master/Multivariate_Linear_Regression_from_Scratch.ipynb"
   ]
  },
  {
   "cell_type": "markdown",
   "metadata": {
    "id": "_f8AgiCP96pI"
   },
   "source": [
    "__Error Function__"
   ]
  },
  {
   "cell_type": "code",
   "execution_count": 93,
   "metadata": {
    "id": "IXty6ysf96pJ"
   },
   "outputs": [],
   "source": [
    "# Define the error function: MSE/2\n",
    "def error_function(y_actual,y_predicted):\n",
    "    error = 0\n",
    "    for i in range(0,len(y_actual)):\n",
    "        error =  error + pow((y_actual[i] - y_predicted[i]),2)\n",
    "    return error/(2*len(y_actual))"
   ]
  },
  {
   "cell_type": "code",
   "execution_count": 94,
   "metadata": {
    "id": "eKxkMDaJ96pJ",
    "outputId": "37d4026c-55b8-43bf-f596-cb1a2c4dc455"
   },
   "outputs": [
    {
     "data": {
      "text/plain": [
       "0.0"
      ]
     },
     "execution_count": 94,
     "metadata": {},
     "output_type": "execute_result"
    }
   ],
   "source": [
    "error_function(Y_train, Y_train)"
   ]
  },
  {
   "cell_type": "markdown",
   "metadata": {
    "id": "Sk903jMA96pJ"
   },
   "source": [
    "__Predict__"
   ]
  },
  {
   "cell_type": "code",
   "execution_count": 95,
   "metadata": {
    "id": "F3q4FpQ296pK"
   },
   "outputs": [],
   "source": [
    "# Define the prediction function\n",
    "def y_predicted(w,x):\n",
    "    y_pred = np.zeros(len(x))\n",
    "    for i in range(0,len(x)):\n",
    "        for j in range(0,len(w)):\n",
    "            y_pred[i] = y_pred[i] + (w[j]*x[i][j] + w[-1])\n",
    "    return y_pred"
   ]
  },
  {
   "cell_type": "code",
   "execution_count": 96,
   "metadata": {
    "id": "BTuH_y2H96pK"
   },
   "outputs": [],
   "source": [
    "# Define the gradient descent optimization function\n",
    "def gradient(y_actual,y_pred,x):\n",
    "    # init betas (random)\n",
    "    grad = np.zeros(x.shape[1])\n",
    "    # update betas\n",
    "    for j in range(0,len(y_actual)): # rows\n",
    "        for i in range(x.shape[1]):  # columns\n",
    "            grad[i] = grad[i] - ((y_actual[j] - y_pred[j])*x[j][i])\n",
    "    return grad/len(y_actual)"
   ]
  },
  {
   "cell_type": "code",
   "execution_count": 97,
   "metadata": {
    "id": "DGqp7BWj96pL",
    "outputId": "36bfa54e-5bc2-4c4c-8691-44a16bfd1675"
   },
   "outputs": [
    {
     "data": {
      "text/plain": [
       "(167, 13)"
      ]
     },
     "execution_count": 97,
     "metadata": {},
     "output_type": "execute_result"
    }
   ],
   "source": [
    "X_test_standardized.shape"
   ]
  },
  {
   "cell_type": "code",
   "execution_count": 104,
   "metadata": {
    "id": "uXjoDUKa96pL"
   },
   "outputs": [],
   "source": [
    "# Define the update weights function\n",
    "def weights(x_train,y_train,num_iterations,learning_rate):\n",
    "    no_of_rows = x_train.shape[0]\n",
    "    no_of_columns = x_train.shape[1]\n",
    "    new_x_train = np.ones((no_of_rows,no_of_columns+1))\n",
    "    new_x_train[:, 0:no_of_columns] = x_train\n",
    "    w = np.zeros(no_of_columns)\n",
    "    w = np.append(w,1)\n",
    "    print(\"Running GRADIENT\")\n",
    "    for i in range(0,num_iterations):\n",
    "        y_pred = y_predicted(w,new_x_train)\n",
    "        error = error_function(y_train,y_pred)\n",
    "        print(\"mean square error: \",error,\"after\",i,\"th iteration\")\n",
    "        MSE_points.append(error)\n",
    "        grad = gradient(y_train,y_pred,new_x_train)\n",
    "        #print(f' value of  w passed is- {w}')\n",
    "        w = w - learning_rate*grad\n",
    "        learning_rate = learning_rate/1.05  # Learning rate Decay \n",
    "    return w"
   ]
  },
  {
   "cell_type": "code",
   "execution_count": 105,
   "metadata": {
    "id": "husbYOxy96pL"
   },
   "outputs": [],
   "source": [
    "# Define the regression test\n",
    "def regression_test(x_test,w):\n",
    "    row = x_test.shape[0]\n",
    "    column = x_test.shape[1]\n",
    "    new_x_test = np.ones((row,column+1))\n",
    "    # new_x_test = np.ones((row,column))\n",
    "    new_x_test[:,0:column] = x_test\n",
    "    y_pred = y_predicted(w,new_x_test)\n",
    "    return(y_pred)"
   ]
  },
  {
   "cell_type": "markdown",
   "metadata": {
    "id": "OZu54kSA96pM"
   },
   "source": [
    "### Implement Linear Regression"
   ]
  },
  {
   "cell_type": "code",
   "execution_count": 106,
   "metadata": {
    "id": "vrjsJLgN96pM",
    "outputId": "f22f34ad-b7e8-4a72-d487-c0ea7915aad7",
    "scrolled": true,
    "tags": []
   },
   "outputs": [
    {
     "name": "stdout",
     "output_type": "stream",
     "text": [
      "Running GRADIENT\n",
      "mean square error:  68.31750737463128 after 0 th iteration\n",
      "mean square error:  30.518402408282288 after 1 th iteration\n",
      "mean square error:  20.5986078862077 after 2 th iteration\n",
      "mean square error:  17.550516839195655 after 3 th iteration\n",
      "mean square error:  16.133498278997212 after 4 th iteration\n",
      "mean square error:  15.178692425541541 after 5 th iteration\n",
      "mean square error:  14.446874889485743 after 6 th iteration\n",
      "mean square error:  13.86748066769834 after 7 th iteration\n",
      "mean square error:  13.402092142549666 after 8 th iteration\n",
      "mean square error:  13.02404329945748 after 9 th iteration\n",
      "mean square error:  12.713816420316938 after 10 th iteration\n",
      "mean square error:  12.456843008649058 after 11 th iteration\n",
      "mean square error:  12.242105330624726 after 12 th iteration\n",
      "mean square error:  12.061179781226553 after 13 th iteration\n",
      "mean square error:  11.907562535766704 after 14 th iteration\n",
      "mean square error:  11.776185824301672 after 15 th iteration\n",
      "mean square error:  11.663066522657022 after 16 th iteration\n",
      "mean square error:  11.565048146717732 after 17 th iteration\n",
      "mean square error:  11.479609606971856 after 18 th iteration\n",
      "mean square error:  11.404722182661379 after 19 th iteration\n",
      "mean square error:  11.338741654339414 after 20 th iteration\n",
      "mean square error:  11.28032629791767 after 21 th iteration\n",
      "mean square error:  11.228374060589287 after 22 th iteration\n",
      "mean square error:  11.181974077536383 after 23 th iteration\n",
      "mean square error:  11.14036899179899 after 24 th iteration\n",
      "mean square error:  11.102925471800798 after 25 th iteration\n",
      "mean square error:  11.069110993049827 after 26 th iteration\n",
      "mean square error:  11.038475438821296 after 27 th iteration\n",
      "mean square error:  11.010636432075271 after 28 th iteration\n",
      "mean square error:  10.98526757440817 after 29 th iteration\n",
      "mean square error:  10.962088963496145 after 30 th iteration\n",
      "mean square error:  10.94085950671701 after 31 th iteration\n",
      "mean square error:  10.921370658625934 after 32 th iteration\n",
      "mean square error:  10.903441293202684 after 33 th iteration\n",
      "mean square error:  10.886913485167861 after 34 th iteration\n",
      "mean square error:  10.871649023197811 after 35 th iteration\n",
      "mean square error:  10.857526515242064 after 36 th iteration\n",
      "mean square error:  10.844438975081378 after 37 th iteration\n",
      "mean square error:  10.832291801782377 after 38 th iteration\n",
      "mean square error:  10.821001081319029 after 39 th iteration\n",
      "mean square error:  10.810492153474698 after 40 th iteration\n",
      "mean square error:  10.800698398071923 after 41 th iteration\n",
      "mean square error:  10.791560203250993 after 42 th iteration\n",
      "mean square error:  10.783024085429433 after 43 th iteration\n",
      "mean square error:  10.775041936107097 after 44 th iteration\n",
      "mean square error:  10.76757037512562 after 45 th iteration\n",
      "mean square error:  10.760570193578689 after 46 th iteration\n",
      "mean square error:  10.75400587247449 after 47 th iteration\n",
      "mean square error:  10.747845165614656 after 48 th iteration\n",
      "mean square error:  10.742058737081777 after 49 th iteration\n",
      "mean square error:  10.736619845307189 after 50 th iteration\n",
      "mean square error:  10.731504066988702 after 51 th iteration\n",
      "mean square error:  10.726689055198175 after 52 th iteration\n",
      "mean square error:  10.72215432690521 after 53 th iteration\n",
      "mean square error:  10.717881075877827 after 54 th iteration\n",
      "mean square error:  10.713852007533545 after 55 th iteration\n",
      "mean square error:  10.710051192825777 after 56 th iteration\n",
      "mean square error:  10.70646393867805 after 57 th iteration\n",
      "mean square error:  10.703076672839112 after 58 th iteration\n",
      "mean square error:  10.699876841334472 after 59 th iteration\n",
      "mean square error:  10.696852816946217 after 60 th iteration\n",
      "mean square error:  10.693993817369412 after 61 th iteration\n",
      "mean square error:  10.691289831877908 after 62 th iteration\n",
      "mean square error:  10.688731555488575 after 63 th iteration\n",
      "mean square error:  10.686310329746904 after 64 th iteration\n",
      "mean square error:  10.684018089371435 after 65 th iteration\n",
      "mean square error:  10.681847314091815 after 66 th iteration\n",
      "mean square error:  10.67979098510062 after 67 th iteration\n",
      "mean square error:  10.677842545610268 after 68 th iteration\n",
      "mean square error:  10.675995865070206 after 69 th iteration\n",
      "mean square error:  10.67424520665269 after 70 th iteration\n",
      "mean square error:  10.672585197663016 after 71 th iteration\n",
      "mean square error:  10.671010802570356 after 72 th iteration\n",
      "mean square error:  10.669517298391225 after 73 th iteration\n",
      "mean square error:  10.66810025218789 after 74 th iteration\n",
      "mean square error:  10.666755500471595 after 75 th iteration\n",
      "mean square error:  10.665479130323765 after 76 th iteration\n",
      "mean square error:  10.664267462068883 after 77 th iteration\n",
      "mean square error:  10.663117033351272 after 78 th iteration\n",
      "mean square error:  10.662024584483614 after 79 th iteration\n",
      "mean square error:  10.660987044949417 after 80 th iteration\n",
      "mean square error:  10.660001520953529 after 81 th iteration\n",
      "mean square error:  10.659065283926555 after 82 th iteration\n",
      "mean square error:  10.658175759897794 after 83 th iteration\n",
      "mean square error:  10.65733051966077 after 84 th iteration\n",
      "mean square error:  10.656527269662469 after 85 th iteration\n",
      "mean square error:  10.655763843554379 after 86 th iteration\n",
      "mean square error:  10.655038194349611 after 87 th iteration\n",
      "mean square error:  10.654348387135427 after 88 th iteration\n",
      "mean square error:  10.653692592295734 after 89 th iteration\n",
      "mean square error:  10.653069079201945 after 90 th iteration\n",
      "mean square error:  10.652476210334774 after 91 th iteration\n",
      "mean square error:  10.651912435802924 after 92 th iteration\n",
      "mean square error:  10.651376288227594 after 93 th iteration\n",
      "mean square error:  10.650866377964572 after 94 th iteration\n",
      "mean square error:  10.650381388638268 after 95 th iteration\n",
      "mean square error:  10.649920072964179 after 96 th iteration\n",
      "mean square error:  10.649481248838322 after 97 th iteration\n",
      "mean square error:  10.649063795674046 after 98 th iteration\n",
      "mean square error:  10.648666650968245 after 99 th iteration\n",
      "mean square error:  10.648288807080688 after 100 th iteration\n",
      "mean square error:  10.64792930821096 after 101 th iteration\n",
      "mean square error:  10.647587247559619 after 102 th iteration\n",
      "mean square error:  10.64726176466052 after 103 th iteration\n",
      "mean square error:  10.646952042872671 after 104 th iteration\n",
      "mean square error:  10.646657307020755 after 105 th iteration\n",
      "mean square error:  10.646376821174483 after 106 th iteration\n",
      "mean square error:  10.646109886557323 after 107 th iteration\n",
      "mean square error:  10.645855839576408 after 108 th iteration\n",
      "mean square error:  10.645614049965534 after 109 th iteration\n",
      "mean square error:  10.645383919033984 after 110 th iteration\n",
      "mean square error:  10.645164878014622 after 111 th iteration\n",
      "mean square error:  10.644956386504784 after 112 th iteration\n",
      "mean square error:  10.644757930994242 after 113 th iteration\n",
      "mean square error:  10.64456902347493 after 114 th iteration\n",
      "mean square error:  10.644389200127254 after 115 th iteration\n",
      "mean square error:  10.644218020078489 after 116 th iteration\n",
      "mean square error:  10.644055064228857 after 117 th iteration\n",
      "mean square error:  10.643899934141144 after 118 th iteration\n",
      "mean square error:  10.643752250990316 after 119 th iteration\n",
      "mean square error:  10.64361165456932 after 120 th iteration\n",
      "mean square error:  10.643477802348047 after 121 th iteration\n",
      "mean square error:  10.643350368582201 after 122 th iteration\n",
      "mean square error:  10.643229043469375 after 123 th iteration\n",
      "mean square error:  10.64311353234934 after 124 th iteration\n",
      "mean square error:  10.6430035549465 after 125 th iteration\n",
      "mean square error:  10.642898844651652 after 126 th iteration\n",
      "mean square error:  10.642799147841218 after 127 th iteration\n",
      "mean square error:  10.642704223231629 after 128 th iteration\n",
      "mean square error:  10.642613841267133 after 129 th iteration\n",
      "mean square error:  10.642527783538927 after 130 th iteration\n",
      "mean square error:  10.642445842234201 after 131 th iteration\n",
      "mean square error:  10.642367819613183 after 132 th iteration\n",
      "mean square error:  10.642293527512948 after 133 th iteration\n",
      "mean square error:  10.642222786876282 after 134 th iteration\n",
      "mean square error:  10.642155427304447 after 135 th iteration\n",
      "mean square error:  10.642091286632587 after 136 th iteration\n",
      "mean square error:  10.642030210526391 after 137 th iteration\n",
      "mean square error:  10.641972052099115 after 138 th iteration\n",
      "mean square error:  10.64191667154773 after 139 th iteration\n",
      "mean square error:  10.641863935807212 after 140 th iteration\n",
      "mean square error:  10.641813718222295 after 141 th iteration\n",
      "mean square error:  10.641765898235223 after 142 th iteration\n",
      "mean square error:  10.641720361089327 after 143 th iteration\n",
      "mean square error:  10.641676997547114 after 144 th iteration\n",
      "mean square error:  10.641635703622306 after 145 th iteration\n",
      "mean square error:  10.641596380325264 after 146 th iteration\n",
      "mean square error:  10.641558933420786 after 147 th iteration\n",
      "mean square error:  10.641523273197953 after 148 th iteration\n",
      "mean square error:  10.641489314251224 after 149 th iteration\n",
      "mean square error:  10.641456975272321 after 150 th iteration\n",
      "mean square error:  10.64142617885229 after 151 th iteration\n",
      "mean square error:  10.6413968512932 after 152 th iteration\n",
      "mean square error:  10.64136892242921 after 153 th iteration\n",
      "mean square error:  10.641342325456161 after 154 th iteration\n",
      "mean square error:  10.641316996769664 after 155 th iteration\n",
      "mean square error:  10.641292875810967 after 156 th iteration\n",
      "mean square error:  10.641269904920305 after 157 th iteration\n",
      "mean square error:  10.641248029197557 after 158 th iteration\n",
      "mean square error:  10.641227196369375 after 159 th iteration\n",
      "mean square error:  10.641207356663102 after 160 th iteration\n",
      "mean square error:  10.641188462686486 after 161 th iteration\n",
      "mean square error:  10.641170469313423 after 162 th iteration\n",
      "mean square error:  10.641153333575222 after 163 th iteration\n",
      "mean square error:  10.64113701455697 after 164 th iteration\n",
      "mean square error:  10.641121473299119 after 165 th iteration\n",
      "mean square error:  10.641106672703653 after 166 th iteration\n",
      "mean square error:  10.641092577444896 after 167 th iteration\n",
      "mean square error:  10.64107915388454 after 168 th iteration\n",
      "mean square error:  10.641066369990865 after 169 th iteration\n",
      "mean square error:  10.64105419526173 after 170 th iteration\n",
      "mean square error:  10.641042600651383 after 171 th iteration\n",
      "mean square error:  10.641031558500723 after 172 th iteration\n"
     ]
    },
    {
     "name": "stdout",
     "output_type": "stream",
     "text": [
      "mean square error:  10.641021042470937 after 173 th iteration\n",
      "mean square error:  10.641011027480372 after 174 th iteration\n",
      "mean square error:  10.641001489644356 after 175 th iteration\n",
      "mean square error:  10.640992406217974 after 176 th iteration\n",
      "mean square error:  10.640983755541557 after 177 th iteration\n",
      "mean square error:  10.640975516988824 after 178 th iteration\n",
      "mean square error:  10.640967670917462 after 179 th iteration\n",
      "mean square error:  10.640960198622153 after 180 th iteration\n",
      "mean square error:  10.640953082289728 after 181 th iteration\n",
      "mean square error:  10.640946304956644 after 182 th iteration\n",
      "mean square error:  10.640939850468305 after 183 th iteration\n",
      "mean square error:  10.64093370344051 after 184 th iteration\n",
      "mean square error:  10.640927849222605 after 185 th iteration\n",
      "mean square error:  10.64092227386249 after 186 th iteration\n",
      "mean square error:  10.640916964073282 after 187 th iteration\n",
      "mean square error:  10.640911907201518 after 188 th iteration\n",
      "mean square error:  10.640907091196992 after 189 th iteration\n",
      "mean square error:  10.640902504583881 after 190 th iteration\n",
      "mean square error:  10.640898136433414 after 191 th iteration\n",
      "mean square error:  10.640893976337718 after 192 th iteration\n",
      "mean square error:  10.640890014385 after 193 th iteration\n",
      "mean square error:  10.640886241135878 after 194 th iteration\n",
      "mean square error:  10.640882647600806 after 195 th iteration\n",
      "mean square error:  10.64087922521868 after 196 th iteration\n",
      "mean square error:  10.640875965836356 after 197 th iteration\n",
      "mean square error:  10.64087286168922 after 198 th iteration\n",
      "mean square error:  10.640869905382656 after 199 th iteration\n",
      "mean square error:  10.640867089874419 after 200 th iteration\n",
      "mean square error:  10.640864408457768 after 201 th iteration\n",
      "mean square error:  10.640861854745577 after 202 th iteration\n",
      "mean square error:  10.640859422655002 after 203 th iteration\n",
      "mean square error:  10.64085710639301 after 204 th iteration\n",
      "mean square error:  10.640854900442607 after 205 th iteration\n",
      "mean square error:  10.640852799549604 after 206 th iteration\n",
      "mean square error:  10.64085079871014 after 207 th iteration\n",
      "mean square error:  10.640848893158731 after 208 th iteration\n",
      "mean square error:  10.640847078356932 after 209 th iteration\n",
      "mean square error:  10.640845349982477 after 210 th iteration\n",
      "mean square error:  10.640843703919034 after 211 th iteration\n",
      "mean square error:  10.640842136246322 after 212 th iteration\n",
      "mean square error:  10.64084064323082 after 213 th iteration\n",
      "mean square error:  10.640839221316856 after 214 th iteration\n",
      "mean square error:  10.640837867118142 after 215 th iteration\n",
      "mean square error:  10.640836577409637 after 216 th iteration\n",
      "mean square error:  10.640835349119984 after 217 th iteration\n",
      "mean square error:  10.640834179324077 after 218 th iteration\n",
      "mean square error:  10.640833065236155 after 219 th iteration\n",
      "mean square error:  10.640832004203133 after 220 th iteration\n",
      "mean square error:  10.640830993698309 after 221 th iteration\n",
      "mean square error:  10.640830031315307 after 222 th iteration\n",
      "mean square error:  10.640829114762363 after 223 th iteration\n",
      "mean square error:  10.640828241856912 after 224 th iteration\n",
      "mean square error:  10.640827410520291 after 225 th iteration\n",
      "mean square error:  10.640826618772842 after 226 th iteration\n",
      "mean square error:  10.640825864729216 after 227 th iteration\n",
      "mean square error:  10.640825146593853 after 228 th iteration\n",
      "mean square error:  10.640824462656699 after 229 th iteration\n",
      "mean square error:  10.640823811289145 after 230 th iteration\n",
      "mean square error:  10.640823190940155 after 231 th iteration\n",
      "mean square error:  10.640822600132555 after 232 th iteration\n",
      "mean square error:  10.640822037459518 after 233 th iteration\n",
      "mean square error:  10.640821501581229 after 234 th iteration\n",
      "mean square error:  10.640820991221675 after 235 th iteration\n",
      "mean square error:  10.640820505165598 after 236 th iteration\n",
      "mean square error:  10.640820042255646 after 237 th iteration\n",
      "mean square error:  10.64081960138955 after 238 th iteration\n",
      "mean square error:  10.640819181517562 after 239 th iteration\n",
      "mean square error:  10.640818781639938 after 240 th iteration\n",
      "mean square error:  10.640818400804479 after 241 th iteration\n",
      "mean square error:  10.64081803810441 after 242 th iteration\n",
      "mean square error:  10.640817692676107 after 243 th iteration\n",
      "mean square error:  10.64081736369706 after 244 th iteration\n",
      "mean square error:  10.64081705038397 after 245 th iteration\n",
      "mean square error:  10.640816751990785 after 246 th iteration\n",
      "mean square error:  10.640816467807028 after 247 th iteration\n",
      "mean square error:  10.640816197156017 after 248 th iteration\n",
      "mean square error:  10.640815939393343 after 249 th iteration\n",
      "mean square error:  10.640815693905248 after 250 th iteration\n",
      "mean square error:  10.640815460107214 after 251 th iteration\n",
      "mean square error:  10.640815237442554 after 252 th iteration\n",
      "mean square error:  10.640815025381094 after 253 th iteration\n",
      "mean square error:  10.640814823417912 after 254 th iteration\n",
      "mean square error:  10.640814631072123 after 255 th iteration\n",
      "mean square error:  10.64081444788576 after 256 th iteration\n",
      "mean square error:  10.64081427342263 after 257 th iteration\n",
      "mean square error:  10.640814107267348 after 258 th iteration\n",
      "mean square error:  10.640813949024286 after 259 th iteration\n",
      "mean square error:  10.640813798316687 after 260 th iteration\n",
      "mean square error:  10.640813654785678 after 261 th iteration\n",
      "mean square error:  10.640813518089544 after 262 th iteration\n",
      "mean square error:  10.640813387902789 after 263 th iteration\n",
      "mean square error:  10.640813263915451 after 264 th iteration\n",
      "mean square error:  10.6408131458323 after 265 th iteration\n",
      "mean square error:  10.640813033372199 after 266 th iteration\n",
      "mean square error:  10.640812926267374 after 267 th iteration\n",
      "mean square error:  10.640812824262799 after 268 th iteration\n",
      "mean square error:  10.640812727115623 after 269 th iteration\n",
      "mean square error:  10.640812634594514 after 270 th iteration\n",
      "mean square error:  10.640812546479205 after 271 th iteration\n",
      "mean square error:  10.640812462559875 after 272 th iteration\n",
      "mean square error:  10.640812382636732 after 273 th iteration\n",
      "mean square error:  10.640812306519448 after 274 th iteration\n",
      "mean square error:  10.640812234026836 after 275 th iteration\n",
      "mean square error:  10.640812164986245 after 276 th iteration\n",
      "mean square error:  10.640812099233317 after 277 th iteration\n",
      "mean square error:  10.640812036611496 after 278 th iteration\n",
      "mean square error:  10.64081197697168 after 279 th iteration\n",
      "mean square error:  10.640811920171858 after 280 th iteration\n",
      "mean square error:  10.640811866076803 after 281 th iteration\n",
      "mean square error:  10.640811814557704 after 282 th iteration\n",
      "mean square error:  10.640811765491907 after 283 th iteration\n",
      "mean square error:  10.640811718762576 after 284 th iteration\n",
      "mean square error:  10.640811674258476 after 285 th iteration\n",
      "mean square error:  10.64081163187359 after 286 th iteration\n",
      "mean square error:  10.640811591507056 after 287 th iteration\n",
      "mean square error:  10.640811553062747 after 288 th iteration\n",
      "mean square error:  10.64081151644911 after 289 th iteration\n",
      "mean square error:  10.640811481578995 after 290 th iteration\n",
      "mean square error:  10.640811448369364 after 291 th iteration\n",
      "mean square error:  10.640811416741148 after 292 th iteration\n",
      "mean square error:  10.640811386619033 after 293 th iteration\n",
      "mean square error:  10.640811357931296 after 294 th iteration\n",
      "mean square error:  10.640811330609665 after 295 th iteration\n",
      "mean square error:  10.640811304589063 after 296 th iteration\n",
      "mean square error:  10.640811279807522 after 297 th iteration\n",
      "mean square error:  10.640811256206067 after 298 th iteration\n",
      "mean square error:  10.640811233728497 after 299 th iteration\n",
      "Final weights: [-0.8491937   0.40670858 -0.55523589  0.34857566 -0.35466633  3.10647897\n",
      " -0.30560471 -1.28683014  0.3111288  -0.44575273 -1.8687583   0.78909442\n",
      " -2.7666422   1.50247788]\n",
      "Y_Pred:  [36.09243617 29.11175595 26.84134737  5.61915573 33.75489029  6.43748331\n",
      " 27.1490816  29.44503433 26.74545945 20.59985803]\n",
      "Error:  15.466961507105824\n"
     ]
    }
   ],
   "source": [
    "MSE_points = []\n",
    "num_iterations = 300\n",
    "learning_rate = 0.1\n",
    "w = weights(X_train_standardized, Y_train, num_iterations, learning_rate)\n",
    "print(\"Final weights:\", w)\n",
    "Y_pred = regression_test(X_test_standardized, w)\n",
    "\n",
    "print(\"Y_Pred: \", Y_pred[:10])\n",
    "print(\"Error: \", error_function(Y_test, Y_pred))"
   ]
  },
  {
   "cell_type": "markdown",
   "metadata": {
    "id": "yxtvnGyD96pM"
   },
   "source": [
    "The error on training data was 10.64, whereas on test data it stands at $15.46$."
   ]
  },
  {
   "cell_type": "code",
   "execution_count": 107,
   "metadata": {
    "id": "al0k5oHB96pM",
    "outputId": "0ba8caaa-aa4a-441b-d7b2-061e76d50c95"
   },
   "outputs": [
    {
     "data": {
      "image/png": "[encoded data removed]",
      "text/plain": [
       "<Figure size 1200x500 with 1 Axes>"
      ]
     },
     "metadata": {},
     "output_type": "display_data"
    }
   ],
   "source": [
    "# Plot errors in each iteration\n",
    "plt.figure(figsize=(12,5))\n",
    "plt.plot(MSE_points)\n",
    "plt.title(\"Error in each iteration\")\n",
    "plt.show()"
   ]
  },
  {
   "cell_type": "markdown",
   "metadata": {
    "id": "eHcQIoHb96pN"
   },
   "source": [
    "__Predicted vs Actuals__"
   ]
  },
  {
   "cell_type": "code",
   "execution_count": 108,
   "metadata": {
    "id": "SnQLDvnj96pN",
    "outputId": "6aa0c644-8fb7-42ea-b166-ae6adef61a25"
   },
   "outputs": [
    {
     "data": {
      "image/png": "[encoded data removed]",
      "text/plain": [
       "<Figure size 640x480 with 1 Axes>"
      ]
     },
     "metadata": {},
     "output_type": "display_data"
    }
   ],
   "source": [
    "# Predicted vs Actuals\n",
    "plt.scatter(Y_test, Y_pred)\n",
    "plt.xlim(0,50)\n",
    "plt.ylim(0,50)\n",
    "plt.show()"
   ]
  },
  {
   "cell_type": "markdown",
   "metadata": {
    "id": "wt0fd77a96pN",
    "tags": []
   },
   "source": [
    "### Implementing in scikit-learn\n",
    "\n",
    "The values of the coefficients won't match with what we got, because, sklearn uses a [different solver](https://stackoverflow.com/questions/34469237/linear-regression-and-gradient-descent-in-scikit-learn) ([scipy based OLS solver](https://docs.scipy.org/doc/scipy/reference/generated/scipy.linalg.lstsq.html))."
   ]
  },
  {
   "cell_type": "code",
   "execution_count": 109,
   "metadata": {
    "id": "cXbfYhFw96pN"
   },
   "outputs": [],
   "source": [
    "from sklearn.linear_model import LinearRegression\n",
    "from sklearn.metrics import mean_squared_error"
   ]
  },
  {
   "cell_type": "code",
   "execution_count": 110,
   "metadata": {
    "id": "Dw_WsEQz96pN",
    "outputId": "fb2434f7-c2d4-478c-fd2d-6bb6fada6ae6"
   },
   "outputs": [
    {
     "data": {
      "text/html": [
       "<style>#sk-container-id-1 {color: black;background-color: white;}#sk-container-id-1 pre{padding: 0;}#sk-container-id-1 div.sk-toggleable {background-color: white;}#sk-container-id-1 label.sk-toggleable__label {cursor: pointer;display: block;width: 100%;margin-bottom: 0;padding: 0.3em;box-sizing: border-box;text-align: center;}#sk-container-id-1 label.sk-toggleable__label-arrow:before {content: \"▸\";float: left;margin-right: 0.25em;color: #696969;}#sk-container-id-1 label.sk-toggleable__label-arrow:hover:before {color: black;}#sk-container-id-1 div.sk-estimator:hover label.sk-toggleable__label-arrow:before {color: black;}#sk-container-id-1 div.sk-toggleable__content {max-height: 0;max-width: 0;overflow: hidden;text-align: left;background-color: #f0f8ff;}#sk-container-id-1 div.sk-toggleable__content pre {margin: 0.2em;color: black;border-radius: 0.25em;background-color: #f0f8ff;}#sk-container-id-1 input.sk-toggleable__control:checked~div.sk-toggleable__content {max-height: 200px;max-width: 100%;overflow: auto;}#sk-container-id-1 input.sk-toggleable__control:checked~label.sk-toggleable__label-arrow:before {content: \"▾\";}#sk-container-id-1 div.sk-estimator input.sk-toggleable__control:checked~label.sk-toggleable__label {background-color: #d4ebff;}#sk-container-id-1 div.sk-label input.sk-toggleable__control:checked~label.sk-toggleable__label {background-color: #d4ebff;}#sk-container-id-1 input.sk-hidden--visually {border: 0;clip: rect(1px 1px 1px 1px);clip: rect(1px, 1px, 1px, 1px);height: 1px;margin: -1px;overflow: hidden;padding: 0;position: absolute;width: 1px;}#sk-container-id-1 div.sk-estimator {font-family: monospace;background-color: #f0f8ff;border: 1px dotted black;border-radius: 0.25em;box-sizing: border-box;margin-bottom: 0.5em;}#sk-container-id-1 div.sk-estimator:hover {background-color: #d4ebff;}#sk-container-id-1 div.sk-parallel-item::after {content: \"\";width: 100%;border-bottom: 1px solid gray;flex-grow: 1;}#sk-container-id-1 div.sk-label:hover label.sk-toggleable__label {background-color: #d4ebff;}#sk-container-id-1 div.sk-serial::before {content: \"\";position: absolute;border-left: 1px solid gray;box-sizing: border-box;top: 0;bottom: 0;left: 50%;z-index: 0;}#sk-container-id-1 div.sk-serial {display: flex;flex-direction: column;align-items: center;background-color: white;padding-right: 0.2em;padding-left: 0.2em;position: relative;}#sk-container-id-1 div.sk-item {position: relative;z-index: 1;}#sk-container-id-1 div.sk-parallel {display: flex;align-items: stretch;justify-content: center;background-color: white;position: relative;}#sk-container-id-1 div.sk-item::before, #sk-container-id-1 div.sk-parallel-item::before {content: \"\";position: absolute;border-left: 1px solid gray;box-sizing: border-box;top: 0;bottom: 0;left: 50%;z-index: -1;}#sk-container-id-1 div.sk-parallel-item {display: flex;flex-direction: column;z-index: 1;position: relative;background-color: white;}#sk-container-id-1 div.sk-parallel-item:first-child::after {align-self: flex-end;width: 50%;}#sk-container-id-1 div.sk-parallel-item:last-child::after {align-self: flex-start;width: 50%;}#sk-container-id-1 div.sk-parallel-item:only-child::after {width: 0;}#sk-container-id-1 div.sk-dashed-wrapped {border: 1px dashed gray;margin: 0 0.4em 0.5em 0.4em;box-sizing: border-box;padding-bottom: 0.4em;background-color: white;}#sk-container-id-1 div.sk-label label {font-family: monospace;font-weight: bold;display: inline-block;line-height: 1.2em;}#sk-container-id-1 div.sk-label-container {text-align: center;}#sk-container-id-1 div.sk-container {/* jupyter's `normalize.less` sets `[hidden] { display: none; }` but bootstrap.min.css set `[hidden] { display: none !important; }` so we also need the `!important` here to be able to override the default hidden behavior on the sphinx rendered scikit-learn.org. See: https://github.com/scikit-learn/scikit-learn/issues/21755 */display: inline-block !important;position: relative;}#sk-container-id-1 div.sk-text-repr-fallback {display: none;}</style><div id=\"sk-container-id-1\" class=\"sk-top-container\"><div class=\"sk-text-repr-fallback\"><pre>LinearRegression()</pre><b>In a Jupyter environment, please rerun this cell to show the HTML representation or trust the notebook. <br />On GitHub, the HTML representation is unable to render, please try loading this page with nbviewer.org.</b></div><div class=\"sk-container\" hidden><div class=\"sk-item\"><div class=\"sk-estimator sk-toggleable\"><input class=\"sk-toggleable__control sk-hidden--visually\" id=\"sk-estimator-id-1\" type=\"checkbox\" checked><label for=\"sk-estimator-id-1\" class=\"sk-toggleable__label sk-toggleable__label-arrow\">LinearRegression</label><div class=\"sk-toggleable__content\"><pre>LinearRegression()</pre></div></div></div></div></div>"
      ],
      "text/plain": [
       "LinearRegression()"
      ]
     },
     "execution_count": 110,
     "metadata": {},
     "output_type": "execute_result"
    }
   ],
   "source": [
    "model = LinearRegression(fit_intercept=True)\n",
    "model.fit(X_train_standardized, Y_train)"
   ]
  },
  {
   "cell_type": "code",
   "execution_count": 115,
   "metadata": {
    "id": "YrTArZLW96pO",
    "outputId": "561fc35e-53ff-4999-beda-a1b8ae77c0cf"
   },
   "outputs": [
    {
     "data": {
      "text/plain": [
       "array([-1.31386961,  0.86315147, -0.16744001,  0.18985867, -1.48878331,\n",
       "        2.79544176, -0.32786096, -2.77613856,  2.98007413, -2.27611448,\n",
       "       -2.13691281,  1.0599945 , -3.3398838 ])"
      ]
     },
     "execution_count": 115,
     "metadata": {},
     "output_type": "execute_result"
    }
   ],
   "source": [
    "model.coef_"
   ]
  },
  {
   "cell_type": "code",
   "execution_count": 116,
   "metadata": {},
   "outputs": [
    {
     "data": {
      "text/plain": [
       "22.53716814159296"
      ]
     },
     "execution_count": 116,
     "metadata": {},
     "output_type": "execute_result"
    }
   ],
   "source": [
    "model.intercept_\n"
   ]
  },
  {
   "cell_type": "code",
   "execution_count": 117,
   "metadata": {
    "id": "eyWwycEP96pO",
    "outputId": "e36375ec-5a3b-4544-8718-19e3f89896a3"
   },
   "outputs": [
    {
     "data": {
      "text/html": [
       "<div>\n",
       "<style scoped>\n",
       "    .dataframe tbody tr th:only-of-type {\n",
       "        vertical-align: middle;\n",
       "    }\n",
       "\n",
       "    .dataframe tbody tr th {\n",
       "        vertical-align: top;\n",
       "    }\n",
       "\n",
       "    .dataframe thead th {\n",
       "        text-align: right;\n",
       "    }\n",
       "</style>\n",
       "<table border=\"1\" class=\"dataframe\">\n",
       "  <thead>\n",
       "    <tr style=\"text-align: right;\">\n",
       "      <th></th>\n",
       "      <th>CRIM</th>\n",
       "      <th>ZN</th>\n",
       "      <th>INDUS</th>\n",
       "      <th>CHAS</th>\n",
       "      <th>NOX</th>\n",
       "      <th>RM</th>\n",
       "      <th>AGE</th>\n",
       "      <th>DIS</th>\n",
       "      <th>RAD</th>\n",
       "      <th>TAX</th>\n",
       "      <th>PTRATIO</th>\n",
       "      <th>B</th>\n",
       "      <th>LSTAT</th>\n",
       "    </tr>\n",
       "  </thead>\n",
       "  <tbody>\n",
       "    <tr>\n",
       "      <th>435</th>\n",
       "      <td>0.910493</td>\n",
       "      <td>-0.501677</td>\n",
       "      <td>1.070722</td>\n",
       "      <td>-0.256599</td>\n",
       "      <td>1.631137</td>\n",
       "      <td>0.485317</td>\n",
       "      <td>0.961353</td>\n",
       "      <td>-0.822262</td>\n",
       "      <td>1.652890</td>\n",
       "      <td>1.549809</td>\n",
       "      <td>0.806886</td>\n",
       "      <td>-2.838763</td>\n",
       "      <td>1.520954</td>\n",
       "    </tr>\n",
       "    <tr>\n",
       "      <th>88</th>\n",
       "      <td>-0.411120</td>\n",
       "      <td>-0.501677</td>\n",
       "      <td>-1.128127</td>\n",
       "      <td>-0.256599</td>\n",
       "      <td>-0.551636</td>\n",
       "      <td>1.026561</td>\n",
       "      <td>0.667632</td>\n",
       "      <td>-0.183003</td>\n",
       "      <td>-0.870085</td>\n",
       "      <td>-0.801519</td>\n",
       "      <td>-0.303725</td>\n",
       "      <td>0.426805</td>\n",
       "      <td>-0.993771</td>\n",
       "    </tr>\n",
       "    <tr>\n",
       "      <th>365</th>\n",
       "      <td>0.124399</td>\n",
       "      <td>-0.501677</td>\n",
       "      <td>1.070722</td>\n",
       "      <td>-0.256599</td>\n",
       "      <td>1.439818</td>\n",
       "      <td>-3.907638</td>\n",
       "      <td>0.724253</td>\n",
       "      <td>-1.074367</td>\n",
       "      <td>1.652890</td>\n",
       "      <td>1.549809</td>\n",
       "      <td>0.806886</td>\n",
       "      <td>-0.053275</td>\n",
       "      <td>-0.764516</td>\n",
       "    </tr>\n",
       "    <tr>\n",
       "      <th>242</th>\n",
       "      <td>-0.405609</td>\n",
       "      <td>0.838149</td>\n",
       "      <td>-0.900608</td>\n",
       "      <td>-0.256599</td>\n",
       "      <td>-1.082110</td>\n",
       "      <td>0.097282</td>\n",
       "      <td>-0.514326</td>\n",
       "      <td>1.598147</td>\n",
       "      <td>-0.411362</td>\n",
       "      <td>-0.623388</td>\n",
       "      <td>-0.859031</td>\n",
       "      <td>0.152068</td>\n",
       "      <td>-0.184304</td>\n",
       "    </tr>\n",
       "    <tr>\n",
       "      <th>461</th>\n",
       "      <td>0.021710</td>\n",
       "      <td>-0.501677</td>\n",
       "      <td>1.070722</td>\n",
       "      <td>-0.256599</td>\n",
       "      <td>1.396337</td>\n",
       "      <td>0.123056</td>\n",
       "      <td>0.741947</td>\n",
       "      <td>-0.604214</td>\n",
       "      <td>1.652890</td>\n",
       "      <td>1.549809</td>\n",
       "      <td>0.806886</td>\n",
       "      <td>0.364577</td>\n",
       "      <td>0.301093</td>\n",
       "    </tr>\n",
       "  </tbody>\n",
       "</table>\n",
       "</div>"
      ],
      "text/plain": [
       "         CRIM        ZN     INDUS      CHAS       NOX        RM       AGE  \\\n",
       "435  0.910493 -0.501677  1.070722 -0.256599  1.631137  0.485317  0.961353   \n",
       "88  -0.411120 -0.501677 -1.128127 -0.256599 -0.551636  1.026561  0.667632   \n",
       "365  0.124399 -0.501677  1.070722 -0.256599  1.439818 -3.907638  0.724253   \n",
       "242 -0.405609  0.838149 -0.900608 -0.256599 -1.082110  0.097282 -0.514326   \n",
       "461  0.021710 -0.501677  1.070722 -0.256599  1.396337  0.123056  0.741947   \n",
       "\n",
       "          DIS       RAD       TAX   PTRATIO         B     LSTAT  \n",
       "435 -0.822262  1.652890  1.549809  0.806886 -2.838763  1.520954  \n",
       "88  -0.183003 -0.870085 -0.801519 -0.303725  0.426805 -0.993771  \n",
       "365 -1.074367  1.652890  1.549809  0.806886 -0.053275 -0.764516  \n",
       "242  1.598147 -0.411362 -0.623388 -0.859031  0.152068 -0.184304  \n",
       "461 -0.604214  1.652890  1.549809  0.806886  0.364577  0.301093  "
      ]
     },
     "execution_count": 117,
     "metadata": {},
     "output_type": "execute_result"
    }
   ],
   "source": [
    "X_train_standardized.head()"
   ]
  },
  {
   "cell_type": "markdown",
   "metadata": {
    "id": "tGRDzQWV96pO"
   },
   "source": [
    "__Predict and check error on test dataset__"
   ]
  },
  {
   "cell_type": "code",
   "execution_count": 118,
   "metadata": {
    "id": "fEaQ1du396pO",
    "outputId": "37bb753e-37d6-457c-86df-f5d86fc6f929"
   },
   "outputs": [
    {
     "data": {
      "text/plain": [
       "array([37.47, 31.39, 27.12,  6.47, 33.63,  5.67, 27.04, 29.93, 26.36,\n",
       "       22.45])"
      ]
     },
     "execution_count": 118,
     "metadata": {},
     "output_type": "execute_result"
    }
   ],
   "source": [
    "Y_pred2 = model.predict(X_test_standardized).round(2)\n",
    "Y_pred2[:10]"
   ]
  },
  {
   "cell_type": "code",
   "execution_count": 119,
   "metadata": {
    "id": "Y80mPe9X96pP",
    "outputId": "0a45fd69-c0e3-49d0-b2d1-0c90904c5baa"
   },
   "outputs": [
    {
     "data": {
      "text/plain": [
       "14.265981137724552"
      ]
     },
     "execution_count": 119,
     "metadata": {},
     "output_type": "execute_result"
    }
   ],
   "source": [
    "mean_squared_error(Y_pred2, Y_test)/2"
   ]
  },
  {
   "cell_type": "markdown",
   "metadata": {
    "id": "sV7Wg8sN96pP"
   },
   "source": [
    "__Check error on training dataset__"
   ]
  },
  {
   "cell_type": "code",
   "execution_count": null,
   "metadata": {
    "id": "zFmYRdIX96pP",
    "outputId": "b6514858-0ed6-48c1-af34-dd0e7b811c01"
   },
   "outputs": [
    {
     "data": {
      "text/plain": [
       "9.773247345132743"
      ]
     },
     "execution_count": 34,
     "metadata": {},
     "output_type": "execute_result"
    }
   ],
   "source": [
    "Y_trainpred = model.predict(X_train_standardized).round(2)\n",
    "mean_squared_error(Y_trainpred, Y_train)/2"
   ]
  },
  {
   "cell_type": "code",
   "execution_count": null,
   "metadata": {
    "id": "nulC9cCA96pP",
    "outputId": "aafacc0a-b02f-4951-9608-7bc207b712ab"
   },
   "outputs": [
    {
     "data": {
      "image/png": "[encoded data removed]",
      "text/plain": [
       "<Figure size 432x288 with 1 Axes>"
      ]
     },
     "metadata": {
      "needs_background": "light"
     },
     "output_type": "display_data"
    }
   ],
   "source": [
    "# Predicted vs Actuals\n",
    "plt.scatter(Y_test, Y_pred2)\n",
    "plt.xlim(0,50)\n",
    "plt.ylim(0,50)\n",
    "plt.show()"
   ]
  }
 ],
 "metadata": {
  "colab": {
   "collapsed_sections": [],
   "name": "1_linear_regression_scratch.ipynb",
   "provenance": []
  },
  "kernelspec": {
   "display_name": "Python 3 (ipykernel)",
   "language": "python",
   "name": "python3"
  },
  "language_info": {
   "codemirror_mode": {
    "name": "ipython",
    "version": 3
   },
   "file_extension": ".py",
   "mimetype": "text/x-python",
   "name": "python",
   "nbconvert_exporter": "python",
   "pygments_lexer": "ipython3",
   "version": "3.11.3"
  },
  "toc": {
   "base_numbering": 1,
   "nav_menu": {},
   "number_sections": true,
   "sideBar": true,
   "skip_h1_title": false,
   "title_cell": "Table of Contents",
   "title_sidebar": "Contents",
   "toc_cell": false,
   "toc_position": {},
   "toc_section_display": true,
   "toc_window_display": false
  }
 },
 "nbformat": 4,
 "nbformat_minor": 1
}
