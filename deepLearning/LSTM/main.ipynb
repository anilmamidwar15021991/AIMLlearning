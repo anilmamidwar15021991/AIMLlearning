{
 "cells": [
  {
   "cell_type": "markdown",
   "id": "605b1fe6-ad72-4324-b5c8-13a157be9021",
   "metadata": {},
   "source": [
    "##  LSTM learning\n",
    "* steps to perform LSTM "
   ]
  },
  {
   "cell_type": "code",
   "execution_count": null,
   "id": "94ae000b-8a5a-4e69-9b76-de3aedf412de",
   "metadata": {},
   "outputs": [],
   "source": []
  }
 ],
 "metadata": {
  "kernelspec": {
   "display_name": "Python 3 (ipykernel)",
   "language": "python",
   "name": "python3"
  },
  "language_info": {
   "codemirror_mode": {
    "name": "ipython",
    "version": 3
   },
   "file_extension": ".py",
   "mimetype": "text/x-python",
   "name": "python",
   "nbconvert_exporter": "python",
   "pygments_lexer": "ipython3",
   "version": "3.11.7"
  }
 },
 "nbformat": 4,
 "nbformat_minor": 5
}
