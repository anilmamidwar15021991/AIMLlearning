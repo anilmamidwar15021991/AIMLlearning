{
 "cells": [
  {
   "cell_type": "code",
   "execution_count": 1,
   "id": "aac55ed3-2434-44bf-b6fb-b6cc30caafac",
   "metadata": {
    "tags": []
   },
   "outputs": [],
   "source": [
    "#!pip install tensorflow\n",
    "#!pip install keras-tuner"
   ]
  },
  {
   "cell_type": "code",
   "execution_count": 120,
   "id": "6fd7f292-1a26-48af-a178-2fd5f957af88",
   "metadata": {
    "tags": []
   },
   "outputs": [],
   "source": [
    "import numpy as np\n",
    "import tensorflow as tf\n",
    "import pandas as pd\n",
    "import os\n",
    "os.environ['KERAS_BACKEND']='tf'\n",
    "import keras\n",
    "import keras_tuner "
   ]
  },
  {
   "cell_type": "code",
   "execution_count": 121,
   "id": "91acd77d-4ffa-477e-baf7-80a1d6fabd05",
   "metadata": {
    "tags": []
   },
   "outputs": [
    {
     "name": "stdout",
     "output_type": "stream",
     "text": [
      "2.13.1\n",
      "2.13.0\n"
     ]
    }
   ],
   "source": [
    "print(keras.__version__)\n",
    "print(tf.__version__)"
   ]
  },
  {
   "cell_type": "code",
   "execution_count": 122,
   "id": "c1733976-32e4-48ad-9b4e-71249c6b3058",
   "metadata": {
    "tags": []
   },
   "outputs": [],
   "source": [
    "from keras import layers\n",
    "from kerastuner.tuners import RandomSearch\n",
    "from keras.models import Sequential\n",
    "from keras.layers import Dense\n",
    "    \n"
   ]
  },
  {
   "cell_type": "code",
   "execution_count": 123,
   "id": "894f45f8-9560-4749-a382-560457874c75",
   "metadata": {
    "tags": []
   },
   "outputs": [
    {
     "data": {
      "text/html": [
       "<div>\n",
       "<style scoped>\n",
       "    .dataframe tbody tr th:only-of-type {\n",
       "        vertical-align: middle;\n",
       "    }\n",
       "\n",
       "    .dataframe tbody tr th {\n",
       "        vertical-align: top;\n",
       "    }\n",
       "\n",
       "    .dataframe thead th {\n",
       "        text-align: right;\n",
       "    }\n",
       "</style>\n",
       "<table border=\"1\" class=\"dataframe\">\n",
       "  <thead>\n",
       "    <tr style=\"text-align: right;\">\n",
       "      <th></th>\n",
       "      <th>car_ID</th>\n",
       "      <th>symboling</th>\n",
       "      <th>wheelbase</th>\n",
       "      <th>carlength</th>\n",
       "      <th>carwidth</th>\n",
       "      <th>curbweight</th>\n",
       "      <th>enginesize</th>\n",
       "      <th>boreratio</th>\n",
       "      <th>stroke</th>\n",
       "      <th>compressionratio</th>\n",
       "      <th>...</th>\n",
       "      <th>encoded_CarName</th>\n",
       "      <th>encoded_fueltype</th>\n",
       "      <th>encoded_aspiration</th>\n",
       "      <th>encoded_doornumber</th>\n",
       "      <th>encoded_carbody</th>\n",
       "      <th>encoded_drivewheel</th>\n",
       "      <th>encoded_enginelocation</th>\n",
       "      <th>encoded_enginetype</th>\n",
       "      <th>encoded_cylindernumber</th>\n",
       "      <th>encoded_fuelsystem</th>\n",
       "    </tr>\n",
       "  </thead>\n",
       "  <tbody>\n",
       "    <tr>\n",
       "      <th>0</th>\n",
       "      <td>1</td>\n",
       "      <td>3</td>\n",
       "      <td>88.6</td>\n",
       "      <td>168.8</td>\n",
       "      <td>64.1</td>\n",
       "      <td>2548</td>\n",
       "      <td>130.0</td>\n",
       "      <td>3.47</td>\n",
       "      <td>2.68</td>\n",
       "      <td>9.0</td>\n",
       "      <td>...</td>\n",
       "      <td>13296.555064</td>\n",
       "      <td>13013.998834</td>\n",
       "      <td>12648.655088</td>\n",
       "      <td>13018.602727</td>\n",
       "      <td>16506.881607</td>\n",
       "      <td>19139.402392</td>\n",
       "      <td>12975.984777</td>\n",
       "      <td>15916.550259</td>\n",
       "      <td>10462.734353</td>\n",
       "      <td>17324.036276</td>\n",
       "    </tr>\n",
       "    <tr>\n",
       "      <th>1</th>\n",
       "      <td>2</td>\n",
       "      <td>3</td>\n",
       "      <td>88.6</td>\n",
       "      <td>168.8</td>\n",
       "      <td>64.1</td>\n",
       "      <td>2548</td>\n",
       "      <td>130.0</td>\n",
       "      <td>3.47</td>\n",
       "      <td>2.68</td>\n",
       "      <td>9.0</td>\n",
       "      <td>...</td>\n",
       "      <td>13569.736882</td>\n",
       "      <td>13013.998834</td>\n",
       "      <td>12648.655088</td>\n",
       "      <td>13018.602727</td>\n",
       "      <td>16506.881607</td>\n",
       "      <td>19139.402392</td>\n",
       "      <td>12975.984777</td>\n",
       "      <td>15916.550259</td>\n",
       "      <td>10462.734353</td>\n",
       "      <td>17324.036276</td>\n",
       "    </tr>\n",
       "    <tr>\n",
       "      <th>2</th>\n",
       "      <td>3</td>\n",
       "      <td>1</td>\n",
       "      <td>94.5</td>\n",
       "      <td>171.2</td>\n",
       "      <td>65.5</td>\n",
       "      <td>2823</td>\n",
       "      <td>152.0</td>\n",
       "      <td>2.68</td>\n",
       "      <td>3.47</td>\n",
       "      <td>9.0</td>\n",
       "      <td>...</td>\n",
       "      <td>13569.736882</td>\n",
       "      <td>13013.998834</td>\n",
       "      <td>12648.655088</td>\n",
       "      <td>13018.602727</td>\n",
       "      <td>10739.159659</td>\n",
       "      <td>19139.402392</td>\n",
       "      <td>12975.984777</td>\n",
       "      <td>19958.526335</td>\n",
       "      <td>20614.444286</td>\n",
       "      <td>17324.036276</td>\n",
       "    </tr>\n",
       "    <tr>\n",
       "      <th>3</th>\n",
       "      <td>4</td>\n",
       "      <td>2</td>\n",
       "      <td>99.8</td>\n",
       "      <td>176.6</td>\n",
       "      <td>66.2</td>\n",
       "      <td>2337</td>\n",
       "      <td>109.0</td>\n",
       "      <td>3.19</td>\n",
       "      <td>3.40</td>\n",
       "      <td>10.0</td>\n",
       "      <td>...</td>\n",
       "      <td>13337.918701</td>\n",
       "      <td>13013.998834</td>\n",
       "      <td>12648.655088</td>\n",
       "      <td>13483.196846</td>\n",
       "      <td>14243.557601</td>\n",
       "      <td>9549.877736</td>\n",
       "      <td>12975.984777</td>\n",
       "      <td>11681.811853</td>\n",
       "      <td>10462.734353</td>\n",
       "      <td>17324.036276</td>\n",
       "    </tr>\n",
       "    <tr>\n",
       "      <th>4</th>\n",
       "      <td>5</td>\n",
       "      <td>2</td>\n",
       "      <td>99.4</td>\n",
       "      <td>176.6</td>\n",
       "      <td>66.4</td>\n",
       "      <td>2824</td>\n",
       "      <td>136.0</td>\n",
       "      <td>3.19</td>\n",
       "      <td>3.40</td>\n",
       "      <td>8.0</td>\n",
       "      <td>...</td>\n",
       "      <td>13993.925476</td>\n",
       "      <td>13013.998834</td>\n",
       "      <td>12648.655088</td>\n",
       "      <td>13483.196846</td>\n",
       "      <td>14243.557601</td>\n",
       "      <td>12239.698564</td>\n",
       "      <td>12975.984777</td>\n",
       "      <td>11681.811853</td>\n",
       "      <td>17652.489177</td>\n",
       "      <td>17324.036276</td>\n",
       "    </tr>\n",
       "  </tbody>\n",
       "</table>\n",
       "<p>5 rows × 26 columns</p>\n",
       "</div>"
      ],
      "text/plain": [
       "   car_ID  symboling  wheelbase  carlength  carwidth  curbweight  enginesize  \\\n",
       "0       1          3       88.6      168.8      64.1        2548       130.0   \n",
       "1       2          3       88.6      168.8      64.1        2548       130.0   \n",
       "2       3          1       94.5      171.2      65.5        2823       152.0   \n",
       "3       4          2       99.8      176.6      66.2        2337       109.0   \n",
       "4       5          2       99.4      176.6      66.4        2824       136.0   \n",
       "\n",
       "   boreratio  stroke  compressionratio  ...  encoded_CarName  \\\n",
       "0       3.47    2.68               9.0  ...     13296.555064   \n",
       "1       3.47    2.68               9.0  ...     13569.736882   \n",
       "2       2.68    3.47               9.0  ...     13569.736882   \n",
       "3       3.19    3.40              10.0  ...     13337.918701   \n",
       "4       3.19    3.40               8.0  ...     13993.925476   \n",
       "\n",
       "   encoded_fueltype  encoded_aspiration  encoded_doornumber  encoded_carbody  \\\n",
       "0      13013.998834        12648.655088        13018.602727     16506.881607   \n",
       "1      13013.998834        12648.655088        13018.602727     16506.881607   \n",
       "2      13013.998834        12648.655088        13018.602727     10739.159659   \n",
       "3      13013.998834        12648.655088        13483.196846     14243.557601   \n",
       "4      13013.998834        12648.655088        13483.196846     14243.557601   \n",
       "\n",
       "   encoded_drivewheel  encoded_enginelocation  encoded_enginetype  \\\n",
       "0        19139.402392            12975.984777        15916.550259   \n",
       "1        19139.402392            12975.984777        15916.550259   \n",
       "2        19139.402392            12975.984777        19958.526335   \n",
       "3         9549.877736            12975.984777        11681.811853   \n",
       "4        12239.698564            12975.984777        11681.811853   \n",
       "\n",
       "   encoded_cylindernumber  encoded_fuelsystem  \n",
       "0            10462.734353        17324.036276  \n",
       "1            10462.734353        17324.036276  \n",
       "2            20614.444286        17324.036276  \n",
       "3            10462.734353        17324.036276  \n",
       "4            17652.489177        17324.036276  \n",
       "\n",
       "[5 rows x 26 columns]"
      ]
     },
     "execution_count": 123,
     "metadata": {},
     "output_type": "execute_result"
    }
   ],
   "source": [
    "#read input csv - regression problem\n",
    "df=pd.read_csv('carPrice_cleanedDf.csv')\n",
    "df.head()"
   ]
  },
  {
   "cell_type": "code",
   "execution_count": 124,
   "id": "0529cf47-725e-4c80-a807-2969e60ddf1b",
   "metadata": {
    "tags": []
   },
   "outputs": [],
   "source": [
    "X=df.drop(columns='price')"
   ]
  },
  {
   "cell_type": "code",
   "execution_count": 125,
   "id": "4ab1bfd3-a2d2-47d3-b1c9-ab3589f8d96a",
   "metadata": {
    "tags": []
   },
   "outputs": [],
   "source": [
    "y=df.price"
   ]
  },
  {
   "cell_type": "code",
   "execution_count": 129,
   "id": "325c1d2c-1f1b-4853-b200-afb6a23ba369",
   "metadata": {},
   "outputs": [],
   "source": [
    "#model uilding using hyperparameters\n",
    "def build_model(hp):\n",
    "    model=Sequential()\n",
    "    for i in range(hp.Int('num_layers',2,20)):\n",
    "        print(i)\n",
    "        print(hp.Int('num_layers',2,20))\n",
    "        model.add(Dense(units=hp.Int('units_'+str(i),\n",
    "                                     min_value=32,\n",
    "                                     max_value=512,\n",
    "                                     step=32),activation='relu'))\n",
    "        print('units_'+str(i))\n",
    "    model.add(Dense(1,activation='linear'))\n",
    "    model.compile(keras.optimizers.Adam(hp.Choice('learning_rate',[0.01,0.001,0.0001])),\n",
    "                      loss='mean_absolute_error',\n",
    "                      metrics=['mean_absolute_error'])\n",
    "        \n",
    "    return model\n",
    "                        \n",
    "                        "
   ]
  },
  {
   "cell_type": "code",
   "execution_count": 131,
   "id": "65b19d2e-986d-47ee-b21d-07f026a5f56d",
   "metadata": {
    "tags": []
   },
   "outputs": [
    {
     "name": "stdout",
     "output_type": "stream",
     "text": [
      "Reloading Tuner from keras_tuner\\untitled_project\\tuner0.json\n"
     ]
    }
   ],
   "source": [
    "#hyperparameter tuner\n",
    "tuner=RandomSearch(build_model,\n",
    "                   objective='val_mean_absolute_error',\n",
    "                   max_trials=10,\n",
    "                   max_retries_per_trial=3,\n",
    "                   directory='keras_tuner'\n",
    "                   )"
   ]
  },
  {
   "cell_type": "code",
   "execution_count": 78,
   "id": "c3061501-c9ef-414e-8a88-dedd414cf4f2",
   "metadata": {
    "tags": []
   },
   "outputs": [
    {
     "name": "stdout",
     "output_type": "stream",
     "text": [
      "Search space summary\n",
      "Default search space size: 4\n",
      "num_layers (Int)\n",
      "{'default': None, 'conditions': [], 'min_value': 2, 'max_value': 20, 'step': 1, 'sampling': 'linear'}\n",
      "units_0 (Int)\n",
      "{'default': None, 'conditions': [], 'min_value': 32, 'max_value': 512, 'step': 32, 'sampling': 'linear'}\n",
      "units_1 (Int)\n",
      "{'default': None, 'conditions': [], 'min_value': 32, 'max_value': 512, 'step': 32, 'sampling': 'linear'}\n",
      "learning_rate (Choice)\n",
      "{'default': 0.01, 'conditions': [], 'values': [0.01, 0.001, 0.0001], 'ordered': True}\n"
     ]
    }
   ],
   "source": [
    "tuner.search_space_summary()"
   ]
  },
  {
   "cell_type": "code",
   "execution_count": 79,
   "id": "4068095d-1037-4873-af4a-d301ac3ccdf8",
   "metadata": {
    "tags": []
   },
   "outputs": [],
   "source": [
    "from sklearn.preprocessing import StandardScaler\n",
    "from sklearn.model_selection import train_test_split\n",
    "\n",
    "X_train,X_test,y_train,y_test=train_test_split(X,y,test_size=0.3,random_state=2024)\n"
   ]
  },
  {
   "cell_type": "code",
   "execution_count": 80,
   "id": "ba9ded49-a7f7-4de6-9da3-821c953ed8b4",
   "metadata": {
    "tags": []
   },
   "outputs": [],
   "source": [
    "sc=StandardScaler()\n",
    "X_train=sc.fit_transform(X_train)\n",
    "X_test=sc.fit_transform(X_test)"
   ]
  },
  {
   "cell_type": "code",
   "execution_count": 81,
   "id": "6f00f29b-4b5e-42fc-b2e6-e7184e798c7d",
   "metadata": {
    "tags": []
   },
   "outputs": [
    {
     "data": {
      "text/plain": [
       "108    13200.0\n",
       "80      9959.0\n",
       "25      6692.0\n",
       "4      17450.0\n",
       "115    16630.0\n",
       "        ...   \n",
       "36      7295.0\n",
       "27      8558.0\n",
       "128    37028.0\n",
       "96      7499.0\n",
       "136    18150.0\n",
       "Name: price, Length: 143, dtype: float64"
      ]
     },
     "execution_count": 81,
     "metadata": {},
     "output_type": "execute_result"
    }
   ],
   "source": [
    "y_train"
   ]
  },
  {
   "cell_type": "code",
   "execution_count": 82,
   "id": "bc3f151c-dec3-4329-b331-c5f8403c9a3b",
   "metadata": {
    "tags": []
   },
   "outputs": [],
   "source": [
    "#reshaping the y_train for 1d to 2d as standard scaler require a 2d array\n",
    "y_train=np.array(y_train).reshape(-1,1)\n",
    "y_train=sc.fit_transform(y_train)"
   ]
  },
  {
   "cell_type": "code",
   "execution_count": 83,
   "id": "d1774e7b-2de7-4546-a50e-eac7251bcdcf",
   "metadata": {
    "tags": []
   },
   "outputs": [],
   "source": [
    "y_test=np.array(y_test).reshape(-1,1)\n",
    "y_test=sc.fit_transform(y_test)"
   ]
  },
  {
   "cell_type": "code",
   "execution_count": 84,
   "id": "ad6f297d-289a-4a0b-9b26-ed3b504cdf14",
   "metadata": {
    "tags": []
   },
   "outputs": [],
   "source": [
    "from keras.callbacks import EarlyStopping\n",
    "#earlystopping is used when we don't know how many epochs needs to be used to optimize the model so early stopping will stop after sertain epochs when there is no\n",
    "#imporvment in validation score\n",
    "early_stopping_monitor=EarlyStopping(patience=2)\n",
    "\n"
   ]
  },
  {
   "cell_type": "code",
   "execution_count": 85,
   "id": "9698a65b-746b-4a57-8cd7-7433f4986814",
   "metadata": {
    "tags": []
   },
   "outputs": [
    {
     "name": "stdout",
     "output_type": "stream",
     "text": [
      "Trial 10 Complete [00h 00m 22s]\n",
      "val_mean_absolute_error: 0.26044273376464844\n",
      "\n",
      "Best val_mean_absolute_error So Far: 0.1268094778060913\n",
      "Total elapsed time: 00h 02m 54s\n"
     ]
    }
   ],
   "source": [
    "tuner.search(X_train,y_train,epochs=500,validation_data=(X_test,y_test),callbacks=[early_stopping_monitor])"
   ]
  },
  {
   "cell_type": "code",
   "execution_count": 86,
   "id": "71e1b205-8c8e-4fb7-bb86-2f3905e736ec",
   "metadata": {
    "tags": []
   },
   "outputs": [
    {
     "name": "stdout",
     "output_type": "stream",
     "text": [
      "Results summary\n",
      "Results in keras_tuner\\untitled_project\n",
      "Showing 10 best trials\n",
      "Objective(name=\"val_mean_absolute_error\", direction=\"min\")\n",
      "\n",
      "Trial 00 summary\n",
      "Hyperparameters:\n",
      "num_layers: 9\n",
      "units_0: 352\n",
      "units_1: 320\n",
      "learning_rate: 0.001\n",
      "units_2: 32\n",
      "units_3: 32\n",
      "units_4: 32\n",
      "units_5: 32\n",
      "units_6: 32\n",
      "units_7: 32\n",
      "units_8: 32\n",
      "Score: 0.1268094778060913\n",
      "\n",
      "Trial 02 summary\n",
      "Hyperparameters:\n",
      "num_layers: 8\n",
      "units_0: 288\n",
      "units_1: 224\n",
      "learning_rate: 0.001\n",
      "units_2: 128\n",
      "units_3: 512\n",
      "units_4: 480\n",
      "units_5: 32\n",
      "units_6: 416\n",
      "units_7: 480\n",
      "units_8: 352\n",
      "Score: 0.13036967813968658\n",
      "\n",
      "Trial 05 summary\n",
      "Hyperparameters:\n",
      "num_layers: 8\n",
      "units_0: 160\n",
      "units_1: 320\n",
      "learning_rate: 0.001\n",
      "units_2: 160\n",
      "units_3: 288\n",
      "units_4: 96\n",
      "units_5: 32\n",
      "units_6: 288\n",
      "units_7: 480\n",
      "units_8: 64\n",
      "units_9: 512\n",
      "units_10: 384\n",
      "units_11: 448\n",
      "units_12: 288\n",
      "units_13: 384\n",
      "units_14: 512\n",
      "units_15: 448\n",
      "units_16: 352\n",
      "units_17: 256\n",
      "units_18: 288\n",
      "units_19: 480\n",
      "Score: 0.1331872195005417\n",
      "\n",
      "Trial 06 summary\n",
      "Hyperparameters:\n",
      "num_layers: 13\n",
      "units_0: 192\n",
      "units_1: 96\n",
      "learning_rate: 0.001\n",
      "units_2: 128\n",
      "units_3: 160\n",
      "units_4: 384\n",
      "units_5: 224\n",
      "units_6: 256\n",
      "units_7: 64\n",
      "units_8: 480\n",
      "units_9: 256\n",
      "units_10: 288\n",
      "units_11: 384\n",
      "units_12: 32\n",
      "units_13: 480\n",
      "units_14: 448\n",
      "units_15: 96\n",
      "units_16: 480\n",
      "units_17: 448\n",
      "units_18: 480\n",
      "units_19: 128\n",
      "Score: 0.14573971927165985\n",
      "\n",
      "Trial 04 summary\n",
      "Hyperparameters:\n",
      "num_layers: 13\n",
      "units_0: 128\n",
      "units_1: 128\n",
      "learning_rate: 0.0001\n",
      "units_2: 128\n",
      "units_3: 352\n",
      "units_4: 480\n",
      "units_5: 512\n",
      "units_6: 352\n",
      "units_7: 192\n",
      "units_8: 32\n",
      "units_9: 288\n",
      "units_10: 128\n",
      "units_11: 96\n",
      "units_12: 288\n",
      "units_13: 128\n",
      "units_14: 64\n",
      "units_15: 448\n",
      "units_16: 224\n",
      "units_17: 160\n",
      "units_18: 224\n",
      "units_19: 320\n",
      "Score: 0.17221958935260773\n",
      "\n",
      "Trial 08 summary\n",
      "Hyperparameters:\n",
      "num_layers: 9\n",
      "units_0: 512\n",
      "units_1: 224\n",
      "learning_rate: 0.01\n",
      "units_2: 96\n",
      "units_3: 480\n",
      "units_4: 96\n",
      "units_5: 192\n",
      "units_6: 384\n",
      "units_7: 384\n",
      "units_8: 512\n",
      "units_9: 256\n",
      "units_10: 416\n",
      "units_11: 96\n",
      "units_12: 320\n",
      "units_13: 384\n",
      "units_14: 192\n",
      "units_15: 480\n",
      "units_16: 480\n",
      "units_17: 32\n",
      "units_18: 32\n",
      "units_19: 416\n",
      "Score: 0.1873447448015213\n",
      "\n",
      "Trial 09 summary\n",
      "Hyperparameters:\n",
      "num_layers: 19\n",
      "units_0: 192\n",
      "units_1: 416\n",
      "learning_rate: 0.001\n",
      "units_2: 288\n",
      "units_3: 64\n",
      "units_4: 256\n",
      "units_5: 64\n",
      "units_6: 224\n",
      "units_7: 64\n",
      "units_8: 192\n",
      "units_9: 128\n",
      "units_10: 384\n",
      "units_11: 480\n",
      "units_12: 160\n",
      "units_13: 288\n",
      "units_14: 128\n",
      "units_15: 224\n",
      "units_16: 448\n",
      "units_17: 512\n",
      "units_18: 128\n",
      "units_19: 512\n",
      "Score: 0.26044273376464844\n",
      "\n",
      "Trial 01 summary\n",
      "Hyperparameters:\n",
      "num_layers: 5\n",
      "units_0: 480\n",
      "units_1: 128\n",
      "learning_rate: 0.01\n",
      "units_2: 416\n",
      "units_3: 256\n",
      "units_4: 96\n",
      "units_5: 384\n",
      "units_6: 480\n",
      "units_7: 128\n",
      "units_8: 192\n",
      "Score: 0.2946928143501282\n",
      "\n",
      "Trial 07 summary\n",
      "Hyperparameters:\n",
      "num_layers: 13\n",
      "units_0: 352\n",
      "units_1: 128\n",
      "learning_rate: 0.001\n",
      "units_2: 320\n",
      "units_3: 288\n",
      "units_4: 128\n",
      "units_5: 256\n",
      "units_6: 96\n",
      "units_7: 384\n",
      "units_8: 256\n",
      "units_9: 512\n",
      "units_10: 288\n",
      "units_11: 128\n",
      "units_12: 224\n",
      "units_13: 96\n",
      "units_14: 64\n",
      "units_15: 256\n",
      "units_16: 64\n",
      "units_17: 320\n",
      "units_18: 480\n",
      "units_19: 32\n",
      "Score: 0.2972036898136139\n",
      "\n",
      "Trial 03 summary\n",
      "Hyperparameters:\n",
      "num_layers: 20\n",
      "units_0: 288\n",
      "units_1: 320\n",
      "learning_rate: 0.001\n",
      "units_2: 480\n",
      "units_3: 416\n",
      "units_4: 32\n",
      "units_5: 480\n",
      "units_6: 352\n",
      "units_7: 64\n",
      "units_8: 448\n",
      "units_9: 32\n",
      "units_10: 32\n",
      "units_11: 32\n",
      "units_12: 32\n",
      "units_13: 32\n",
      "units_14: 32\n",
      "units_15: 32\n",
      "units_16: 32\n",
      "units_17: 32\n",
      "units_18: 32\n",
      "units_19: 32\n",
      "Score: 0.42010989785194397\n"
     ]
    }
   ],
   "source": [
    "tuner.results_summary()\n"
   ]
  },
  {
   "cell_type": "code",
   "execution_count": null,
   "id": "5123143d-f561-4d5a-8a57-92f0f9c8916d",
   "metadata": {},
   "outputs": [],
   "source": []
  }
 ],
 "metadata": {
  "kernelspec": {
   "display_name": "Python 3 (ipykernel)",
   "language": "python",
   "name": "python3"
  },
  "language_info": {
   "codemirror_mode": {
    "name": "ipython",
    "version": 3
   },
   "file_extension": ".py",
   "mimetype": "text/x-python",
   "name": "python",
   "nbconvert_exporter": "python",
   "pygments_lexer": "ipython3",
   "version": "3.11.7"
  }
 },
 "nbformat": 4,
 "nbformat_minor": 5
}
