{
 "cells": [
  {
   "cell_type": "code",
   "execution_count": 12,
   "id": "a30d5910-a772-49a9-812f-0b2589890741",
   "metadata": {
    "tags": []
   },
   "outputs": [],
   "source": [
    "import nltk\n",
    "from nltk.stem import PorterStemmer\n",
    "from nltk.corpus import stopwords"
   ]
  },
  {
   "cell_type": "code",
   "execution_count": 13,
   "id": "666cb49b-7cfa-4196-ba61-a9f934c42a51",
   "metadata": {
    "tags": []
   },
   "outputs": [],
   "source": [
    "para=\"\"\"\n",
    "Uppalapati Venkata Suryanarayana Prabhas Raju ([pɾabʱaːs] born 23 October 1979) is an Indian actor who predominantly works in Telugu cinema. One of the highest-paid actors in Indian cinema,[4] Prabhas has featured in Forbes India's Celebrity 100 list since 2015[5][6][7] and has received seven Filmfare Awards nominations, a Nandi Award, and a SIIMA Award.\n",
    "\n",
    "Prabhas made his acting debut with the 2002 drama Eeswar, and later attained his breakthrough with the action romance Varsham (2004). His notable works include Chatrapathi (2005), Bujjigadu (2008), Billa (2009), Darling (2010), Mr. Perfect (2011), and Mirchi (2013), winning the Nandi Award for Best Actor for his performance in the lattermost.[8][9]\n",
    "\n",
    "In 2015, Prabhas portrayed the title role in S. S. Rajamouli's epic action drama Baahubali: The Beginning, which is the thirteenth-highest-grossing Indian film to date. He later reprised his role in its sequel, Baahubali 2: The Conclusion (2017), which became the first Indian film ever to gross over ₹1,000 crore (US$155 million) in all languages in just ten days and is the second-highest-grossing Indian film to date, helping Prabhas achieve international recognition.[10][11] He achieved further commercial success with the pan-Indian action thrillers Saaho (2019) and Salaar: Part 1 – Ceasefire (2023).\n",
    "\"\"\""
   ]
  },
  {
   "cell_type": "code",
   "execution_count": 14,
   "id": "b5b77dcc-80a6-416b-bb48-db5668f74d44",
   "metadata": {
    "tags": []
   },
   "outputs": [
    {
     "name": "stderr",
     "output_type": "stream",
     "text": [
      "[nltk_data] Downloading package punkt to\n",
      "[nltk_data]     C:\\Users\\maste\\AppData\\Roaming\\nltk_data...\n",
      "[nltk_data]   Package punkt is already up-to-date!\n",
      "[nltk_data] Downloading package stopwords to\n",
      "[nltk_data]     C:\\Users\\maste\\AppData\\Roaming\\nltk_data...\n",
      "[nltk_data]   Package stopwords is already up-to-date!\n"
     ]
    },
    {
     "data": {
      "text/plain": [
       "True"
      ]
     },
     "execution_count": 14,
     "metadata": {},
     "output_type": "execute_result"
    }
   ],
   "source": [
    "nltk.download('punkt')\n",
    "nltk.download('stopwords')"
   ]
  },
  {
   "cell_type": "code",
   "execution_count": 34,
   "id": "48e1c7ac-196e-4f89-a698-a01a70545ff6",
   "metadata": {
    "tags": []
   },
   "outputs": [
    {
     "data": {
      "text/plain": [
       "['\\nUppalapati Venkata Suryanarayana Prabhas Raju ([pɾabʱaːs] born 23 October 1979) is an Indian actor who predominantly works in Telugu cinema.',\n",
       " \"One of the highest-paid actors in Indian cinema,[4] Prabhas has featured in Forbes India's Celebrity 100 list since 2015[5][6][7] and has received seven Filmfare Awards nominations, a Nandi Award, and a SIIMA Award.\",\n",
       " 'Prabhas made his acting debut with the 2002 drama Eeswar, and later attained his breakthrough with the action romance Varsham (2004).',\n",
       " 'His notable works include Chatrapathi (2005), Bujjigadu (2008), Billa (2009), Darling (2010), Mr.',\n",
       " 'Perfect (2011), and Mirchi (2013), winning the Nandi Award for Best Actor for his performance in the lattermost.',\n",
       " \"[8][9]\\n\\nIn 2015, Prabhas portrayed the title role in S. S. Rajamouli's epic action drama Baahubali: The Beginning, which is the thirteenth-highest-grossing Indian film to date.\",\n",
       " 'He later reprised his role in its sequel, Baahubali 2: The Conclusion (2017), which became the first Indian film ever to gross over ₹1,000 crore (US$155 million) in all languages in just ten days and is the second-highest-grossing Indian film to date, helping Prabhas achieve international recognition.',\n",
       " '[10][11] He achieved further commercial success with the pan-Indian action thrillers Saaho (2019) and Salaar: Part 1 – Ceasefire (2023).']"
      ]
     },
     "execution_count": 34,
     "metadata": {},
     "output_type": "execute_result"
    }
   ],
   "source": [
    "senten=nltk.sent_tokenize(para)\n",
    "senten"
   ]
  },
  {
   "cell_type": "code",
   "execution_count": 35,
   "id": "99dfb9b0-71dc-45ea-81ef-0b4034ad555c",
   "metadata": {
    "tags": []
   },
   "outputs": [],
   "source": [
    "stemmer=PorterStemmer()\n"
   ]
  },
  {
   "cell_type": "code",
   "execution_count": 36,
   "id": "4023ac86-a64f-444f-bdeb-abf45949e9ef",
   "metadata": {
    "tags": []
   },
   "outputs": [
    {
     "name": "stdout",
     "output_type": "stream",
     "text": [
      "conjuct\n"
     ]
    }
   ],
   "source": [
    "print(stemmer.stem('conjuctivities'))"
   ]
  },
  {
   "cell_type": "code",
   "execution_count": 37,
   "id": "4e15b965-dc84-472f-b397-94b0c06555dd",
   "metadata": {
    "tags": []
   },
   "outputs": [
    {
     "data": {
      "text/plain": [
       "\"\\nUppalapati Venkata Suryanarayana Prabhas Raju ([pɾabʱaːs] born 23 October 1979) is an Indian actor who predominantly works in Telugu cinema. One of the highest-paid actors in Indian cinema,[4] Prabhas has featured in Forbes India's Celebrity 100 list since 2015[5][6][7] and has received seven Filmfare Awards nominations, a Nandi Award, and a SIIMA Award.\\n\\nPrabhas made his acting debut with the 2002 drama Eeswar, and later attained his breakthrough with the action romance Varsham (2004). His notable works include Chatrapathi (2005), Bujjigadu (2008), Billa (2009), Darling (2010), Mr. Perfect (2011), and Mirchi (2013), winning the Nandi Award for Best Actor for his performance in the lattermost.[8][9]\\n\\nIn 2015, Prabhas portrayed the title role in S. S. Rajamouli's epic action drama Baahubali: The Beginning, which is the thirteenth-highest-grossing Indian film to date. He later reprised his role in its sequel, Baahubali 2: The Conclusion (2017), which became the first Indian film ever to gross over ₹1,000 crore (US$155 million) in all languages in just ten days and is the second-highest-grossing Indian film to date, helping Prabhas achieve international recognition.[10][11] He achieved further commercial success with the pan-Indian action thrillers Saaho (2019) and Salaar: Part 1 – Ceasefire (2023).\\n\""
      ]
     },
     "execution_count": 37,
     "metadata": {},
     "output_type": "execute_result"
    }
   ],
   "source": [
    "para"
   ]
  },
  {
   "cell_type": "code",
   "execution_count": 41,
   "id": "9bd9e898-943e-4e13-ad98-e3a7c42dd67c",
   "metadata": {
    "tags": []
   },
   "outputs": [
    {
     "data": {
      "text/plain": [
       "['\\nUppalapati Venkata Suryanarayana Prabhas Raju ([pɾabʱaːs] born 23 October 1979) is an Indian actor who predominantly works in Telugu cinema.',\n",
       " \"One of the highest-paid actors in Indian cinema,[4] Prabhas has featured in Forbes India's Celebrity 100 list since 2015[5][6][7] and has received seven Filmfare Awards nominations, a Nandi Award, and a SIIMA Award.\",\n",
       " 'Prabhas made his acting debut with the 2002 drama Eeswar, and later attained his breakthrough with the action romance Varsham (2004).',\n",
       " 'His notable works include Chatrapathi (2005), Bujjigadu (2008), Billa (2009), Darling (2010), Mr.',\n",
       " 'Perfect (2011), and Mirchi (2013), winning the Nandi Award for Best Actor for his performance in the lattermost.',\n",
       " \"[8][9]\\n\\nIn 2015, Prabhas portrayed the title role in S. S. Rajamouli's epic action drama Baahubali: The Beginning, which is the thirteenth-highest-grossing Indian film to date.\",\n",
       " 'He later reprised his role in its sequel, Baahubali 2: The Conclusion (2017), which became the first Indian film ever to gross over ₹1,000 crore (US$155 million) in all languages in just ten days and is the second-highest-grossing Indian film to date, helping Prabhas achieve international recognition.',\n",
       " '[10][11] He achieved further commercial success with the pan-Indian action thrillers Saaho (2019) and Salaar: Part 1 – Ceasefire (2023).']"
      ]
     },
     "execution_count": 41,
     "metadata": {},
     "output_type": "execute_result"
    }
   ],
   "source": [
    "senten"
   ]
  },
  {
   "cell_type": "code",
   "execution_count": 38,
   "id": "942530e9-30c6-483e-ae07-df1f21dd120a",
   "metadata": {
    "tags": []
   },
   "outputs": [],
   "source": [
    "import re"
   ]
  },
  {
   "cell_type": "code",
   "execution_count": 45,
   "id": "bd90536d-2dcb-414f-bd2d-d90b20c41f2b",
   "metadata": {
    "tags": []
   },
   "outputs": [
    {
     "name": "stdout",
     "output_type": "stream",
     "text": [
      "\n",
      "Uppalapati Venkata Suryanarayana Prabhas Raju ([pɾabʱaːs] born 23 October 1979) is an Indian actor who predominantly works in Telugu cinema.\n",
      "One of the highest-paid actors in Indian cinema,[4] Prabhas has featured in Forbes India's Celebrity 100 list since 2015[5][6][7] and has received seven Filmfare Awards nominations, a Nandi Award, and a SIIMA Award.\n",
      "Prabhas made his acting debut with the 2002 drama Eeswar, and later attained his breakthrough with the action romance Varsham (2004).\n",
      "His notable works include Chatrapathi (2005), Bujjigadu (2008), Billa (2009), Darling (2010), Mr.\n",
      "Perfect (2011), and Mirchi (2013), winning the Nandi Award for Best Actor for his performance in the lattermost.\n",
      "[8][9]\n",
      "\n",
      "In 2015, Prabhas portrayed the title role in S. S. Rajamouli's epic action drama Baahubali: The Beginning, which is the thirteenth-highest-grossing Indian film to date.\n",
      "He later reprised his role in its sequel, Baahubali 2: The Conclusion (2017), which became the first Indian film ever to gross over ₹1,000 crore (US$155 million) in all languages in just ten days and is the second-highest-grossing Indian film to date, helping Prabhas achieve international recognition.\n",
      "[10][11] He achieved further commercial success with the pan-Indian action thrillers Saaho (2019) and Salaar: Part 1 – Ceasefire (2023).\n"
     ]
    }
   ],
   "source": [
    "for i in range(len(senten)):\n",
    "    print(senten[i])"
   ]
  },
  {
   "cell_type": "code",
   "execution_count": 53,
   "id": "b506d72f-ad90-4ee8-9997-46e2fa8b7d2a",
   "metadata": {
    "tags": []
   },
   "outputs": [
    {
     "data": {
      "text/plain": [
       "[' Uppalapati Venkata Suryanarayana Prabhas Raju   p ab a s  born    October       is an Indian actor who predominantly works in Telugu cinema ',\n",
       " 'One of the highest paid actors in Indian cinema     Prabhas has featured in Forbes India s Celebrity     list since               and has received seven Filmfare Awards nominations  a Nandi Award  and a SIIMA Award ',\n",
       " 'Prabhas made his acting debut with the      drama Eeswar  and later attained his breakthrough with the action romance Varsham        ',\n",
       " 'His notable works include Chatrapathi         Bujjigadu         Billa         Darling         Mr ',\n",
       " 'Perfect         and Mirchi         winning the Nandi Award for Best Actor for his performance in the lattermost ',\n",
       " '        In       Prabhas portrayed the title role in S  S  Rajamouli s epic action drama Baahubali  The Beginning  which is the thirteenth highest grossing Indian film to date ',\n",
       " 'He later reprised his role in its sequel  Baahubali    The Conclusion         which became the first Indian film ever to gross over        crore  US     million  in all languages in just ten days and is the second highest grossing Indian film to date  helping Prabhas achieve international recognition ',\n",
       " '         He achieved further commercial success with the pan Indian action thrillers Saaho        and Salaar  Part     Ceasefire        ']"
      ]
     },
     "execution_count": 53,
     "metadata": {},
     "output_type": "execute_result"
    }
   ],
   "source": [
    "corpus=[]\n",
    "for i in range(len(senten)):\n",
    "    cleaned=re.sub('[^a-zA-Z]',' ',senten[i])\n",
    "    cleaned.lower()\n",
    "    corpus.append(cleaned)\n",
    "\n",
    "#corpus=nltk.word_tokenize(corpus)\n",
    "corpus\n",
    "    \n",
    "    "
   ]
  },
  {
   "cell_type": "code",
   "execution_count": 61,
   "id": "9efdb888-6a9b-4962-a7d3-72cea19c6d57",
   "metadata": {
    "tags": []
   },
   "outputs": [],
   "source": [
    "processed=[]\n",
    "for i in corpus:\n",
    "    words=nltk.word_tokenize(i)\n",
    "    for word in words:\n",
    "        if word not in stopwords.words('english'):\n",
    "            processed.append(stemmer.stem(word))\n",
    "            \n",
    "    "
   ]
  },
  {
   "cell_type": "code",
   "execution_count": 62,
   "id": "721ff9e7-9be0-4648-8f88-eb72a5a493d9",
   "metadata": {
    "tags": []
   },
   "outputs": [
    {
     "data": {
      "text/plain": [
       "['uppalapati',\n",
       " 'venkata',\n",
       " 'suryanarayana',\n",
       " 'prabha',\n",
       " 'raju',\n",
       " 'p',\n",
       " 'ab',\n",
       " 'born',\n",
       " 'octob',\n",
       " 'indian',\n",
       " 'actor',\n",
       " 'predominantli',\n",
       " 'work',\n",
       " 'telugu',\n",
       " 'cinema',\n",
       " 'one',\n",
       " 'highest',\n",
       " 'paid',\n",
       " 'actor',\n",
       " 'indian',\n",
       " 'cinema',\n",
       " 'prabha',\n",
       " 'featur',\n",
       " 'forb',\n",
       " 'india',\n",
       " 'celebr',\n",
       " 'list',\n",
       " 'sinc',\n",
       " 'receiv',\n",
       " 'seven',\n",
       " 'filmfar',\n",
       " 'award',\n",
       " 'nomin',\n",
       " 'nandi',\n",
       " 'award',\n",
       " 'siima',\n",
       " 'award',\n",
       " 'prabha',\n",
       " 'made',\n",
       " 'act',\n",
       " 'debut',\n",
       " 'drama',\n",
       " 'eeswar',\n",
       " 'later',\n",
       " 'attain',\n",
       " 'breakthrough',\n",
       " 'action',\n",
       " 'romanc',\n",
       " 'varsham',\n",
       " 'hi',\n",
       " 'notabl',\n",
       " 'work',\n",
       " 'includ',\n",
       " 'chatrapathi',\n",
       " 'bujjigadu',\n",
       " 'billa',\n",
       " 'darl',\n",
       " 'mr',\n",
       " 'perfect',\n",
       " 'mirchi',\n",
       " 'win',\n",
       " 'nandi',\n",
       " 'award',\n",
       " 'best',\n",
       " 'actor',\n",
       " 'perform',\n",
       " 'lattermost',\n",
       " 'in',\n",
       " 'prabha',\n",
       " 'portray',\n",
       " 'titl',\n",
       " 'role',\n",
       " 's',\n",
       " 's',\n",
       " 'rajamouli',\n",
       " 'epic',\n",
       " 'action',\n",
       " 'drama',\n",
       " 'baahubali',\n",
       " 'the',\n",
       " 'begin',\n",
       " 'thirteenth',\n",
       " 'highest',\n",
       " 'gross',\n",
       " 'indian',\n",
       " 'film',\n",
       " 'date',\n",
       " 'he',\n",
       " 'later',\n",
       " 'repris',\n",
       " 'role',\n",
       " 'sequel',\n",
       " 'baahubali',\n",
       " 'the',\n",
       " 'conclus',\n",
       " 'becam',\n",
       " 'first',\n",
       " 'indian',\n",
       " 'film',\n",
       " 'ever',\n",
       " 'gross',\n",
       " 'crore',\n",
       " 'us',\n",
       " 'million',\n",
       " 'languag',\n",
       " 'ten',\n",
       " 'day',\n",
       " 'second',\n",
       " 'highest',\n",
       " 'gross',\n",
       " 'indian',\n",
       " 'film',\n",
       " 'date',\n",
       " 'help',\n",
       " 'prabha',\n",
       " 'achiev',\n",
       " 'intern',\n",
       " 'recognit',\n",
       " 'he',\n",
       " 'achiev',\n",
       " 'commerci',\n",
       " 'success',\n",
       " 'pan',\n",
       " 'indian',\n",
       " 'action',\n",
       " 'thriller',\n",
       " 'saaho',\n",
       " 'salaar',\n",
       " 'part',\n",
       " 'ceasefir']"
      ]
     },
     "execution_count": 62,
     "metadata": {},
     "output_type": "execute_result"
    }
   ],
   "source": [
    "processed"
   ]
  },
  {
   "cell_type": "code",
   "execution_count": null,
   "id": "887b0734-96e4-482d-9467-3209658f966d",
   "metadata": {},
   "outputs": [],
   "source": []
  }
 ],
 "metadata": {
  "kernelspec": {
   "display_name": "Python 3 (ipykernel)",
   "language": "python",
   "name": "python3"
  },
  "language_info": {
   "codemirror_mode": {
    "name": "ipython",
    "version": 3
   },
   "file_extension": ".py",
   "mimetype": "text/x-python",
   "name": "python",
   "nbconvert_exporter": "python",
   "pygments_lexer": "ipython3",
   "version": "3.8.16"
  }
 },
 "nbformat": 4,
 "nbformat_minor": 5
}
