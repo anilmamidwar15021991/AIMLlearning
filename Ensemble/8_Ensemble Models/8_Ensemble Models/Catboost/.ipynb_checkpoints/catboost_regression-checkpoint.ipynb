{
 "cells": [
  {
   "cell_type": "markdown",
   "metadata": {
    "id": "98UYw6d10TWy"
   },
   "source": [
    "<div class=\"alert alert-info\" style=\"background-color:#006a79; color:white; padding:0px 10px; border-radius:5px;\"><h2 style='margin:10px 5px'>Catboost Regression</h2>\n",
    "</div>"
   ]
  },
  {
   "cell_type": "markdown",
   "metadata": {
    "id": "wNIbOPiL0OHb"
   },
   "source": [
    "### Table of contents : <br/>\n",
    "1. Install xgboost\n",
    "2. Importing libraries and dataset\n",
    "3. EDA\n",
    "3. Parameter description\n",
    "4. Initialize catboost model\n",
    "5. Model building\n",
    "4. xgboost hyperparameter tuning"
   ]
  },
  {
   "cell_type": "markdown",
   "metadata": {
    "id": "Oym7GQ8M0fzR"
   },
   "source": [
    "<div class=\"alert alert-info\" style=\"background-color:#006a79; color:white; padding:0px 10px; border-radius:5px;\"><h2 style='margin:10px 5px'>Importing libraries and dataset</h2>\n",
    "</div>"
   ]
  },
  {
   "cell_type": "code",
   "execution_count": 1,
   "metadata": {
    "id": "EiAPXzT5hzO9"
   },
   "outputs": [],
   "source": [
    "# pip install catboost"
   ]
  },
  {
   "cell_type": "code",
   "execution_count": 2,
   "metadata": {
    "id": "vK4LoQ4OgST8"
   },
   "outputs": [],
   "source": [
    "import pandas as pd # for data manupulation\n",
    "import numpy as np # for numeric operation\n",
    "import matplotlib.pyplot as plt\n",
    "import seaborn as sns\n",
    "# seaborn and matplotlib for visualization\n",
    "\n",
    "import catboost as cb\n",
    "#for performing regression\n",
    "\n",
    "\n",
    "from sklearn.model_selection import train_test_split, GridSearchCV\n",
    "# train_test_split for splitting\n",
    "\n",
    "from sklearn.metrics import mean_absolute_error\n",
    "from sklearn.metrics import mean_squared_error\n",
    "from sklearn.metrics import r2_score\n",
    "#these are regression evaluation metric\n",
    "\n",
    "\n",
    "import warnings\n",
    "warnings.filterwarnings(\"ignore\") # for not displaying warning\n",
    "pd.set_option(\"display.max_columns\", 100) # default number of rows to be displayed."
   ]
  },
  {
   "cell_type": "code",
   "execution_count": 3,
   "metadata": {
    "colab": {
     "base_uri": "https://localhost:8080/",
     "height": 194
    },
    "id": "8l_ZW-Q4iJ0G",
    "outputId": "205d0bf3-b1e1-4247-ea42-0984ec3a5e71"
   },
   "outputs": [
    {
     "data": {
      "text/html": [
       "<div>\n",
       "<style scoped>\n",
       "    .dataframe tbody tr th:only-of-type {\n",
       "        vertical-align: middle;\n",
       "    }\n",
       "\n",
       "    .dataframe tbody tr th {\n",
       "        vertical-align: top;\n",
       "    }\n",
       "\n",
       "    .dataframe thead th {\n",
       "        text-align: right;\n",
       "    }\n",
       "</style>\n",
       "<table border=\"1\" class=\"dataframe\">\n",
       "  <thead>\n",
       "    <tr style=\"text-align: right;\">\n",
       "      <th></th>\n",
       "      <th>age</th>\n",
       "      <th>sex</th>\n",
       "      <th>bmi</th>\n",
       "      <th>children</th>\n",
       "      <th>smoker</th>\n",
       "      <th>region</th>\n",
       "      <th>charges</th>\n",
       "    </tr>\n",
       "  </thead>\n",
       "  <tbody>\n",
       "    <tr>\n",
       "      <th>0</th>\n",
       "      <td>19</td>\n",
       "      <td>female</td>\n",
       "      <td>27.900</td>\n",
       "      <td>0</td>\n",
       "      <td>yes</td>\n",
       "      <td>southwest</td>\n",
       "      <td>16884.92400</td>\n",
       "    </tr>\n",
       "    <tr>\n",
       "      <th>1</th>\n",
       "      <td>18</td>\n",
       "      <td>male</td>\n",
       "      <td>33.770</td>\n",
       "      <td>1</td>\n",
       "      <td>no</td>\n",
       "      <td>southeast</td>\n",
       "      <td>1725.55230</td>\n",
       "    </tr>\n",
       "    <tr>\n",
       "      <th>2</th>\n",
       "      <td>28</td>\n",
       "      <td>male</td>\n",
       "      <td>33.000</td>\n",
       "      <td>3</td>\n",
       "      <td>no</td>\n",
       "      <td>southeast</td>\n",
       "      <td>4449.46200</td>\n",
       "    </tr>\n",
       "    <tr>\n",
       "      <th>3</th>\n",
       "      <td>33</td>\n",
       "      <td>male</td>\n",
       "      <td>22.705</td>\n",
       "      <td>0</td>\n",
       "      <td>no</td>\n",
       "      <td>northwest</td>\n",
       "      <td>21984.47061</td>\n",
       "    </tr>\n",
       "    <tr>\n",
       "      <th>4</th>\n",
       "      <td>32</td>\n",
       "      <td>male</td>\n",
       "      <td>28.880</td>\n",
       "      <td>0</td>\n",
       "      <td>no</td>\n",
       "      <td>northwest</td>\n",
       "      <td>3866.85520</td>\n",
       "    </tr>\n",
       "  </tbody>\n",
       "</table>\n",
       "</div>"
      ],
      "text/plain": [
       "   age     sex     bmi  children smoker     region      charges\n",
       "0   19  female  27.900         0    yes  southwest  16884.92400\n",
       "1   18    male  33.770         1     no  southeast   1725.55230\n",
       "2   28    male  33.000         3     no  southeast   4449.46200\n",
       "3   33    male  22.705         0     no  northwest  21984.47061\n",
       "4   32    male  28.880         0     no  northwest   3866.85520"
      ]
     },
     "execution_count": 3,
     "metadata": {},
     "output_type": "execute_result"
    }
   ],
   "source": [
    "df = pd.read_csv('insurance.csv') #load the dataset\n",
    "df.head() #print first 5 record"
   ]
  },
  {
   "cell_type": "markdown",
   "metadata": {
    "id": "jY2QSxX90mmc"
   },
   "source": [
    "<div class=\"alert alert-info\" style=\"background-color:#006a79; color:white; padding:0px 10px; border-radius:5px;\"><h2 style='margin:10px 5px'>EDA</h2>\n",
    "</div>"
   ]
  },
  {
   "cell_type": "code",
   "execution_count": 4,
   "metadata": {
    "colab": {
     "base_uri": "https://localhost:8080/",
     "height": 282
    },
    "id": "h3faw-raiYzg",
    "outputId": "c85cbf5f-2f3f-4339-ef0e-d415b1096884"
   },
   "outputs": [
    {
     "data": {
      "text/html": [
       "<div>\n",
       "<style scoped>\n",
       "    .dataframe tbody tr th:only-of-type {\n",
       "        vertical-align: middle;\n",
       "    }\n",
       "\n",
       "    .dataframe tbody tr th {\n",
       "        vertical-align: top;\n",
       "    }\n",
       "\n",
       "    .dataframe thead th {\n",
       "        text-align: right;\n",
       "    }\n",
       "</style>\n",
       "<table border=\"1\" class=\"dataframe\">\n",
       "  <thead>\n",
       "    <tr style=\"text-align: right;\">\n",
       "      <th></th>\n",
       "      <th>age</th>\n",
       "      <th>bmi</th>\n",
       "      <th>children</th>\n",
       "      <th>charges</th>\n",
       "    </tr>\n",
       "  </thead>\n",
       "  <tbody>\n",
       "    <tr>\n",
       "      <th>count</th>\n",
       "      <td>1338.000000</td>\n",
       "      <td>1338.000000</td>\n",
       "      <td>1338.000000</td>\n",
       "      <td>1338.000000</td>\n",
       "    </tr>\n",
       "    <tr>\n",
       "      <th>mean</th>\n",
       "      <td>39.207025</td>\n",
       "      <td>30.663397</td>\n",
       "      <td>1.094918</td>\n",
       "      <td>13270.422265</td>\n",
       "    </tr>\n",
       "    <tr>\n",
       "      <th>std</th>\n",
       "      <td>14.049960</td>\n",
       "      <td>6.098187</td>\n",
       "      <td>1.205493</td>\n",
       "      <td>12110.011237</td>\n",
       "    </tr>\n",
       "    <tr>\n",
       "      <th>min</th>\n",
       "      <td>18.000000</td>\n",
       "      <td>15.960000</td>\n",
       "      <td>0.000000</td>\n",
       "      <td>1121.873900</td>\n",
       "    </tr>\n",
       "    <tr>\n",
       "      <th>25%</th>\n",
       "      <td>27.000000</td>\n",
       "      <td>26.296250</td>\n",
       "      <td>0.000000</td>\n",
       "      <td>4740.287150</td>\n",
       "    </tr>\n",
       "    <tr>\n",
       "      <th>50%</th>\n",
       "      <td>39.000000</td>\n",
       "      <td>30.400000</td>\n",
       "      <td>1.000000</td>\n",
       "      <td>9382.033000</td>\n",
       "    </tr>\n",
       "    <tr>\n",
       "      <th>75%</th>\n",
       "      <td>51.000000</td>\n",
       "      <td>34.693750</td>\n",
       "      <td>2.000000</td>\n",
       "      <td>16639.912515</td>\n",
       "    </tr>\n",
       "    <tr>\n",
       "      <th>max</th>\n",
       "      <td>64.000000</td>\n",
       "      <td>53.130000</td>\n",
       "      <td>5.000000</td>\n",
       "      <td>63770.428010</td>\n",
       "    </tr>\n",
       "  </tbody>\n",
       "</table>\n",
       "</div>"
      ],
      "text/plain": [
       "               age          bmi     children       charges\n",
       "count  1338.000000  1338.000000  1338.000000   1338.000000\n",
       "mean     39.207025    30.663397     1.094918  13270.422265\n",
       "std      14.049960     6.098187     1.205493  12110.011237\n",
       "min      18.000000    15.960000     0.000000   1121.873900\n",
       "25%      27.000000    26.296250     0.000000   4740.287150\n",
       "50%      39.000000    30.400000     1.000000   9382.033000\n",
       "75%      51.000000    34.693750     2.000000  16639.912515\n",
       "max      64.000000    53.130000     5.000000  63770.428010"
      ]
     },
     "execution_count": 4,
     "metadata": {},
     "output_type": "execute_result"
    }
   ],
   "source": [
    "df.describe()"
   ]
  },
  {
   "cell_type": "code",
   "execution_count": 5,
   "metadata": {
    "colab": {
     "base_uri": "https://localhost:8080/"
    },
    "id": "vfDUEBUcnO28",
    "outputId": "34e3da6b-9bd4-4c1f-ab68-4c8abd7e66fc"
   },
   "outputs": [
    {
     "data": {
      "text/plain": [
       "age         0\n",
       "sex         0\n",
       "bmi         0\n",
       "children    0\n",
       "smoker      0\n",
       "region      0\n",
       "charges     0\n",
       "dtype: int64"
      ]
     },
     "execution_count": 5,
     "metadata": {},
     "output_type": "execute_result"
    }
   ],
   "source": [
    "df.isnull().sum() #check for null values"
   ]
  },
  {
   "cell_type": "markdown",
   "metadata": {
    "id": "gGRwFNdu0sqa"
   },
   "source": [
    "#### Label encoding"
   ]
  },
  {
   "cell_type": "code",
   "execution_count": 6,
   "metadata": {
    "colab": {
     "base_uri": "https://localhost:8080/",
     "height": 194
    },
    "id": "P5PsdIrlyibV",
    "outputId": "1f1733ff-975f-4435-d26c-ad777b4239cb"
   },
   "outputs": [
    {
     "data": {
      "text/html": [
       "<div>\n",
       "<style scoped>\n",
       "    .dataframe tbody tr th:only-of-type {\n",
       "        vertical-align: middle;\n",
       "    }\n",
       "\n",
       "    .dataframe tbody tr th {\n",
       "        vertical-align: top;\n",
       "    }\n",
       "\n",
       "    .dataframe thead th {\n",
       "        text-align: right;\n",
       "    }\n",
       "</style>\n",
       "<table border=\"1\" class=\"dataframe\">\n",
       "  <thead>\n",
       "    <tr style=\"text-align: right;\">\n",
       "      <th></th>\n",
       "      <th>age</th>\n",
       "      <th>bmi</th>\n",
       "      <th>children</th>\n",
       "      <th>charges</th>\n",
       "      <th>sex_male</th>\n",
       "      <th>region_northwest</th>\n",
       "      <th>region_southeast</th>\n",
       "      <th>region_southwest</th>\n",
       "      <th>smoker_yes</th>\n",
       "    </tr>\n",
       "  </thead>\n",
       "  <tbody>\n",
       "    <tr>\n",
       "      <th>0</th>\n",
       "      <td>19</td>\n",
       "      <td>27.900</td>\n",
       "      <td>0</td>\n",
       "      <td>16884.92400</td>\n",
       "      <td>0</td>\n",
       "      <td>0</td>\n",
       "      <td>0</td>\n",
       "      <td>1</td>\n",
       "      <td>1</td>\n",
       "    </tr>\n",
       "    <tr>\n",
       "      <th>1</th>\n",
       "      <td>18</td>\n",
       "      <td>33.770</td>\n",
       "      <td>1</td>\n",
       "      <td>1725.55230</td>\n",
       "      <td>1</td>\n",
       "      <td>0</td>\n",
       "      <td>1</td>\n",
       "      <td>0</td>\n",
       "      <td>0</td>\n",
       "    </tr>\n",
       "    <tr>\n",
       "      <th>2</th>\n",
       "      <td>28</td>\n",
       "      <td>33.000</td>\n",
       "      <td>3</td>\n",
       "      <td>4449.46200</td>\n",
       "      <td>1</td>\n",
       "      <td>0</td>\n",
       "      <td>1</td>\n",
       "      <td>0</td>\n",
       "      <td>0</td>\n",
       "    </tr>\n",
       "    <tr>\n",
       "      <th>3</th>\n",
       "      <td>33</td>\n",
       "      <td>22.705</td>\n",
       "      <td>0</td>\n",
       "      <td>21984.47061</td>\n",
       "      <td>1</td>\n",
       "      <td>1</td>\n",
       "      <td>0</td>\n",
       "      <td>0</td>\n",
       "      <td>0</td>\n",
       "    </tr>\n",
       "    <tr>\n",
       "      <th>4</th>\n",
       "      <td>32</td>\n",
       "      <td>28.880</td>\n",
       "      <td>0</td>\n",
       "      <td>3866.85520</td>\n",
       "      <td>1</td>\n",
       "      <td>1</td>\n",
       "      <td>0</td>\n",
       "      <td>0</td>\n",
       "      <td>0</td>\n",
       "    </tr>\n",
       "  </tbody>\n",
       "</table>\n",
       "</div>"
      ],
      "text/plain": [
       "   age     bmi  children      charges  sex_male  region_northwest  \\\n",
       "0   19  27.900         0  16884.92400         0                 0   \n",
       "1   18  33.770         1   1725.55230         1                 0   \n",
       "2   28  33.000         3   4449.46200         1                 0   \n",
       "3   33  22.705         0  21984.47061         1                 1   \n",
       "4   32  28.880         0   3866.85520         1                 1   \n",
       "\n",
       "   region_southeast  region_southwest  smoker_yes  \n",
       "0                 0                 1           1  \n",
       "1                 1                 0           0  \n",
       "2                 1                 0           0  \n",
       "3                 0                 0           0  \n",
       "4                 0                 0           0  "
      ]
     },
     "execution_count": 6,
     "metadata": {},
     "output_type": "execute_result"
    }
   ],
   "source": [
    "df = pd.get_dummies(df,columns = ['sex','region',\t'smoker'],drop_first = True)\n",
    "df.head()"
   ]
  },
  {
   "cell_type": "code",
   "execution_count": 7,
   "metadata": {
    "colab": {
     "base_uri": "https://localhost:8080/",
     "height": 873
    },
    "id": "35WwzPRjnRLB",
    "outputId": "edf3b171-62c9-4a5a-a5da-dd02e45fe659"
   },
   "outputs": [
    {
     "data": {
      "image/png": "[encoded data removed]",
      "text/plain": [
       "<Figure size 864x864 with 9 Axes>"
      ]
     },
     "metadata": {
      "needs_background": "light"
     },
     "output_type": "display_data"
    }
   ],
   "source": [
    "df.hist(figsize=(12,12),bins=50)\n",
    "plt.tight_layout()"
   ]
  },
  {
   "cell_type": "code",
   "execution_count": 8,
   "metadata": {
    "id": "lSn4BHggneB5"
   },
   "outputs": [],
   "source": [
    "X=df.drop(\"charges\",axis=1)\n",
    "y=df[\"charges\"]\n",
    "\n",
    "#get feature and target variable"
   ]
  },
  {
   "cell_type": "markdown",
   "metadata": {
    "id": "vMmuJwNL0ztE"
   },
   "source": [
    "#### Train test split"
   ]
  },
  {
   "cell_type": "code",
   "execution_count": 9,
   "metadata": {
    "id": "-sVXCkWjoVab"
   },
   "outputs": [],
   "source": [
    "from sklearn.model_selection import train_test_split\n",
    "x_train,x_test,y_train,y_test=train_test_split(X,y,test_size=0.3,random_state=42)\n",
    "#get training and testing data"
   ]
  },
  {
   "cell_type": "markdown",
   "metadata": {
    "id": "8W87D-mf07bF"
   },
   "source": [
    "<div class=\"alert alert-info\" style=\"background-color:#006a79; color:white; padding:0px 10px; border-radius:5px;\"><h2 style='margin:10px 5px'>Parameter description</h2>\n",
    "</div>"
   ]
  },
  {
   "cell_type": "markdown",
   "metadata": {
    "id": "aZvoa_Q003Ue"
   },
   "source": [
    "- loss_function : eval metric used for training\n",
    "- iterations : max number of tree  that can be build.\n",
    "- learning_rate : used for reducing the gradient setp\n",
    "- depth : the depth of the tree \n",
    "- n_jobs : The number of jobs to run in parallel and  -1 means using all processors.\n"
   ]
  },
  {
   "cell_type": "markdown",
   "metadata": {
    "id": "-bTOD8-n1Rnh"
   },
   "source": [
    "<div class=\"alert alert-info\" style=\"background-color:#006a79; color:white; padding:0px 10px; border-radius:5px;\"><h2 style='margin:10px 5px'>Initialize Catboost</h2>\n",
    "</div>"
   ]
  },
  {
   "cell_type": "code",
   "execution_count": 10,
   "metadata": {
    "colab": {
     "base_uri": "https://localhost:8080/"
    },
    "id": "UMJcC0PQo2pE",
    "outputId": "2fb59412-6240-4eeb-918c-98dd322259d9"
   },
   "outputs": [
    {
     "name": "stdout",
     "output_type": "stream",
     "text": [
      "Test  R2 Score : 0.86\n",
      "Test  mae Score : 2609.96\n",
      "Test  mse Score : 20513284.62\n"
     ]
    }
   ],
   "source": [
    "cb_cls = cb.CatBoostRegressor(silent=True) #silet=True can help to suppress the iteration logs\n",
    "#initialize the cb regressor\n",
    "cb_cls.fit(x_train, y_train)\n",
    "#fit\n",
    "\n",
    "\n",
    "y_pred = cb_cls.predict(x_test)\n",
    "#predict\n",
    "\n",
    "\n",
    "\n",
    "\n",
    "#evaluation metric\n",
    "print(\"Test  R2 Score : %.2f\"%r2_score(y_test, y_pred))\n",
    "print(\"Test  mae Score : %.2f\"%mean_absolute_error(y_test, y_pred))\n",
    "print(\"Test  mse Score : %.2f\"%mean_squared_error(y_test, y_pred))"
   ]
  },
  {
   "cell_type": "markdown",
   "metadata": {
    "id": "lf41SZRNz8VM"
   },
   "source": [
    "<div class=\"alert alert-info\" style=\"padding:0px 10px; border-radius:5px;\"><h4 style='margin:10px 5px'> Inferences:</h4>\n",
    "</div>"
   ]
  },
  {
   "cell_type": "markdown",
   "metadata": {
    "id": "IFJ5rxH91jPR"
   },
   "source": [
    "- We used silent = True, to avoid the iteration log.\n",
    "- Here we got good r2 score 86%.\n",
    "- But the mae and mse score is huge, which is not good for model."
   ]
  },
  {
   "cell_type": "markdown",
   "metadata": {
    "id": "XxOJ7x7P1XMr"
   },
   "source": [
    "<div class=\"alert alert-info\" style=\"background-color:#006a79; color:white; padding:0px 10px; border-radius:5px;\"><h2 style='margin:10px 5px'>Model building</h2>\n",
    "</div>"
   ]
  },
  {
   "cell_type": "markdown",
   "metadata": {
    "id": "tM0Opt-o19kY"
   },
   "source": [
    "#### iteration = 100\n",
    "- Let's build 100 maximum number of tress."
   ]
  },
  {
   "cell_type": "code",
   "execution_count": 11,
   "metadata": {
    "colab": {
     "base_uri": "https://localhost:8080/"
    },
    "id": "h2vlwapszdVw",
    "outputId": "8cbe70ca-e662-47b0-8e2b-1c9be007599d"
   },
   "outputs": [
    {
     "name": "stdout",
     "output_type": "stream",
     "text": [
      "Test  R2 Score : 0.86\n",
      "Test  mae Score : 2615.76\n",
      "Test  mse Score : 20923742.63\n"
     ]
    }
   ],
   "source": [
    "cb_cls = cb.CatBoostRegressor(silent=True, iterations=100) #silet=True can help to suppress the iteration logs\n",
    "#initialize the cb regressor\n",
    "cb_cls.fit(x_train, y_train)\n",
    "#fit\n",
    "\n",
    "\n",
    "y_pred = cb_cls.predict(x_test)\n",
    "#predict\n",
    "\n",
    "\n",
    "\n",
    "\n",
    "#evaluation metric\n",
    "print(\"Test  R2 Score : %.2f\"%r2_score(y_test, y_pred))\n",
    "print(\"Test  mae Score : %.2f\"%mean_absolute_error(y_test, y_pred))\n",
    "print(\"Test  mse Score : %.2f\"%mean_squared_error(y_test, y_pred))"
   ]
  },
  {
   "cell_type": "markdown",
   "metadata": {
    "id": "7WCuGfX0z61p"
   },
   "source": [
    "<div class=\"alert alert-info\" style=\"padding:0px 10px; border-radius:5px;\"><h4 style='margin:10px 5px'> Inferences:</h4>\n",
    "</div>"
   ]
  },
  {
   "cell_type": "markdown",
   "metadata": {
    "id": "P9rLIHGy2PrK"
   },
   "source": [
    "- Nothing such changes occured in scores, but mse score decreased."
   ]
  },
  {
   "cell_type": "markdown",
   "metadata": {
    "id": "CRZba_vk2bFD"
   },
   "source": [
    "#### iteration = 300\n",
    "- Let's build 300 iterations, which is number of maximum tree"
   ]
  },
  {
   "cell_type": "code",
   "execution_count": 12,
   "metadata": {
    "colab": {
     "base_uri": "https://localhost:8080/"
    },
    "id": "63iLe4f8pB-E",
    "outputId": "cd5ea279-4946-4a5e-a5f0-7ecc6b468af2"
   },
   "outputs": [
    {
     "name": "stdout",
     "output_type": "stream",
     "text": [
      "Test  R2 Score : 0.86\n",
      "Test  mae Score : 2614.51\n",
      "Test  mse Score : 20896374.75\n"
     ]
    }
   ],
   "source": [
    "cb_cls = cb.CatBoostRegressor(silent=True, iterations=300) #silet=True can help to suppress the iteration logs\n",
    "\n",
    "cb_cls.fit(x_train, y_train)\n",
    "#fit\n",
    "\n",
    "\n",
    "y_pred = cb_cls.predict(x_test)\n",
    "#predict\n",
    "\n",
    "\n",
    "\n",
    "\n",
    "#evaluation metric\n",
    "print(\"Test  R2 Score : %.2f\"%r2_score(y_test, y_pred))\n",
    "print(\"Test  mae Score : %.2f\"%mean_absolute_error(y_test, y_pred))\n",
    "print(\"Test  mse Score : %.2f\"%mean_squared_error(y_test, y_pred))"
   ]
  },
  {
   "cell_type": "markdown",
   "metadata": {
    "id": "ct2fKpFCz4Pr"
   },
   "source": [
    "<div class=\"alert alert-info\" style=\"padding:0px 10px; border-radius:5px;\"><h4 style='margin:10px 5px'> Inferences:</h4>\n",
    "</div>"
   ]
  },
  {
   "cell_type": "markdown",
   "metadata": {
    "id": "MhJLsA2o2wBl"
   },
   "source": [
    "- No change in the scores."
   ]
  },
  {
   "cell_type": "markdown",
   "metadata": {
    "id": "CRZba_vk2bFD"
   },
   "source": [
    "#### max_depth = 10\n",
    "- Let's build a model with max depth as 10"
   ]
  },
  {
   "cell_type": "code",
   "execution_count": 13,
   "metadata": {
    "colab": {
     "base_uri": "https://localhost:8080/"
    },
    "id": "Lp_emvPHzizp",
    "outputId": "83d0907a-e31a-4a11-8e37-54fbc1342337"
   },
   "outputs": [
    {
     "name": "stdout",
     "output_type": "stream",
     "text": [
      "Test  R2 Score : 0.85\n",
      "Test  mae Score : 2741.90\n",
      "Test  mse Score : 22682669.31\n"
     ]
    }
   ],
   "source": [
    "cb_cls = cb.CatBoostRegressor(silent=True, max_depth=10) #silet=True can help to suppress the iteration logs\n",
    "\n",
    "cb_cls.fit(x_train, y_train)\n",
    "#fit\n",
    "\n",
    "\n",
    "y_pred = cb_cls.predict(x_test)\n",
    "#predict\n",
    "\n",
    "\n",
    "#evaluation metric\n",
    "print(\"Test  R2 Score : %.2f\"%r2_score(y_test, y_pred))\n",
    "print(\"Test  mae Score : %.2f\"%mean_absolute_error(y_test, y_pred))\n",
    "print(\"Test  mse Score : %.2f\"%mean_squared_error(y_test, y_pred))"
   ]
  },
  {
   "cell_type": "markdown",
   "metadata": {
    "id": "BRLBHtumz2uT"
   },
   "source": [
    "<div class=\"alert alert-info\" style=\"padding:0px 10px; border-radius:5px;\"><h4 style='margin:10px 5px'> Inferences:</h4>\n",
    "</div>"
   ]
  },
  {
   "cell_type": "markdown",
   "metadata": {
    "id": "W4PubXU827D5"
   },
   "source": [
    "- R2 score decreased by 1% and mae, mse incresed"
   ]
  },
  {
   "cell_type": "markdown",
   "metadata": {
    "id": "IJZijgxL3OFI"
   },
   "source": [
    "<div class=\"alert alert-info\" style=\"background-color:#006a79; color:white; padding:0px 10px; border-radius:5px;\"><h2 style='margin:10px 5px'>Hyperparameter Tuning</h2>\n",
    "</div>"
   ]
  },
  {
   "cell_type": "code",
   "execution_count": 129,
   "metadata": {
    "colab": {
     "base_uri": "https://localhost:8080/"
    },
    "id": "C_neU0zKpd8y",
    "outputId": "a4181fe0-d587-4269-c593-ab07723883ee"
   },
   "outputs": [
    {
     "name": "stdout",
     "output_type": "stream",
     "text": [
      "Fitting 3 folds for each of 160 candidates, totalling 480 fits\n"
     ]
    },
    {
     "name": "stderr",
     "output_type": "stream",
     "text": [
      "[Parallel(n_jobs=-1)]: Using backend LokyBackend with 2 concurrent workers.\n",
      "[Parallel(n_jobs=-1)]: Done 164 tasks      | elapsed:    9.5s\n",
      "[Parallel(n_jobs=-1)]: Done 442 tasks      | elapsed:   49.4s\n",
      "[Parallel(n_jobs=-1)]: Done 480 out of 480 | elapsed:  1.3min finished\n"
     ]
    },
    {
     "data": {
      "text/plain": [
       "GridSearchCV(cv=3, error_score=nan,\n",
       "             estimator=<catboost.core.CatBoostRegressor object at 0x7fadb2963978>,\n",
       "             iid='deprecated', n_jobs=-1,\n",
       "             param_grid={'depth': [4, 5, 6, 8, 10],\n",
       "                         'iterations': [10, 50, 100, 200],\n",
       "                         'learning_rate': [0.01, 0.1],\n",
       "                         'loss_function': ['RMSE', 'MultiRMSE', 'MAE',\n",
       "                                           'Quantile']},\n",
       "             pre_dispatch='2*n_jobs', refit=True, return_train_score=False,\n",
       "             scoring=None, verbose=1)"
      ]
     },
     "execution_count": 129,
     "metadata": {
      "tags": []
     },
     "output_type": "execute_result"
    }
   ],
   "source": [
    "from sklearn.model_selection import GridSearchCV\n",
    "#import grid searchcv for hypeparameter tuning\n",
    "\n",
    "cb_clf = cb.CatBoostRegressor(silent=True)\n",
    "params = {\n",
    "         'iterations': [10,50,100,200],\n",
    "         'depth': [4, 5, 6,8, 10],\n",
    "         'loss_function': ['RMSE', 'MultiRMSE', 'MAE', 'Quantile'],\n",
    "         'learning_rate' : [0.01,0.1],\n",
    "\n",
    "       \n",
    "        }\n",
    "#define params \n",
    "\n",
    "\n",
    "grid_search = GridSearchCV(cb_clf, params, n_jobs=-1, cv = 3, verbose=1)\n",
    "\n",
    "grid_search.fit(x_train, y_train)\n",
    "#fit the params"
   ]
  },
  {
   "cell_type": "code",
   "execution_count": 130,
   "metadata": {
    "colab": {
     "base_uri": "https://localhost:8080/"
    },
    "id": "bEPEyLpCplAG",
    "outputId": "b8e65812-77fc-4adc-a0fb-40cc45c6e7e9"
   },
   "outputs": [
    {
     "data": {
      "text/plain": [
       "{'depth': 4, 'iterations': 50, 'learning_rate': 0.1, 'loss_function': 'RMSE'}"
      ]
     },
     "execution_count": 130,
     "metadata": {
      "tags": []
     },
     "output_type": "execute_result"
    }
   ],
   "source": [
    "grid_search.best_params_\n",
    "#let's see the best parameters as per our grid search"
   ]
  },
  {
   "cell_type": "code",
   "execution_count": 131,
   "metadata": {
    "colab": {
     "base_uri": "https://localhost:8080/"
    },
    "id": "ogx4buFxqfJm",
    "outputId": "2b7de054-dccb-4230-ac5d-ebf88bb26159"
   },
   "outputs": [
    {
     "name": "stdout",
     "output_type": "stream",
     "text": [
      "Test  R2 Score : 0.88\n",
      "Test  mae Score : 2470.11\n",
      "Test  mse Score : 18128525.08\n"
     ]
    }
   ],
   "source": [
    "y_pred = grid_search.predict(x_test)\n",
    "\n",
    "#evaluation metric\n",
    "print(\"Test  R2 Score : %.2f\"%r2_score(y_test, y_pred))\n",
    "print(\"Test  mae Score : %.2f\"%mean_absolute_error(y_test, y_pred))\n",
    "print(\"Test  mse Score : %.2f\"%mean_squared_error(y_test, y_pred))"
   ]
  },
  {
   "cell_type": "markdown",
   "metadata": {
    "id": "LJuzrEZ3zyAY"
   },
   "source": [
    "<div class=\"alert alert-info\" style=\"padding:0px 10px; border-radius:5px;\"><h4 style='margin:10px 5px'> Inferences:</h4>\n",
    "</div>"
   ]
  },
  {
   "cell_type": "markdown",
   "metadata": {
    "id": "wyKQFZdo3ZVU"
   },
   "source": [
    "- After hyperparameter tuning  R2 score increased from 86% to 88% comparing with the catboost model we intialized first.\n",
    "- mae and mse score also increased significantly."
   ]
  }
 ],
 "metadata": {
  "colab": {
   "name": "catboost_regression.ipynb",
   "provenance": []
  },
  "kernelspec": {
   "display_name": "Python 3",
   "language": "python",
   "name": "python3"
  },
  "language_info": {
   "codemirror_mode": {
    "name": "ipython",
    "version": 3
   },
   "file_extension": ".py",
   "mimetype": "text/x-python",
   "name": "python",
   "nbconvert_exporter": "python",
   "pygments_lexer": "ipython3",
   "version": "3.8.8"
  }
 },
 "nbformat": 4,
 "nbformat_minor": 4
}
