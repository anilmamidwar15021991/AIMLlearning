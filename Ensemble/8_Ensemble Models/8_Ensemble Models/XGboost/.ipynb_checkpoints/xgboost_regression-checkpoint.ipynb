{
 "cells": [
  {
   "cell_type": "markdown",
   "metadata": {
    "id": "L8iVI_TD9Drl"
   },
   "source": [
    "<div class=\"alert alert-info\" style=\"background-color:#006a79; color:white; padding:0px 10px; border-radius:5px;\"><h2 style='margin:10px 5px'>XGBoost Regression</h2>\n",
    "</div>"
   ]
  },
  {
   "cell_type": "markdown",
   "metadata": {
    "id": "YJFB-6Hg-JFQ"
   },
   "source": [
    "### Table of contents : <br/>\n",
    "1. Install xgboost\n",
    "2. Importing libraries and dataset\n",
    "3. EDA\n",
    "3. Parameter description\n",
    "4. Initialize xgboost model\n",
    "5. Model building\n",
    "4. xgboost hyperparameter tuning"
   ]
  },
  {
   "cell_type": "markdown",
   "metadata": {},
   "source": [
    "<div class=\"alert alert-info\" style=\"background-color:#006a79; color:white; padding:0px 10px; border-radius:5px;\"><h2 style='margin:10px 5px'>Importing libraries and dataset</h2>\n",
    "</div>"
   ]
  },
  {
   "cell_type": "code",
   "execution_count": 1,
   "metadata": {
    "id": "PBtjwh9N-3JW"
   },
   "outputs": [],
   "source": [
    "# pip install xgboost"
   ]
  },
  {
   "cell_type": "code",
   "execution_count": 2,
   "metadata": {
    "id": "vzutG69SV-jM"
   },
   "outputs": [],
   "source": [
    "import pandas as pd # for data manupulation\n",
    "import numpy as np # for numeric operation\n",
    "import matplotlib.pyplot as plt\n",
    "import seaborn as sns\n",
    "# seaborn and matplotlib for visualization\n",
    "\n",
    "import xgboost as xgb\n",
    "# xgboost for performing regression\n",
    "\n",
    "\n",
    "from sklearn.model_selection import train_test_split, GridSearchCV\n",
    "# train_test_split for splitting\n",
    "# grid search for hyperparameter tuning\n",
    "\n",
    "from sklearn.metrics import mean_absolute_error\n",
    "from sklearn.metrics import mean_squared_error\n",
    "from sklearn.metrics import r2_score\n",
    "#these are regression evaluation metric\n",
    "\n",
    "\n",
    "import warnings\n",
    "warnings.filterwarnings(\"ignore\") # for not displaying warning\n",
    "pd.set_option(\"display.max_columns\", 100) # default number of rows to be displayed."
   ]
  },
  {
   "cell_type": "code",
   "execution_count": 3,
   "metadata": {
    "colab": {
     "base_uri": "https://localhost:8080/",
     "height": 194
    },
    "id": "ZTIz576iWjXj",
    "outputId": "a2e14edb-169c-4c47-caac-7e43a67fb900"
   },
   "outputs": [
    {
     "data": {
      "text/html": [
       "<div>\n",
       "<style scoped>\n",
       "    .dataframe tbody tr th:only-of-type {\n",
       "        vertical-align: middle;\n",
       "    }\n",
       "\n",
       "    .dataframe tbody tr th {\n",
       "        vertical-align: top;\n",
       "    }\n",
       "\n",
       "    .dataframe thead th {\n",
       "        text-align: right;\n",
       "    }\n",
       "</style>\n",
       "<table border=\"1\" class=\"dataframe\">\n",
       "  <thead>\n",
       "    <tr style=\"text-align: right;\">\n",
       "      <th></th>\n",
       "      <th>Car_Name</th>\n",
       "      <th>Year</th>\n",
       "      <th>Selling_Price</th>\n",
       "      <th>Present_Price</th>\n",
       "      <th>Kms_Driven</th>\n",
       "      <th>Fuel_Type</th>\n",
       "      <th>Seller_Type</th>\n",
       "      <th>Transmission</th>\n",
       "      <th>Owner</th>\n",
       "    </tr>\n",
       "  </thead>\n",
       "  <tbody>\n",
       "    <tr>\n",
       "      <th>0</th>\n",
       "      <td>ritz</td>\n",
       "      <td>2014</td>\n",
       "      <td>3.35</td>\n",
       "      <td>5.59</td>\n",
       "      <td>27000</td>\n",
       "      <td>Petrol</td>\n",
       "      <td>Dealer</td>\n",
       "      <td>Manual</td>\n",
       "      <td>0</td>\n",
       "    </tr>\n",
       "    <tr>\n",
       "      <th>1</th>\n",
       "      <td>sx4</td>\n",
       "      <td>2013</td>\n",
       "      <td>4.75</td>\n",
       "      <td>9.54</td>\n",
       "      <td>43000</td>\n",
       "      <td>Diesel</td>\n",
       "      <td>Dealer</td>\n",
       "      <td>Manual</td>\n",
       "      <td>0</td>\n",
       "    </tr>\n",
       "    <tr>\n",
       "      <th>2</th>\n",
       "      <td>ciaz</td>\n",
       "      <td>2017</td>\n",
       "      <td>7.25</td>\n",
       "      <td>9.85</td>\n",
       "      <td>6900</td>\n",
       "      <td>Petrol</td>\n",
       "      <td>Dealer</td>\n",
       "      <td>Manual</td>\n",
       "      <td>0</td>\n",
       "    </tr>\n",
       "    <tr>\n",
       "      <th>3</th>\n",
       "      <td>wagon r</td>\n",
       "      <td>2011</td>\n",
       "      <td>2.85</td>\n",
       "      <td>4.15</td>\n",
       "      <td>5200</td>\n",
       "      <td>Petrol</td>\n",
       "      <td>Dealer</td>\n",
       "      <td>Manual</td>\n",
       "      <td>0</td>\n",
       "    </tr>\n",
       "    <tr>\n",
       "      <th>4</th>\n",
       "      <td>swift</td>\n",
       "      <td>2014</td>\n",
       "      <td>4.60</td>\n",
       "      <td>6.87</td>\n",
       "      <td>42450</td>\n",
       "      <td>Diesel</td>\n",
       "      <td>Dealer</td>\n",
       "      <td>Manual</td>\n",
       "      <td>0</td>\n",
       "    </tr>\n",
       "  </tbody>\n",
       "</table>\n",
       "</div>"
      ],
      "text/plain": [
       "  Car_Name  Year  Selling_Price  Present_Price  Kms_Driven Fuel_Type  \\\n",
       "0     ritz  2014           3.35           5.59       27000    Petrol   \n",
       "1      sx4  2013           4.75           9.54       43000    Diesel   \n",
       "2     ciaz  2017           7.25           9.85        6900    Petrol   \n",
       "3  wagon r  2011           2.85           4.15        5200    Petrol   \n",
       "4    swift  2014           4.60           6.87       42450    Diesel   \n",
       "\n",
       "  Seller_Type Transmission  Owner  \n",
       "0      Dealer       Manual      0  \n",
       "1      Dealer       Manual      0  \n",
       "2      Dealer       Manual      0  \n",
       "3      Dealer       Manual      0  \n",
       "4      Dealer       Manual      0  "
      ]
     },
     "execution_count": 3,
     "metadata": {},
     "output_type": "execute_result"
    }
   ],
   "source": [
    "df = pd.read_csv('cardata.csv') #load the dataset\n",
    "df.head() #print first 5 record"
   ]
  },
  {
   "cell_type": "markdown",
   "metadata": {
    "id": "VQb7s3VKDVNp"
   },
   "source": [
    "<div class=\"alert alert-info\" style=\"background-color:#006a79; color:white; padding:0px 10px; border-radius:5px;\"><h2 style='margin:10px 5px'>EDA</h2>\n",
    "</div>"
   ]
  },
  {
   "cell_type": "code",
   "execution_count": 4,
   "metadata": {
    "colab": {
     "base_uri": "https://localhost:8080/"
    },
    "id": "1dIoT340Wurr",
    "outputId": "1037acf0-211d-42a5-f24f-668f6f076019"
   },
   "outputs": [
    {
     "data": {
      "text/plain": [
       "(301, 9)"
      ]
     },
     "execution_count": 4,
     "metadata": {},
     "output_type": "execute_result"
    }
   ],
   "source": [
    "df.shape"
   ]
  },
  {
   "cell_type": "code",
   "execution_count": 5,
   "metadata": {
    "colab": {
     "base_uri": "https://localhost:8080/",
     "height": 282
    },
    "id": "VG1o79inW09a",
    "outputId": "4093dad7-ee6d-419d-9b85-c7c13a9ea8ab"
   },
   "outputs": [
    {
     "data": {
      "text/html": [
       "<div>\n",
       "<style scoped>\n",
       "    .dataframe tbody tr th:only-of-type {\n",
       "        vertical-align: middle;\n",
       "    }\n",
       "\n",
       "    .dataframe tbody tr th {\n",
       "        vertical-align: top;\n",
       "    }\n",
       "\n",
       "    .dataframe thead th {\n",
       "        text-align: right;\n",
       "    }\n",
       "</style>\n",
       "<table border=\"1\" class=\"dataframe\">\n",
       "  <thead>\n",
       "    <tr style=\"text-align: right;\">\n",
       "      <th></th>\n",
       "      <th>Year</th>\n",
       "      <th>Selling_Price</th>\n",
       "      <th>Present_Price</th>\n",
       "      <th>Kms_Driven</th>\n",
       "      <th>Owner</th>\n",
       "    </tr>\n",
       "  </thead>\n",
       "  <tbody>\n",
       "    <tr>\n",
       "      <th>count</th>\n",
       "      <td>301.000000</td>\n",
       "      <td>301.000000</td>\n",
       "      <td>301.000000</td>\n",
       "      <td>301.000000</td>\n",
       "      <td>301.000000</td>\n",
       "    </tr>\n",
       "    <tr>\n",
       "      <th>mean</th>\n",
       "      <td>2013.627907</td>\n",
       "      <td>4.661296</td>\n",
       "      <td>7.628472</td>\n",
       "      <td>36947.205980</td>\n",
       "      <td>0.043189</td>\n",
       "    </tr>\n",
       "    <tr>\n",
       "      <th>std</th>\n",
       "      <td>2.891554</td>\n",
       "      <td>5.082812</td>\n",
       "      <td>8.644115</td>\n",
       "      <td>38886.883882</td>\n",
       "      <td>0.247915</td>\n",
       "    </tr>\n",
       "    <tr>\n",
       "      <th>min</th>\n",
       "      <td>2003.000000</td>\n",
       "      <td>0.100000</td>\n",
       "      <td>0.320000</td>\n",
       "      <td>500.000000</td>\n",
       "      <td>0.000000</td>\n",
       "    </tr>\n",
       "    <tr>\n",
       "      <th>25%</th>\n",
       "      <td>2012.000000</td>\n",
       "      <td>0.900000</td>\n",
       "      <td>1.200000</td>\n",
       "      <td>15000.000000</td>\n",
       "      <td>0.000000</td>\n",
       "    </tr>\n",
       "    <tr>\n",
       "      <th>50%</th>\n",
       "      <td>2014.000000</td>\n",
       "      <td>3.600000</td>\n",
       "      <td>6.400000</td>\n",
       "      <td>32000.000000</td>\n",
       "      <td>0.000000</td>\n",
       "    </tr>\n",
       "    <tr>\n",
       "      <th>75%</th>\n",
       "      <td>2016.000000</td>\n",
       "      <td>6.000000</td>\n",
       "      <td>9.900000</td>\n",
       "      <td>48767.000000</td>\n",
       "      <td>0.000000</td>\n",
       "    </tr>\n",
       "    <tr>\n",
       "      <th>max</th>\n",
       "      <td>2018.000000</td>\n",
       "      <td>35.000000</td>\n",
       "      <td>92.600000</td>\n",
       "      <td>500000.000000</td>\n",
       "      <td>3.000000</td>\n",
       "    </tr>\n",
       "  </tbody>\n",
       "</table>\n",
       "</div>"
      ],
      "text/plain": [
       "              Year  Selling_Price  Present_Price     Kms_Driven       Owner\n",
       "count   301.000000     301.000000     301.000000     301.000000  301.000000\n",
       "mean   2013.627907       4.661296       7.628472   36947.205980    0.043189\n",
       "std       2.891554       5.082812       8.644115   38886.883882    0.247915\n",
       "min    2003.000000       0.100000       0.320000     500.000000    0.000000\n",
       "25%    2012.000000       0.900000       1.200000   15000.000000    0.000000\n",
       "50%    2014.000000       3.600000       6.400000   32000.000000    0.000000\n",
       "75%    2016.000000       6.000000       9.900000   48767.000000    0.000000\n",
       "max    2018.000000      35.000000      92.600000  500000.000000    3.000000"
      ]
     },
     "execution_count": 5,
     "metadata": {},
     "output_type": "execute_result"
    }
   ],
   "source": [
    "df.describe()"
   ]
  },
  {
   "cell_type": "code",
   "execution_count": 6,
   "metadata": {
    "colab": {
     "base_uri": "https://localhost:8080/"
    },
    "id": "1aqnqR3EkJR1",
    "outputId": "ab616afa-89f7-4356-a43a-b7467d8a7b51"
   },
   "outputs": [
    {
     "data": {
      "text/plain": [
       "Car_Name         0\n",
       "Year             0\n",
       "Selling_Price    0\n",
       "Present_Price    0\n",
       "Kms_Driven       0\n",
       "Fuel_Type        0\n",
       "Seller_Type      0\n",
       "Transmission     0\n",
       "Owner            0\n",
       "dtype: int64"
      ]
     },
     "execution_count": 6,
     "metadata": {},
     "output_type": "execute_result"
    }
   ],
   "source": [
    "df.isnull().sum()"
   ]
  },
  {
   "cell_type": "code",
   "execution_count": 7,
   "metadata": {
    "colab": {
     "base_uri": "https://localhost:8080/",
     "height": 873
    },
    "id": "loAoG7vNW3BI",
    "outputId": "819f652a-1ec0-4c81-dcdd-24d3ce5e512e"
   },
   "outputs": [
    {
     "data": {
      "image/png": "[encoded data removed]",
      "text/plain": [
       "<Figure size 864x864 with 6 Axes>"
      ]
     },
     "metadata": {
      "needs_background": "light"
     },
     "output_type": "display_data"
    }
   ],
   "source": [
    "df.hist(figsize=(12,12),bins=50)\n",
    "plt.tight_layout()"
   ]
  },
  {
   "cell_type": "code",
   "execution_count": 8,
   "metadata": {
    "colab": {
     "base_uri": "https://localhost:8080/",
     "height": 277
    },
    "id": "6I6nfImkkPIk",
    "outputId": "a45d4d51-fe49-4c60-8a45-2cc236f17a73"
   },
   "outputs": [
    {
     "data": {
      "text/html": [
       "<div>\n",
       "<style scoped>\n",
       "    .dataframe tbody tr th:only-of-type {\n",
       "        vertical-align: middle;\n",
       "    }\n",
       "\n",
       "    .dataframe tbody tr th {\n",
       "        vertical-align: top;\n",
       "    }\n",
       "\n",
       "    .dataframe thead th {\n",
       "        text-align: right;\n",
       "    }\n",
       "</style>\n",
       "<table border=\"1\" class=\"dataframe\">\n",
       "  <thead>\n",
       "    <tr style=\"text-align: right;\">\n",
       "      <th></th>\n",
       "      <th>Year</th>\n",
       "      <th>Selling_Price</th>\n",
       "      <th>Present_Price</th>\n",
       "      <th>Kms_Driven</th>\n",
       "      <th>Owner</th>\n",
       "      <th>Car_Name_Activa 3g</th>\n",
       "      <th>Car_Name_Activa 4g</th>\n",
       "      <th>Car_Name_Bajaj  ct 100</th>\n",
       "      <th>Car_Name_Bajaj Avenger 150</th>\n",
       "      <th>Car_Name_Bajaj Avenger 150 street</th>\n",
       "      <th>Car_Name_Bajaj Avenger 220</th>\n",
       "      <th>Car_Name_Bajaj Avenger 220 dtsi</th>\n",
       "      <th>Car_Name_Bajaj Avenger Street 220</th>\n",
       "      <th>Car_Name_Bajaj Discover 100</th>\n",
       "      <th>Car_Name_Bajaj Discover 125</th>\n",
       "      <th>Car_Name_Bajaj Dominar 400</th>\n",
       "      <th>Car_Name_Bajaj Pulsar  NS 200</th>\n",
       "      <th>Car_Name_Bajaj Pulsar 135 LS</th>\n",
       "      <th>Car_Name_Bajaj Pulsar 150</th>\n",
       "      <th>Car_Name_Bajaj Pulsar 220 F</th>\n",
       "      <th>Car_Name_Bajaj Pulsar NS 200</th>\n",
       "      <th>Car_Name_Bajaj Pulsar RS200</th>\n",
       "      <th>Car_Name_Hero  CBZ Xtreme</th>\n",
       "      <th>Car_Name_Hero  Ignitor Disc</th>\n",
       "      <th>Car_Name_Hero Extreme</th>\n",
       "      <th>Car_Name_Hero Glamour</th>\n",
       "      <th>Car_Name_Hero Honda CBZ extreme</th>\n",
       "      <th>Car_Name_Hero Honda Passion Pro</th>\n",
       "      <th>Car_Name_Hero Hunk</th>\n",
       "      <th>Car_Name_Hero Passion Pro</th>\n",
       "      <th>Car_Name_Hero Passion X pro</th>\n",
       "      <th>Car_Name_Hero Splender Plus</th>\n",
       "      <th>Car_Name_Hero Splender iSmart</th>\n",
       "      <th>Car_Name_Hero Super Splendor</th>\n",
       "      <th>Car_Name_Honda Activa 125</th>\n",
       "      <th>Car_Name_Honda Activa 4G</th>\n",
       "      <th>Car_Name_Honda CB Hornet 160R</th>\n",
       "      <th>Car_Name_Honda CB Shine</th>\n",
       "      <th>Car_Name_Honda CB Trigger</th>\n",
       "      <th>Car_Name_Honda CB Unicorn</th>\n",
       "      <th>Car_Name_Honda CB twister</th>\n",
       "      <th>Car_Name_Honda CBR 150</th>\n",
       "      <th>Car_Name_Honda Dream Yuga</th>\n",
       "      <th>Car_Name_Honda Karizma</th>\n",
       "      <th>Car_Name_Hyosung GT250R</th>\n",
       "      <th>Car_Name_KTM 390 Duke</th>\n",
       "      <th>Car_Name_KTM RC200</th>\n",
       "      <th>Car_Name_KTM RC390</th>\n",
       "      <th>Car_Name_Mahindra Mojo XT300</th>\n",
       "      <th>Car_Name_Royal Enfield Bullet 350</th>\n",
       "      <th>...</th>\n",
       "      <th>Car_Name_TVS Apache RTR 180</th>\n",
       "      <th>Car_Name_TVS Jupyter</th>\n",
       "      <th>Car_Name_TVS Sport</th>\n",
       "      <th>Car_Name_TVS Wego</th>\n",
       "      <th>Car_Name_UM Renegade Mojave</th>\n",
       "      <th>Car_Name_Yamaha FZ  v 2.0</th>\n",
       "      <th>Car_Name_Yamaha FZ 16</th>\n",
       "      <th>Car_Name_Yamaha FZ S</th>\n",
       "      <th>Car_Name_Yamaha FZ S V 2.0</th>\n",
       "      <th>Car_Name_Yamaha Fazer</th>\n",
       "      <th>Car_Name_alto 800</th>\n",
       "      <th>Car_Name_alto k10</th>\n",
       "      <th>Car_Name_amaze</th>\n",
       "      <th>Car_Name_baleno</th>\n",
       "      <th>Car_Name_brio</th>\n",
       "      <th>Car_Name_camry</th>\n",
       "      <th>Car_Name_ciaz</th>\n",
       "      <th>Car_Name_city</th>\n",
       "      <th>Car_Name_corolla</th>\n",
       "      <th>Car_Name_corolla altis</th>\n",
       "      <th>Car_Name_creta</th>\n",
       "      <th>Car_Name_dzire</th>\n",
       "      <th>Car_Name_elantra</th>\n",
       "      <th>Car_Name_eon</th>\n",
       "      <th>Car_Name_ertiga</th>\n",
       "      <th>Car_Name_etios cross</th>\n",
       "      <th>Car_Name_etios g</th>\n",
       "      <th>Car_Name_etios gd</th>\n",
       "      <th>Car_Name_etios liva</th>\n",
       "      <th>Car_Name_fortuner</th>\n",
       "      <th>Car_Name_grand i10</th>\n",
       "      <th>Car_Name_i10</th>\n",
       "      <th>Car_Name_i20</th>\n",
       "      <th>Car_Name_ignis</th>\n",
       "      <th>Car_Name_innova</th>\n",
       "      <th>Car_Name_jazz</th>\n",
       "      <th>Car_Name_land cruiser</th>\n",
       "      <th>Car_Name_omni</th>\n",
       "      <th>Car_Name_ritz</th>\n",
       "      <th>Car_Name_s cross</th>\n",
       "      <th>Car_Name_swift</th>\n",
       "      <th>Car_Name_sx4</th>\n",
       "      <th>Car_Name_verna</th>\n",
       "      <th>Car_Name_vitara brezza</th>\n",
       "      <th>Car_Name_wagon r</th>\n",
       "      <th>Car_Name_xcent</th>\n",
       "      <th>Fuel_Type_Diesel</th>\n",
       "      <th>Fuel_Type_Petrol</th>\n",
       "      <th>Seller_Type_Individual</th>\n",
       "      <th>Transmission_Manual</th>\n",
       "    </tr>\n",
       "  </thead>\n",
       "  <tbody>\n",
       "    <tr>\n",
       "      <th>0</th>\n",
       "      <td>2014</td>\n",
       "      <td>3.35</td>\n",
       "      <td>5.59</td>\n",
       "      <td>27000</td>\n",
       "      <td>0</td>\n",
       "      <td>0</td>\n",
       "      <td>0</td>\n",
       "      <td>0</td>\n",
       "      <td>0</td>\n",
       "      <td>0</td>\n",
       "      <td>0</td>\n",
       "      <td>0</td>\n",
       "      <td>0</td>\n",
       "      <td>0</td>\n",
       "      <td>0</td>\n",
       "      <td>0</td>\n",
       "      <td>0</td>\n",
       "      <td>0</td>\n",
       "      <td>0</td>\n",
       "      <td>0</td>\n",
       "      <td>0</td>\n",
       "      <td>0</td>\n",
       "      <td>0</td>\n",
       "      <td>0</td>\n",
       "      <td>0</td>\n",
       "      <td>0</td>\n",
       "      <td>0</td>\n",
       "      <td>0</td>\n",
       "      <td>0</td>\n",
       "      <td>0</td>\n",
       "      <td>0</td>\n",
       "      <td>0</td>\n",
       "      <td>0</td>\n",
       "      <td>0</td>\n",
       "      <td>0</td>\n",
       "      <td>0</td>\n",
       "      <td>0</td>\n",
       "      <td>0</td>\n",
       "      <td>0</td>\n",
       "      <td>0</td>\n",
       "      <td>0</td>\n",
       "      <td>0</td>\n",
       "      <td>0</td>\n",
       "      <td>0</td>\n",
       "      <td>0</td>\n",
       "      <td>0</td>\n",
       "      <td>0</td>\n",
       "      <td>0</td>\n",
       "      <td>0</td>\n",
       "      <td>0</td>\n",
       "      <td>...</td>\n",
       "      <td>0</td>\n",
       "      <td>0</td>\n",
       "      <td>0</td>\n",
       "      <td>0</td>\n",
       "      <td>0</td>\n",
       "      <td>0</td>\n",
       "      <td>0</td>\n",
       "      <td>0</td>\n",
       "      <td>0</td>\n",
       "      <td>0</td>\n",
       "      <td>0</td>\n",
       "      <td>0</td>\n",
       "      <td>0</td>\n",
       "      <td>0</td>\n",
       "      <td>0</td>\n",
       "      <td>0</td>\n",
       "      <td>0</td>\n",
       "      <td>0</td>\n",
       "      <td>0</td>\n",
       "      <td>0</td>\n",
       "      <td>0</td>\n",
       "      <td>0</td>\n",
       "      <td>0</td>\n",
       "      <td>0</td>\n",
       "      <td>0</td>\n",
       "      <td>0</td>\n",
       "      <td>0</td>\n",
       "      <td>0</td>\n",
       "      <td>0</td>\n",
       "      <td>0</td>\n",
       "      <td>0</td>\n",
       "      <td>0</td>\n",
       "      <td>0</td>\n",
       "      <td>0</td>\n",
       "      <td>0</td>\n",
       "      <td>0</td>\n",
       "      <td>0</td>\n",
       "      <td>0</td>\n",
       "      <td>1</td>\n",
       "      <td>0</td>\n",
       "      <td>0</td>\n",
       "      <td>0</td>\n",
       "      <td>0</td>\n",
       "      <td>0</td>\n",
       "      <td>0</td>\n",
       "      <td>0</td>\n",
       "      <td>0</td>\n",
       "      <td>1</td>\n",
       "      <td>0</td>\n",
       "      <td>1</td>\n",
       "    </tr>\n",
       "    <tr>\n",
       "      <th>1</th>\n",
       "      <td>2013</td>\n",
       "      <td>4.75</td>\n",
       "      <td>9.54</td>\n",
       "      <td>43000</td>\n",
       "      <td>0</td>\n",
       "      <td>0</td>\n",
       "      <td>0</td>\n",
       "      <td>0</td>\n",
       "      <td>0</td>\n",
       "      <td>0</td>\n",
       "      <td>0</td>\n",
       "      <td>0</td>\n",
       "      <td>0</td>\n",
       "      <td>0</td>\n",
       "      <td>0</td>\n",
       "      <td>0</td>\n",
       "      <td>0</td>\n",
       "      <td>0</td>\n",
       "      <td>0</td>\n",
       "      <td>0</td>\n",
       "      <td>0</td>\n",
       "      <td>0</td>\n",
       "      <td>0</td>\n",
       "      <td>0</td>\n",
       "      <td>0</td>\n",
       "      <td>0</td>\n",
       "      <td>0</td>\n",
       "      <td>0</td>\n",
       "      <td>0</td>\n",
       "      <td>0</td>\n",
       "      <td>0</td>\n",
       "      <td>0</td>\n",
       "      <td>0</td>\n",
       "      <td>0</td>\n",
       "      <td>0</td>\n",
       "      <td>0</td>\n",
       "      <td>0</td>\n",
       "      <td>0</td>\n",
       "      <td>0</td>\n",
       "      <td>0</td>\n",
       "      <td>0</td>\n",
       "      <td>0</td>\n",
       "      <td>0</td>\n",
       "      <td>0</td>\n",
       "      <td>0</td>\n",
       "      <td>0</td>\n",
       "      <td>0</td>\n",
       "      <td>0</td>\n",
       "      <td>0</td>\n",
       "      <td>0</td>\n",
       "      <td>...</td>\n",
       "      <td>0</td>\n",
       "      <td>0</td>\n",
       "      <td>0</td>\n",
       "      <td>0</td>\n",
       "      <td>0</td>\n",
       "      <td>0</td>\n",
       "      <td>0</td>\n",
       "      <td>0</td>\n",
       "      <td>0</td>\n",
       "      <td>0</td>\n",
       "      <td>0</td>\n",
       "      <td>0</td>\n",
       "      <td>0</td>\n",
       "      <td>0</td>\n",
       "      <td>0</td>\n",
       "      <td>0</td>\n",
       "      <td>0</td>\n",
       "      <td>0</td>\n",
       "      <td>0</td>\n",
       "      <td>0</td>\n",
       "      <td>0</td>\n",
       "      <td>0</td>\n",
       "      <td>0</td>\n",
       "      <td>0</td>\n",
       "      <td>0</td>\n",
       "      <td>0</td>\n",
       "      <td>0</td>\n",
       "      <td>0</td>\n",
       "      <td>0</td>\n",
       "      <td>0</td>\n",
       "      <td>0</td>\n",
       "      <td>0</td>\n",
       "      <td>0</td>\n",
       "      <td>0</td>\n",
       "      <td>0</td>\n",
       "      <td>0</td>\n",
       "      <td>0</td>\n",
       "      <td>0</td>\n",
       "      <td>0</td>\n",
       "      <td>0</td>\n",
       "      <td>0</td>\n",
       "      <td>1</td>\n",
       "      <td>0</td>\n",
       "      <td>0</td>\n",
       "      <td>0</td>\n",
       "      <td>0</td>\n",
       "      <td>1</td>\n",
       "      <td>0</td>\n",
       "      <td>0</td>\n",
       "      <td>1</td>\n",
       "    </tr>\n",
       "    <tr>\n",
       "      <th>2</th>\n",
       "      <td>2017</td>\n",
       "      <td>7.25</td>\n",
       "      <td>9.85</td>\n",
       "      <td>6900</td>\n",
       "      <td>0</td>\n",
       "      <td>0</td>\n",
       "      <td>0</td>\n",
       "      <td>0</td>\n",
       "      <td>0</td>\n",
       "      <td>0</td>\n",
       "      <td>0</td>\n",
       "      <td>0</td>\n",
       "      <td>0</td>\n",
       "      <td>0</td>\n",
       "      <td>0</td>\n",
       "      <td>0</td>\n",
       "      <td>0</td>\n",
       "      <td>0</td>\n",
       "      <td>0</td>\n",
       "      <td>0</td>\n",
       "      <td>0</td>\n",
       "      <td>0</td>\n",
       "      <td>0</td>\n",
       "      <td>0</td>\n",
       "      <td>0</td>\n",
       "      <td>0</td>\n",
       "      <td>0</td>\n",
       "      <td>0</td>\n",
       "      <td>0</td>\n",
       "      <td>0</td>\n",
       "      <td>0</td>\n",
       "      <td>0</td>\n",
       "      <td>0</td>\n",
       "      <td>0</td>\n",
       "      <td>0</td>\n",
       "      <td>0</td>\n",
       "      <td>0</td>\n",
       "      <td>0</td>\n",
       "      <td>0</td>\n",
       "      <td>0</td>\n",
       "      <td>0</td>\n",
       "      <td>0</td>\n",
       "      <td>0</td>\n",
       "      <td>0</td>\n",
       "      <td>0</td>\n",
       "      <td>0</td>\n",
       "      <td>0</td>\n",
       "      <td>0</td>\n",
       "      <td>0</td>\n",
       "      <td>0</td>\n",
       "      <td>...</td>\n",
       "      <td>0</td>\n",
       "      <td>0</td>\n",
       "      <td>0</td>\n",
       "      <td>0</td>\n",
       "      <td>0</td>\n",
       "      <td>0</td>\n",
       "      <td>0</td>\n",
       "      <td>0</td>\n",
       "      <td>0</td>\n",
       "      <td>0</td>\n",
       "      <td>0</td>\n",
       "      <td>0</td>\n",
       "      <td>0</td>\n",
       "      <td>0</td>\n",
       "      <td>0</td>\n",
       "      <td>0</td>\n",
       "      <td>1</td>\n",
       "      <td>0</td>\n",
       "      <td>0</td>\n",
       "      <td>0</td>\n",
       "      <td>0</td>\n",
       "      <td>0</td>\n",
       "      <td>0</td>\n",
       "      <td>0</td>\n",
       "      <td>0</td>\n",
       "      <td>0</td>\n",
       "      <td>0</td>\n",
       "      <td>0</td>\n",
       "      <td>0</td>\n",
       "      <td>0</td>\n",
       "      <td>0</td>\n",
       "      <td>0</td>\n",
       "      <td>0</td>\n",
       "      <td>0</td>\n",
       "      <td>0</td>\n",
       "      <td>0</td>\n",
       "      <td>0</td>\n",
       "      <td>0</td>\n",
       "      <td>0</td>\n",
       "      <td>0</td>\n",
       "      <td>0</td>\n",
       "      <td>0</td>\n",
       "      <td>0</td>\n",
       "      <td>0</td>\n",
       "      <td>0</td>\n",
       "      <td>0</td>\n",
       "      <td>0</td>\n",
       "      <td>1</td>\n",
       "      <td>0</td>\n",
       "      <td>1</td>\n",
       "    </tr>\n",
       "    <tr>\n",
       "      <th>3</th>\n",
       "      <td>2011</td>\n",
       "      <td>2.85</td>\n",
       "      <td>4.15</td>\n",
       "      <td>5200</td>\n",
       "      <td>0</td>\n",
       "      <td>0</td>\n",
       "      <td>0</td>\n",
       "      <td>0</td>\n",
       "      <td>0</td>\n",
       "      <td>0</td>\n",
       "      <td>0</td>\n",
       "      <td>0</td>\n",
       "      <td>0</td>\n",
       "      <td>0</td>\n",
       "      <td>0</td>\n",
       "      <td>0</td>\n",
       "      <td>0</td>\n",
       "      <td>0</td>\n",
       "      <td>0</td>\n",
       "      <td>0</td>\n",
       "      <td>0</td>\n",
       "      <td>0</td>\n",
       "      <td>0</td>\n",
       "      <td>0</td>\n",
       "      <td>0</td>\n",
       "      <td>0</td>\n",
       "      <td>0</td>\n",
       "      <td>0</td>\n",
       "      <td>0</td>\n",
       "      <td>0</td>\n",
       "      <td>0</td>\n",
       "      <td>0</td>\n",
       "      <td>0</td>\n",
       "      <td>0</td>\n",
       "      <td>0</td>\n",
       "      <td>0</td>\n",
       "      <td>0</td>\n",
       "      <td>0</td>\n",
       "      <td>0</td>\n",
       "      <td>0</td>\n",
       "      <td>0</td>\n",
       "      <td>0</td>\n",
       "      <td>0</td>\n",
       "      <td>0</td>\n",
       "      <td>0</td>\n",
       "      <td>0</td>\n",
       "      <td>0</td>\n",
       "      <td>0</td>\n",
       "      <td>0</td>\n",
       "      <td>0</td>\n",
       "      <td>...</td>\n",
       "      <td>0</td>\n",
       "      <td>0</td>\n",
       "      <td>0</td>\n",
       "      <td>0</td>\n",
       "      <td>0</td>\n",
       "      <td>0</td>\n",
       "      <td>0</td>\n",
       "      <td>0</td>\n",
       "      <td>0</td>\n",
       "      <td>0</td>\n",
       "      <td>0</td>\n",
       "      <td>0</td>\n",
       "      <td>0</td>\n",
       "      <td>0</td>\n",
       "      <td>0</td>\n",
       "      <td>0</td>\n",
       "      <td>0</td>\n",
       "      <td>0</td>\n",
       "      <td>0</td>\n",
       "      <td>0</td>\n",
       "      <td>0</td>\n",
       "      <td>0</td>\n",
       "      <td>0</td>\n",
       "      <td>0</td>\n",
       "      <td>0</td>\n",
       "      <td>0</td>\n",
       "      <td>0</td>\n",
       "      <td>0</td>\n",
       "      <td>0</td>\n",
       "      <td>0</td>\n",
       "      <td>0</td>\n",
       "      <td>0</td>\n",
       "      <td>0</td>\n",
       "      <td>0</td>\n",
       "      <td>0</td>\n",
       "      <td>0</td>\n",
       "      <td>0</td>\n",
       "      <td>0</td>\n",
       "      <td>0</td>\n",
       "      <td>0</td>\n",
       "      <td>0</td>\n",
       "      <td>0</td>\n",
       "      <td>0</td>\n",
       "      <td>0</td>\n",
       "      <td>1</td>\n",
       "      <td>0</td>\n",
       "      <td>0</td>\n",
       "      <td>1</td>\n",
       "      <td>0</td>\n",
       "      <td>1</td>\n",
       "    </tr>\n",
       "    <tr>\n",
       "      <th>4</th>\n",
       "      <td>2014</td>\n",
       "      <td>4.60</td>\n",
       "      <td>6.87</td>\n",
       "      <td>42450</td>\n",
       "      <td>0</td>\n",
       "      <td>0</td>\n",
       "      <td>0</td>\n",
       "      <td>0</td>\n",
       "      <td>0</td>\n",
       "      <td>0</td>\n",
       "      <td>0</td>\n",
       "      <td>0</td>\n",
       "      <td>0</td>\n",
       "      <td>0</td>\n",
       "      <td>0</td>\n",
       "      <td>0</td>\n",
       "      <td>0</td>\n",
       "      <td>0</td>\n",
       "      <td>0</td>\n",
       "      <td>0</td>\n",
       "      <td>0</td>\n",
       "      <td>0</td>\n",
       "      <td>0</td>\n",
       "      <td>0</td>\n",
       "      <td>0</td>\n",
       "      <td>0</td>\n",
       "      <td>0</td>\n",
       "      <td>0</td>\n",
       "      <td>0</td>\n",
       "      <td>0</td>\n",
       "      <td>0</td>\n",
       "      <td>0</td>\n",
       "      <td>0</td>\n",
       "      <td>0</td>\n",
       "      <td>0</td>\n",
       "      <td>0</td>\n",
       "      <td>0</td>\n",
       "      <td>0</td>\n",
       "      <td>0</td>\n",
       "      <td>0</td>\n",
       "      <td>0</td>\n",
       "      <td>0</td>\n",
       "      <td>0</td>\n",
       "      <td>0</td>\n",
       "      <td>0</td>\n",
       "      <td>0</td>\n",
       "      <td>0</td>\n",
       "      <td>0</td>\n",
       "      <td>0</td>\n",
       "      <td>0</td>\n",
       "      <td>...</td>\n",
       "      <td>0</td>\n",
       "      <td>0</td>\n",
       "      <td>0</td>\n",
       "      <td>0</td>\n",
       "      <td>0</td>\n",
       "      <td>0</td>\n",
       "      <td>0</td>\n",
       "      <td>0</td>\n",
       "      <td>0</td>\n",
       "      <td>0</td>\n",
       "      <td>0</td>\n",
       "      <td>0</td>\n",
       "      <td>0</td>\n",
       "      <td>0</td>\n",
       "      <td>0</td>\n",
       "      <td>0</td>\n",
       "      <td>0</td>\n",
       "      <td>0</td>\n",
       "      <td>0</td>\n",
       "      <td>0</td>\n",
       "      <td>0</td>\n",
       "      <td>0</td>\n",
       "      <td>0</td>\n",
       "      <td>0</td>\n",
       "      <td>0</td>\n",
       "      <td>0</td>\n",
       "      <td>0</td>\n",
       "      <td>0</td>\n",
       "      <td>0</td>\n",
       "      <td>0</td>\n",
       "      <td>0</td>\n",
       "      <td>0</td>\n",
       "      <td>0</td>\n",
       "      <td>0</td>\n",
       "      <td>0</td>\n",
       "      <td>0</td>\n",
       "      <td>0</td>\n",
       "      <td>0</td>\n",
       "      <td>0</td>\n",
       "      <td>0</td>\n",
       "      <td>1</td>\n",
       "      <td>0</td>\n",
       "      <td>0</td>\n",
       "      <td>0</td>\n",
       "      <td>0</td>\n",
       "      <td>0</td>\n",
       "      <td>1</td>\n",
       "      <td>0</td>\n",
       "      <td>0</td>\n",
       "      <td>1</td>\n",
       "    </tr>\n",
       "  </tbody>\n",
       "</table>\n",
       "<p>5 rows × 106 columns</p>\n",
       "</div>"
      ],
      "text/plain": [
       "   Year  Selling_Price  Present_Price  Kms_Driven  Owner  Car_Name_Activa 3g  \\\n",
       "0  2014           3.35           5.59       27000      0                   0   \n",
       "1  2013           4.75           9.54       43000      0                   0   \n",
       "2  2017           7.25           9.85        6900      0                   0   \n",
       "3  2011           2.85           4.15        5200      0                   0   \n",
       "4  2014           4.60           6.87       42450      0                   0   \n",
       "\n",
       "   Car_Name_Activa 4g  Car_Name_Bajaj  ct 100  Car_Name_Bajaj Avenger 150  \\\n",
       "0                   0                       0                           0   \n",
       "1                   0                       0                           0   \n",
       "2                   0                       0                           0   \n",
       "3                   0                       0                           0   \n",
       "4                   0                       0                           0   \n",
       "\n",
       "   Car_Name_Bajaj Avenger 150 street  Car_Name_Bajaj Avenger 220  \\\n",
       "0                                  0                           0   \n",
       "1                                  0                           0   \n",
       "2                                  0                           0   \n",
       "3                                  0                           0   \n",
       "4                                  0                           0   \n",
       "\n",
       "   Car_Name_Bajaj Avenger 220 dtsi  Car_Name_Bajaj Avenger Street 220  \\\n",
       "0                                0                                  0   \n",
       "1                                0                                  0   \n",
       "2                                0                                  0   \n",
       "3                                0                                  0   \n",
       "4                                0                                  0   \n",
       "\n",
       "   Car_Name_Bajaj Discover 100  Car_Name_Bajaj Discover 125  \\\n",
       "0                            0                            0   \n",
       "1                            0                            0   \n",
       "2                            0                            0   \n",
       "3                            0                            0   \n",
       "4                            0                            0   \n",
       "\n",
       "   Car_Name_Bajaj Dominar 400  Car_Name_Bajaj Pulsar  NS 200  \\\n",
       "0                           0                              0   \n",
       "1                           0                              0   \n",
       "2                           0                              0   \n",
       "3                           0                              0   \n",
       "4                           0                              0   \n",
       "\n",
       "   Car_Name_Bajaj Pulsar 135 LS  Car_Name_Bajaj Pulsar 150  \\\n",
       "0                             0                          0   \n",
       "1                             0                          0   \n",
       "2                             0                          0   \n",
       "3                             0                          0   \n",
       "4                             0                          0   \n",
       "\n",
       "   Car_Name_Bajaj Pulsar 220 F  Car_Name_Bajaj Pulsar NS 200  \\\n",
       "0                            0                             0   \n",
       "1                            0                             0   \n",
       "2                            0                             0   \n",
       "3                            0                             0   \n",
       "4                            0                             0   \n",
       "\n",
       "   Car_Name_Bajaj Pulsar RS200  Car_Name_Hero  CBZ Xtreme  \\\n",
       "0                            0                          0   \n",
       "1                            0                          0   \n",
       "2                            0                          0   \n",
       "3                            0                          0   \n",
       "4                            0                          0   \n",
       "\n",
       "   Car_Name_Hero  Ignitor Disc  Car_Name_Hero Extreme  Car_Name_Hero Glamour  \\\n",
       "0                            0                      0                      0   \n",
       "1                            0                      0                      0   \n",
       "2                            0                      0                      0   \n",
       "3                            0                      0                      0   \n",
       "4                            0                      0                      0   \n",
       "\n",
       "   Car_Name_Hero Honda CBZ extreme  Car_Name_Hero Honda Passion Pro  \\\n",
       "0                                0                                0   \n",
       "1                                0                                0   \n",
       "2                                0                                0   \n",
       "3                                0                                0   \n",
       "4                                0                                0   \n",
       "\n",
       "   Car_Name_Hero Hunk  Car_Name_Hero Passion Pro  Car_Name_Hero Passion X pro  \\\n",
       "0                   0                          0                            0   \n",
       "1                   0                          0                            0   \n",
       "2                   0                          0                            0   \n",
       "3                   0                          0                            0   \n",
       "4                   0                          0                            0   \n",
       "\n",
       "   Car_Name_Hero Splender Plus  Car_Name_Hero Splender iSmart  \\\n",
       "0                            0                              0   \n",
       "1                            0                              0   \n",
       "2                            0                              0   \n",
       "3                            0                              0   \n",
       "4                            0                              0   \n",
       "\n",
       "   Car_Name_Hero Super Splendor  Car_Name_Honda Activa 125  \\\n",
       "0                             0                          0   \n",
       "1                             0                          0   \n",
       "2                             0                          0   \n",
       "3                             0                          0   \n",
       "4                             0                          0   \n",
       "\n",
       "   Car_Name_Honda Activa 4G  Car_Name_Honda CB Hornet 160R  \\\n",
       "0                         0                              0   \n",
       "1                         0                              0   \n",
       "2                         0                              0   \n",
       "3                         0                              0   \n",
       "4                         0                              0   \n",
       "\n",
       "   Car_Name_Honda CB Shine  Car_Name_Honda CB Trigger  \\\n",
       "0                        0                          0   \n",
       "1                        0                          0   \n",
       "2                        0                          0   \n",
       "3                        0                          0   \n",
       "4                        0                          0   \n",
       "\n",
       "   Car_Name_Honda CB Unicorn  Car_Name_Honda CB twister  \\\n",
       "0                          0                          0   \n",
       "1                          0                          0   \n",
       "2                          0                          0   \n",
       "3                          0                          0   \n",
       "4                          0                          0   \n",
       "\n",
       "   Car_Name_Honda CBR 150  Car_Name_Honda Dream Yuga   Car_Name_Honda Karizma  \\\n",
       "0                       0                           0                       0   \n",
       "1                       0                           0                       0   \n",
       "2                       0                           0                       0   \n",
       "3                       0                           0                       0   \n",
       "4                       0                           0                       0   \n",
       "\n",
       "   Car_Name_Hyosung GT250R  Car_Name_KTM 390 Duke   Car_Name_KTM RC200  \\\n",
       "0                        0                       0                   0   \n",
       "1                        0                       0                   0   \n",
       "2                        0                       0                   0   \n",
       "3                        0                       0                   0   \n",
       "4                        0                       0                   0   \n",
       "\n",
       "   Car_Name_KTM RC390  Car_Name_Mahindra Mojo XT300  \\\n",
       "0                   0                             0   \n",
       "1                   0                             0   \n",
       "2                   0                             0   \n",
       "3                   0                             0   \n",
       "4                   0                             0   \n",
       "\n",
       "   Car_Name_Royal Enfield Bullet 350  ...  Car_Name_TVS Apache RTR 180  \\\n",
       "0                                  0  ...                            0   \n",
       "1                                  0  ...                            0   \n",
       "2                                  0  ...                            0   \n",
       "3                                  0  ...                            0   \n",
       "4                                  0  ...                            0   \n",
       "\n",
       "   Car_Name_TVS Jupyter  Car_Name_TVS Sport   Car_Name_TVS Wego  \\\n",
       "0                     0                    0                  0   \n",
       "1                     0                    0                  0   \n",
       "2                     0                    0                  0   \n",
       "3                     0                    0                  0   \n",
       "4                     0                    0                  0   \n",
       "\n",
       "   Car_Name_UM Renegade Mojave  Car_Name_Yamaha FZ  v 2.0  \\\n",
       "0                            0                          0   \n",
       "1                            0                          0   \n",
       "2                            0                          0   \n",
       "3                            0                          0   \n",
       "4                            0                          0   \n",
       "\n",
       "   Car_Name_Yamaha FZ 16  Car_Name_Yamaha FZ S   Car_Name_Yamaha FZ S V 2.0  \\\n",
       "0                      0                      0                           0   \n",
       "1                      0                      0                           0   \n",
       "2                      0                      0                           0   \n",
       "3                      0                      0                           0   \n",
       "4                      0                      0                           0   \n",
       "\n",
       "   Car_Name_Yamaha Fazer   Car_Name_alto 800  Car_Name_alto k10  \\\n",
       "0                       0                  0                  0   \n",
       "1                       0                  0                  0   \n",
       "2                       0                  0                  0   \n",
       "3                       0                  0                  0   \n",
       "4                       0                  0                  0   \n",
       "\n",
       "   Car_Name_amaze  Car_Name_baleno  Car_Name_brio  Car_Name_camry  \\\n",
       "0               0                0              0               0   \n",
       "1               0                0              0               0   \n",
       "2               0                0              0               0   \n",
       "3               0                0              0               0   \n",
       "4               0                0              0               0   \n",
       "\n",
       "   Car_Name_ciaz  Car_Name_city  Car_Name_corolla  Car_Name_corolla altis  \\\n",
       "0              0              0                 0                       0   \n",
       "1              0              0                 0                       0   \n",
       "2              1              0                 0                       0   \n",
       "3              0              0                 0                       0   \n",
       "4              0              0                 0                       0   \n",
       "\n",
       "   Car_Name_creta  Car_Name_dzire  Car_Name_elantra  Car_Name_eon  \\\n",
       "0               0               0                 0             0   \n",
       "1               0               0                 0             0   \n",
       "2               0               0                 0             0   \n",
       "3               0               0                 0             0   \n",
       "4               0               0                 0             0   \n",
       "\n",
       "   Car_Name_ertiga  Car_Name_etios cross  Car_Name_etios g  Car_Name_etios gd  \\\n",
       "0                0                     0                 0                  0   \n",
       "1                0                     0                 0                  0   \n",
       "2                0                     0                 0                  0   \n",
       "3                0                     0                 0                  0   \n",
       "4                0                     0                 0                  0   \n",
       "\n",
       "   Car_Name_etios liva  Car_Name_fortuner  Car_Name_grand i10  Car_Name_i10  \\\n",
       "0                    0                  0                   0             0   \n",
       "1                    0                  0                   0             0   \n",
       "2                    0                  0                   0             0   \n",
       "3                    0                  0                   0             0   \n",
       "4                    0                  0                   0             0   \n",
       "\n",
       "   Car_Name_i20  Car_Name_ignis  Car_Name_innova  Car_Name_jazz  \\\n",
       "0             0               0                0              0   \n",
       "1             0               0                0              0   \n",
       "2             0               0                0              0   \n",
       "3             0               0                0              0   \n",
       "4             0               0                0              0   \n",
       "\n",
       "   Car_Name_land cruiser  Car_Name_omni  Car_Name_ritz  Car_Name_s cross  \\\n",
       "0                      0              0              1                 0   \n",
       "1                      0              0              0                 0   \n",
       "2                      0              0              0                 0   \n",
       "3                      0              0              0                 0   \n",
       "4                      0              0              0                 0   \n",
       "\n",
       "   Car_Name_swift  Car_Name_sx4  Car_Name_verna  Car_Name_vitara brezza  \\\n",
       "0               0             0               0                       0   \n",
       "1               0             1               0                       0   \n",
       "2               0             0               0                       0   \n",
       "3               0             0               0                       0   \n",
       "4               1             0               0                       0   \n",
       "\n",
       "   Car_Name_wagon r  Car_Name_xcent  Fuel_Type_Diesel  Fuel_Type_Petrol  \\\n",
       "0                 0               0                 0                 1   \n",
       "1                 0               0                 1                 0   \n",
       "2                 0               0                 0                 1   \n",
       "3                 1               0                 0                 1   \n",
       "4                 0               0                 1                 0   \n",
       "\n",
       "   Seller_Type_Individual  Transmission_Manual  \n",
       "0                       0                    1  \n",
       "1                       0                    1  \n",
       "2                       0                    1  \n",
       "3                       0                    1  \n",
       "4                       0                    1  \n",
       "\n",
       "[5 rows x 106 columns]"
      ]
     },
     "execution_count": 8,
     "metadata": {},
     "output_type": "execute_result"
    }
   ],
   "source": [
    "df = pd.get_dummies(df,columns = [\"Car_Name\",\"Fuel_Type\",\"Seller_Type\",\"Transmission\"],drop_first = True)\n",
    "df.head()"
   ]
  },
  {
   "cell_type": "code",
   "execution_count": 9,
   "metadata": {
    "id": "sce883MpW9H_"
   },
   "outputs": [],
   "source": [
    "X=df.drop(\"Selling_Price\",axis=1)\n",
    "y=df[\"Selling_Price\"]\n",
    "\n",
    "#get feature and target variable"
   ]
  },
  {
   "cell_type": "markdown",
   "metadata": {
    "id": "RMhm-QaUDZkM"
   },
   "source": [
    "#### train test split"
   ]
  },
  {
   "cell_type": "code",
   "execution_count": 10,
   "metadata": {
    "id": "0uldNvzQXHo9"
   },
   "outputs": [],
   "source": [
    "from sklearn.model_selection import train_test_split\n",
    "x_train,x_test,y_train,y_test=train_test_split(X,y,test_size=0.3,random_state=42)\n",
    "#get training and testing data"
   ]
  },
  {
   "cell_type": "markdown",
   "metadata": {
    "id": "Nb3VrHl6DeaE"
   },
   "source": [
    "<div class=\"alert alert-info\" style=\"background-color:#006a79; color:white; padding:0px 10px; border-radius:5px;\"><h2 style='margin:10px 5px'>Parameters Description</h2>\n",
    "</div>"
   ]
  },
  {
   "cell_type": "markdown",
   "metadata": {
    "id": "Tk1Nj9JEXPdn"
   },
   "source": [
    "- learning_rate: step size shrinkage used to prevent overfitting. Range is [0,1]\n",
    "- max_depth: determines how deeply each tree is allowed to grow during any boosting round.\n",
    "- subsample: percentage of samples used per tree. - Low value can lead to underfitting.\n",
    "- colsample_bytree: percentage of features used per tree. High value can lead to overfitting.\n",
    "- n_estimators: number of trees you want to build.\n",
    "- objective: determines the loss function to be used like reg:linear for regression problems, reg:logistic for classification problems with only decision, binary:logistic for classification problems with probability\n",
    "- n_jobs : The number of jobs to run in parallel and  -1 means using all processors.\n",
    "- random_state: Controls both the randomness of the bootstrapping of the samples.\n",
    "- gamma: controls whether a given node will split based on the expected reduction in loss after the split. A higher value leads to fewer splits. Supported only for tree-based learners.\n",
    "- alpha: L1 regularization on leaf weights. A large value leads to more regularization.\n",
    "- lambda: L2 regularization on leaf weights and is smoother than L1 regularization.\n",
    "\n",
    "- nthread: for parallel processing\n",
    "- min_child_weight: minimum sum of instance weight needed in a child."
   ]
  },
  {
   "cell_type": "markdown",
   "metadata": {
    "id": "KBOmEsu_D0fY"
   },
   "source": [
    "<div class=\"alert alert-info\" style=\"background-color:#006a79; color:white; padding:0px 10px; border-radius:5px;\"><h2 style='margin:10px 5px'>Initialize xgboost</h2>\n",
    "</div>"
   ]
  },
  {
   "cell_type": "code",
   "execution_count": 11,
   "metadata": {
    "colab": {
     "base_uri": "https://localhost:8080/"
    },
    "id": "JOI-py0dXJKH",
    "outputId": "41dbbaef-5190-46fc-be49-e229495dfe8b"
   },
   "outputs": [],
   "source": [
    "xgb_rg = xgb.XGBRegressor()\n",
    "#initialize the xgb classifier \n",
    "xgb_rg.fit(x_train, y_train)\n",
    "\n",
    "\n",
    "y_pred = xgb_rg.predict(x_test)"
   ]
  },
  {
   "cell_type": "code",
   "execution_count": 12,
   "metadata": {
    "colab": {
     "base_uri": "https://localhost:8080/"
    },
    "id": "HMYGMSlhXax7",
    "outputId": "e46cbd0d-850d-4168-b987-e4c5ed78f2fd"
   },
   "outputs": [
    {
     "name": "stdout",
     "output_type": "stream",
     "text": [
      "Test  R2 Score : 0.96\n",
      "Test  mae Score : 0.61\n",
      "Test  mse Score : 1.08\n"
     ]
    }
   ],
   "source": [
    "#evaluation metric\n",
    "print(\"Test  R2 Score : %.2f\"%r2_score(y_test, y_pred))\n",
    "print(\"Test  mae Score : %.2f\"%mean_absolute_error(y_test, y_pred))\n",
    "print(\"Test  mse Score : %.2f\"%mean_squared_error(y_test, y_pred))"
   ]
  },
  {
   "cell_type": "markdown",
   "metadata": {
    "id": "BmKGcuiNE_Py"
   },
   "source": [
    "<div class=\"alert alert-info\" style=\"padding:0px 10px; border-radius:5px;\"><h4 style='margin:10px 5px'> Inferences:</h4>\n",
    "</div>"
   ]
  },
  {
   "cell_type": "markdown",
   "metadata": {
    "id": "uqpWOqlMFCCW"
   },
   "source": [
    "- The model looks good as the R2 score is 96% and the mse and mae are also less"
   ]
  },
  {
   "cell_type": "markdown",
   "metadata": {
    "id": "ECoAEPYREBI1"
   },
   "source": [
    "<div class=\"alert alert-info\" style=\"background-color:#006a79; color:white; padding:0px 10px; border-radius:5px;\"><h2 style='margin:10px 5px'>Model building</h2>\n",
    "</div>"
   ]
  },
  {
   "cell_type": "markdown",
   "metadata": {
    "id": "4p7lmiuyEZTu"
   },
   "source": [
    "#### max_depth = 2\n",
    "- Let's build model of maximum number of depth of tree as 2."
   ]
  },
  {
   "cell_type": "code",
   "execution_count": 13,
   "metadata": {
    "colab": {
     "base_uri": "https://localhost:8080/"
    },
    "id": "p8MPP2kz4s7c",
    "outputId": "62a2fc19-af13-41e7-948b-882c164c6c05"
   },
   "outputs": [
    {
     "name": "stdout",
     "output_type": "stream",
     "text": [
      "Test  R2 Score : 0.92\n",
      "Test  mae Score : 0.82\n",
      "Test  mse Score : 2.29\n"
     ]
    }
   ],
   "source": [
    "xgb_rg = xgb.XGBRegressor(max_depth=2)\n",
    "#initialize the xgb classifier \n",
    "xgb_rg.fit(x_train, y_train)\n",
    "\n",
    "\n",
    "y_pred = xgb_rg.predict(x_test)\n",
    "\n",
    "#evaluation metric\n",
    "print(\"Test  R2 Score : %.2f\"%r2_score(y_test, y_pred))\n",
    "print(\"Test  mae Score : %.2f\"%mean_absolute_error(y_test, y_pred))\n",
    "print(\"Test  mse Score : %.2f\"%mean_squared_error(y_test, y_pred))"
   ]
  },
  {
   "cell_type": "markdown",
   "metadata": {
    "id": "pzt1TEBZFZC8"
   },
   "source": [
    "<div class=\"alert alert-info\" style=\"padding:0px 10px; border-radius:5px;\"><h4 style='margin:10px 5px'> Inferences:</h4>\n",
    "</div>"
   ]
  },
  {
   "cell_type": "markdown",
   "metadata": {
    "id": "Zc3LKjDVFbzv"
   },
   "source": [
    "- This model is not that good as R2 score has decreased and errors have increased"
   ]
  },
  {
   "cell_type": "markdown",
   "metadata": {
    "id": "RvoXba_9EG41"
   },
   "source": [
    "#### max_depth = 3\n",
    " Let's build model of maximum number of depth of tree as 3."
   ]
  },
  {
   "cell_type": "code",
   "execution_count": 19,
   "metadata": {
    "colab": {
     "base_uri": "https://localhost:8080/"
    },
    "id": "U090EqWBXxNE",
    "outputId": "f217e309-6b57-4829-c244-0d784cc4aad5"
   },
   "outputs": [
    {
     "name": "stdout",
     "output_type": "stream",
     "text": [
      "Test  R2 Score : 0.96\n",
      "Test  mae Score : 0.56\n",
      "Test  mse Score : 1.05\n"
     ]
    }
   ],
   "source": [
    "xgb_rg = xgb.XGBRegressor(max_depth=3)\n",
    "#initialize the xgb classifier \n",
    "xgb_rg.fit(x_train, y_train)\n",
    "\n",
    "\n",
    "y_pred = xgb_rg.predict(x_test)\n",
    "\n",
    "#evaluation metric\n",
    "print(\"Test  R2 Score : %.2f\"%r2_score(y_test, y_pred))\n",
    "print(\"Test  mae Score : %.2f\"%mean_absolute_error(y_test, y_pred))\n",
    "print(\"Test  mse Score : %.2f\"%mean_squared_error(y_test, y_pred))"
   ]
  },
  {
   "cell_type": "markdown",
   "metadata": {
    "id": "RSqF14KqGT8m"
   },
   "source": [
    "<div class=\"alert alert-info\" style=\"padding:0px 10px; border-radius:5px;\"><h4 style='margin:10px 5px'> Inferences:</h4>\n",
    "</div>"
   ]
  },
  {
   "cell_type": "markdown",
   "metadata": {
    "id": "7qEQryBWGYg8"
   },
   "source": [
    "- This model is good as R2 score has increased and errors have decreased"
   ]
  },
  {
   "cell_type": "markdown",
   "metadata": {
    "id": "7qZPGYiSEcVu"
   },
   "source": [
    "#### colsample_ bytree = 0.2\n",
    "- Let's build model as 0.2 % of features per tree whcih is colsample_bytree."
   ]
  },
  {
   "cell_type": "code",
   "execution_count": 15,
   "metadata": {
    "colab": {
     "base_uri": "https://localhost:8080/"
    },
    "id": "BEECCpg-4122",
    "outputId": "fc99b245-cb6c-4380-a336-fda8da30a889"
   },
   "outputs": [
    {
     "name": "stdout",
     "output_type": "stream",
     "text": [
      "Test  R2 Score : 0.91\n",
      "Test  mae Score : 0.82\n",
      "Test  mse Score : 2.70\n"
     ]
    }
   ],
   "source": [
    "xgb_rg = xgb.XGBRegressor(colsample_bytree = 0.2)\n",
    "#initialize the xgb classifier \n",
    "xgb_rg.fit(x_train, y_train)\n",
    "\n",
    "\n",
    "y_pred = xgb_rg.predict(x_test)\n",
    "\n",
    "#evaluation metric\n",
    "print(\"Test  R2 Score : %.2f\"%r2_score(y_test, y_pred))\n",
    "print(\"Test  mae Score : %.2f\"%mean_absolute_error(y_test, y_pred))\n",
    "print(\"Test  mse Score : %.2f\"%mean_squared_error(y_test, y_pred))"
   ]
  },
  {
   "cell_type": "markdown",
   "metadata": {
    "id": "4eijS1mEGXPU"
   },
   "source": [
    "<div class=\"alert alert-info\" style=\"padding:0px 10px; border-radius:5px;\"><h4 style='margin:10px 5px'> Inferences:</h4>\n",
    "</div>"
   ]
  },
  {
   "cell_type": "markdown",
   "metadata": {
    "id": "ei7SQ2KAGZUw"
   },
   "source": [
    "- This model is not that good as R2 score has decreased and errors have increased.\n",
    "\n",
    "Rather than trying out manually let's go for hyperparameter tuning"
   ]
  },
  {
   "cell_type": "markdown",
   "metadata": {
    "id": "wFAj2RxzEngh"
   },
   "source": [
    "<div class=\"alert alert-info\" style=\"background-color:#006a79; color:white; padding:0px 10px; border-radius:5px;\"><h2 style='margin:10px 5px'>Hyperparameter Tuning</h2>\n",
    "</div>"
   ]
  },
  {
   "cell_type": "code",
   "execution_count": 22,
   "metadata": {
    "colab": {
     "base_uri": "https://localhost:8080/"
    },
    "id": "YZAiKxyeZZlH",
    "outputId": "980fdcfd-dec6-413f-fad8-2b8ba8b269c6"
   },
   "outputs": [
    {
     "name": "stdout",
     "output_type": "stream",
     "text": [
      "Fitting 3 folds for each of 96 candidates, totalling 288 fits\n"
     ]
    },
    {
     "data": {
      "text/plain": [
       "GridSearchCV(cv=3,\n",
       "             estimator=XGBRegressor(base_score=None, booster=None,\n",
       "                                    colsample_bylevel=None,\n",
       "                                    colsample_bynode=None,\n",
       "                                    colsample_bytree=None, gamma=None,\n",
       "                                    gpu_id=None, importance_type='gain',\n",
       "                                    interaction_constraints=None,\n",
       "                                    learning_rate=None, max_delta_step=None,\n",
       "                                    max_depth=None, min_child_weight=None,\n",
       "                                    missing=nan, monotone_constraints=None,\n",
       "                                    n_estimators=100, n_jobs=None,\n",
       "                                    num_parallel_tree=None, random_state=None,\n",
       "                                    reg_alpha=None, reg_lambda=None,\n",
       "                                    scale_pos_weight=None, subsample=None,\n",
       "                                    tree_method=None, validate_parameters=None,\n",
       "                                    verbosity=None),\n",
       "             n_jobs=-1,\n",
       "             param_grid={'colsample_bytree': [0.6, 1], 'gamma': [0, 0.1, 0.3],\n",
       "                         'max_depth': [3, 5], 'n_estimators': [100, 200],\n",
       "                         'reg_alpha': [0, 0.75], 'reg_lambda': [0.45, 1]},\n",
       "             verbose=1)"
      ]
     },
     "execution_count": 22,
     "metadata": {},
     "output_type": "execute_result"
    }
   ],
   "source": [
    "from sklearn.model_selection import GridSearchCV\n",
    "#import grid searchcv for hypeparameter tuning\n",
    "\n",
    "xgb_clf = xgb.XGBRegressor() #reg:linear for regression task\n",
    "params = {\n",
    "        'colsample_bytree':[0.6, 1],\n",
    "        'n_estimators': [100, 200],\n",
    "        'max_depth': [3, 5],\n",
    "        'gamma':[0, 0.1, 0.3],\n",
    "        'reg_alpha':[0, 0.75],\n",
    "        'reg_lambda':[0.45, 1] \n",
    "        }\n",
    "#define params \n",
    "\n",
    "\n",
    "grid_search = GridSearchCV(xgb_clf, params, n_jobs=-1, cv = 3, verbose=1)\n",
    "\n",
    "grid_search.fit(x_train, y_train)"
   ]
  },
  {
   "cell_type": "code",
   "execution_count": 23,
   "metadata": {
    "colab": {
     "base_uri": "https://localhost:8080/"
    },
    "id": "SN8DPX4uZoEc",
    "outputId": "3e325bbc-4b35-44b7-bec9-2bf8a443f126"
   },
   "outputs": [
    {
     "data": {
      "text/plain": [
       "{'colsample_bytree': 1,\n",
       " 'gamma': 0.3,\n",
       " 'max_depth': 3,\n",
       " 'n_estimators': 200,\n",
       " 'reg_alpha': 0,\n",
       " 'reg_lambda': 0.45}"
      ]
     },
     "execution_count": 23,
     "metadata": {},
     "output_type": "execute_result"
    }
   ],
   "source": [
    "#let's see the best parameters as per our grid search\n",
    "grid_search.best_params_"
   ]
  },
  {
   "cell_type": "code",
   "execution_count": 24,
   "metadata": {
    "colab": {
     "base_uri": "https://localhost:8080/"
    },
    "id": "Y-dmSwcJaFjP",
    "outputId": "a66c3e03-3ad2-48ec-b18b-4660c098c65b"
   },
   "outputs": [
    {
     "name": "stdout",
     "output_type": "stream",
     "text": [
      "Test  R2 Score : 0.96\n",
      "Test  mae Score : 0.56\n",
      "Test  mse Score : 1.05\n"
     ]
    }
   ],
   "source": [
    "\n",
    "y_pred = xgb_rg.predict(x_test)\n",
    "\n",
    "#evaluation metric\n",
    "print(\"Test  R2 Score : %.2f\"%r2_score(y_test, y_pred))\n",
    "print(\"Test  mae Score : %.2f\"%mean_absolute_error(y_test, y_pred))\n",
    "print(\"Test  mse Score : %.2f\"%mean_squared_error(y_test, y_pred))"
   ]
  },
  {
   "cell_type": "markdown",
   "metadata": {
    "id": "moP3lQYhEwNL"
   },
   "source": [
    "<div class=\"alert alert-info\" style=\"padding:0px 10px; border-radius:5px;\"><h4 style='margin:10px 5px'> Inferences:</h4>\n",
    "</div>"
   ]
  },
  {
   "cell_type": "markdown",
   "metadata": {
    "id": "Dj_Ny4NbEz-e"
   },
   "source": [
    "- This is the best model so far. It has been cross validated as well"
   ]
  }
 ],
 "metadata": {
  "colab": {
   "name": "xgboost_regression.ipynb",
   "provenance": []
  },
  "kernelspec": {
   "display_name": "Python 3",
   "language": "python",
   "name": "python3"
  },
  "language_info": {
   "codemirror_mode": {
    "name": "ipython",
    "version": 3
   },
   "file_extension": ".py",
   "mimetype": "text/x-python",
   "name": "python",
   "nbconvert_exporter": "python",
   "pygments_lexer": "ipython3",
   "version": "3.8.8"
  }
 },
 "nbformat": 4,
 "nbformat_minor": 4
}
